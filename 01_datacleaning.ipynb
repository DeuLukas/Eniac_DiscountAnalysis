{
 "cells": [
  {
   "cell_type": "markdown",
   "metadata": {
    "id": "kYo4UvcCvkUs"
   },
   "source": [
    "# Data Cleaning with Pandas\n",
    "\n",
    "This notebook features various data cleaning procedures required to run analysis on the database. Techniques include <br>\n",
    "- removing duplicates\n",
    "- removing incorrectable data formatting issues\n",
    "- imputing missing data\n",
    "- manipulating data for readability\n",
    "- manipulating columns for utility\n",
    "- .. "
   ]
  },
  {
   "cell_type": "markdown",
   "metadata": {},
   "source": [
    "## 1 Imports and loading tables"
   ]
  },
  {
   "cell_type": "code",
   "execution_count": 57,
   "metadata": {
    "id": "FgRIdUs1vcZ8"
   },
   "outputs": [],
   "source": [
    "# Package imports\n",
    "import pandas as pd\n",
    "import matplotlib.pyplot as plt"
   ]
  },
  {
   "cell_type": "code",
   "execution_count": 42,
   "metadata": {},
   "outputs": [],
   "source": [
    "pd.set_option('display.float_format', lambda x: '%.2f' % x)\n",
    "pd.set_option('display.max_rows', 1000)"
   ]
  },
  {
   "cell_type": "code",
   "execution_count": 2,
   "metadata": {},
   "outputs": [],
   "source": [
    "# Loading datasets from csv files\n",
    "orders = pd.read_csv('./data_raw/orders.csv')\n",
    "orderlines = pd.read_csv('./data_raw/orderlines.csv')\n",
    "brands = pd.read_csv('./data_raw/brands.csv')\n",
    "products = pd.read_csv('./data_raw/products.csv')"
   ]
  },
  {
   "cell_type": "code",
   "execution_count": 3,
   "metadata": {},
   "outputs": [],
   "source": [
    "# Create copies so reimports are not required when messing up\n",
    "orders_df = orders.copy()\n",
    "orderlines_df = orderlines.copy()\n",
    "brands_df = brands.copy()\n",
    "products_df = products.copy()"
   ]
  },
  {
   "cell_type": "markdown",
   "metadata": {
    "id": "fVLitYX1yhc6"
   },
   "source": [
    "## 2 Data exploration\n",
    "Using `.info()` allows to find missing values, datatypes, columnnames at a glance"
   ]
  },
  {
   "cell_type": "code",
   "execution_count": 34,
   "metadata": {},
   "outputs": [
    {
     "name": "stdout",
     "output_type": "stream",
     "text": [
      "<class 'pandas.core.frame.DataFrame'>\n",
      "RangeIndex: 226909 entries, 0 to 226908\n",
      "Data columns (total 4 columns):\n",
      " #   Column        Non-Null Count   Dtype  \n",
      "---  ------        --------------   -----  \n",
      " 0   order_id      226909 non-null  int64  \n",
      " 1   created_date  226909 non-null  object \n",
      " 2   total_paid    226904 non-null  float64\n",
      " 3   state         226909 non-null  object \n",
      "dtypes: float64(1), int64(1), object(2)\n",
      "memory usage: 6.9+ MB\n"
     ]
    }
   ],
   "source": [
    "# Getting an overview of the datasets contents\n",
    "orders_df.info()"
   ]
  },
  {
   "cell_type": "code",
   "execution_count": 18,
   "metadata": {},
   "outputs": [
    {
     "name": "stdout",
     "output_type": "stream",
     "text": [
      "<class 'pandas.core.frame.DataFrame'>\n",
      "RangeIndex: 293983 entries, 0 to 293982\n",
      "Data columns (total 7 columns):\n",
      " #   Column            Non-Null Count   Dtype \n",
      "---  ------            --------------   ----- \n",
      " 0   id                293983 non-null  int64 \n",
      " 1   id_order          293983 non-null  int64 \n",
      " 2   product_id        293983 non-null  int64 \n",
      " 3   product_quantity  293983 non-null  int64 \n",
      " 4   sku               293983 non-null  object\n",
      " 5   unit_price        293983 non-null  object\n",
      " 6   date              293983 non-null  object\n",
      "dtypes: int64(4), object(3)\n",
      "memory usage: 15.7+ MB\n"
     ]
    }
   ],
   "source": [
    "orderlines_df.info()"
   ]
  },
  {
   "cell_type": "code",
   "execution_count": 9,
   "metadata": {},
   "outputs": [
    {
     "name": "stdout",
     "output_type": "stream",
     "text": [
      "<class 'pandas.core.frame.DataFrame'>\n",
      "RangeIndex: 187 entries, 0 to 186\n",
      "Data columns (total 2 columns):\n",
      " #   Column  Non-Null Count  Dtype \n",
      "---  ------  --------------  ----- \n",
      " 0   short   187 non-null    object\n",
      " 1   long    187 non-null    object\n",
      "dtypes: object(2)\n",
      "memory usage: 3.1+ KB\n"
     ]
    }
   ],
   "source": [
    "brands_df.info()"
   ]
  },
  {
   "cell_type": "code",
   "execution_count": 118,
   "metadata": {},
   "outputs": [
    {
     "name": "stdout",
     "output_type": "stream",
     "text": [
      "<class 'pandas.core.frame.DataFrame'>\n",
      "RangeIndex: 19326 entries, 0 to 19325\n",
      "Data columns (total 7 columns):\n",
      " #   Column       Non-Null Count  Dtype \n",
      "---  ------       --------------  ----- \n",
      " 0   sku          19326 non-null  object\n",
      " 1   name         19326 non-null  object\n",
      " 2   desc         19319 non-null  object\n",
      " 3   price        19280 non-null  object\n",
      " 4   promo_price  19326 non-null  object\n",
      " 5   in_stock     19326 non-null  int64 \n",
      " 6   type         19276 non-null  object\n",
      "dtypes: int64(1), object(6)\n",
      "memory usage: 1.0+ MB\n"
     ]
    }
   ],
   "source": [
    "products_df.info()"
   ]
  },
  {
   "cell_type": "markdown",
   "metadata": {},
   "source": [
    "Tasks include checking missing values\n",
    "- products_df `desc`, `price` and `type` columns\n",
    "- orders_df `total_paid` column\n",
    "\n",
    "Also includes fixing datatypes\n",
    "- products_df `promo_price` and `price` columns are `str`\n",
    "- orderlines_df `unit_price` and `date` columns are `str`; `id` and `product_id` need checking for redundancy\n",
    "- orders_df `created_date` column is `str`"
   ]
  },
  {
   "cell_type": "markdown",
   "metadata": {
    "id": "036ciQ6rwBJm"
   },
   "source": [
    "## 3 Data Cleaning\n",
    "In this section we perform various steps of data cleaning required to achieve data integrity"
   ]
  },
  {
   "cell_type": "markdown",
   "metadata": {},
   "source": [
    "### 3.1 Duplicates"
   ]
  },
  {
   "cell_type": "code",
   "execution_count": null,
   "metadata": {
    "colab": {
     "base_uri": "https://localhost:8080/"
    },
    "id": "6dVkoUu7wC-b",
    "outputId": "d24007d4-ee04-4c3c-c617-df405a78c722"
   },
   "outputs": [
    {
     "data": {
      "text/plain": [
       "0"
      ]
     },
     "execution_count": 11,
     "metadata": {},
     "output_type": "execute_result"
    }
   ],
   "source": [
    "orders_df.duplicated().sum()"
   ]
  },
  {
   "cell_type": "code",
   "execution_count": null,
   "metadata": {
    "colab": {
     "base_uri": "https://localhost:8080/"
    },
    "id": "iaeAQB_3whli",
    "outputId": "a108eb84-4f92-41d9-eef5-3759a2f272f7"
   },
   "outputs": [
    {
     "data": {
      "text/plain": [
       "0"
      ]
     },
     "execution_count": 12,
     "metadata": {},
     "output_type": "execute_result"
    }
   ],
   "source": [
    "orderlines_df.duplicated().sum()"
   ]
  },
  {
   "cell_type": "code",
   "execution_count": 119,
   "metadata": {},
   "outputs": [
    {
     "data": {
      "text/plain": [
       "8746"
      ]
     },
     "execution_count": 119,
     "metadata": {},
     "output_type": "execute_result"
    }
   ],
   "source": [
    "products_df.duplicated().sum()"
   ]
  },
  {
   "cell_type": "code",
   "execution_count": 64,
   "metadata": {},
   "outputs": [
    {
     "data": {
      "application/vnd.microsoft.datawrangler.viewer.v0+json": {
       "columns": [
        {
         "name": "index",
         "rawType": "int64",
         "type": "integer"
        },
        {
         "name": "sku",
         "rawType": "object",
         "type": "string"
        },
        {
         "name": "name",
         "rawType": "object",
         "type": "string"
        },
        {
         "name": "desc",
         "rawType": "object",
         "type": "string"
        },
        {
         "name": "price",
         "rawType": "object",
         "type": "string"
        },
        {
         "name": "promo_price",
         "rawType": "object",
         "type": "string"
        },
        {
         "name": "in_stock",
         "rawType": "int64",
         "type": "integer"
        },
        {
         "name": "type",
         "rawType": "object",
         "type": "string"
        }
       ],
       "ref": "41b6644b-5429-4158-b3d8-52871cc762f6",
       "rows": [
        [
         "101",
         "APP0390",
         "Apple MacBook Pro 133 \"Core i5 25GHz | 4GB RAM | 500GB HDD",
         "MacBook Pro laptop 133 inches (MD101Y / A).",
         "1199",
         "11.455.917",
         "0",
         "1282"
        ],
        [
         "102",
         "APP0390",
         "Apple MacBook Pro 133 \"Core i5 25GHz | 4GB RAM | 500GB HDD",
         "MacBook Pro laptop 133 inches (MD101Y / A).",
         "1199",
         "11.455.917",
         "0",
         "1282"
        ],
        [
         "103",
         "APP0390",
         "Apple MacBook Pro 133 \"Core i5 25GHz | 4GB RAM | 500GB HDD",
         "MacBook Pro laptop 133 inches (MD101Y / A).",
         "1199",
         "11.455.917",
         "0",
         "1282"
        ],
        [
         "104",
         "APP0390",
         "Apple MacBook Pro 133 \"Core i5 25GHz | 4GB RAM | 500GB HDD",
         "MacBook Pro laptop 133 inches (MD101Y / A).",
         "1199",
         "11.455.917",
         "0",
         "1282"
        ],
        [
         "105",
         "APP0390",
         "Apple MacBook Pro 133 \"Core i5 25GHz | 4GB RAM | 500GB HDD",
         "MacBook Pro laptop 133 inches (MD101Y / A).",
         "1199",
         "11.455.917",
         "0",
         "1282"
        ],
        [
         "106",
         "APP0390",
         "Apple MacBook Pro 133 \"Core i5 25GHz | 4GB RAM | 500GB HDD",
         "MacBook Pro laptop 133 inches (MD101Y / A).",
         "1199",
         "11.455.917",
         "0",
         "1282"
        ],
        [
         "107",
         "APP0390",
         "Apple MacBook Pro 133 \"Core i5 25GHz | 4GB RAM | 500GB HDD",
         "MacBook Pro laptop 133 inches (MD101Y / A).",
         "1199",
         "11.455.917",
         "0",
         "1282"
        ],
        [
         "108",
         "APP0390",
         "Apple MacBook Pro 133 \"Core i5 25GHz | 4GB RAM | 500GB HDD",
         "MacBook Pro laptop 133 inches (MD101Y / A).",
         "1199",
         "11.455.917",
         "0",
         "1282"
        ],
        [
         "110",
         "PAC0508",
         "Apple MacBook Pro 133 '' 25GHz | 16GB RAM | 1TB Fusion",
         "Apple MacBook Pro Fusion Drive 16GB 2 internal and external SuperDrive disks.",
         "1919",
         "16.999.895",
         "0",
         "1282"
        ],
        [
         "111",
         "PAC0508",
         "Apple MacBook Pro 133 '' 25GHz | 16GB RAM | 1TB Fusion",
         "Apple MacBook Pro Fusion Drive 16GB 2 internal and external SuperDrive disks.",
         "1919",
         "16.999.895",
         "0",
         "1282"
        ],
        [
         "112",
         "PAC0508",
         "Apple MacBook Pro 133 '' 25GHz | 16GB RAM | 1TB Fusion",
         "Apple MacBook Pro Fusion Drive 16GB 2 internal and external SuperDrive disks.",
         "1919",
         "16.999.895",
         "0",
         "1282"
        ],
        [
         "113",
         "PAC0508",
         "Apple MacBook Pro 133 '' 25GHz | 16GB RAM | 1TB Fusion",
         "Apple MacBook Pro Fusion Drive 16GB 2 internal and external SuperDrive disks.",
         "1919",
         "16.999.895",
         "0",
         "1282"
        ],
        [
         "114",
         "PAC0508",
         "Apple MacBook Pro 133 '' 25GHz | 16GB RAM | 1TB Fusion",
         "Apple MacBook Pro Fusion Drive 16GB 2 internal and external SuperDrive disks.",
         "1919",
         "16.999.895",
         "0",
         "1282"
        ],
        [
         "115",
         "PAC0508",
         "Apple MacBook Pro 133 '' 25GHz | 16GB RAM | 1TB Fusion",
         "Apple MacBook Pro Fusion Drive 16GB 2 internal and external SuperDrive disks.",
         "1919",
         "16.999.895",
         "0",
         "1282"
        ],
        [
         "116",
         "PAC0508",
         "Apple MacBook Pro 133 '' 25GHz | 16GB RAM | 1TB Fusion",
         "Apple MacBook Pro Fusion Drive 16GB 2 internal and external SuperDrive disks.",
         "1919",
         "16.999.895",
         "0",
         "1282"
        ],
        [
         "117",
         "PAC0508",
         "Apple MacBook Pro 133 '' 25GHz | 16GB RAM | 1TB Fusion",
         "Apple MacBook Pro Fusion Drive 16GB 2 internal and external SuperDrive disks.",
         "1919",
         "16.999.895",
         "0",
         "1282"
        ],
        [
         "119",
         "PAC0507",
         "Apple MacBook Pro 133 '' 25Ghz | 16GB RAM | Fusion 740GB",
         "Apple MacBook Pro Fusion Drive 16GB 2 internal and external SuperDrive disks.",
         "1639",
         "15.989.896",
         "0",
         "1282"
        ],
        [
         "120",
         "PAC0507",
         "Apple MacBook Pro 133 '' 25Ghz | 16GB RAM | Fusion 740GB",
         "Apple MacBook Pro Fusion Drive 16GB 2 internal and external SuperDrive disks.",
         "1639",
         "15.989.896",
         "0",
         "1282"
        ],
        [
         "121",
         "PAC0507",
         "Apple MacBook Pro 133 '' 25Ghz | 16GB RAM | Fusion 740GB",
         "Apple MacBook Pro Fusion Drive 16GB 2 internal and external SuperDrive disks.",
         "1639",
         "15.989.896",
         "0",
         "1282"
        ],
        [
         "122",
         "PAC0507",
         "Apple MacBook Pro 133 '' 25Ghz | 16GB RAM | Fusion 740GB",
         "Apple MacBook Pro Fusion Drive 16GB 2 internal and external SuperDrive disks.",
         "1639",
         "15.989.896",
         "0",
         "1282"
        ]
       ],
       "shape": {
        "columns": 7,
        "rows": 20
       }
      },
      "text/html": [
       "<div>\n",
       "<style scoped>\n",
       "    .dataframe tbody tr th:only-of-type {\n",
       "        vertical-align: middle;\n",
       "    }\n",
       "\n",
       "    .dataframe tbody tr th {\n",
       "        vertical-align: top;\n",
       "    }\n",
       "\n",
       "    .dataframe thead th {\n",
       "        text-align: right;\n",
       "    }\n",
       "</style>\n",
       "<table border=\"1\" class=\"dataframe\">\n",
       "  <thead>\n",
       "    <tr style=\"text-align: right;\">\n",
       "      <th></th>\n",
       "      <th>sku</th>\n",
       "      <th>name</th>\n",
       "      <th>desc</th>\n",
       "      <th>price</th>\n",
       "      <th>promo_price</th>\n",
       "      <th>in_stock</th>\n",
       "      <th>type</th>\n",
       "    </tr>\n",
       "  </thead>\n",
       "  <tbody>\n",
       "    <tr>\n",
       "      <th>101</th>\n",
       "      <td>APP0390</td>\n",
       "      <td>Apple MacBook Pro 133 \"Core i5 25GHz | 4GB RAM...</td>\n",
       "      <td>MacBook Pro laptop 133 inches (MD101Y / A).</td>\n",
       "      <td>1199</td>\n",
       "      <td>11.455.917</td>\n",
       "      <td>0</td>\n",
       "      <td>1282</td>\n",
       "    </tr>\n",
       "    <tr>\n",
       "      <th>102</th>\n",
       "      <td>APP0390</td>\n",
       "      <td>Apple MacBook Pro 133 \"Core i5 25GHz | 4GB RAM...</td>\n",
       "      <td>MacBook Pro laptop 133 inches (MD101Y / A).</td>\n",
       "      <td>1199</td>\n",
       "      <td>11.455.917</td>\n",
       "      <td>0</td>\n",
       "      <td>1282</td>\n",
       "    </tr>\n",
       "    <tr>\n",
       "      <th>103</th>\n",
       "      <td>APP0390</td>\n",
       "      <td>Apple MacBook Pro 133 \"Core i5 25GHz | 4GB RAM...</td>\n",
       "      <td>MacBook Pro laptop 133 inches (MD101Y / A).</td>\n",
       "      <td>1199</td>\n",
       "      <td>11.455.917</td>\n",
       "      <td>0</td>\n",
       "      <td>1282</td>\n",
       "    </tr>\n",
       "    <tr>\n",
       "      <th>104</th>\n",
       "      <td>APP0390</td>\n",
       "      <td>Apple MacBook Pro 133 \"Core i5 25GHz | 4GB RAM...</td>\n",
       "      <td>MacBook Pro laptop 133 inches (MD101Y / A).</td>\n",
       "      <td>1199</td>\n",
       "      <td>11.455.917</td>\n",
       "      <td>0</td>\n",
       "      <td>1282</td>\n",
       "    </tr>\n",
       "    <tr>\n",
       "      <th>105</th>\n",
       "      <td>APP0390</td>\n",
       "      <td>Apple MacBook Pro 133 \"Core i5 25GHz | 4GB RAM...</td>\n",
       "      <td>MacBook Pro laptop 133 inches (MD101Y / A).</td>\n",
       "      <td>1199</td>\n",
       "      <td>11.455.917</td>\n",
       "      <td>0</td>\n",
       "      <td>1282</td>\n",
       "    </tr>\n",
       "    <tr>\n",
       "      <th>106</th>\n",
       "      <td>APP0390</td>\n",
       "      <td>Apple MacBook Pro 133 \"Core i5 25GHz | 4GB RAM...</td>\n",
       "      <td>MacBook Pro laptop 133 inches (MD101Y / A).</td>\n",
       "      <td>1199</td>\n",
       "      <td>11.455.917</td>\n",
       "      <td>0</td>\n",
       "      <td>1282</td>\n",
       "    </tr>\n",
       "    <tr>\n",
       "      <th>107</th>\n",
       "      <td>APP0390</td>\n",
       "      <td>Apple MacBook Pro 133 \"Core i5 25GHz | 4GB RAM...</td>\n",
       "      <td>MacBook Pro laptop 133 inches (MD101Y / A).</td>\n",
       "      <td>1199</td>\n",
       "      <td>11.455.917</td>\n",
       "      <td>0</td>\n",
       "      <td>1282</td>\n",
       "    </tr>\n",
       "    <tr>\n",
       "      <th>108</th>\n",
       "      <td>APP0390</td>\n",
       "      <td>Apple MacBook Pro 133 \"Core i5 25GHz | 4GB RAM...</td>\n",
       "      <td>MacBook Pro laptop 133 inches (MD101Y / A).</td>\n",
       "      <td>1199</td>\n",
       "      <td>11.455.917</td>\n",
       "      <td>0</td>\n",
       "      <td>1282</td>\n",
       "    </tr>\n",
       "    <tr>\n",
       "      <th>110</th>\n",
       "      <td>PAC0508</td>\n",
       "      <td>Apple MacBook Pro 133 '' 25GHz | 16GB RAM | 1T...</td>\n",
       "      <td>Apple MacBook Pro Fusion Drive 16GB 2 internal...</td>\n",
       "      <td>1919</td>\n",
       "      <td>16.999.895</td>\n",
       "      <td>0</td>\n",
       "      <td>1282</td>\n",
       "    </tr>\n",
       "    <tr>\n",
       "      <th>111</th>\n",
       "      <td>PAC0508</td>\n",
       "      <td>Apple MacBook Pro 133 '' 25GHz | 16GB RAM | 1T...</td>\n",
       "      <td>Apple MacBook Pro Fusion Drive 16GB 2 internal...</td>\n",
       "      <td>1919</td>\n",
       "      <td>16.999.895</td>\n",
       "      <td>0</td>\n",
       "      <td>1282</td>\n",
       "    </tr>\n",
       "    <tr>\n",
       "      <th>112</th>\n",
       "      <td>PAC0508</td>\n",
       "      <td>Apple MacBook Pro 133 '' 25GHz | 16GB RAM | 1T...</td>\n",
       "      <td>Apple MacBook Pro Fusion Drive 16GB 2 internal...</td>\n",
       "      <td>1919</td>\n",
       "      <td>16.999.895</td>\n",
       "      <td>0</td>\n",
       "      <td>1282</td>\n",
       "    </tr>\n",
       "    <tr>\n",
       "      <th>113</th>\n",
       "      <td>PAC0508</td>\n",
       "      <td>Apple MacBook Pro 133 '' 25GHz | 16GB RAM | 1T...</td>\n",
       "      <td>Apple MacBook Pro Fusion Drive 16GB 2 internal...</td>\n",
       "      <td>1919</td>\n",
       "      <td>16.999.895</td>\n",
       "      <td>0</td>\n",
       "      <td>1282</td>\n",
       "    </tr>\n",
       "    <tr>\n",
       "      <th>114</th>\n",
       "      <td>PAC0508</td>\n",
       "      <td>Apple MacBook Pro 133 '' 25GHz | 16GB RAM | 1T...</td>\n",
       "      <td>Apple MacBook Pro Fusion Drive 16GB 2 internal...</td>\n",
       "      <td>1919</td>\n",
       "      <td>16.999.895</td>\n",
       "      <td>0</td>\n",
       "      <td>1282</td>\n",
       "    </tr>\n",
       "    <tr>\n",
       "      <th>115</th>\n",
       "      <td>PAC0508</td>\n",
       "      <td>Apple MacBook Pro 133 '' 25GHz | 16GB RAM | 1T...</td>\n",
       "      <td>Apple MacBook Pro Fusion Drive 16GB 2 internal...</td>\n",
       "      <td>1919</td>\n",
       "      <td>16.999.895</td>\n",
       "      <td>0</td>\n",
       "      <td>1282</td>\n",
       "    </tr>\n",
       "    <tr>\n",
       "      <th>116</th>\n",
       "      <td>PAC0508</td>\n",
       "      <td>Apple MacBook Pro 133 '' 25GHz | 16GB RAM | 1T...</td>\n",
       "      <td>Apple MacBook Pro Fusion Drive 16GB 2 internal...</td>\n",
       "      <td>1919</td>\n",
       "      <td>16.999.895</td>\n",
       "      <td>0</td>\n",
       "      <td>1282</td>\n",
       "    </tr>\n",
       "    <tr>\n",
       "      <th>117</th>\n",
       "      <td>PAC0508</td>\n",
       "      <td>Apple MacBook Pro 133 '' 25GHz | 16GB RAM | 1T...</td>\n",
       "      <td>Apple MacBook Pro Fusion Drive 16GB 2 internal...</td>\n",
       "      <td>1919</td>\n",
       "      <td>16.999.895</td>\n",
       "      <td>0</td>\n",
       "      <td>1282</td>\n",
       "    </tr>\n",
       "    <tr>\n",
       "      <th>119</th>\n",
       "      <td>PAC0507</td>\n",
       "      <td>Apple MacBook Pro 133 '' 25Ghz | 16GB RAM | Fu...</td>\n",
       "      <td>Apple MacBook Pro Fusion Drive 16GB 2 internal...</td>\n",
       "      <td>1639</td>\n",
       "      <td>15.989.896</td>\n",
       "      <td>0</td>\n",
       "      <td>1282</td>\n",
       "    </tr>\n",
       "    <tr>\n",
       "      <th>120</th>\n",
       "      <td>PAC0507</td>\n",
       "      <td>Apple MacBook Pro 133 '' 25Ghz | 16GB RAM | Fu...</td>\n",
       "      <td>Apple MacBook Pro Fusion Drive 16GB 2 internal...</td>\n",
       "      <td>1639</td>\n",
       "      <td>15.989.896</td>\n",
       "      <td>0</td>\n",
       "      <td>1282</td>\n",
       "    </tr>\n",
       "    <tr>\n",
       "      <th>121</th>\n",
       "      <td>PAC0507</td>\n",
       "      <td>Apple MacBook Pro 133 '' 25Ghz | 16GB RAM | Fu...</td>\n",
       "      <td>Apple MacBook Pro Fusion Drive 16GB 2 internal...</td>\n",
       "      <td>1639</td>\n",
       "      <td>15.989.896</td>\n",
       "      <td>0</td>\n",
       "      <td>1282</td>\n",
       "    </tr>\n",
       "    <tr>\n",
       "      <th>122</th>\n",
       "      <td>PAC0507</td>\n",
       "      <td>Apple MacBook Pro 133 '' 25Ghz | 16GB RAM | Fu...</td>\n",
       "      <td>Apple MacBook Pro Fusion Drive 16GB 2 internal...</td>\n",
       "      <td>1639</td>\n",
       "      <td>15.989.896</td>\n",
       "      <td>0</td>\n",
       "      <td>1282</td>\n",
       "    </tr>\n",
       "  </tbody>\n",
       "</table>\n",
       "</div>"
      ],
      "text/plain": [
       "         sku                                               name  \\\n",
       "101  APP0390  Apple MacBook Pro 133 \"Core i5 25GHz | 4GB RAM...   \n",
       "102  APP0390  Apple MacBook Pro 133 \"Core i5 25GHz | 4GB RAM...   \n",
       "103  APP0390  Apple MacBook Pro 133 \"Core i5 25GHz | 4GB RAM...   \n",
       "104  APP0390  Apple MacBook Pro 133 \"Core i5 25GHz | 4GB RAM...   \n",
       "105  APP0390  Apple MacBook Pro 133 \"Core i5 25GHz | 4GB RAM...   \n",
       "106  APP0390  Apple MacBook Pro 133 \"Core i5 25GHz | 4GB RAM...   \n",
       "107  APP0390  Apple MacBook Pro 133 \"Core i5 25GHz | 4GB RAM...   \n",
       "108  APP0390  Apple MacBook Pro 133 \"Core i5 25GHz | 4GB RAM...   \n",
       "110  PAC0508  Apple MacBook Pro 133 '' 25GHz | 16GB RAM | 1T...   \n",
       "111  PAC0508  Apple MacBook Pro 133 '' 25GHz | 16GB RAM | 1T...   \n",
       "112  PAC0508  Apple MacBook Pro 133 '' 25GHz | 16GB RAM | 1T...   \n",
       "113  PAC0508  Apple MacBook Pro 133 '' 25GHz | 16GB RAM | 1T...   \n",
       "114  PAC0508  Apple MacBook Pro 133 '' 25GHz | 16GB RAM | 1T...   \n",
       "115  PAC0508  Apple MacBook Pro 133 '' 25GHz | 16GB RAM | 1T...   \n",
       "116  PAC0508  Apple MacBook Pro 133 '' 25GHz | 16GB RAM | 1T...   \n",
       "117  PAC0508  Apple MacBook Pro 133 '' 25GHz | 16GB RAM | 1T...   \n",
       "119  PAC0507  Apple MacBook Pro 133 '' 25Ghz | 16GB RAM | Fu...   \n",
       "120  PAC0507  Apple MacBook Pro 133 '' 25Ghz | 16GB RAM | Fu...   \n",
       "121  PAC0507  Apple MacBook Pro 133 '' 25Ghz | 16GB RAM | Fu...   \n",
       "122  PAC0507  Apple MacBook Pro 133 '' 25Ghz | 16GB RAM | Fu...   \n",
       "\n",
       "                                                  desc price promo_price  \\\n",
       "101        MacBook Pro laptop 133 inches (MD101Y / A).  1199  11.455.917   \n",
       "102        MacBook Pro laptop 133 inches (MD101Y / A).  1199  11.455.917   \n",
       "103        MacBook Pro laptop 133 inches (MD101Y / A).  1199  11.455.917   \n",
       "104        MacBook Pro laptop 133 inches (MD101Y / A).  1199  11.455.917   \n",
       "105        MacBook Pro laptop 133 inches (MD101Y / A).  1199  11.455.917   \n",
       "106        MacBook Pro laptop 133 inches (MD101Y / A).  1199  11.455.917   \n",
       "107        MacBook Pro laptop 133 inches (MD101Y / A).  1199  11.455.917   \n",
       "108        MacBook Pro laptop 133 inches (MD101Y / A).  1199  11.455.917   \n",
       "110  Apple MacBook Pro Fusion Drive 16GB 2 internal...  1919  16.999.895   \n",
       "111  Apple MacBook Pro Fusion Drive 16GB 2 internal...  1919  16.999.895   \n",
       "112  Apple MacBook Pro Fusion Drive 16GB 2 internal...  1919  16.999.895   \n",
       "113  Apple MacBook Pro Fusion Drive 16GB 2 internal...  1919  16.999.895   \n",
       "114  Apple MacBook Pro Fusion Drive 16GB 2 internal...  1919  16.999.895   \n",
       "115  Apple MacBook Pro Fusion Drive 16GB 2 internal...  1919  16.999.895   \n",
       "116  Apple MacBook Pro Fusion Drive 16GB 2 internal...  1919  16.999.895   \n",
       "117  Apple MacBook Pro Fusion Drive 16GB 2 internal...  1919  16.999.895   \n",
       "119  Apple MacBook Pro Fusion Drive 16GB 2 internal...  1639  15.989.896   \n",
       "120  Apple MacBook Pro Fusion Drive 16GB 2 internal...  1639  15.989.896   \n",
       "121  Apple MacBook Pro Fusion Drive 16GB 2 internal...  1639  15.989.896   \n",
       "122  Apple MacBook Pro Fusion Drive 16GB 2 internal...  1639  15.989.896   \n",
       "\n",
       "     in_stock  type  \n",
       "101         0  1282  \n",
       "102         0  1282  \n",
       "103         0  1282  \n",
       "104         0  1282  \n",
       "105         0  1282  \n",
       "106         0  1282  \n",
       "107         0  1282  \n",
       "108         0  1282  \n",
       "110         0  1282  \n",
       "111         0  1282  \n",
       "112         0  1282  \n",
       "113         0  1282  \n",
       "114         0  1282  \n",
       "115         0  1282  \n",
       "116         0  1282  \n",
       "117         0  1282  \n",
       "119         0  1282  \n",
       "120         0  1282  \n",
       "121         0  1282  \n",
       "122         0  1282  "
      ]
     },
     "execution_count": 64,
     "metadata": {},
     "output_type": "execute_result"
    }
   ],
   "source": [
    "# Checking manually before removal\n",
    "products_df.loc[products_df.duplicated(), :].head(20)"
   ]
  },
  {
   "cell_type": "code",
   "execution_count": 14,
   "metadata": {},
   "outputs": [
    {
     "data": {
      "text/plain": [
       "0"
      ]
     },
     "execution_count": 14,
     "metadata": {},
     "output_type": "execute_result"
    }
   ],
   "source": [
    "brands_df.duplicated().sum()"
   ]
  },
  {
   "cell_type": "code",
   "execution_count": 4,
   "metadata": {
    "id": "3LbnJquF0vRe"
   },
   "outputs": [],
   "source": [
    "# Removing duplicates from products dataframe\n",
    "products_df.drop_duplicates(inplace = True)"
   ]
  },
  {
   "cell_type": "markdown",
   "metadata": {
    "id": "9lX7YbHlzoEO"
   },
   "source": [
    "### 3.2 Converting datetime columns & removing redundancy"
   ]
  },
  {
   "cell_type": "code",
   "execution_count": 5,
   "metadata": {},
   "outputs": [],
   "source": [
    "orders_df[\"created_date\"] = pd.to_datetime(orders_df[\"created_date\"])\n",
    "orderlines_df[\"date\"] = pd.to_datetime(orderlines_df[\"date\"])"
   ]
  },
  {
   "cell_type": "code",
   "execution_count": null,
   "metadata": {},
   "outputs": [
    {
     "data": {
      "application/vnd.microsoft.datawrangler.viewer.v0+json": {
       "columns": [
        {
         "name": "index",
         "rawType": "int64",
         "type": "integer"
        },
        {
         "name": "id",
         "rawType": "int64",
         "type": "integer"
        },
        {
         "name": "id_order",
         "rawType": "int64",
         "type": "integer"
        },
        {
         "name": "product_id",
         "rawType": "int64",
         "type": "integer"
        },
        {
         "name": "product_quantity",
         "rawType": "int64",
         "type": "integer"
        },
        {
         "name": "sku",
         "rawType": "object",
         "type": "string"
        },
        {
         "name": "unit_price",
         "rawType": "object",
         "type": "string"
        },
        {
         "name": "date",
         "rawType": "datetime64[ns]",
         "type": "datetime"
        }
       ],
       "ref": "72d947cf-a1b2-4dd1-9d8b-b3910654c7a7",
       "rows": [
        [
         "0",
         "1119109",
         "299539",
         "0",
         "1",
         "OTT0133",
         "18.99",
         "2017-01-01 00:07:19"
        ],
        [
         "1",
         "1119110",
         "299540",
         "0",
         "1",
         "LGE0043",
         "399.00",
         "2017-01-01 00:19:45"
        ],
        [
         "2",
         "1119111",
         "299541",
         "0",
         "1",
         "PAR0071",
         "474.05",
         "2017-01-01 00:20:57"
        ],
        [
         "3",
         "1119112",
         "299542",
         "0",
         "1",
         "WDT0315",
         "68.39",
         "2017-01-01 00:51:40"
        ],
        [
         "4",
         "1119113",
         "299543",
         "0",
         "1",
         "JBL0104",
         "23.74",
         "2017-01-01 01:06:38"
        ],
        [
         "5",
         "1119114",
         "295310",
         "0",
         "10",
         "WDT0249",
         "231.79",
         "2017-01-01 01:14:27"
        ],
        [
         "6",
         "1119115",
         "299544",
         "0",
         "1",
         "APP1582",
         "1.137.99",
         "2017-01-01 01:17:21"
        ],
        [
         "7",
         "1119116",
         "299545",
         "0",
         "1",
         "OWC0100",
         "47.49",
         "2017-01-01 01:46:16"
        ],
        [
         "8",
         "1119119",
         "299546",
         "0",
         "1",
         "IOT0014",
         "18.99",
         "2017-01-01 01:50:34"
        ],
        [
         "9",
         "1119120",
         "295347",
         "0",
         "1",
         "APP0700",
         "72.19",
         "2017-01-01 01:54:11"
        ]
       ],
       "shape": {
        "columns": 7,
        "rows": 10
       }
      },
      "text/html": [
       "<div>\n",
       "<style scoped>\n",
       "    .dataframe tbody tr th:only-of-type {\n",
       "        vertical-align: middle;\n",
       "    }\n",
       "\n",
       "    .dataframe tbody tr th {\n",
       "        vertical-align: top;\n",
       "    }\n",
       "\n",
       "    .dataframe thead th {\n",
       "        text-align: right;\n",
       "    }\n",
       "</style>\n",
       "<table border=\"1\" class=\"dataframe\">\n",
       "  <thead>\n",
       "    <tr style=\"text-align: right;\">\n",
       "      <th></th>\n",
       "      <th>id</th>\n",
       "      <th>id_order</th>\n",
       "      <th>product_id</th>\n",
       "      <th>product_quantity</th>\n",
       "      <th>sku</th>\n",
       "      <th>unit_price</th>\n",
       "      <th>date</th>\n",
       "    </tr>\n",
       "  </thead>\n",
       "  <tbody>\n",
       "    <tr>\n",
       "      <th>0</th>\n",
       "      <td>1119109</td>\n",
       "      <td>299539</td>\n",
       "      <td>0</td>\n",
       "      <td>1</td>\n",
       "      <td>OTT0133</td>\n",
       "      <td>18.99</td>\n",
       "      <td>2017-01-01 00:07:19</td>\n",
       "    </tr>\n",
       "    <tr>\n",
       "      <th>1</th>\n",
       "      <td>1119110</td>\n",
       "      <td>299540</td>\n",
       "      <td>0</td>\n",
       "      <td>1</td>\n",
       "      <td>LGE0043</td>\n",
       "      <td>399.00</td>\n",
       "      <td>2017-01-01 00:19:45</td>\n",
       "    </tr>\n",
       "    <tr>\n",
       "      <th>2</th>\n",
       "      <td>1119111</td>\n",
       "      <td>299541</td>\n",
       "      <td>0</td>\n",
       "      <td>1</td>\n",
       "      <td>PAR0071</td>\n",
       "      <td>474.05</td>\n",
       "      <td>2017-01-01 00:20:57</td>\n",
       "    </tr>\n",
       "    <tr>\n",
       "      <th>3</th>\n",
       "      <td>1119112</td>\n",
       "      <td>299542</td>\n",
       "      <td>0</td>\n",
       "      <td>1</td>\n",
       "      <td>WDT0315</td>\n",
       "      <td>68.39</td>\n",
       "      <td>2017-01-01 00:51:40</td>\n",
       "    </tr>\n",
       "    <tr>\n",
       "      <th>4</th>\n",
       "      <td>1119113</td>\n",
       "      <td>299543</td>\n",
       "      <td>0</td>\n",
       "      <td>1</td>\n",
       "      <td>JBL0104</td>\n",
       "      <td>23.74</td>\n",
       "      <td>2017-01-01 01:06:38</td>\n",
       "    </tr>\n",
       "    <tr>\n",
       "      <th>5</th>\n",
       "      <td>1119114</td>\n",
       "      <td>295310</td>\n",
       "      <td>0</td>\n",
       "      <td>10</td>\n",
       "      <td>WDT0249</td>\n",
       "      <td>231.79</td>\n",
       "      <td>2017-01-01 01:14:27</td>\n",
       "    </tr>\n",
       "    <tr>\n",
       "      <th>6</th>\n",
       "      <td>1119115</td>\n",
       "      <td>299544</td>\n",
       "      <td>0</td>\n",
       "      <td>1</td>\n",
       "      <td>APP1582</td>\n",
       "      <td>1.137.99</td>\n",
       "      <td>2017-01-01 01:17:21</td>\n",
       "    </tr>\n",
       "    <tr>\n",
       "      <th>7</th>\n",
       "      <td>1119116</td>\n",
       "      <td>299545</td>\n",
       "      <td>0</td>\n",
       "      <td>1</td>\n",
       "      <td>OWC0100</td>\n",
       "      <td>47.49</td>\n",
       "      <td>2017-01-01 01:46:16</td>\n",
       "    </tr>\n",
       "    <tr>\n",
       "      <th>8</th>\n",
       "      <td>1119119</td>\n",
       "      <td>299546</td>\n",
       "      <td>0</td>\n",
       "      <td>1</td>\n",
       "      <td>IOT0014</td>\n",
       "      <td>18.99</td>\n",
       "      <td>2017-01-01 01:50:34</td>\n",
       "    </tr>\n",
       "    <tr>\n",
       "      <th>9</th>\n",
       "      <td>1119120</td>\n",
       "      <td>295347</td>\n",
       "      <td>0</td>\n",
       "      <td>1</td>\n",
       "      <td>APP0700</td>\n",
       "      <td>72.19</td>\n",
       "      <td>2017-01-01 01:54:11</td>\n",
       "    </tr>\n",
       "  </tbody>\n",
       "</table>\n",
       "</div>"
      ],
      "text/plain": [
       "        id  id_order  product_id  product_quantity      sku unit_price  \\\n",
       "0  1119109    299539           0                 1  OTT0133      18.99   \n",
       "1  1119110    299540           0                 1  LGE0043     399.00   \n",
       "2  1119111    299541           0                 1  PAR0071     474.05   \n",
       "3  1119112    299542           0                 1  WDT0315      68.39   \n",
       "4  1119113    299543           0                 1  JBL0104      23.74   \n",
       "5  1119114    295310           0                10  WDT0249     231.79   \n",
       "6  1119115    299544           0                 1  APP1582   1.137.99   \n",
       "7  1119116    299545           0                 1  OWC0100      47.49   \n",
       "8  1119119    299546           0                 1  IOT0014      18.99   \n",
       "9  1119120    295347           0                 1  APP0700      72.19   \n",
       "\n",
       "                 date  \n",
       "0 2017-01-01 00:07:19  \n",
       "1 2017-01-01 00:19:45  \n",
       "2 2017-01-01 00:20:57  \n",
       "3 2017-01-01 00:51:40  \n",
       "4 2017-01-01 01:06:38  \n",
       "5 2017-01-01 01:14:27  \n",
       "6 2017-01-01 01:17:21  \n",
       "7 2017-01-01 01:46:16  \n",
       "8 2017-01-01 01:50:34  \n",
       "9 2017-01-01 01:54:11  "
      ]
     },
     "execution_count": 19,
     "metadata": {},
     "output_type": "execute_result"
    }
   ],
   "source": [
    "# Checking the different id's\n",
    "orderlines_df.head(10)"
   ]
  },
  {
   "cell_type": "code",
   "execution_count": null,
   "metadata": {},
   "outputs": [
    {
     "data": {
      "application/vnd.microsoft.datawrangler.viewer.v0+json": {
       "columns": [
        {
         "name": "product_id",
         "rawType": "int64",
         "type": "integer"
        },
        {
         "name": "count",
         "rawType": "int64",
         "type": "integer"
        }
       ],
       "ref": "b781a081-2f57-4b46-9079-0cc682f148e0",
       "rows": [
        [
         "0",
         "293983"
        ]
       ],
       "shape": {
        "columns": 1,
        "rows": 1
       }
      },
      "text/plain": [
       "product_id\n",
       "0    293983\n",
       "Name: count, dtype: int64"
      ]
     },
     "execution_count": 22,
     "metadata": {},
     "output_type": "execute_result"
    }
   ],
   "source": [
    "orderlines_df['product_id'].value_counts()\n",
    "# Product_id seems to be a deprecated column as all values are 0"
   ]
  },
  {
   "cell_type": "code",
   "execution_count": 6,
   "metadata": {},
   "outputs": [],
   "source": [
    "# Removing product_id column from orderlines_df\n",
    "orderlines_df.drop(columns = 'product_id', inplace=True)"
   ]
  },
  {
   "cell_type": "markdown",
   "metadata": {},
   "source": [
    "### 3.3 Handling missing values"
   ]
  },
  {
   "cell_type": "code",
   "execution_count": null,
   "metadata": {},
   "outputs": [
    {
     "data": {
      "application/vnd.microsoft.datawrangler.viewer.v0+json": {
       "columns": [
        {
         "name": "index",
         "rawType": "int64",
         "type": "integer"
        },
        {
         "name": "order_id",
         "rawType": "int64",
         "type": "integer"
        },
        {
         "name": "created_date",
         "rawType": "datetime64[ns]",
         "type": "datetime"
        },
        {
         "name": "total_paid",
         "rawType": "float64",
         "type": "float"
        },
        {
         "name": "state",
         "rawType": "object",
         "type": "string"
        }
       ],
       "ref": "700aa285-8da0-4759-bcec-1f21f5e33385",
       "rows": [
        [
         "127701",
         "427314",
         "2017-11-20 18:54:39",
         null,
         "Pending"
        ],
        [
         "132013",
         "431655",
         "2017-11-22 12:15:24",
         null,
         "Pending"
        ],
        [
         "147316",
         "447411",
         "2017-11-27 10:32:37",
         null,
         "Pending"
        ],
        [
         "148833",
         "448966",
         "2017-11-27 18:54:15",
         null,
         "Pending"
        ],
        [
         "149434",
         "449596",
         "2017-11-27 21:52:08",
         null,
         "Pending"
        ]
       ],
       "shape": {
        "columns": 4,
        "rows": 5
       }
      },
      "text/html": [
       "<div>\n",
       "<style scoped>\n",
       "    .dataframe tbody tr th:only-of-type {\n",
       "        vertical-align: middle;\n",
       "    }\n",
       "\n",
       "    .dataframe tbody tr th {\n",
       "        vertical-align: top;\n",
       "    }\n",
       "\n",
       "    .dataframe thead th {\n",
       "        text-align: right;\n",
       "    }\n",
       "</style>\n",
       "<table border=\"1\" class=\"dataframe\">\n",
       "  <thead>\n",
       "    <tr style=\"text-align: right;\">\n",
       "      <th></th>\n",
       "      <th>order_id</th>\n",
       "      <th>created_date</th>\n",
       "      <th>total_paid</th>\n",
       "      <th>state</th>\n",
       "    </tr>\n",
       "  </thead>\n",
       "  <tbody>\n",
       "    <tr>\n",
       "      <th>127701</th>\n",
       "      <td>427314</td>\n",
       "      <td>2017-11-20 18:54:39</td>\n",
       "      <td>NaN</td>\n",
       "      <td>Pending</td>\n",
       "    </tr>\n",
       "    <tr>\n",
       "      <th>132013</th>\n",
       "      <td>431655</td>\n",
       "      <td>2017-11-22 12:15:24</td>\n",
       "      <td>NaN</td>\n",
       "      <td>Pending</td>\n",
       "    </tr>\n",
       "    <tr>\n",
       "      <th>147316</th>\n",
       "      <td>447411</td>\n",
       "      <td>2017-11-27 10:32:37</td>\n",
       "      <td>NaN</td>\n",
       "      <td>Pending</td>\n",
       "    </tr>\n",
       "    <tr>\n",
       "      <th>148833</th>\n",
       "      <td>448966</td>\n",
       "      <td>2017-11-27 18:54:15</td>\n",
       "      <td>NaN</td>\n",
       "      <td>Pending</td>\n",
       "    </tr>\n",
       "    <tr>\n",
       "      <th>149434</th>\n",
       "      <td>449596</td>\n",
       "      <td>2017-11-27 21:52:08</td>\n",
       "      <td>NaN</td>\n",
       "      <td>Pending</td>\n",
       "    </tr>\n",
       "  </tbody>\n",
       "</table>\n",
       "</div>"
      ],
      "text/plain": [
       "        order_id        created_date  total_paid    state\n",
       "127701    427314 2017-11-20 18:54:39         NaN  Pending\n",
       "132013    431655 2017-11-22 12:15:24         NaN  Pending\n",
       "147316    447411 2017-11-27 10:32:37         NaN  Pending\n",
       "148833    448966 2017-11-27 18:54:15         NaN  Pending\n",
       "149434    449596 2017-11-27 21:52:08         NaN  Pending"
      ]
     },
     "execution_count": 36,
     "metadata": {},
     "output_type": "execute_result"
    }
   ],
   "source": [
    "# Locate missing values in total_paid column\n",
    "orders_df.loc[orders_df['total_paid'].isna(), :]"
   ]
  },
  {
   "cell_type": "code",
   "execution_count": 7,
   "metadata": {},
   "outputs": [],
   "source": [
    "# Drop rows with NaN in total_paid\n",
    "orders_df = orders_df.dropna(subset = ['total_paid'])"
   ]
  },
  {
   "cell_type": "code",
   "execution_count": 121,
   "metadata": {},
   "outputs": [
    {
     "data": {
      "application/vnd.microsoft.datawrangler.viewer.v0+json": {
       "columns": [
        {
         "name": "index",
         "rawType": "int64",
         "type": "integer"
        },
        {
         "name": "sku",
         "rawType": "object",
         "type": "string"
        },
        {
         "name": "name",
         "rawType": "object",
         "type": "string"
        },
        {
         "name": "desc",
         "rawType": "object",
         "type": "unknown"
        },
        {
         "name": "price",
         "rawType": "object",
         "type": "string"
        },
        {
         "name": "promo_price",
         "rawType": "object",
         "type": "string"
        },
        {
         "name": "in_stock",
         "rawType": "int64",
         "type": "integer"
        },
        {
         "name": "type",
         "rawType": "object",
         "type": "string"
        }
       ],
       "ref": "50d102a6-3d19-450b-a83c-a2a501d11b1a",
       "rows": [
        [
         "16126",
         "WDT0211-A",
         "Open - Purple 2TB WD 35 \"PC Security Mac hard drive and NAS",
         null,
         "107",
         "814.659",
         "0",
         "1298"
        ],
        [
         "16128",
         "APP1622-A",
         "Open - Apple Smart Keyboard Pro Keyboard Folio iPad 9.7 \"",
         null,
         "1.568.206",
         "1.568.206",
         "0",
         "1298"
        ],
        [
         "17843",
         "PAC2334",
         "Synology DS718 + NAS Server | 10GB RAM",
         null,
         "566.35",
         "5.659.896",
         "0",
         "12175397"
        ],
        [
         "18152",
         "KAN0034-A",
         "Open - Kanex USB-C Gigabit Ethernet Adapter MacBook 12 \"",
         null,
         "29.99",
         "237.925",
         "0",
         "1298"
        ],
        [
         "18490",
         "HTE0025",
         "Hyper Pearl 1600mAh battery Mini USB Mirror and Comic Blond",
         null,
         "24.99",
         "22.99",
         "1",
         "1515"
        ],
        [
         "18612",
         "OTT0200",
         "OtterBox External Battery Power Pack 20000 mAHr",
         null,
         "79.99",
         "56.99",
         "1",
         "1515"
        ],
        [
         "18690",
         "HOW0001-A",
         "Open - Honeywell thermostat Lyric zonificador T6 Intelligent Wireless (cable)",
         null,
         "199.99",
         "1.441.174",
         "0",
         "11905404"
        ]
       ],
       "shape": {
        "columns": 7,
        "rows": 7
       }
      },
      "text/html": [
       "<div>\n",
       "<style scoped>\n",
       "    .dataframe tbody tr th:only-of-type {\n",
       "        vertical-align: middle;\n",
       "    }\n",
       "\n",
       "    .dataframe tbody tr th {\n",
       "        vertical-align: top;\n",
       "    }\n",
       "\n",
       "    .dataframe thead th {\n",
       "        text-align: right;\n",
       "    }\n",
       "</style>\n",
       "<table border=\"1\" class=\"dataframe\">\n",
       "  <thead>\n",
       "    <tr style=\"text-align: right;\">\n",
       "      <th></th>\n",
       "      <th>sku</th>\n",
       "      <th>name</th>\n",
       "      <th>desc</th>\n",
       "      <th>price</th>\n",
       "      <th>promo_price</th>\n",
       "      <th>in_stock</th>\n",
       "      <th>type</th>\n",
       "    </tr>\n",
       "  </thead>\n",
       "  <tbody>\n",
       "    <tr>\n",
       "      <th>16126</th>\n",
       "      <td>WDT0211-A</td>\n",
       "      <td>Open - Purple 2TB WD 35 \"PC Security Mac hard ...</td>\n",
       "      <td>NaN</td>\n",
       "      <td>107</td>\n",
       "      <td>814.659</td>\n",
       "      <td>0</td>\n",
       "      <td>1298</td>\n",
       "    </tr>\n",
       "    <tr>\n",
       "      <th>16128</th>\n",
       "      <td>APP1622-A</td>\n",
       "      <td>Open - Apple Smart Keyboard Pro Keyboard Folio...</td>\n",
       "      <td>NaN</td>\n",
       "      <td>1.568.206</td>\n",
       "      <td>1.568.206</td>\n",
       "      <td>0</td>\n",
       "      <td>1298</td>\n",
       "    </tr>\n",
       "    <tr>\n",
       "      <th>17843</th>\n",
       "      <td>PAC2334</td>\n",
       "      <td>Synology DS718 + NAS Server | 10GB RAM</td>\n",
       "      <td>NaN</td>\n",
       "      <td>566.35</td>\n",
       "      <td>5.659.896</td>\n",
       "      <td>0</td>\n",
       "      <td>12175397</td>\n",
       "    </tr>\n",
       "    <tr>\n",
       "      <th>18152</th>\n",
       "      <td>KAN0034-A</td>\n",
       "      <td>Open - Kanex USB-C Gigabit Ethernet Adapter Ma...</td>\n",
       "      <td>NaN</td>\n",
       "      <td>29.99</td>\n",
       "      <td>237.925</td>\n",
       "      <td>0</td>\n",
       "      <td>1298</td>\n",
       "    </tr>\n",
       "    <tr>\n",
       "      <th>18490</th>\n",
       "      <td>HTE0025</td>\n",
       "      <td>Hyper Pearl 1600mAh battery Mini USB Mirror an...</td>\n",
       "      <td>NaN</td>\n",
       "      <td>24.99</td>\n",
       "      <td>22.99</td>\n",
       "      <td>1</td>\n",
       "      <td>1515</td>\n",
       "    </tr>\n",
       "    <tr>\n",
       "      <th>18612</th>\n",
       "      <td>OTT0200</td>\n",
       "      <td>OtterBox External Battery Power Pack 20000 mAHr</td>\n",
       "      <td>NaN</td>\n",
       "      <td>79.99</td>\n",
       "      <td>56.99</td>\n",
       "      <td>1</td>\n",
       "      <td>1515</td>\n",
       "    </tr>\n",
       "    <tr>\n",
       "      <th>18690</th>\n",
       "      <td>HOW0001-A</td>\n",
       "      <td>Open - Honeywell thermostat Lyric zonificador ...</td>\n",
       "      <td>NaN</td>\n",
       "      <td>199.99</td>\n",
       "      <td>1.441.174</td>\n",
       "      <td>0</td>\n",
       "      <td>11905404</td>\n",
       "    </tr>\n",
       "  </tbody>\n",
       "</table>\n",
       "</div>"
      ],
      "text/plain": [
       "             sku                                               name desc  \\\n",
       "16126  WDT0211-A  Open - Purple 2TB WD 35 \"PC Security Mac hard ...  NaN   \n",
       "16128  APP1622-A  Open - Apple Smart Keyboard Pro Keyboard Folio...  NaN   \n",
       "17843    PAC2334             Synology DS718 + NAS Server | 10GB RAM  NaN   \n",
       "18152  KAN0034-A  Open - Kanex USB-C Gigabit Ethernet Adapter Ma...  NaN   \n",
       "18490    HTE0025  Hyper Pearl 1600mAh battery Mini USB Mirror an...  NaN   \n",
       "18612    OTT0200    OtterBox External Battery Power Pack 20000 mAHr  NaN   \n",
       "18690  HOW0001-A  Open - Honeywell thermostat Lyric zonificador ...  NaN   \n",
       "\n",
       "           price promo_price  in_stock      type  \n",
       "16126        107     814.659         0      1298  \n",
       "16128  1.568.206   1.568.206         0      1298  \n",
       "17843     566.35   5.659.896         0  12175397  \n",
       "18152      29.99     237.925         0      1298  \n",
       "18490      24.99       22.99         1      1515  \n",
       "18612      79.99       56.99         1      1515  \n",
       "18690     199.99   1.441.174         0  11905404  "
      ]
     },
     "execution_count": 121,
     "metadata": {},
     "output_type": "execute_result"
    }
   ],
   "source": [
    "# Locating missing values in desc column of products_df\n",
    "products_df.loc[products_df['desc'].isna(), :]"
   ]
  },
  {
   "cell_type": "code",
   "execution_count": 49,
   "metadata": {},
   "outputs": [
    {
     "data": {
      "application/vnd.microsoft.datawrangler.viewer.v0+json": {
       "columns": [
        {
         "name": "index",
         "rawType": "int64",
         "type": "integer"
        },
        {
         "name": "name",
         "rawType": "object",
         "type": "string"
        },
        {
         "name": "desc",
         "rawType": "object",
         "type": "string"
        }
       ],
       "ref": "269c2b48-7e5d-4a4f-a49a-0ba1cd7c710e",
       "rows": [
        [
         "2210",
         "Philips Hue Go Portable Light White",
         "Portable light with natural dynamic effects and personal control"
        ],
        [
         "4979",
         "Mujjo Leather Wallet Case Black Leather iPhone 7",
         "ultrathin cover with card case and material vegetable tanned leather for iPhone 7"
        ],
        [
         "6516",
         "Headset calls iPhone 5s repair",
         "Repair service including parts and labor for iPhone 5s"
        ],
        [
         "9687",
         "OWC ThuderBay RAID Thunderbolt 4 3 | 40TB (4x10TB) Seagate Iron Wolf",
         "RAID Disk external box 25 inch and 35 inch two connectors Thunderbolt 3"
        ],
        [
         "2869",
         "Acme Skinny Sleeve Case MacBook Pro 15 \"Black Mate",
         "Neoprene Sleeve for MacBook Pro 15-inch."
        ],
        [
         "7277",
         "Apple iMac 27 \"Core i5 3.8GHz Retina 5K | 64GB | 1TB SSD",
         "IMac desktop computer 27 inch Retina 5K RAM 64GB SSD 1TB PCle"
        ],
        [
         "7742",
         "Like new - Apple Watch Nike + 42mm Aluminum Case and Space Gray Nike Sport Strap Black / Volt",
         "Apple Watch 42 mm refitted with double waterproof GPS processor core and belt 50mts exclusive Nike +"
        ],
        [
         "4206",
         "Wowewa Protector Tempered Glass iPhone 6 / 6S 3D White",
         "3D tempered glass protector: covers all edges for iPhone 6 / 6S"
        ],
        [
         "3374",
         "D-Link DCS-800L camera Wi-Fi Baby Monitor EyeOn Junior",
         "Portable wireless camera with motion detector monitor for iPhone iPad."
        ],
        [
         "7385",
         "Apple iPhone Silicone Case Cover 8 Plus / 7 Plus / 6s Plus / 6 Plus Blue Haze",
         "Ultrathin silicone case and microfiber premium for iPhone 8 Plus / 7 Plus / 6s Plus / 6 Plus"
        ]
       ],
       "shape": {
        "columns": 2,
        "rows": 10
       }
      },
      "text/html": [
       "<div>\n",
       "<style scoped>\n",
       "    .dataframe tbody tr th:only-of-type {\n",
       "        vertical-align: middle;\n",
       "    }\n",
       "\n",
       "    .dataframe tbody tr th {\n",
       "        vertical-align: top;\n",
       "    }\n",
       "\n",
       "    .dataframe thead th {\n",
       "        text-align: right;\n",
       "    }\n",
       "</style>\n",
       "<table border=\"1\" class=\"dataframe\">\n",
       "  <thead>\n",
       "    <tr style=\"text-align: right;\">\n",
       "      <th></th>\n",
       "      <th>name</th>\n",
       "      <th>desc</th>\n",
       "    </tr>\n",
       "  </thead>\n",
       "  <tbody>\n",
       "    <tr>\n",
       "      <th>2210</th>\n",
       "      <td>Philips Hue Go Portable Light White</td>\n",
       "      <td>Portable light with natural dynamic effects an...</td>\n",
       "    </tr>\n",
       "    <tr>\n",
       "      <th>4979</th>\n",
       "      <td>Mujjo Leather Wallet Case Black Leather iPhone 7</td>\n",
       "      <td>ultrathin cover with card case and material ve...</td>\n",
       "    </tr>\n",
       "    <tr>\n",
       "      <th>6516</th>\n",
       "      <td>Headset calls iPhone 5s repair</td>\n",
       "      <td>Repair service including parts and labor for i...</td>\n",
       "    </tr>\n",
       "    <tr>\n",
       "      <th>9687</th>\n",
       "      <td>OWC ThuderBay RAID Thunderbolt 4 3 | 40TB (4x1...</td>\n",
       "      <td>RAID Disk external box 25 inch and 35 inch two...</td>\n",
       "    </tr>\n",
       "    <tr>\n",
       "      <th>2869</th>\n",
       "      <td>Acme Skinny Sleeve Case MacBook Pro 15 \"Black ...</td>\n",
       "      <td>Neoprene Sleeve for MacBook Pro 15-inch.</td>\n",
       "    </tr>\n",
       "    <tr>\n",
       "      <th>7277</th>\n",
       "      <td>Apple iMac 27 \"Core i5 3.8GHz Retina 5K | 64GB...</td>\n",
       "      <td>IMac desktop computer 27 inch Retina 5K RAM 64...</td>\n",
       "    </tr>\n",
       "    <tr>\n",
       "      <th>7742</th>\n",
       "      <td>Like new - Apple Watch Nike + 42mm Aluminum Ca...</td>\n",
       "      <td>Apple Watch 42 mm refitted with double waterpr...</td>\n",
       "    </tr>\n",
       "    <tr>\n",
       "      <th>4206</th>\n",
       "      <td>Wowewa Protector Tempered Glass iPhone 6 / 6S ...</td>\n",
       "      <td>3D tempered glass protector: covers all edges ...</td>\n",
       "    </tr>\n",
       "    <tr>\n",
       "      <th>3374</th>\n",
       "      <td>D-Link DCS-800L camera Wi-Fi Baby Monitor EyeO...</td>\n",
       "      <td>Portable wireless camera with motion detector ...</td>\n",
       "    </tr>\n",
       "    <tr>\n",
       "      <th>7385</th>\n",
       "      <td>Apple iPhone Silicone Case Cover 8 Plus / 7 Pl...</td>\n",
       "      <td>Ultrathin silicone case and microfiber premium...</td>\n",
       "    </tr>\n",
       "  </tbody>\n",
       "</table>\n",
       "</div>"
      ],
      "text/plain": [
       "                                                   name  \\\n",
       "2210                Philips Hue Go Portable Light White   \n",
       "4979   Mujjo Leather Wallet Case Black Leather iPhone 7   \n",
       "6516                     Headset calls iPhone 5s repair   \n",
       "9687  OWC ThuderBay RAID Thunderbolt 4 3 | 40TB (4x1...   \n",
       "2869  Acme Skinny Sleeve Case MacBook Pro 15 \"Black ...   \n",
       "7277  Apple iMac 27 \"Core i5 3.8GHz Retina 5K | 64GB...   \n",
       "7742  Like new - Apple Watch Nike + 42mm Aluminum Ca...   \n",
       "4206  Wowewa Protector Tempered Glass iPhone 6 / 6S ...   \n",
       "3374  D-Link DCS-800L camera Wi-Fi Baby Monitor EyeO...   \n",
       "7385  Apple iPhone Silicone Case Cover 8 Plus / 7 Pl...   \n",
       "\n",
       "                                                   desc  \n",
       "2210  Portable light with natural dynamic effects an...  \n",
       "4979  ultrathin cover with card case and material ve...  \n",
       "6516  Repair service including parts and labor for i...  \n",
       "9687  RAID Disk external box 25 inch and 35 inch two...  \n",
       "2869           Neoprene Sleeve for MacBook Pro 15-inch.  \n",
       "7277  IMac desktop computer 27 inch Retina 5K RAM 64...  \n",
       "7742  Apple Watch 42 mm refitted with double waterpr...  \n",
       "4206  3D tempered glass protector: covers all edges ...  \n",
       "3374  Portable wireless camera with motion detector ...  \n",
       "7385  Ultrathin silicone case and microfiber premium...  "
      ]
     },
     "execution_count": 49,
     "metadata": {},
     "output_type": "execute_result"
    }
   ],
   "source": [
    "# Comparing the contents of description column and name column manually by looking at random entries\n",
    "products_df[['name', 'desc']].sample(10)"
   ]
  },
  {
   "cell_type": "code",
   "execution_count": 8,
   "metadata": {},
   "outputs": [],
   "source": [
    "# High correlation between name and desc columns, so we can copy name to desc for the missing values\n",
    "products_df.loc[products_df['desc'].isna(), 'desc'] = products_df.loc[products_df['desc'].isna(), 'name']"
   ]
  },
  {
   "cell_type": "code",
   "execution_count": 123,
   "metadata": {},
   "outputs": [
    {
     "data": {
      "application/vnd.microsoft.datawrangler.viewer.v0+json": {
       "columns": [
        {
         "name": "index",
         "rawType": "int64",
         "type": "integer"
        },
        {
         "name": "sku",
         "rawType": "object",
         "type": "string"
        },
        {
         "name": "name",
         "rawType": "object",
         "type": "string"
        },
        {
         "name": "desc",
         "rawType": "object",
         "type": "string"
        },
        {
         "name": "price",
         "rawType": "object",
         "type": "unknown"
        },
        {
         "name": "promo_price",
         "rawType": "object",
         "type": "string"
        },
        {
         "name": "in_stock",
         "rawType": "int64",
         "type": "integer"
        },
        {
         "name": "type",
         "rawType": "object",
         "type": "string"
        }
       ],
       "ref": "31cf2108-afa3-46f4-8417-0889656a5ad4",
       "rows": [
        [
         "34",
         "TWS0019",
         "Twelve South MagicWand support Apple Magic Trackpad",
         "MagicWand for wireless keyboard and Magic Trackpad.",
         null,
         "299.899",
         "0",
         "8696"
        ],
        [
         "1900",
         "AII0008",
         "Aiino Case MacBook Air 11 '' Transparent",
         "MacBook Air 11-inch casing with matte finish.",
         null,
         "22.99",
         "0",
         "13835403"
        ],
        [
         "2039",
         "CEL0020",
         "Celly Ambo Luxury Leather Case + iPhone 6 Case Black",
         "Cover and housing together with magnet for iPhone 6.",
         null,
         "399.905",
         "0",
         "11865403"
        ],
        [
         "2042",
         "CEL0007",
         "Celly Wallet Case with removable cover Black iPhone 6",
         "Case Book for iPhone 6 card case type.",
         null,
         "128.998",
         "0",
         "11865403"
        ],
        [
         "2043",
         "CEL0012",
         "Celly Silicone Hard Shell iPhone 6 Blue",
         "Hard Shell Silicone iPhone 6.",
         null,
         "4.99",
         "0",
         "11865403"
        ],
        [
         "2044",
         "CEL0014",
         "Celly Silicone Hard Shell iPhone 6 Amarillo",
         "Hard Shell Silicone iPhone 6.",
         null,
         "59.895",
         "0",
         "11865403"
        ],
        [
         "2049",
         "CEL0015",
         "Celly fur-lined Powerbank battery 4000mAh Black",
         "Leather-wrapped External Battery 4000mAh for iPhone iPad and iPod.",
         null,
         "239.895",
         "0",
         "1515"
        ],
        [
         "2051",
         "CEL0018",
         "Celly Wallet Leather Case cover Black iPhone 6",
         "Card case with transparent protective cover for iPhone 6.",
         null,
         "294.877",
         "0",
         "11865403"
        ],
        [
         "2052",
         "CEL0023",
         "Celly Ambo Luxury Leather Case + Case Gold iPhone 6",
         "Cover and housing together with magnet for iPhone 6.",
         null,
         "329.894",
         "0",
         "11865403"
        ],
        [
         "2053",
         "CEL0025",
         "Celly Ambo Luxury Leather Case + Case iPhone 6 / 6S Red Plus",
         "Cover and housing together with magnet for iPhone 6 Plus.",
         null,
         "449.878",
         "0",
         "11865403"
        ],
        [
         "8000",
         "APP1197",
         "Apple iMac 21.5 \"Core i5 31 GHz Retina display 4K | 8GB | 1TB",
         "Desktop Apple iMac 21.5 inch i5 31 GHz Retina display 4K RAM 8GB 1TB (MK452Y / A).",
         null,
         "1305.59",
         "0",
         "1282"
        ],
        [
         "12052",
         "CEL0028",
         "Celly Swing Arm button selfie with Bluetooth Black",
         "selfie extendable arm for iPhone",
         null,
         "59.895",
         "0",
         "11905404"
        ],
        [
         "12053",
         "CEL0029",
         "Celly extensible arm selfie with Bluetooth button Green",
         "selfie extendable arm for iPhone",
         null,
         "69.902",
         "0",
         "5720"
        ],
        [
         "12054",
         "CEL0030",
         "Celly Smart Drive Housing + clip car holder iPhone 5 / 5s / SE Black",
         "Magnetic holder for car Compatible iPhone 5 5s and 5SE",
         null,
         "89.903",
         "0",
         "5720"
        ],
        [
         "12055",
         "CEL0031",
         "Celly Smart Drive Case + Car clip support iPhone 6 / 6S Black",
         "Magnetic car holder compatible with iPhone 6 / 6S",
         null,
         "149.895",
         "0",
         "5720"
        ],
        [
         "12059",
         "CEL0032",
         "Celly Gost clamp fixing car + Magnetica Black",
         "Magnetic holder for car Compatible with iPhone",
         null,
         "119.899",
         "0",
         "12285400"
        ],
        [
         "12060",
         "CEL0042",
         "Celly iPhone Case Fluor 6s / 6 Black / Transparent",
         "Protective Case for iPhone 6 and 6s",
         null,
         "99.898",
         "0",
         "11865403"
        ],
        [
         "12061",
         "CEL0043",
         "Celly Fluor Case iPhone 6 / 6S Pink / Transparent",
         "Protective Case for iPhone 6 and 6s",
         null,
         "99.898",
         "0",
         "11865403"
        ],
        [
         "12062",
         "CEL0044",
         "Celly iPhone Case Fluor 6s / 6 Yellow / Transparent",
         "protective case with two colors for iPhone 6 and 6s",
         null,
         "79.896",
         "1",
         "11865403"
        ],
        [
         "12064",
         "CEL0038",
         "Celly Frost Cover for iPhone 6 / 6S Rosa",
         "Ultra Thin Case for iPhone 6 and 6s",
         null,
         "89.903",
         "0",
         "11865403"
        ],
        [
         "12067",
         "CEL0033",
         "Celly Waterproof iPad Case / Air / Pro 97 \"Transparent",
         "waterproof protective case for iPad bag format / Air / Pro 97-inch",
         null,
         "149.895",
         "0",
         "12635403"
        ],
        [
         "12068",
         "CEL0034",
         "Celly Ambo cover with lid iPhone 6 / 6S Plus Black",
         "Imiatación cover skin with removable lid for iPhone 6 / 6S",
         null,
         "199.904",
         "0",
         "11865403"
        ],
        [
         "12069",
         "CEL0035",
         "Celly Ambo cover with lid iPhone 6 / 6S Plus Black",
         "Imiatación cover skin with removable lid for iPhone 6 / 6S Plus",
         null,
         "199.904",
         "0",
         "11865403"
        ],
        [
         "12070",
         "CEL0036",
         "Celly Adapter Micro USB connector to Lightning White",
         "Micro USB adapter cable connection Lightning",
         null,
         "89.903",
         "1",
         "14365395"
        ],
        [
         "12071",
         "CEL0051",
         "Celly 4000mAh Battery Power Bank Aluminum Dorado",
         "external battery capacity 4000mAh output voltage 5V",
         null,
         "129.894",
         "0",
         "1515"
        ],
        [
         "12072",
         "CEL0052",
         "Celly 4000mAh Battery Power Bank Aluminum Silver",
         "external battery capacity 4000mAh output voltage 5V",
         null,
         "199.892",
         "0",
         "1515"
        ],
        [
         "12073",
         "CEL0053",
         " Celly IceCube Case iPhone 6 / 6S Black",
         "Anti-shock Case for iPhone 6 / 6S",
         null,
         "169.884",
         "0",
         "11865403"
        ],
        [
         "12074",
         "CEL0054",
         "Celly IceCube Case iPhone 6 / 6S Rosa",
         "Anti-shock Case for iPhone 6 / 6S",
         null,
         "99.898",
         "0",
         "11865403"
        ],
        [
         "12075",
         "CEL0055",
         " Celly IceCube Case iPhone 6 / 6S White",
         "Anti-shock Case for iPhone 6 / 6S",
         null,
         "119.899",
         "0",
         "11865403"
        ],
        [
         "12076",
         "CEL0056",
         "IceCube Celly iPhone Case 6 / 6s Amarillo",
         "Anti-shock Case for iPhone 6 / 6S",
         null,
         "119.899",
         "0",
         "11865403"
        ],
        [
         "12077",
         "CEL0057",
         "Celly IceCube Case iPhone 6 / 6S Plus Black",
         "Anti-shock Case for iPhone 6 / 6S Plus",
         null,
         "169.896",
         "0",
         "5403"
        ],
        [
         "12078",
         "CEL0058",
         "Celly IceCube Case iPhone 6 / 6S Plus Rosa",
         "Anti-shock Case for iPhone 6 / 6S Plus",
         null,
         "99.898",
         "0",
         "11865403"
        ],
        [
         "12079",
         "CEL0059",
         "Celly IceCube Case iPhone 6 / 6S Plus White",
         "Anti-shock Case for iPhone 6 / 6S Plus",
         null,
         "119.899",
         "0",
         "11865403"
        ],
        [
         "12080",
         "CEL0060",
         "Celly IceCube Case iPhone 6 / 6S Plus Amarillo",
         "Anti-shock Case for iPhone 6 / 6S Plus",
         null,
         "169.896",
         "0",
         "11865403"
        ],
        [
         "12088",
         "CEL0040",
         "Celly Frost Cover for iPhone 6 / 6S Plus White",
         "Ultra Thin Case for iPhone 6 and 6s Plus",
         null,
         "89.903",
         "0",
         "11865403"
        ],
        [
         "12089",
         "CEL0041",
         "Celly iPhone 6S Plus Frost Case Black",
         "Ultra Thin Case for iPhone 6 and 6s",
         null,
         "89.903",
         "0",
         "11865403"
        ],
        [
         "12092",
         "CEL0045",
         "Laser Case Celly iPhone 6 / 6S Dark Silver",
         "Protective Case for iPhone 6 and 6s",
         null,
         "149.895",
         "0",
         "11865403"
        ],
        [
         "12093",
         "CEL0046",
         "Laser Case Celly iPhone 6 / 6S Clear Silver",
         "Protective Case for iPhone 6 and 6s",
         null,
         "149.895",
         "0",
         "11865403"
        ],
        [
         "12095",
         "CEL0047",
         "Laser Case Celly iPhone 6 / 6S Dorado",
         "Protective Case for iPhone 6 and 6s",
         null,
         "149.895",
         "0",
         "11865403"
        ],
        [
         "12096",
         "CEL0048",
         "Laser Case Celly iPhone 6 / 6S Rosa",
         "Protective Case for iPhone 6 and 6s",
         null,
         "149.895",
         "0",
         "11865403"
        ],
        [
         "12097",
         "CEL0049",
         "Laser Case Celly iPhone 6 / 6S Plus Dorado",
         "Protective Case for iPhone 6 Plus and 6s Plus",
         null,
         "149.895",
         "0",
         "11865403"
        ],
        [
         "12098",
         "CEL0050",
         "Laser Case Celly iPhone 6 / 6S Plus Silver Clear",
         "Protective Case for iPhone 6 Plus and 6s Plus",
         null,
         "149.895",
         "0",
         "11865403"
        ],
        [
         "12100",
         "CEL0037",
         "Celly Frost Cover for iPhone 6 / 6S Black",
         "Ultra Thin Case for iPhone 6 and 6s",
         null,
         "99.898",
         "0",
         "11865403"
        ],
        [
         "12238",
         "CEL0027",
         "Celly Frost Cover for iPhone 6 / 6S White",
         "Flexible plastic shell for iPhone 6 / 6S",
         null,
         "89.903",
         "0",
         "11865403"
        ],
        [
         "12242",
         "CEL0039",
         "Celly Frost Cover for iPhone 6 / 6S Amarillo",
         "Ultra Thin Case for iPhone 6 and 6s",
         null,
         "89.903",
         "0",
         "11865403"
        ],
        [
         "12947",
         "CEL0034-A",
         "(Open) Celly iPhone 6S Plus Housing Frost White",
         "Ultra Thin Case for iPhone 6 and 6s Plus",
         null,
         "74.893",
         "0",
         "1298"
        ]
       ],
       "shape": {
        "columns": 7,
        "rows": 46
       }
      },
      "text/html": [
       "<div>\n",
       "<style scoped>\n",
       "    .dataframe tbody tr th:only-of-type {\n",
       "        vertical-align: middle;\n",
       "    }\n",
       "\n",
       "    .dataframe tbody tr th {\n",
       "        vertical-align: top;\n",
       "    }\n",
       "\n",
       "    .dataframe thead th {\n",
       "        text-align: right;\n",
       "    }\n",
       "</style>\n",
       "<table border=\"1\" class=\"dataframe\">\n",
       "  <thead>\n",
       "    <tr style=\"text-align: right;\">\n",
       "      <th></th>\n",
       "      <th>sku</th>\n",
       "      <th>name</th>\n",
       "      <th>desc</th>\n",
       "      <th>price</th>\n",
       "      <th>promo_price</th>\n",
       "      <th>in_stock</th>\n",
       "      <th>type</th>\n",
       "    </tr>\n",
       "  </thead>\n",
       "  <tbody>\n",
       "    <tr>\n",
       "      <th>34</th>\n",
       "      <td>TWS0019</td>\n",
       "      <td>Twelve South MagicWand support Apple Magic Tra...</td>\n",
       "      <td>MagicWand for wireless keyboard and Magic Trac...</td>\n",
       "      <td>NaN</td>\n",
       "      <td>299.899</td>\n",
       "      <td>0</td>\n",
       "      <td>8696</td>\n",
       "    </tr>\n",
       "    <tr>\n",
       "      <th>1900</th>\n",
       "      <td>AII0008</td>\n",
       "      <td>Aiino Case MacBook Air 11 '' Transparent</td>\n",
       "      <td>MacBook Air 11-inch casing with matte finish.</td>\n",
       "      <td>NaN</td>\n",
       "      <td>22.99</td>\n",
       "      <td>0</td>\n",
       "      <td>13835403</td>\n",
       "    </tr>\n",
       "    <tr>\n",
       "      <th>2039</th>\n",
       "      <td>CEL0020</td>\n",
       "      <td>Celly Ambo Luxury Leather Case + iPhone 6 Case...</td>\n",
       "      <td>Cover and housing together with magnet for iPh...</td>\n",
       "      <td>NaN</td>\n",
       "      <td>399.905</td>\n",
       "      <td>0</td>\n",
       "      <td>11865403</td>\n",
       "    </tr>\n",
       "    <tr>\n",
       "      <th>2042</th>\n",
       "      <td>CEL0007</td>\n",
       "      <td>Celly Wallet Case with removable cover Black i...</td>\n",
       "      <td>Case Book for iPhone 6 card case type.</td>\n",
       "      <td>NaN</td>\n",
       "      <td>128.998</td>\n",
       "      <td>0</td>\n",
       "      <td>11865403</td>\n",
       "    </tr>\n",
       "    <tr>\n",
       "      <th>2043</th>\n",
       "      <td>CEL0012</td>\n",
       "      <td>Celly Silicone Hard Shell iPhone 6 Blue</td>\n",
       "      <td>Hard Shell Silicone iPhone 6.</td>\n",
       "      <td>NaN</td>\n",
       "      <td>4.99</td>\n",
       "      <td>0</td>\n",
       "      <td>11865403</td>\n",
       "    </tr>\n",
       "    <tr>\n",
       "      <th>2044</th>\n",
       "      <td>CEL0014</td>\n",
       "      <td>Celly Silicone Hard Shell iPhone 6 Amarillo</td>\n",
       "      <td>Hard Shell Silicone iPhone 6.</td>\n",
       "      <td>NaN</td>\n",
       "      <td>59.895</td>\n",
       "      <td>0</td>\n",
       "      <td>11865403</td>\n",
       "    </tr>\n",
       "    <tr>\n",
       "      <th>2049</th>\n",
       "      <td>CEL0015</td>\n",
       "      <td>Celly fur-lined Powerbank battery 4000mAh Black</td>\n",
       "      <td>Leather-wrapped External Battery 4000mAh for i...</td>\n",
       "      <td>NaN</td>\n",
       "      <td>239.895</td>\n",
       "      <td>0</td>\n",
       "      <td>1515</td>\n",
       "    </tr>\n",
       "    <tr>\n",
       "      <th>2051</th>\n",
       "      <td>CEL0018</td>\n",
       "      <td>Celly Wallet Leather Case cover Black iPhone 6</td>\n",
       "      <td>Card case with transparent protective cover fo...</td>\n",
       "      <td>NaN</td>\n",
       "      <td>294.877</td>\n",
       "      <td>0</td>\n",
       "      <td>11865403</td>\n",
       "    </tr>\n",
       "    <tr>\n",
       "      <th>2052</th>\n",
       "      <td>CEL0023</td>\n",
       "      <td>Celly Ambo Luxury Leather Case + Case Gold iPh...</td>\n",
       "      <td>Cover and housing together with magnet for iPh...</td>\n",
       "      <td>NaN</td>\n",
       "      <td>329.894</td>\n",
       "      <td>0</td>\n",
       "      <td>11865403</td>\n",
       "    </tr>\n",
       "    <tr>\n",
       "      <th>2053</th>\n",
       "      <td>CEL0025</td>\n",
       "      <td>Celly Ambo Luxury Leather Case + Case iPhone 6...</td>\n",
       "      <td>Cover and housing together with magnet for iPh...</td>\n",
       "      <td>NaN</td>\n",
       "      <td>449.878</td>\n",
       "      <td>0</td>\n",
       "      <td>11865403</td>\n",
       "    </tr>\n",
       "    <tr>\n",
       "      <th>8000</th>\n",
       "      <td>APP1197</td>\n",
       "      <td>Apple iMac 21.5 \"Core i5 31 GHz Retina display...</td>\n",
       "      <td>Desktop Apple iMac 21.5 inch i5 31 GHz Retina ...</td>\n",
       "      <td>NaN</td>\n",
       "      <td>1305.59</td>\n",
       "      <td>0</td>\n",
       "      <td>1282</td>\n",
       "    </tr>\n",
       "    <tr>\n",
       "      <th>12052</th>\n",
       "      <td>CEL0028</td>\n",
       "      <td>Celly Swing Arm button selfie with Bluetooth B...</td>\n",
       "      <td>selfie extendable arm for iPhone</td>\n",
       "      <td>NaN</td>\n",
       "      <td>59.895</td>\n",
       "      <td>0</td>\n",
       "      <td>11905404</td>\n",
       "    </tr>\n",
       "    <tr>\n",
       "      <th>12053</th>\n",
       "      <td>CEL0029</td>\n",
       "      <td>Celly extensible arm selfie with Bluetooth but...</td>\n",
       "      <td>selfie extendable arm for iPhone</td>\n",
       "      <td>NaN</td>\n",
       "      <td>69.902</td>\n",
       "      <td>0</td>\n",
       "      <td>5720</td>\n",
       "    </tr>\n",
       "    <tr>\n",
       "      <th>12054</th>\n",
       "      <td>CEL0030</td>\n",
       "      <td>Celly Smart Drive Housing + clip car holder iP...</td>\n",
       "      <td>Magnetic holder for car Compatible iPhone 5 5s...</td>\n",
       "      <td>NaN</td>\n",
       "      <td>89.903</td>\n",
       "      <td>0</td>\n",
       "      <td>5720</td>\n",
       "    </tr>\n",
       "    <tr>\n",
       "      <th>12055</th>\n",
       "      <td>CEL0031</td>\n",
       "      <td>Celly Smart Drive Case + Car clip support iPho...</td>\n",
       "      <td>Magnetic car holder compatible with iPhone 6 / 6S</td>\n",
       "      <td>NaN</td>\n",
       "      <td>149.895</td>\n",
       "      <td>0</td>\n",
       "      <td>5720</td>\n",
       "    </tr>\n",
       "    <tr>\n",
       "      <th>12059</th>\n",
       "      <td>CEL0032</td>\n",
       "      <td>Celly Gost clamp fixing car + Magnetica Black</td>\n",
       "      <td>Magnetic holder for car Compatible with iPhone</td>\n",
       "      <td>NaN</td>\n",
       "      <td>119.899</td>\n",
       "      <td>0</td>\n",
       "      <td>12285400</td>\n",
       "    </tr>\n",
       "    <tr>\n",
       "      <th>12060</th>\n",
       "      <td>CEL0042</td>\n",
       "      <td>Celly iPhone Case Fluor 6s / 6 Black / Transpa...</td>\n",
       "      <td>Protective Case for iPhone 6 and 6s</td>\n",
       "      <td>NaN</td>\n",
       "      <td>99.898</td>\n",
       "      <td>0</td>\n",
       "      <td>11865403</td>\n",
       "    </tr>\n",
       "    <tr>\n",
       "      <th>12061</th>\n",
       "      <td>CEL0043</td>\n",
       "      <td>Celly Fluor Case iPhone 6 / 6S Pink / Transparent</td>\n",
       "      <td>Protective Case for iPhone 6 and 6s</td>\n",
       "      <td>NaN</td>\n",
       "      <td>99.898</td>\n",
       "      <td>0</td>\n",
       "      <td>11865403</td>\n",
       "    </tr>\n",
       "    <tr>\n",
       "      <th>12062</th>\n",
       "      <td>CEL0044</td>\n",
       "      <td>Celly iPhone Case Fluor 6s / 6 Yellow / Transp...</td>\n",
       "      <td>protective case with two colors for iPhone 6 a...</td>\n",
       "      <td>NaN</td>\n",
       "      <td>79.896</td>\n",
       "      <td>1</td>\n",
       "      <td>11865403</td>\n",
       "    </tr>\n",
       "    <tr>\n",
       "      <th>12064</th>\n",
       "      <td>CEL0038</td>\n",
       "      <td>Celly Frost Cover for iPhone 6 / 6S Rosa</td>\n",
       "      <td>Ultra Thin Case for iPhone 6 and 6s</td>\n",
       "      <td>NaN</td>\n",
       "      <td>89.903</td>\n",
       "      <td>0</td>\n",
       "      <td>11865403</td>\n",
       "    </tr>\n",
       "    <tr>\n",
       "      <th>12067</th>\n",
       "      <td>CEL0033</td>\n",
       "      <td>Celly Waterproof iPad Case / Air / Pro 97 \"Tra...</td>\n",
       "      <td>waterproof protective case for iPad bag format...</td>\n",
       "      <td>NaN</td>\n",
       "      <td>149.895</td>\n",
       "      <td>0</td>\n",
       "      <td>12635403</td>\n",
       "    </tr>\n",
       "    <tr>\n",
       "      <th>12068</th>\n",
       "      <td>CEL0034</td>\n",
       "      <td>Celly Ambo cover with lid iPhone 6 / 6S Plus B...</td>\n",
       "      <td>Imiatación cover skin with removable lid for i...</td>\n",
       "      <td>NaN</td>\n",
       "      <td>199.904</td>\n",
       "      <td>0</td>\n",
       "      <td>11865403</td>\n",
       "    </tr>\n",
       "    <tr>\n",
       "      <th>12069</th>\n",
       "      <td>CEL0035</td>\n",
       "      <td>Celly Ambo cover with lid iPhone 6 / 6S Plus B...</td>\n",
       "      <td>Imiatación cover skin with removable lid for i...</td>\n",
       "      <td>NaN</td>\n",
       "      <td>199.904</td>\n",
       "      <td>0</td>\n",
       "      <td>11865403</td>\n",
       "    </tr>\n",
       "    <tr>\n",
       "      <th>12070</th>\n",
       "      <td>CEL0036</td>\n",
       "      <td>Celly Adapter Micro USB connector to Lightning...</td>\n",
       "      <td>Micro USB adapter cable connection Lightning</td>\n",
       "      <td>NaN</td>\n",
       "      <td>89.903</td>\n",
       "      <td>1</td>\n",
       "      <td>14365395</td>\n",
       "    </tr>\n",
       "    <tr>\n",
       "      <th>12071</th>\n",
       "      <td>CEL0051</td>\n",
       "      <td>Celly 4000mAh Battery Power Bank Aluminum Dorado</td>\n",
       "      <td>external battery capacity 4000mAh output volta...</td>\n",
       "      <td>NaN</td>\n",
       "      <td>129.894</td>\n",
       "      <td>0</td>\n",
       "      <td>1515</td>\n",
       "    </tr>\n",
       "    <tr>\n",
       "      <th>12072</th>\n",
       "      <td>CEL0052</td>\n",
       "      <td>Celly 4000mAh Battery Power Bank Aluminum Silver</td>\n",
       "      <td>external battery capacity 4000mAh output volta...</td>\n",
       "      <td>NaN</td>\n",
       "      <td>199.892</td>\n",
       "      <td>0</td>\n",
       "      <td>1515</td>\n",
       "    </tr>\n",
       "    <tr>\n",
       "      <th>12073</th>\n",
       "      <td>CEL0053</td>\n",
       "      <td>Celly IceCube Case iPhone 6 / 6S Black</td>\n",
       "      <td>Anti-shock Case for iPhone 6 / 6S</td>\n",
       "      <td>NaN</td>\n",
       "      <td>169.884</td>\n",
       "      <td>0</td>\n",
       "      <td>11865403</td>\n",
       "    </tr>\n",
       "    <tr>\n",
       "      <th>12074</th>\n",
       "      <td>CEL0054</td>\n",
       "      <td>Celly IceCube Case iPhone 6 / 6S Rosa</td>\n",
       "      <td>Anti-shock Case for iPhone 6 / 6S</td>\n",
       "      <td>NaN</td>\n",
       "      <td>99.898</td>\n",
       "      <td>0</td>\n",
       "      <td>11865403</td>\n",
       "    </tr>\n",
       "    <tr>\n",
       "      <th>12075</th>\n",
       "      <td>CEL0055</td>\n",
       "      <td>Celly IceCube Case iPhone 6 / 6S White</td>\n",
       "      <td>Anti-shock Case for iPhone 6 / 6S</td>\n",
       "      <td>NaN</td>\n",
       "      <td>119.899</td>\n",
       "      <td>0</td>\n",
       "      <td>11865403</td>\n",
       "    </tr>\n",
       "    <tr>\n",
       "      <th>12076</th>\n",
       "      <td>CEL0056</td>\n",
       "      <td>IceCube Celly iPhone Case 6 / 6s Amarillo</td>\n",
       "      <td>Anti-shock Case for iPhone 6 / 6S</td>\n",
       "      <td>NaN</td>\n",
       "      <td>119.899</td>\n",
       "      <td>0</td>\n",
       "      <td>11865403</td>\n",
       "    </tr>\n",
       "    <tr>\n",
       "      <th>12077</th>\n",
       "      <td>CEL0057</td>\n",
       "      <td>Celly IceCube Case iPhone 6 / 6S Plus Black</td>\n",
       "      <td>Anti-shock Case for iPhone 6 / 6S Plus</td>\n",
       "      <td>NaN</td>\n",
       "      <td>169.896</td>\n",
       "      <td>0</td>\n",
       "      <td>5403</td>\n",
       "    </tr>\n",
       "    <tr>\n",
       "      <th>12078</th>\n",
       "      <td>CEL0058</td>\n",
       "      <td>Celly IceCube Case iPhone 6 / 6S Plus Rosa</td>\n",
       "      <td>Anti-shock Case for iPhone 6 / 6S Plus</td>\n",
       "      <td>NaN</td>\n",
       "      <td>99.898</td>\n",
       "      <td>0</td>\n",
       "      <td>11865403</td>\n",
       "    </tr>\n",
       "    <tr>\n",
       "      <th>12079</th>\n",
       "      <td>CEL0059</td>\n",
       "      <td>Celly IceCube Case iPhone 6 / 6S Plus White</td>\n",
       "      <td>Anti-shock Case for iPhone 6 / 6S Plus</td>\n",
       "      <td>NaN</td>\n",
       "      <td>119.899</td>\n",
       "      <td>0</td>\n",
       "      <td>11865403</td>\n",
       "    </tr>\n",
       "    <tr>\n",
       "      <th>12080</th>\n",
       "      <td>CEL0060</td>\n",
       "      <td>Celly IceCube Case iPhone 6 / 6S Plus Amarillo</td>\n",
       "      <td>Anti-shock Case for iPhone 6 / 6S Plus</td>\n",
       "      <td>NaN</td>\n",
       "      <td>169.896</td>\n",
       "      <td>0</td>\n",
       "      <td>11865403</td>\n",
       "    </tr>\n",
       "    <tr>\n",
       "      <th>12088</th>\n",
       "      <td>CEL0040</td>\n",
       "      <td>Celly Frost Cover for iPhone 6 / 6S Plus White</td>\n",
       "      <td>Ultra Thin Case for iPhone 6 and 6s Plus</td>\n",
       "      <td>NaN</td>\n",
       "      <td>89.903</td>\n",
       "      <td>0</td>\n",
       "      <td>11865403</td>\n",
       "    </tr>\n",
       "    <tr>\n",
       "      <th>12089</th>\n",
       "      <td>CEL0041</td>\n",
       "      <td>Celly iPhone 6S Plus Frost Case Black</td>\n",
       "      <td>Ultra Thin Case for iPhone 6 and 6s</td>\n",
       "      <td>NaN</td>\n",
       "      <td>89.903</td>\n",
       "      <td>0</td>\n",
       "      <td>11865403</td>\n",
       "    </tr>\n",
       "    <tr>\n",
       "      <th>12092</th>\n",
       "      <td>CEL0045</td>\n",
       "      <td>Laser Case Celly iPhone 6 / 6S Dark Silver</td>\n",
       "      <td>Protective Case for iPhone 6 and 6s</td>\n",
       "      <td>NaN</td>\n",
       "      <td>149.895</td>\n",
       "      <td>0</td>\n",
       "      <td>11865403</td>\n",
       "    </tr>\n",
       "    <tr>\n",
       "      <th>12093</th>\n",
       "      <td>CEL0046</td>\n",
       "      <td>Laser Case Celly iPhone 6 / 6S Clear Silver</td>\n",
       "      <td>Protective Case for iPhone 6 and 6s</td>\n",
       "      <td>NaN</td>\n",
       "      <td>149.895</td>\n",
       "      <td>0</td>\n",
       "      <td>11865403</td>\n",
       "    </tr>\n",
       "    <tr>\n",
       "      <th>12095</th>\n",
       "      <td>CEL0047</td>\n",
       "      <td>Laser Case Celly iPhone 6 / 6S Dorado</td>\n",
       "      <td>Protective Case for iPhone 6 and 6s</td>\n",
       "      <td>NaN</td>\n",
       "      <td>149.895</td>\n",
       "      <td>0</td>\n",
       "      <td>11865403</td>\n",
       "    </tr>\n",
       "    <tr>\n",
       "      <th>12096</th>\n",
       "      <td>CEL0048</td>\n",
       "      <td>Laser Case Celly iPhone 6 / 6S Rosa</td>\n",
       "      <td>Protective Case for iPhone 6 and 6s</td>\n",
       "      <td>NaN</td>\n",
       "      <td>149.895</td>\n",
       "      <td>0</td>\n",
       "      <td>11865403</td>\n",
       "    </tr>\n",
       "    <tr>\n",
       "      <th>12097</th>\n",
       "      <td>CEL0049</td>\n",
       "      <td>Laser Case Celly iPhone 6 / 6S Plus Dorado</td>\n",
       "      <td>Protective Case for iPhone 6 Plus and 6s Plus</td>\n",
       "      <td>NaN</td>\n",
       "      <td>149.895</td>\n",
       "      <td>0</td>\n",
       "      <td>11865403</td>\n",
       "    </tr>\n",
       "    <tr>\n",
       "      <th>12098</th>\n",
       "      <td>CEL0050</td>\n",
       "      <td>Laser Case Celly iPhone 6 / 6S Plus Silver Clear</td>\n",
       "      <td>Protective Case for iPhone 6 Plus and 6s Plus</td>\n",
       "      <td>NaN</td>\n",
       "      <td>149.895</td>\n",
       "      <td>0</td>\n",
       "      <td>11865403</td>\n",
       "    </tr>\n",
       "    <tr>\n",
       "      <th>12100</th>\n",
       "      <td>CEL0037</td>\n",
       "      <td>Celly Frost Cover for iPhone 6 / 6S Black</td>\n",
       "      <td>Ultra Thin Case for iPhone 6 and 6s</td>\n",
       "      <td>NaN</td>\n",
       "      <td>99.898</td>\n",
       "      <td>0</td>\n",
       "      <td>11865403</td>\n",
       "    </tr>\n",
       "    <tr>\n",
       "      <th>12238</th>\n",
       "      <td>CEL0027</td>\n",
       "      <td>Celly Frost Cover for iPhone 6 / 6S White</td>\n",
       "      <td>Flexible plastic shell for iPhone 6 / 6S</td>\n",
       "      <td>NaN</td>\n",
       "      <td>89.903</td>\n",
       "      <td>0</td>\n",
       "      <td>11865403</td>\n",
       "    </tr>\n",
       "    <tr>\n",
       "      <th>12242</th>\n",
       "      <td>CEL0039</td>\n",
       "      <td>Celly Frost Cover for iPhone 6 / 6S Amarillo</td>\n",
       "      <td>Ultra Thin Case for iPhone 6 and 6s</td>\n",
       "      <td>NaN</td>\n",
       "      <td>89.903</td>\n",
       "      <td>0</td>\n",
       "      <td>11865403</td>\n",
       "    </tr>\n",
       "    <tr>\n",
       "      <th>12947</th>\n",
       "      <td>CEL0034-A</td>\n",
       "      <td>(Open) Celly iPhone 6S Plus Housing Frost White</td>\n",
       "      <td>Ultra Thin Case for iPhone 6 and 6s Plus</td>\n",
       "      <td>NaN</td>\n",
       "      <td>74.893</td>\n",
       "      <td>0</td>\n",
       "      <td>1298</td>\n",
       "    </tr>\n",
       "  </tbody>\n",
       "</table>\n",
       "</div>"
      ],
      "text/plain": [
       "             sku                                               name  \\\n",
       "34       TWS0019  Twelve South MagicWand support Apple Magic Tra...   \n",
       "1900     AII0008           Aiino Case MacBook Air 11 '' Transparent   \n",
       "2039     CEL0020  Celly Ambo Luxury Leather Case + iPhone 6 Case...   \n",
       "2042     CEL0007  Celly Wallet Case with removable cover Black i...   \n",
       "2043     CEL0012            Celly Silicone Hard Shell iPhone 6 Blue   \n",
       "2044     CEL0014        Celly Silicone Hard Shell iPhone 6 Amarillo   \n",
       "2049     CEL0015    Celly fur-lined Powerbank battery 4000mAh Black   \n",
       "2051     CEL0018     Celly Wallet Leather Case cover Black iPhone 6   \n",
       "2052     CEL0023  Celly Ambo Luxury Leather Case + Case Gold iPh...   \n",
       "2053     CEL0025  Celly Ambo Luxury Leather Case + Case iPhone 6...   \n",
       "8000     APP1197  Apple iMac 21.5 \"Core i5 31 GHz Retina display...   \n",
       "12052    CEL0028  Celly Swing Arm button selfie with Bluetooth B...   \n",
       "12053    CEL0029  Celly extensible arm selfie with Bluetooth but...   \n",
       "12054    CEL0030  Celly Smart Drive Housing + clip car holder iP...   \n",
       "12055    CEL0031  Celly Smart Drive Case + Car clip support iPho...   \n",
       "12059    CEL0032      Celly Gost clamp fixing car + Magnetica Black   \n",
       "12060    CEL0042  Celly iPhone Case Fluor 6s / 6 Black / Transpa...   \n",
       "12061    CEL0043  Celly Fluor Case iPhone 6 / 6S Pink / Transparent   \n",
       "12062    CEL0044  Celly iPhone Case Fluor 6s / 6 Yellow / Transp...   \n",
       "12064    CEL0038           Celly Frost Cover for iPhone 6 / 6S Rosa   \n",
       "12067    CEL0033  Celly Waterproof iPad Case / Air / Pro 97 \"Tra...   \n",
       "12068    CEL0034  Celly Ambo cover with lid iPhone 6 / 6S Plus B...   \n",
       "12069    CEL0035  Celly Ambo cover with lid iPhone 6 / 6S Plus B...   \n",
       "12070    CEL0036  Celly Adapter Micro USB connector to Lightning...   \n",
       "12071    CEL0051   Celly 4000mAh Battery Power Bank Aluminum Dorado   \n",
       "12072    CEL0052   Celly 4000mAh Battery Power Bank Aluminum Silver   \n",
       "12073    CEL0053             Celly IceCube Case iPhone 6 / 6S Black   \n",
       "12074    CEL0054              Celly IceCube Case iPhone 6 / 6S Rosa   \n",
       "12075    CEL0055             Celly IceCube Case iPhone 6 / 6S White   \n",
       "12076    CEL0056          IceCube Celly iPhone Case 6 / 6s Amarillo   \n",
       "12077    CEL0057        Celly IceCube Case iPhone 6 / 6S Plus Black   \n",
       "12078    CEL0058         Celly IceCube Case iPhone 6 / 6S Plus Rosa   \n",
       "12079    CEL0059        Celly IceCube Case iPhone 6 / 6S Plus White   \n",
       "12080    CEL0060     Celly IceCube Case iPhone 6 / 6S Plus Amarillo   \n",
       "12088    CEL0040     Celly Frost Cover for iPhone 6 / 6S Plus White   \n",
       "12089    CEL0041              Celly iPhone 6S Plus Frost Case Black   \n",
       "12092    CEL0045         Laser Case Celly iPhone 6 / 6S Dark Silver   \n",
       "12093    CEL0046        Laser Case Celly iPhone 6 / 6S Clear Silver   \n",
       "12095    CEL0047              Laser Case Celly iPhone 6 / 6S Dorado   \n",
       "12096    CEL0048                Laser Case Celly iPhone 6 / 6S Rosa   \n",
       "12097    CEL0049         Laser Case Celly iPhone 6 / 6S Plus Dorado   \n",
       "12098    CEL0050   Laser Case Celly iPhone 6 / 6S Plus Silver Clear   \n",
       "12100    CEL0037          Celly Frost Cover for iPhone 6 / 6S Black   \n",
       "12238    CEL0027          Celly Frost Cover for iPhone 6 / 6S White   \n",
       "12242    CEL0039       Celly Frost Cover for iPhone 6 / 6S Amarillo   \n",
       "12947  CEL0034-A    (Open) Celly iPhone 6S Plus Housing Frost White   \n",
       "\n",
       "                                                    desc price promo_price  \\\n",
       "34     MagicWand for wireless keyboard and Magic Trac...   NaN     299.899   \n",
       "1900       MacBook Air 11-inch casing with matte finish.   NaN       22.99   \n",
       "2039   Cover and housing together with magnet for iPh...   NaN     399.905   \n",
       "2042              Case Book for iPhone 6 card case type.   NaN     128.998   \n",
       "2043                       Hard Shell Silicone iPhone 6.   NaN        4.99   \n",
       "2044                       Hard Shell Silicone iPhone 6.   NaN      59.895   \n",
       "2049   Leather-wrapped External Battery 4000mAh for i...   NaN     239.895   \n",
       "2051   Card case with transparent protective cover fo...   NaN     294.877   \n",
       "2052   Cover and housing together with magnet for iPh...   NaN     329.894   \n",
       "2053   Cover and housing together with magnet for iPh...   NaN     449.878   \n",
       "8000   Desktop Apple iMac 21.5 inch i5 31 GHz Retina ...   NaN     1305.59   \n",
       "12052                   selfie extendable arm for iPhone   NaN      59.895   \n",
       "12053                   selfie extendable arm for iPhone   NaN      69.902   \n",
       "12054  Magnetic holder for car Compatible iPhone 5 5s...   NaN      89.903   \n",
       "12055  Magnetic car holder compatible with iPhone 6 / 6S   NaN     149.895   \n",
       "12059     Magnetic holder for car Compatible with iPhone   NaN     119.899   \n",
       "12060                Protective Case for iPhone 6 and 6s   NaN      99.898   \n",
       "12061                Protective Case for iPhone 6 and 6s   NaN      99.898   \n",
       "12062  protective case with two colors for iPhone 6 a...   NaN      79.896   \n",
       "12064                Ultra Thin Case for iPhone 6 and 6s   NaN      89.903   \n",
       "12067  waterproof protective case for iPad bag format...   NaN     149.895   \n",
       "12068  Imiatación cover skin with removable lid for i...   NaN     199.904   \n",
       "12069  Imiatación cover skin with removable lid for i...   NaN     199.904   \n",
       "12070       Micro USB adapter cable connection Lightning   NaN      89.903   \n",
       "12071  external battery capacity 4000mAh output volta...   NaN     129.894   \n",
       "12072  external battery capacity 4000mAh output volta...   NaN     199.892   \n",
       "12073                  Anti-shock Case for iPhone 6 / 6S   NaN     169.884   \n",
       "12074                  Anti-shock Case for iPhone 6 / 6S   NaN      99.898   \n",
       "12075                  Anti-shock Case for iPhone 6 / 6S   NaN     119.899   \n",
       "12076                  Anti-shock Case for iPhone 6 / 6S   NaN     119.899   \n",
       "12077             Anti-shock Case for iPhone 6 / 6S Plus   NaN     169.896   \n",
       "12078             Anti-shock Case for iPhone 6 / 6S Plus   NaN      99.898   \n",
       "12079             Anti-shock Case for iPhone 6 / 6S Plus   NaN     119.899   \n",
       "12080             Anti-shock Case for iPhone 6 / 6S Plus   NaN     169.896   \n",
       "12088           Ultra Thin Case for iPhone 6 and 6s Plus   NaN      89.903   \n",
       "12089                Ultra Thin Case for iPhone 6 and 6s   NaN      89.903   \n",
       "12092                Protective Case for iPhone 6 and 6s   NaN     149.895   \n",
       "12093                Protective Case for iPhone 6 and 6s   NaN     149.895   \n",
       "12095                Protective Case for iPhone 6 and 6s   NaN     149.895   \n",
       "12096                Protective Case for iPhone 6 and 6s   NaN     149.895   \n",
       "12097      Protective Case for iPhone 6 Plus and 6s Plus   NaN     149.895   \n",
       "12098      Protective Case for iPhone 6 Plus and 6s Plus   NaN     149.895   \n",
       "12100                Ultra Thin Case for iPhone 6 and 6s   NaN      99.898   \n",
       "12238           Flexible plastic shell for iPhone 6 / 6S   NaN      89.903   \n",
       "12242                Ultra Thin Case for iPhone 6 and 6s   NaN      89.903   \n",
       "12947           Ultra Thin Case for iPhone 6 and 6s Plus   NaN      74.893   \n",
       "\n",
       "       in_stock      type  \n",
       "34            0      8696  \n",
       "1900          0  13835403  \n",
       "2039          0  11865403  \n",
       "2042          0  11865403  \n",
       "2043          0  11865403  \n",
       "2044          0  11865403  \n",
       "2049          0      1515  \n",
       "2051          0  11865403  \n",
       "2052          0  11865403  \n",
       "2053          0  11865403  \n",
       "8000          0      1282  \n",
       "12052         0  11905404  \n",
       "12053         0      5720  \n",
       "12054         0      5720  \n",
       "12055         0      5720  \n",
       "12059         0  12285400  \n",
       "12060         0  11865403  \n",
       "12061         0  11865403  \n",
       "12062         1  11865403  \n",
       "12064         0  11865403  \n",
       "12067         0  12635403  \n",
       "12068         0  11865403  \n",
       "12069         0  11865403  \n",
       "12070         1  14365395  \n",
       "12071         0      1515  \n",
       "12072         0      1515  \n",
       "12073         0  11865403  \n",
       "12074         0  11865403  \n",
       "12075         0  11865403  \n",
       "12076         0  11865403  \n",
       "12077         0      5403  \n",
       "12078         0  11865403  \n",
       "12079         0  11865403  \n",
       "12080         0  11865403  \n",
       "12088         0  11865403  \n",
       "12089         0  11865403  \n",
       "12092         0  11865403  \n",
       "12093         0  11865403  \n",
       "12095         0  11865403  \n",
       "12096         0  11865403  \n",
       "12097         0  11865403  \n",
       "12098         0  11865403  \n",
       "12100         0  11865403  \n",
       "12238         0  11865403  \n",
       "12242         0  11865403  \n",
       "12947         0      1298  "
      ]
     },
     "execution_count": 123,
     "metadata": {},
     "output_type": "execute_result"
    }
   ],
   "source": [
    "# Locating missing values in price column of products_df\n",
    "products_df.loc[products_df['price'].isna(), :]"
   ]
  },
  {
   "cell_type": "code",
   "execution_count": 9,
   "metadata": {},
   "outputs": [],
   "source": [
    "# Removing missing price value entries\n",
    "products_df = products_df.dropna(subset=['price'])"
   ]
  },
  {
   "cell_type": "code",
   "execution_count": null,
   "metadata": {},
   "outputs": [],
   "source": [
    "# Locating missing values in type column of products_df\n",
    "products_df.loc[products_df['type'].isna(), :]"
   ]
  },
  {
   "cell_type": "code",
   "execution_count": 10,
   "metadata": {},
   "outputs": [],
   "source": [
    "# Removing missing type value entries (important for categorization)\n",
    "products_df = products_df.dropna(subset=['type'])"
   ]
  },
  {
   "cell_type": "markdown",
   "metadata": {},
   "source": [
    "### 3.4 Investigating and handling corrupt price values"
   ]
  },
  {
   "cell_type": "code",
   "execution_count": 51,
   "metadata": {},
   "outputs": [
    {
     "data": {
      "application/vnd.microsoft.datawrangler.viewer.v0+json": {
       "columns": [
        {
         "name": "unit_price",
         "rawType": "object",
         "type": "string"
        },
        {
         "name": "count",
         "rawType": "int64",
         "type": "integer"
        }
       ],
       "ref": "e73ddd30-4250-4146-9ca2-3f58c6a2af2d",
       "rows": [
        [
         "19.99",
         "8132"
        ],
        [
         "130.00",
         "5150"
        ],
        [
         "69.99",
         "5147"
        ],
        [
         "29.99",
         "5145"
        ],
        [
         "64.99",
         "4633"
        ],
        [
         "22.99",
         "4159"
        ],
        [
         "9.99",
         "4025"
        ],
        [
         "39.99",
         "3773"
        ],
        [
         "79.99",
         "3705"
        ],
        [
         "49.99",
         "3681"
        ],
        [
         "14.99",
         "3082"
        ],
        [
         "59.99",
         "3064"
        ],
        [
         "24.99",
         "2919"
        ],
        [
         "16.99",
         "2764"
        ],
        [
         "26.99",
         "2130"
        ],
        [
         "34.99",
         "2081"
        ],
        [
         "32.99",
         "2057"
        ],
        [
         "99.99",
         "1942"
        ],
        [
         "12.99",
         "1859"
        ],
        [
         "109.00",
         "1837"
        ],
        [
         "138.00",
         "1825"
        ],
        [
         "56.00",
         "1712"
        ],
        [
         "199.00",
         "1640"
        ],
        [
         "7.99",
         "1605"
        ],
        [
         "8.99",
         "1538"
        ],
        [
         "17.99",
         "1509"
        ],
        [
         "164.99",
         "1414"
        ],
        [
         "35.99",
         "1408"
        ],
        [
         "89.99",
         "1366"
        ],
        [
         "94.99",
         "1266"
        ],
        [
         "18.99",
         "1264"
        ],
        [
         "44.99",
         "1252"
        ],
        [
         "11.99",
         "1199"
        ],
        [
         "36.99",
         "1189"
        ],
        [
         "15.99",
         "1168"
        ],
        [
         "6.99",
         "1083"
        ],
        [
         "74.99",
         "1081"
        ],
        [
         "68.99",
         "1049"
        ],
        [
         "82.99",
         "1030"
        ],
        [
         "229.99",
         "1009"
        ],
        [
         "1.159.00",
         "1006"
        ],
        [
         "149.99",
         "970"
        ],
        [
         "359.00",
         "962"
        ],
        [
         "159.00",
         "959"
        ],
        [
         "55.99",
         "954"
        ],
        [
         "13.99",
         "948"
        ],
        [
         "54.99",
         "933"
        ],
        [
         "51.00",
         "931"
        ],
        [
         "109.99",
         "917"
        ],
        [
         "10.99",
         "897"
        ]
       ],
       "shape": {
        "columns": 1,
        "rows": 11329
       }
      },
      "text/plain": [
       "unit_price\n",
       "19.99     8132\n",
       "130.00    5150\n",
       "69.99     5147\n",
       "29.99     5145\n",
       "64.99     4633\n",
       "          ... \n",
       "500.00       1\n",
       "67.65        1\n",
       "377.03       1\n",
       "558.59       1\n",
       "48.68        1\n",
       "Name: count, Length: 11329, dtype: int64"
      ]
     },
     "execution_count": 51,
     "metadata": {},
     "output_type": "execute_result"
    }
   ],
   "source": [
    "orderlines_df['unit_price'].value_counts()\n",
    "# unit prices are inconsistent by having more than one dot for decimal places, "
   ]
  },
  {
   "cell_type": "code",
   "execution_count": 52,
   "metadata": {},
   "outputs": [
    {
     "data": {
      "application/vnd.microsoft.datawrangler.viewer.v0+json": {
       "columns": [
        {
         "name": "unit_price",
         "rawType": "int64",
         "type": "integer"
        },
        {
         "name": "count",
         "rawType": "int64",
         "type": "integer"
        }
       ],
       "ref": "4725de80-4907-4fda-92ea-3fa6e638e5cc",
       "rows": [
        [
         "1",
         "257814"
        ],
        [
         "2",
         "36169"
        ]
       ],
       "shape": {
        "columns": 1,
        "rows": 2
       }
      },
      "text/plain": [
       "unit_price\n",
       "1    257814\n",
       "2     36169\n",
       "Name: count, dtype: int64"
      ]
     },
     "execution_count": 52,
     "metadata": {},
     "output_type": "execute_result"
    }
   ],
   "source": [
    "# Count the number of decimal points in the unit_price\n",
    "orderlines_df['unit_price'].str.count(r\"\\.\").value_counts()"
   ]
  },
  {
   "cell_type": "code",
   "execution_count": 11,
   "metadata": {},
   "outputs": [],
   "source": [
    "# Handling inconsistencies\n",
    "# Boolean mask to find the orders that contain a price with multiple decimal points\n",
    "multiple_decimal_mask = orderlines_df['unit_price'].str.count(r'\\.') > 1\n",
    "\n",
    "# Apply the boolean mask to the orderlines DataFrame. to see what unit prices are caught\n",
    "# orderlines_df.loc[multiple_decimal_mask, \"unit_price\"]\n",
    "\n",
    "# Remove the rows with corrupted order_ids from the orderlines_df\n",
    "orderlines_df = orderlines_df.loc[~multiple_decimal_mask, :]\n",
    "\n",
    "# Convert to float data type\n",
    "orderlines_df[\"unit_price\"] = pd.to_numeric(orderlines_df[\"unit_price\"])"
   ]
  },
  {
   "cell_type": "code",
   "execution_count": 127,
   "metadata": {},
   "outputs": [
    {
     "data": {
      "application/vnd.microsoft.datawrangler.viewer.v0+json": {
       "columns": [
        {
         "name": "price",
         "rawType": "int64",
         "type": "integer"
        },
        {
         "name": "count",
         "rawType": "int64",
         "type": "integer"
        }
       ],
       "ref": "e8145c02-8d97-4bd5-acd2-edaa64afdefc",
       "rows": [
        [
         "1",
         "6936"
        ],
        [
         "0",
         "3174"
        ],
        [
         "2",
         "374"
        ]
       ],
       "shape": {
        "columns": 1,
        "rows": 3
       }
      },
      "text/plain": [
       "price\n",
       "1    6936\n",
       "0    3174\n",
       "2     374\n",
       "Name: count, dtype: int64"
      ]
     },
     "execution_count": 127,
     "metadata": {},
     "output_type": "execute_result"
    }
   ],
   "source": [
    "products_df['price'].str.count(r\"\\.\").value_counts()"
   ]
  },
  {
   "cell_type": "code",
   "execution_count": 12,
   "metadata": {},
   "outputs": [],
   "source": [
    "# Boolean mask to select indexes of prices that contain multiple decimal points\n",
    "multiple_decimal_mask = products_df['price'].str.count(r'\\.') > 1\n",
    "\n",
    "# Apply the boolean mask to the prices DataFrame to see which prizes are caught\n",
    "# products_df.loc[multiple_decimal_mask, \"price\"]\n",
    "\n",
    "# Apply the boolean mask to the DataFrame. This way we can remove multiple occurrences of prizes\n",
    "products_df = products_df.loc[~multiple_decimal_mask, :]"
   ]
  },
  {
   "cell_type": "code",
   "execution_count": 133,
   "metadata": {},
   "outputs": [
    {
     "data": {
      "text/plain": [
       "164"
      ]
     },
     "execution_count": 133,
     "metadata": {},
     "output_type": "execute_result"
    }
   ],
   "source": [
    "# Apart from that price and promo_price columns have entries ending on three numbers after a dot\n",
    "price_problems_number = products_df.loc[products_df.price.astype(str).str.contains(r\"\\d+\\.\\d{3,}\"), :].shape[0]\n",
    "price_problems_number"
   ]
  },
  {
   "cell_type": "code",
   "execution_count": 132,
   "metadata": {},
   "outputs": [
    {
     "name": "stdout",
     "output_type": "stream",
     "text": [
      "The column price has in total 164 wrong values. This is 1.62% of the rows of the DataFrame\n"
     ]
    }
   ],
   "source": [
    "print(f\"The column price has in total {price_problems_number} wrong values. This is {round(((price_problems_number / products_df.shape[0]) * 100), 2)}% of the rows of the DataFrame\")"
   ]
  },
  {
   "cell_type": "code",
   "execution_count": null,
   "metadata": {},
   "outputs": [],
   "source": [
    "# Therefore we will remove entries having those properties\n",
    "three_decimal_mask = products_df['price'].str.contains(r\"\\d+\\.\\d{3,}\")\n",
    "\n",
    "# Apply the boolean mask to the DataFrame\n",
    "products_df = products_df.loc[~three_decimal_mask, :]\n",
    "\n",
    "# Convert price to numeric data type\n",
    "products_df[\"price\"] = pd.to_numeric(products_df[\"price\"])"
   ]
  },
  {
   "cell_type": "code",
   "execution_count": 139,
   "metadata": {},
   "outputs": [
    {
     "name": "stdout",
     "output_type": "stream",
     "text": [
      "The column price has in total 9188 wrong values. This is 92.38% of the rows of the DataFrame\n"
     ]
    }
   ],
   "source": [
    "# Checking on percentage of corrupted promo_price entries\n",
    "promo_price_problems_number = products_df.loc[products_df.promo_price.astype(str).str.contains(r\"\\d+\\.\\d{3,}\"), :].shape[0]\n",
    "print(f\"The column price has in total {promo_price_problems_number} wrong values. This is {round(((promo_price_problems_number / products_df.shape[0]) * 100), 2)}% of the rows of the DataFrame\")"
   ]
  },
  {
   "cell_type": "code",
   "execution_count": 15,
   "metadata": {},
   "outputs": [],
   "source": [
    "# Drop promo_price column as it is unusable at 92% corruption rate\n",
    "products_df.drop(columns='promo_price', inplace=True)"
   ]
  },
  {
   "cell_type": "code",
   "execution_count": 141,
   "metadata": {},
   "outputs": [
    {
     "data": {
      "text/plain": [
       "True"
      ]
     },
     "execution_count": 141,
     "metadata": {},
     "output_type": "execute_result"
    }
   ],
   "source": [
    "# Checking for Primary Key property of 'sku' column in products_df by comparing size\n",
    "products_df['sku'].nunique() == products_df.shape[0]"
   ]
  },
  {
   "cell_type": "code",
   "execution_count": 16,
   "metadata": {},
   "outputs": [],
   "source": [
    "# Renaming a column for consistency of naming patterns\n",
    "orderlines_df = orderlines_df.rename(columns = {'id_order': 'order_id'})"
   ]
  },
  {
   "cell_type": "code",
   "execution_count": null,
   "metadata": {},
   "outputs": [],
   "source": [
    "# Extend the products_df with the manufacturer handle consisting of the first letters of the sku column to later join brands_df\n",
    "products_df['man'] = products_df['sku'].str[:3]"
   ]
  },
  {
   "cell_type": "code",
   "execution_count": null,
   "metadata": {},
   "outputs": [
    {
     "name": "stdout",
     "output_type": "stream",
     "text": [
      "<class 'pandas.core.frame.DataFrame'>\n",
      "Index: 9946 entries, 0 to 19325\n",
      "Data columns (total 7 columns):\n",
      " #   Column    Non-Null Count  Dtype  \n",
      "---  ------    --------------  -----  \n",
      " 0   sku       9946 non-null   object \n",
      " 1   name      9946 non-null   object \n",
      " 2   desc      9946 non-null   object \n",
      " 3   price     9946 non-null   float64\n",
      " 4   in_stock  9946 non-null   int64  \n",
      " 5   type      9946 non-null   object \n",
      " 6   man       9946 non-null   object \n",
      "dtypes: float64(1), int64(1), object(5)\n",
      "memory usage: 621.6+ KB\n"
     ]
    }
   ],
   "source": [
    "# Overview of the remainder of the products dataframe - at first glance no glaring technical issues remain\n",
    "products_df.info()"
   ]
  },
  {
   "cell_type": "markdown",
   "metadata": {},
   "source": [
    "### 3.5 Further cleaning within more complex relationships of dataset\n",
    "- limiting orders to completed ones\n",
    "- keeping only order_id's not filtered\n",
    "- handling orders that include discarded products"
   ]
  },
  {
   "cell_type": "code",
   "execution_count": 18,
   "metadata": {},
   "outputs": [
    {
     "data": {
      "application/vnd.microsoft.datawrangler.viewer.v0+json": {
       "columns": [
        {
         "name": "state",
         "rawType": "object",
         "type": "string"
        },
        {
         "name": "count",
         "rawType": "int64",
         "type": "integer"
        }
       ],
       "ref": "82015b4c-2959-4eaa-a5df-49804dc45666",
       "rows": [
        [
         "Shopping Basket",
         "117809"
        ],
        [
         "Completed",
         "46605"
        ],
        [
         "Place Order",
         "40883"
        ],
        [
         "Pending",
         "14374"
        ],
        [
         "Cancelled",
         "7233"
        ]
       ],
       "shape": {
        "columns": 1,
        "rows": 5
       }
      },
      "text/plain": [
       "state\n",
       "Shopping Basket    117809\n",
       "Completed           46605\n",
       "Place Order         40883\n",
       "Pending             14374\n",
       "Cancelled            7233\n",
       "Name: count, dtype: int64"
      ]
     },
     "execution_count": 18,
     "metadata": {},
     "output_type": "execute_result"
    }
   ],
   "source": [
    "# Checking order statuses\n",
    "orders_df.state.value_counts()"
   ]
  },
  {
   "cell_type": "code",
   "execution_count": 19,
   "metadata": {},
   "outputs": [],
   "source": [
    "# Only keep completed orders for this analysis\n",
    "orders_df = orders_df.loc[orders_df['state'] == 'Completed', :]"
   ]
  },
  {
   "cell_type": "code",
   "execution_count": 24,
   "metadata": {},
   "outputs": [
    {
     "name": "stdout",
     "output_type": "stream",
     "text": [
      "In orders we can find 46605 unique order ids, in orderlines we can find 186822 unique order ids.\n"
     ]
    }
   ],
   "source": [
    "# Compare the number of unique order_id's in orders and orderlines\n",
    "print(f'In orders we can find {orders_df.order_id.nunique()} unique order ids, in orderlines we can find {orderlines_df.order_id.nunique()} unique order ids.')"
   ]
  },
  {
   "cell_type": "code",
   "execution_count": 28,
   "metadata": {},
   "outputs": [],
   "source": [
    "# Perform inner join on orders and orderlines to get a combined DataFrame\n",
    "orders_orderlines = orders_df.merge(orderlines_df, how=\"inner\", on=\"order_id\")\n",
    "\n",
    "# order_ids that are in both tables\n",
    "order_ids = orders_orderlines[\"order_id\"].unique()\n",
    "\n",
    "# keep those ids in orders\n",
    "orders_df = orders_df.loc[orders_df[\"order_id\"].isin(order_ids), :]\n",
    "\n",
    "# keep those ids in orderlines\n",
    "orderlines_df = orderlines_df.loc[orderlines_df[\"order_id\"].isin(order_ids), :]"
   ]
  },
  {
   "cell_type": "code",
   "execution_count": null,
   "metadata": {},
   "outputs": [
    {
     "data": {
      "text/plain": [
       "True"
      ]
     },
     "execution_count": 32,
     "metadata": {},
     "output_type": "execute_result"
    }
   ],
   "source": [
    "# Checking for same number of unique order_ids in both DataFrames after filtering\n",
    "orders_df[\"order_id\"].nunique() == orderlines_df[\"order_id\"].nunique()"
   ]
  },
  {
   "cell_type": "code",
   "execution_count": 36,
   "metadata": {},
   "outputs": [],
   "source": [
    "# Check for completeness of products in the orderlines\n",
    "orderlines_products = orderlines_df.merge(products_df, how=\"left\", on = \"sku\")[[\"order_id\",\"sku\",\"name\" ]]"
   ]
  },
  {
   "cell_type": "code",
   "execution_count": 37,
   "metadata": {},
   "outputs": [
    {
     "data": {
      "application/vnd.microsoft.datawrangler.viewer.v0+json": {
       "columns": [
        {
         "name": "name",
         "rawType": "bool",
         "type": "boolean"
        },
        {
         "name": "count",
         "rawType": "int64",
         "type": "integer"
        }
       ],
       "ref": "2ce127c9-ae38-47a3-abd5-c3ad99a651d1",
       "rows": [
        [
         "False",
         "57034"
        ],
        [
         "True",
         "1508"
        ]
       ],
       "shape": {
        "columns": 1,
        "rows": 2
       }
      },
      "text/plain": [
       "name\n",
       "False    57034\n",
       "True      1508\n",
       "Name: count, dtype: int64"
      ]
     },
     "execution_count": 37,
     "metadata": {},
     "output_type": "execute_result"
    }
   ],
   "source": [
    "orderlines_products.name.isna().value_counts()"
   ]
  },
  {
   "cell_type": "code",
   "execution_count": 38,
   "metadata": {},
   "outputs": [
    {
     "data": {
      "application/vnd.microsoft.datawrangler.viewer.v0+json": {
       "columns": [
        {
         "name": "index",
         "rawType": "int64",
         "type": "integer"
        },
        {
         "name": "order_id",
         "rawType": "int64",
         "type": "integer"
        },
        {
         "name": "sku",
         "rawType": "object",
         "type": "string"
        },
        {
         "name": "name",
         "rawType": "object",
         "type": "unknown"
        }
       ],
       "ref": "2fbad154-7c17-4ec6-aad2-feb79684ce8f",
       "rows": [
        [
         "25",
         "299638",
         "SYN0127",
         null
        ],
        [
         "43",
         "299706",
         "EVU0007",
         null
        ],
        [
         "46",
         "299712",
         "APP0608",
         null
        ],
        [
         "75",
         "299860",
         "PAC1516",
         null
        ],
        [
         "83",
         "299881",
         "SAN0137",
         null
        ],
        [
         "87",
         "299902",
         "IOT0018",
         null
        ],
        [
         "97",
         "299947",
         "APP1482",
         null
        ],
        [
         "116",
         "300029",
         "SYN0127",
         null
        ],
        [
         "182",
         "300251",
         "APP0608",
         null
        ],
        [
         "197",
         "300283",
         "PAC1400",
         null
        ]
       ],
       "shape": {
        "columns": 3,
        "rows": 10
       }
      },
      "text/html": [
       "<div>\n",
       "<style scoped>\n",
       "    .dataframe tbody tr th:only-of-type {\n",
       "        vertical-align: middle;\n",
       "    }\n",
       "\n",
       "    .dataframe tbody tr th {\n",
       "        vertical-align: top;\n",
       "    }\n",
       "\n",
       "    .dataframe thead th {\n",
       "        text-align: right;\n",
       "    }\n",
       "</style>\n",
       "<table border=\"1\" class=\"dataframe\">\n",
       "  <thead>\n",
       "    <tr style=\"text-align: right;\">\n",
       "      <th></th>\n",
       "      <th>order_id</th>\n",
       "      <th>sku</th>\n",
       "      <th>name</th>\n",
       "    </tr>\n",
       "  </thead>\n",
       "  <tbody>\n",
       "    <tr>\n",
       "      <th>25</th>\n",
       "      <td>299638</td>\n",
       "      <td>SYN0127</td>\n",
       "      <td>NaN</td>\n",
       "    </tr>\n",
       "    <tr>\n",
       "      <th>43</th>\n",
       "      <td>299706</td>\n",
       "      <td>EVU0007</td>\n",
       "      <td>NaN</td>\n",
       "    </tr>\n",
       "    <tr>\n",
       "      <th>46</th>\n",
       "      <td>299712</td>\n",
       "      <td>APP0608</td>\n",
       "      <td>NaN</td>\n",
       "    </tr>\n",
       "    <tr>\n",
       "      <th>75</th>\n",
       "      <td>299860</td>\n",
       "      <td>PAC1516</td>\n",
       "      <td>NaN</td>\n",
       "    </tr>\n",
       "    <tr>\n",
       "      <th>83</th>\n",
       "      <td>299881</td>\n",
       "      <td>SAN0137</td>\n",
       "      <td>NaN</td>\n",
       "    </tr>\n",
       "    <tr>\n",
       "      <th>87</th>\n",
       "      <td>299902</td>\n",
       "      <td>IOT0018</td>\n",
       "      <td>NaN</td>\n",
       "    </tr>\n",
       "    <tr>\n",
       "      <th>97</th>\n",
       "      <td>299947</td>\n",
       "      <td>APP1482</td>\n",
       "      <td>NaN</td>\n",
       "    </tr>\n",
       "    <tr>\n",
       "      <th>116</th>\n",
       "      <td>300029</td>\n",
       "      <td>SYN0127</td>\n",
       "      <td>NaN</td>\n",
       "    </tr>\n",
       "    <tr>\n",
       "      <th>182</th>\n",
       "      <td>300251</td>\n",
       "      <td>APP0608</td>\n",
       "      <td>NaN</td>\n",
       "    </tr>\n",
       "    <tr>\n",
       "      <th>197</th>\n",
       "      <td>300283</td>\n",
       "      <td>PAC1400</td>\n",
       "      <td>NaN</td>\n",
       "    </tr>\n",
       "  </tbody>\n",
       "</table>\n",
       "</div>"
      ],
      "text/plain": [
       "     order_id      sku name\n",
       "25     299638  SYN0127  NaN\n",
       "43     299706  EVU0007  NaN\n",
       "46     299712  APP0608  NaN\n",
       "75     299860  PAC1516  NaN\n",
       "83     299881  SAN0137  NaN\n",
       "87     299902  IOT0018  NaN\n",
       "97     299947  APP1482  NaN\n",
       "116    300029  SYN0127  NaN\n",
       "182    300251  APP0608  NaN\n",
       "197    300283  PAC1400  NaN"
      ]
     },
     "execution_count": 38,
     "metadata": {},
     "output_type": "execute_result"
    }
   ],
   "source": [
    "orderlines_products.loc[orderlines_products.name.isna(), :].head(10)"
   ]
  },
  {
   "cell_type": "code",
   "execution_count": null,
   "metadata": {},
   "outputs": [
    {
     "data": {
      "text/plain": [
       "array([299638, 299706, 299712, ..., 526106, 526122, 526363], dtype=int64)"
      ]
     },
     "execution_count": 39,
     "metadata": {},
     "output_type": "execute_result"
    }
   ],
   "source": [
    "# Create a list of order_ids that have no product name associated with them\n",
    "orders_to_delete = orderlines_products.loc[orderlines_products.name.isna(), \"order_id\"].unique()\n",
    "orders_to_delete"
   ]
  },
  {
   "cell_type": "code",
   "execution_count": 40,
   "metadata": {},
   "outputs": [],
   "source": [
    "# Remove entries from orders and orderlines Dataframes\n",
    "orders_df = orders_df.loc[~orders_df.order_id.isin(orders_to_delete),:]\n",
    "orderlines_df = orderlines_df.loc[~orderlines_df.order_id.isin(orders_to_delete),:]"
   ]
  },
  {
   "cell_type": "code",
   "execution_count": null,
   "metadata": {},
   "outputs": [
    {
     "data": {
      "text/plain": [
       "(42636, 42636)"
      ]
     },
     "execution_count": 41,
     "metadata": {},
     "output_type": "execute_result"
    }
   ],
   "source": [
    "# Check the amount of unique order ids still present\n",
    "orders_df[\"order_id\"].nunique(), orderlines_df[\"order_id\"].nunique()"
   ]
  },
  {
   "cell_type": "code",
   "execution_count": 44,
   "metadata": {},
   "outputs": [
    {
     "data": {
      "application/vnd.microsoft.datawrangler.viewer.v0+json": {
       "columns": [
        {
         "name": "index",
         "rawType": "int64",
         "type": "integer"
        },
        {
         "name": "order_id",
         "rawType": "int64",
         "type": "integer"
        },
        {
         "name": "created_date",
         "rawType": "datetime64[ns]",
         "type": "datetime"
        },
        {
         "name": "total_paid",
         "rawType": "float64",
         "type": "float"
        },
        {
         "name": "state",
         "rawType": "object",
         "type": "string"
        }
       ],
       "ref": "476ea04b-da05-465e-9459-bb234f70ca3d",
       "rows": [
        [
         "1",
         "241423",
         "2017-11-06 13:10:02",
         "136.15",
         "Completed"
        ],
        [
         "2",
         "242832",
         "2017-12-31 17:40:03",
         "15.76",
         "Completed"
        ],
        [
         "3",
         "243330",
         "2017-02-16 10:59:38",
         "84.98",
         "Completed"
        ],
        [
         "5",
         "245275",
         "2017-06-28 11:35:37",
         "149.0",
         "Completed"
        ],
        [
         "6",
         "245595",
         "2017-01-21 12:52:47",
         "112.97",
         "Completed"
        ],
        [
         "10",
         "246405",
         "2017-11-24 10:01:27",
         "407.96",
         "Completed"
        ],
        [
         "11",
         "247524",
         "2018-01-09 14:21:34",
         "167.98",
         "Completed"
        ],
        [
         "12",
         "247643",
         "2017-05-26 11:50:35",
         "153.54",
         "Completed"
        ],
        [
         "13",
         "250275",
         "2017-11-19 22:34:54",
         "54.99",
         "Completed"
        ],
        [
         "14",
         "251302",
         "2017-05-10 12:27:33",
         "140.99",
         "Completed"
        ],
        [
         "16",
         "251969",
         "2017-11-21 21:04:12",
         "610.07",
         "Completed"
        ],
        [
         "18",
         "253220",
         "2017-10-04 19:37:10",
         "1610.0",
         "Completed"
        ],
        [
         "19",
         "253306",
         "2017-10-04 14:14:45",
         "497.68",
         "Completed"
        ],
        [
         "20",
         "253307",
         "2017-09-30 06:11:10",
         "292.04",
         "Completed"
        ],
        [
         "21",
         "254301",
         "2017-01-08 13:10:53",
         "35.91",
         "Completed"
        ],
        [
         "22",
         "254341",
         "2017-07-31 10:25:35",
         "34.98",
         "Completed"
        ],
        [
         "23",
         "254441",
         "2017-05-09 14:00:45",
         "56.98",
         "Completed"
        ],
        [
         "25",
         "254816",
         "2017-01-12 15:57:20",
         "283.83",
         "Completed"
        ],
        [
         "26",
         "256158",
         "2017-08-05 19:51:20",
         "386.18",
         "Completed"
        ],
        [
         "28",
         "256679",
         "2017-11-26 10:43:04",
         "20.58",
         "Completed"
        ],
        [
         "29",
         "256799",
         "2018-02-16 09:44:42",
         "20.97",
         "Completed"
        ],
        [
         "30",
         "257280",
         "2017-12-20 14:49:52",
         "260.0",
         "Completed"
        ],
        [
         "33",
         "258155",
         "2018-01-22 18:51:50",
         "40.76",
         "Completed"
        ],
        [
         "34",
         "258530",
         "2017-08-30 10:54:18",
         "7.78",
         "Completed"
        ],
        [
         "36",
         "259192",
         "2017-11-09 11:15:51",
         "195.74",
         "Completed"
        ],
        [
         "37",
         "259283",
         "2017-12-22 09:19:28",
         "24.98",
         "Completed"
        ],
        [
         "40",
         "259668",
         "2017-10-06 22:06:58",
         "1132.33",
         "Completed"
        ],
        [
         "42",
         "260615",
         "2017-01-10 18:59:49",
         "225.16",
         "Completed"
        ],
        [
         "43",
         "261289",
         "2017-06-21 08:21:20",
         "192.98",
         "Completed"
        ],
        [
         "44",
         "261656",
         "2017-08-24 19:28:24",
         "44.98",
         "Completed"
        ],
        [
         "45",
         "261978",
         "2017-01-10 00:19:44",
         "109.98",
         "Completed"
        ],
        [
         "46",
         "262016",
         "2017-08-18 01:05:38",
         "3109.57",
         "Completed"
        ],
        [
         "47",
         "262236",
         "2017-06-05 10:02:29",
         "122.97",
         "Completed"
        ],
        [
         "48",
         "263733",
         "2017-02-06 13:06:34",
         "372.98",
         "Completed"
        ],
        [
         "49",
         "263738",
         "2017-08-16 17:05:25",
         "80.96",
         "Completed"
        ],
        [
         "50",
         "263996",
         "2017-02-20 09:44:55",
         "156.98",
         "Completed"
        ],
        [
         "51",
         "264244",
         "2018-01-29 15:33:06",
         "141.97",
         "Completed"
        ],
        [
         "52",
         "265614",
         "2017-01-16 15:40:05",
         "147.48",
         "Completed"
        ],
        [
         "53",
         "265951",
         "2017-01-26 12:08:46",
         "121.46",
         "Completed"
        ],
        [
         "55",
         "265968",
         "2017-09-04 18:32:57",
         "470.33",
         "Completed"
        ],
        [
         "56",
         "266727",
         "2017-01-30 15:03:51",
         "150.02",
         "Completed"
        ],
        [
         "57",
         "267014",
         "2017-11-22 12:00:54",
         "302.39",
         "Completed"
        ],
        [
         "58",
         "267194",
         "2017-12-19 21:22:34",
         "75.98",
         "Completed"
        ],
        [
         "59",
         "267375",
         "2017-01-10 22:58:11",
         "17.98",
         "Completed"
        ],
        [
         "61",
         "268174",
         "2017-02-13 22:15:52",
         "723.69",
         "Completed"
        ],
        [
         "62",
         "268234",
         "2017-11-24 09:33:02",
         "84.17",
         "Completed"
        ],
        [
         "67",
         "268700",
         "2017-05-10 16:43:17",
         "407.59",
         "Completed"
        ],
        [
         "68",
         "269083",
         "2017-12-01 23:52:02",
         "139.27",
         "Completed"
        ],
        [
         "70",
         "269440",
         "2017-01-18 19:15:00",
         "213.98",
         "Completed"
        ],
        [
         "74",
         "272512",
         "2018-03-04 11:35:15",
         "114.98",
         "Completed"
        ]
       ],
       "shape": {
        "columns": 4,
        "rows": 42636
       }
      },
      "text/html": [
       "<div>\n",
       "<style scoped>\n",
       "    .dataframe tbody tr th:only-of-type {\n",
       "        vertical-align: middle;\n",
       "    }\n",
       "\n",
       "    .dataframe tbody tr th {\n",
       "        vertical-align: top;\n",
       "    }\n",
       "\n",
       "    .dataframe thead th {\n",
       "        text-align: right;\n",
       "    }\n",
       "</style>\n",
       "<table border=\"1\" class=\"dataframe\">\n",
       "  <thead>\n",
       "    <tr style=\"text-align: right;\">\n",
       "      <th></th>\n",
       "      <th>order_id</th>\n",
       "      <th>created_date</th>\n",
       "      <th>total_paid</th>\n",
       "      <th>state</th>\n",
       "    </tr>\n",
       "  </thead>\n",
       "  <tbody>\n",
       "    <tr>\n",
       "      <th>1</th>\n",
       "      <td>241423</td>\n",
       "      <td>2017-11-06 13:10:02</td>\n",
       "      <td>136.15</td>\n",
       "      <td>Completed</td>\n",
       "    </tr>\n",
       "    <tr>\n",
       "      <th>2</th>\n",
       "      <td>242832</td>\n",
       "      <td>2017-12-31 17:40:03</td>\n",
       "      <td>15.76</td>\n",
       "      <td>Completed</td>\n",
       "    </tr>\n",
       "    <tr>\n",
       "      <th>3</th>\n",
       "      <td>243330</td>\n",
       "      <td>2017-02-16 10:59:38</td>\n",
       "      <td>84.98</td>\n",
       "      <td>Completed</td>\n",
       "    </tr>\n",
       "    <tr>\n",
       "      <th>5</th>\n",
       "      <td>245275</td>\n",
       "      <td>2017-06-28 11:35:37</td>\n",
       "      <td>149.00</td>\n",
       "      <td>Completed</td>\n",
       "    </tr>\n",
       "    <tr>\n",
       "      <th>6</th>\n",
       "      <td>245595</td>\n",
       "      <td>2017-01-21 12:52:47</td>\n",
       "      <td>112.97</td>\n",
       "      <td>Completed</td>\n",
       "    </tr>\n",
       "    <tr>\n",
       "      <th>...</th>\n",
       "      <td>...</td>\n",
       "      <td>...</td>\n",
       "      <td>...</td>\n",
       "      <td>...</td>\n",
       "    </tr>\n",
       "    <tr>\n",
       "      <th>226549</th>\n",
       "      <td>527042</td>\n",
       "      <td>2018-03-14 11:47:50</td>\n",
       "      <td>18.98</td>\n",
       "      <td>Completed</td>\n",
       "    </tr>\n",
       "    <tr>\n",
       "      <th>226577</th>\n",
       "      <td>527070</td>\n",
       "      <td>2018-03-14 11:50:48</td>\n",
       "      <td>24.97</td>\n",
       "      <td>Completed</td>\n",
       "    </tr>\n",
       "    <tr>\n",
       "      <th>226581</th>\n",
       "      <td>527074</td>\n",
       "      <td>2018-03-14 11:51:42</td>\n",
       "      <td>24.97</td>\n",
       "      <td>Completed</td>\n",
       "    </tr>\n",
       "    <tr>\n",
       "      <th>226603</th>\n",
       "      <td>527096</td>\n",
       "      <td>2018-03-14 11:58:40</td>\n",
       "      <td>34.96</td>\n",
       "      <td>Completed</td>\n",
       "    </tr>\n",
       "    <tr>\n",
       "      <th>226619</th>\n",
       "      <td>527112</td>\n",
       "      <td>2018-03-14 12:03:52</td>\n",
       "      <td>14.98</td>\n",
       "      <td>Completed</td>\n",
       "    </tr>\n",
       "  </tbody>\n",
       "</table>\n",
       "<p>42636 rows × 4 columns</p>\n",
       "</div>"
      ],
      "text/plain": [
       "        order_id        created_date  total_paid      state\n",
       "1         241423 2017-11-06 13:10:02      136.15  Completed\n",
       "2         242832 2017-12-31 17:40:03       15.76  Completed\n",
       "3         243330 2017-02-16 10:59:38       84.98  Completed\n",
       "5         245275 2017-06-28 11:35:37      149.00  Completed\n",
       "6         245595 2017-01-21 12:52:47      112.97  Completed\n",
       "...          ...                 ...         ...        ...\n",
       "226549    527042 2018-03-14 11:47:50       18.98  Completed\n",
       "226577    527070 2018-03-14 11:50:48       24.97  Completed\n",
       "226581    527074 2018-03-14 11:51:42       24.97  Completed\n",
       "226603    527096 2018-03-14 11:58:40       34.96  Completed\n",
       "226619    527112 2018-03-14 12:03:52       14.98  Completed\n",
       "\n",
       "[42636 rows x 4 columns]"
      ]
     },
     "execution_count": 44,
     "metadata": {},
     "output_type": "execute_result"
    }
   ],
   "source": [
    "orders_df"
   ]
  },
  {
   "cell_type": "code",
   "execution_count": 45,
   "metadata": {},
   "outputs": [
    {
     "data": {
      "application/vnd.microsoft.datawrangler.viewer.v0+json": {
       "columns": [
        {
         "name": "index",
         "rawType": "int64",
         "type": "integer"
        },
        {
         "name": "id",
         "rawType": "int64",
         "type": "integer"
        },
        {
         "name": "order_id",
         "rawType": "int64",
         "type": "integer"
        },
        {
         "name": "product_quantity",
         "rawType": "int64",
         "type": "integer"
        },
        {
         "name": "sku",
         "rawType": "object",
         "type": "string"
        },
        {
         "name": "unit_price",
         "rawType": "float64",
         "type": "float"
        },
        {
         "name": "date",
         "rawType": "datetime64[ns]",
         "type": "datetime"
        }
       ],
       "ref": "a662e03f-2264-4140-b175-b4e5ccd46e03",
       "rows": [
        [
         "7",
         "1119116",
         "299545",
         "1",
         "OWC0100",
         "47.49",
         "2017-01-01 01:46:16"
        ],
        [
         "8",
         "1119119",
         "299546",
         "1",
         "IOT0014",
         "18.99",
         "2017-01-01 01:50:34"
        ],
        [
         "9",
         "1119120",
         "295347",
         "1",
         "APP0700",
         "72.19",
         "2017-01-01 01:54:11"
        ],
        [
         "18",
         "1119134",
         "299556",
         "1",
         "CRU0039-A",
         "60.9",
         "2017-01-01 02:20:14"
        ],
        [
         "24",
         "1119145",
         "299561",
         "1",
         "PEB0015",
         "142.49",
         "2017-01-01 02:38:50"
        ],
        [
         "26",
         "1119154",
         "299563",
         "1",
         "BEA0065",
         "256.49",
         "2017-01-01 02:42:05"
        ],
        [
         "27",
         "1119155",
         "299564",
         "1",
         "SAT0010",
         "18.99",
         "2017-01-01 02:43:37"
        ],
        [
         "33",
         "1119181",
         "299571",
         "1",
         "SYN0139",
         "166.24",
         "2017-01-01 04:00:44"
        ],
        [
         "40",
         "1119188",
         "299578",
         "1",
         "LOG0191",
         "142.49",
         "2017-01-01 08:21:26"
        ],
        [
         "41",
         "1119189",
         "299579",
         "1",
         "LGE0031-A",
         "127.08",
         "2017-01-01 08:23:14"
        ],
        [
         "49",
         "1119202",
         "299586",
         "1",
         "GRT0456",
         "42.99",
         "2017-01-01 09:18:52"
        ],
        [
         "60",
         "1119215",
         "299597",
         "1",
         "PEB0015",
         "142.49",
         "2017-01-01 09:53:56"
        ],
        [
         "73",
         "1119244",
         "299600",
         "1",
         "APP0410",
         "33.25",
         "2017-01-01 10:28:59"
        ],
        [
         "74",
         "1119245",
         "299600",
         "1",
         "LAC0205",
         "246.99",
         "2017-01-01 10:29:36"
        ],
        [
         "75",
         "1119247",
         "299600",
         "1",
         "DLK0078",
         "28.41",
         "2017-01-01 10:38:35"
        ],
        [
         "79",
         "1119253",
         "299608",
         "1",
         "ICA0079",
         "66.49",
         "2017-01-01 10:51:36"
        ],
        [
         "80",
         "1119254",
         "299609",
         "1",
         "PAR0071",
         "474.05",
         "2017-01-01 10:51:38"
        ],
        [
         "81",
         "1119255",
         "299610",
         "1",
         "APP0023",
         "55.99",
         "2017-01-01 10:52:42"
        ],
        [
         "83",
         "1119257",
         "299610",
         "1",
         "APP1214",
         "84.99",
         "2017-01-01 10:53:10"
        ],
        [
         "86",
         "1119262",
         "299600",
         "2",
         "BEL0229",
         "18.99",
         "2017-01-01 10:55:02"
        ],
        [
         "99",
         "1119287",
         "299623",
         "1",
         "OBL0007",
         "37.05",
         "2017-01-01 11:29:39"
        ],
        [
         "106",
         "1119295",
         "299189",
         "1",
         "TUC0276",
         "24.99",
         "2017-01-01 11:39:50"
        ],
        [
         "109",
         "1119299",
         "298391",
         "1",
         "APP0662",
         "149.99",
         "2017-01-01 11:41:58"
        ],
        [
         "113",
         "1119306",
         "299634",
         "1",
         "SYN0146",
         "369.54",
         "2017-01-01 11:50:06"
        ],
        [
         "116",
         "1119314",
         "299637",
         "1",
         "TOS0007",
         "53.19",
         "2017-01-01 11:55:51"
        ],
        [
         "121",
         "1119325",
         "299571",
         "1",
         "WDT0183",
         "151.99",
         "2017-01-01 12:00:57"
        ],
        [
         "122",
         "1119326",
         "299634",
         "3",
         "WDT0183",
         "151.99",
         "2017-01-01 12:01:01"
        ],
        [
         "123",
         "1119328",
         "297809",
         "1",
         "IFX0016",
         "14.24",
         "2017-01-01 12:01:12"
        ],
        [
         "133",
         "1119347",
         "299648",
         "1",
         "PAC1381",
         "355.29",
         "2017-01-01 12:21:21"
        ],
        [
         "137",
         "1119360",
         "299650",
         "1",
         "NOK0007",
         "65.99",
         "2017-01-01 12:28:27"
        ],
        [
         "139",
         "1119363",
         "299655",
         "1",
         "WAC0191",
         "161.49",
         "2017-01-01 12:29:49"
        ],
        [
         "143",
         "1119367",
         "299655",
         "1",
         "WAC0040",
         "35.14",
         "2017-01-01 12:31:41"
        ],
        [
         "145",
         "1119371",
         "299659",
         "1",
         "THU0013",
         "75.99",
         "2017-01-01 12:32:53"
        ],
        [
         "153",
         "1119388",
         "299667",
         "1",
         "WIT0024",
         "94.99",
         "2017-01-01 12:42:40"
        ],
        [
         "158",
         "1119404",
         "299673",
         "1",
         "PAC0569",
         "168.14",
         "2017-01-01 12:56:10"
        ],
        [
         "160",
         "1119407",
         "299674",
         "1",
         "PAC1296",
         "584.24",
         "2017-01-01 12:58:24"
        ],
        [
         "166",
         "1119419",
         "299681",
         "1",
         "SPE0161",
         "35.14",
         "2017-01-01 13:07:07"
        ],
        [
         "169",
         "1119422",
         "299681",
         "1",
         "APP0701",
         "69.34",
         "2017-01-01 13:09:14"
        ],
        [
         "184",
         "1119448",
         "299696",
         "1",
         "KEN0212",
         "18.04",
         "2017-01-01 13:27:25"
        ],
        [
         "185",
         "1119451",
         "293308",
         "1",
         "HGD0007",
         "66.49",
         "2017-01-01 13:29:10"
        ],
        [
         "190",
         "1119470",
         "299704",
         "1",
         "APP0697",
         "12.99",
         "2017-01-01 13:41:17"
        ],
        [
         "195",
         "1119490",
         "299710",
         "1",
         "PHI0072",
         "66.49",
         "2017-01-01 14:05:28"
        ],
        [
         "196",
         "1119491",
         "299710",
         "1",
         "PHI0079",
         "56.04",
         "2017-01-01 14:06:17"
        ],
        [
         "205",
         "1119506",
         "299719",
         "1",
         "OTT0139",
         "21.84",
         "2017-01-01 14:19:14"
        ],
        [
         "207",
         "1119510",
         "299719",
         "1",
         "GRT0361",
         "18.04",
         "2017-01-01 14:22:21"
        ],
        [
         "209",
         "1119513",
         "299723",
         "2",
         "MAC0122",
         "23.74",
         "2017-01-01 14:26:43"
        ],
        [
         "216",
         "1119529",
         "299696",
         "3",
         "SAN0112",
         "18.99",
         "2017-01-01 14:52:01"
        ],
        [
         "221",
         "1119539",
         "299736",
         "1",
         "WAC0191",
         "161.49",
         "2017-01-01 14:59:29"
        ],
        [
         "222",
         "1119540",
         "299737",
         "1",
         "JBL0107",
         "94.99",
         "2017-01-01 15:00:18"
        ],
        [
         "228",
         "1119547",
         "299742",
         "2",
         "NEA0017",
         "21.84",
         "2017-01-01 15:18:19"
        ]
       ],
       "shape": {
        "columns": 6,
        "rows": 55957
       }
      },
      "text/html": [
       "<div>\n",
       "<style scoped>\n",
       "    .dataframe tbody tr th:only-of-type {\n",
       "        vertical-align: middle;\n",
       "    }\n",
       "\n",
       "    .dataframe tbody tr th {\n",
       "        vertical-align: top;\n",
       "    }\n",
       "\n",
       "    .dataframe thead th {\n",
       "        text-align: right;\n",
       "    }\n",
       "</style>\n",
       "<table border=\"1\" class=\"dataframe\">\n",
       "  <thead>\n",
       "    <tr style=\"text-align: right;\">\n",
       "      <th></th>\n",
       "      <th>id</th>\n",
       "      <th>order_id</th>\n",
       "      <th>product_quantity</th>\n",
       "      <th>sku</th>\n",
       "      <th>unit_price</th>\n",
       "      <th>date</th>\n",
       "    </tr>\n",
       "  </thead>\n",
       "  <tbody>\n",
       "    <tr>\n",
       "      <th>7</th>\n",
       "      <td>1119116</td>\n",
       "      <td>299545</td>\n",
       "      <td>1</td>\n",
       "      <td>OWC0100</td>\n",
       "      <td>47.49</td>\n",
       "      <td>2017-01-01 01:46:16</td>\n",
       "    </tr>\n",
       "    <tr>\n",
       "      <th>8</th>\n",
       "      <td>1119119</td>\n",
       "      <td>299546</td>\n",
       "      <td>1</td>\n",
       "      <td>IOT0014</td>\n",
       "      <td>18.99</td>\n",
       "      <td>2017-01-01 01:50:34</td>\n",
       "    </tr>\n",
       "    <tr>\n",
       "      <th>9</th>\n",
       "      <td>1119120</td>\n",
       "      <td>295347</td>\n",
       "      <td>1</td>\n",
       "      <td>APP0700</td>\n",
       "      <td>72.19</td>\n",
       "      <td>2017-01-01 01:54:11</td>\n",
       "    </tr>\n",
       "    <tr>\n",
       "      <th>18</th>\n",
       "      <td>1119134</td>\n",
       "      <td>299556</td>\n",
       "      <td>1</td>\n",
       "      <td>CRU0039-A</td>\n",
       "      <td>60.90</td>\n",
       "      <td>2017-01-01 02:20:14</td>\n",
       "    </tr>\n",
       "    <tr>\n",
       "      <th>24</th>\n",
       "      <td>1119145</td>\n",
       "      <td>299561</td>\n",
       "      <td>1</td>\n",
       "      <td>PEB0015</td>\n",
       "      <td>142.49</td>\n",
       "      <td>2017-01-01 02:38:50</td>\n",
       "    </tr>\n",
       "    <tr>\n",
       "      <th>...</th>\n",
       "      <td>...</td>\n",
       "      <td>...</td>\n",
       "      <td>...</td>\n",
       "      <td>...</td>\n",
       "      <td>...</td>\n",
       "      <td>...</td>\n",
       "    </tr>\n",
       "    <tr>\n",
       "      <th>293599</th>\n",
       "      <td>1649474</td>\n",
       "      <td>525664</td>\n",
       "      <td>1</td>\n",
       "      <td>TUC0207</td>\n",
       "      <td>16.52</td>\n",
       "      <td>2018-03-14 11:45:05</td>\n",
       "    </tr>\n",
       "    <tr>\n",
       "      <th>293616</th>\n",
       "      <td>1649512</td>\n",
       "      <td>527070</td>\n",
       "      <td>2</td>\n",
       "      <td>APP0698</td>\n",
       "      <td>9.99</td>\n",
       "      <td>2018-03-14 11:49:01</td>\n",
       "    </tr>\n",
       "    <tr>\n",
       "      <th>293621</th>\n",
       "      <td>1649522</td>\n",
       "      <td>527074</td>\n",
       "      <td>2</td>\n",
       "      <td>APP0698</td>\n",
       "      <td>9.99</td>\n",
       "      <td>2018-03-14 11:49:36</td>\n",
       "    </tr>\n",
       "    <tr>\n",
       "      <th>293644</th>\n",
       "      <td>1649565</td>\n",
       "      <td>527096</td>\n",
       "      <td>3</td>\n",
       "      <td>APP0698</td>\n",
       "      <td>9.99</td>\n",
       "      <td>2018-03-14 11:54:35</td>\n",
       "    </tr>\n",
       "    <tr>\n",
       "      <th>293661</th>\n",
       "      <td>1649593</td>\n",
       "      <td>527112</td>\n",
       "      <td>1</td>\n",
       "      <td>APP0698</td>\n",
       "      <td>9.99</td>\n",
       "      <td>2018-03-14 11:58:13</td>\n",
       "    </tr>\n",
       "  </tbody>\n",
       "</table>\n",
       "<p>55957 rows × 6 columns</p>\n",
       "</div>"
      ],
      "text/plain": [
       "             id  order_id  product_quantity        sku  unit_price  \\\n",
       "7       1119116    299545                 1    OWC0100       47.49   \n",
       "8       1119119    299546                 1    IOT0014       18.99   \n",
       "9       1119120    295347                 1    APP0700       72.19   \n",
       "18      1119134    299556                 1  CRU0039-A       60.90   \n",
       "24      1119145    299561                 1    PEB0015      142.49   \n",
       "...         ...       ...               ...        ...         ...   \n",
       "293599  1649474    525664                 1    TUC0207       16.52   \n",
       "293616  1649512    527070                 2    APP0698        9.99   \n",
       "293621  1649522    527074                 2    APP0698        9.99   \n",
       "293644  1649565    527096                 3    APP0698        9.99   \n",
       "293661  1649593    527112                 1    APP0698        9.99   \n",
       "\n",
       "                      date  \n",
       "7      2017-01-01 01:46:16  \n",
       "8      2017-01-01 01:50:34  \n",
       "9      2017-01-01 01:54:11  \n",
       "18     2017-01-01 02:20:14  \n",
       "24     2017-01-01 02:38:50  \n",
       "...                    ...  \n",
       "293599 2018-03-14 11:45:05  \n",
       "293616 2018-03-14 11:49:01  \n",
       "293621 2018-03-14 11:49:36  \n",
       "293644 2018-03-14 11:54:35  \n",
       "293661 2018-03-14 11:58:13  \n",
       "\n",
       "[55957 rows x 6 columns]"
      ]
     },
     "execution_count": 45,
     "metadata": {},
     "output_type": "execute_result"
    }
   ],
   "source": [
    "orderlines_df"
   ]
  },
  {
   "cell_type": "markdown",
   "metadata": {},
   "source": [
    "## 3.6 Calculating and Filtering by Discounts\n",
    "This chapter compares prices and discounts for inconsistencies and performs filtering operations"
   ]
  },
  {
   "cell_type": "code",
   "execution_count": 47,
   "metadata": {},
   "outputs": [
    {
     "data": {
      "application/vnd.microsoft.datawrangler.viewer.v0+json": {
       "columns": [
        {
         "name": "index",
         "rawType": "int64",
         "type": "integer"
        },
        {
         "name": "sku",
         "rawType": "object",
         "type": "string"
        },
        {
         "name": "name",
         "rawType": "object",
         "type": "string"
        },
        {
         "name": "desc",
         "rawType": "object",
         "type": "string"
        },
        {
         "name": "price",
         "rawType": "float64",
         "type": "float"
        },
        {
         "name": "in_stock",
         "rawType": "int64",
         "type": "integer"
        },
        {
         "name": "type",
         "rawType": "object",
         "type": "string"
        },
        {
         "name": "man",
         "rawType": "object",
         "type": "string"
        }
       ],
       "ref": "96e2d86d-4532-4371-a977-1dc00b6067d2",
       "rows": [
        [
         "0",
         "RAI0007",
         "Silver Rain Design mStand Support",
         "Aluminum support compatible with all MacBook",
         "59.99",
         "1",
         "8696",
         "RAI"
        ],
        [
         "1",
         "APP0023",
         "Apple Mac Keyboard Keypad Spanish",
         "USB ultrathin keyboard Apple Mac Spanish.",
         "59.0",
         "0",
         "13855401",
         "APP"
        ],
        [
         "2",
         "APP0025",
         "Mighty Mouse Apple Mouse for Mac",
         "mouse Apple USB cable.",
         "59.0",
         "0",
         "1387",
         "APP"
        ],
        [
         "3",
         "APP0072",
         "Apple Dock to USB Cable iPhone and iPod white",
         "IPhone dock and USB Cable Apple iPod.",
         "25.0",
         "0",
         "1230",
         "APP"
        ],
        [
         "4",
         "KIN0007",
         "Mac Memory Kingston 2GB 667MHz DDR2 SO-DIMM",
         "2GB RAM Mac mini and iMac (2006/07) MacBook Pro (2006/07/08).",
         "34.99",
         "1",
         "1364",
         "KIN"
        ]
       ],
       "shape": {
        "columns": 7,
        "rows": 5
       }
      },
      "text/html": [
       "<div>\n",
       "<style scoped>\n",
       "    .dataframe tbody tr th:only-of-type {\n",
       "        vertical-align: middle;\n",
       "    }\n",
       "\n",
       "    .dataframe tbody tr th {\n",
       "        vertical-align: top;\n",
       "    }\n",
       "\n",
       "    .dataframe thead th {\n",
       "        text-align: right;\n",
       "    }\n",
       "</style>\n",
       "<table border=\"1\" class=\"dataframe\">\n",
       "  <thead>\n",
       "    <tr style=\"text-align: right;\">\n",
       "      <th></th>\n",
       "      <th>sku</th>\n",
       "      <th>name</th>\n",
       "      <th>desc</th>\n",
       "      <th>price</th>\n",
       "      <th>in_stock</th>\n",
       "      <th>type</th>\n",
       "      <th>man</th>\n",
       "    </tr>\n",
       "  </thead>\n",
       "  <tbody>\n",
       "    <tr>\n",
       "      <th>0</th>\n",
       "      <td>RAI0007</td>\n",
       "      <td>Silver Rain Design mStand Support</td>\n",
       "      <td>Aluminum support compatible with all MacBook</td>\n",
       "      <td>59.99</td>\n",
       "      <td>1</td>\n",
       "      <td>8696</td>\n",
       "      <td>RAI</td>\n",
       "    </tr>\n",
       "    <tr>\n",
       "      <th>1</th>\n",
       "      <td>APP0023</td>\n",
       "      <td>Apple Mac Keyboard Keypad Spanish</td>\n",
       "      <td>USB ultrathin keyboard Apple Mac Spanish.</td>\n",
       "      <td>59.00</td>\n",
       "      <td>0</td>\n",
       "      <td>13855401</td>\n",
       "      <td>APP</td>\n",
       "    </tr>\n",
       "    <tr>\n",
       "      <th>2</th>\n",
       "      <td>APP0025</td>\n",
       "      <td>Mighty Mouse Apple Mouse for Mac</td>\n",
       "      <td>mouse Apple USB cable.</td>\n",
       "      <td>59.00</td>\n",
       "      <td>0</td>\n",
       "      <td>1387</td>\n",
       "      <td>APP</td>\n",
       "    </tr>\n",
       "    <tr>\n",
       "      <th>3</th>\n",
       "      <td>APP0072</td>\n",
       "      <td>Apple Dock to USB Cable iPhone and iPod white</td>\n",
       "      <td>IPhone dock and USB Cable Apple iPod.</td>\n",
       "      <td>25.00</td>\n",
       "      <td>0</td>\n",
       "      <td>1230</td>\n",
       "      <td>APP</td>\n",
       "    </tr>\n",
       "    <tr>\n",
       "      <th>4</th>\n",
       "      <td>KIN0007</td>\n",
       "      <td>Mac Memory Kingston 2GB 667MHz DDR2 SO-DIMM</td>\n",
       "      <td>2GB RAM Mac mini and iMac (2006/07) MacBook Pr...</td>\n",
       "      <td>34.99</td>\n",
       "      <td>1</td>\n",
       "      <td>1364</td>\n",
       "      <td>KIN</td>\n",
       "    </tr>\n",
       "  </tbody>\n",
       "</table>\n",
       "</div>"
      ],
      "text/plain": [
       "       sku                                           name  \\\n",
       "0  RAI0007              Silver Rain Design mStand Support   \n",
       "1  APP0023              Apple Mac Keyboard Keypad Spanish   \n",
       "2  APP0025               Mighty Mouse Apple Mouse for Mac   \n",
       "3  APP0072  Apple Dock to USB Cable iPhone and iPod white   \n",
       "4  KIN0007    Mac Memory Kingston 2GB 667MHz DDR2 SO-DIMM   \n",
       "\n",
       "                                                desc  price  in_stock  \\\n",
       "0       Aluminum support compatible with all MacBook  59.99         1   \n",
       "1          USB ultrathin keyboard Apple Mac Spanish.  59.00         0   \n",
       "2                             mouse Apple USB cable.  59.00         0   \n",
       "3              IPhone dock and USB Cable Apple iPod.  25.00         0   \n",
       "4  2GB RAM Mac mini and iMac (2006/07) MacBook Pr...  34.99         1   \n",
       "\n",
       "       type  man  \n",
       "0      8696  RAI  \n",
       "1  13855401  APP  \n",
       "2      1387  APP  \n",
       "3      1230  APP  \n",
       "4      1364  KIN  "
      ]
     },
     "execution_count": 47,
     "metadata": {},
     "output_type": "execute_result"
    }
   ],
   "source": [
    "products_df.head(5)"
   ]
  },
  {
   "cell_type": "code",
   "execution_count": 48,
   "metadata": {},
   "outputs": [],
   "source": [
    "# Rename price into listed_price for clarity\n",
    "products_df.rename(columns={'price': 'listed_price'}, inplace=True)"
   ]
  },
  {
   "cell_type": "code",
   "execution_count": 49,
   "metadata": {},
   "outputs": [],
   "source": [
    "# Create Dataframe to by merging orderlines and products\n",
    "ol_prod_discount_df = orderlines_df.merge(products_df, how=\"left\", on = \"sku\")[[\"order_id\", \"sku\", \"unit_price\", \"listed_price\"]]"
   ]
  },
  {
   "cell_type": "code",
   "execution_count": 50,
   "metadata": {},
   "outputs": [
    {
     "data": {
      "application/vnd.microsoft.datawrangler.viewer.v0+json": {
       "columns": [
        {
         "name": "index",
         "rawType": "int64",
         "type": "integer"
        },
        {
         "name": "order_id",
         "rawType": "int64",
         "type": "integer"
        },
        {
         "name": "sku",
         "rawType": "object",
         "type": "string"
        },
        {
         "name": "unit_price",
         "rawType": "float64",
         "type": "float"
        },
        {
         "name": "listed_price",
         "rawType": "float64",
         "type": "float"
        }
       ],
       "ref": "dc8e80cb-7b80-4d57-a71c-aaa9ba9ea4b2",
       "rows": [
        [
         "0",
         "299545",
         "OWC0100",
         "47.49",
         "60.99"
        ],
        [
         "1",
         "299546",
         "IOT0014",
         "18.99",
         "22.95"
        ],
        [
         "2",
         "295347",
         "APP0700",
         "72.19",
         "89.0"
        ],
        [
         "3",
         "299556",
         "CRU0039-A",
         "60.9",
         "76.99"
        ],
        [
         "4",
         "299561",
         "PEB0015",
         "142.49",
         "299.99"
        ],
        [
         "5",
         "299563",
         "BEA0065",
         "256.49",
         "299.95"
        ],
        [
         "6",
         "299564",
         "SAT0010",
         "18.99",
         "29.99"
        ],
        [
         "7",
         "299571",
         "SYN0139",
         "166.24",
         "175.99"
        ],
        [
         "8",
         "299578",
         "LOG0191",
         "142.49",
         "209.0"
        ],
        [
         "9",
         "299579",
         "LGE0031-A",
         "127.08",
         "159.0"
        ],
        [
         "10",
         "299586",
         "GRT0456",
         "42.99",
         "44.99"
        ],
        [
         "11",
         "299597",
         "PEB0015",
         "142.49",
         "299.99"
        ],
        [
         "12",
         "299600",
         "APP0410",
         "33.25",
         "35.0"
        ],
        [
         "13",
         "299600",
         "LAC0205",
         "246.99",
         "259.0"
        ],
        [
         "14",
         "299600",
         "DLK0078",
         "28.41",
         "29.9"
        ],
        [
         "15",
         "299608",
         "ICA0079",
         "66.49",
         "89.95"
        ],
        [
         "16",
         "299609",
         "PAR0071",
         "474.05",
         "699.0"
        ],
        [
         "17",
         "299610",
         "APP0023",
         "55.99",
         "59.0"
        ],
        [
         "18",
         "299610",
         "APP1214",
         "84.99",
         "89.0"
        ],
        [
         "19",
         "299600",
         "BEL0229",
         "18.99",
         "34.99"
        ],
        [
         "20",
         "299623",
         "OBL0007",
         "37.05",
         "39.95"
        ],
        [
         "21",
         "299189",
         "TUC0276",
         "24.99",
         "29.9"
        ],
        [
         "22",
         "298391",
         "APP0662",
         "149.99",
         "179.0"
        ],
        [
         "23",
         "299634",
         "SYN0146",
         "369.54",
         "434.99"
        ],
        [
         "24",
         "299637",
         "TOS0007",
         "53.19",
         "62.99"
        ],
        [
         "25",
         "299571",
         "WDT0183",
         "151.99",
         "169.0"
        ],
        [
         "26",
         "299634",
         "WDT0183",
         "151.99",
         "169.0"
        ],
        [
         "27",
         "297809",
         "IFX0016",
         "14.24",
         "20.99"
        ],
        [
         "28",
         "299648",
         "PAC1381",
         "355.29",
         "398.99"
        ],
        [
         "29",
         "299650",
         "NOK0007",
         "65.99",
         "84.99"
        ],
        [
         "30",
         "299655",
         "WAC0191",
         "161.49",
         "199.99"
        ],
        [
         "31",
         "299655",
         "WAC0040",
         "35.14",
         "39.99"
        ],
        [
         "32",
         "299659",
         "THU0013",
         "75.99",
         "99.95"
        ],
        [
         "33",
         "299667",
         "WIT0024",
         "94.99",
         "129.95"
        ],
        [
         "34",
         "299673",
         "PAC0569",
         "168.14",
         "200.98"
        ],
        [
         "35",
         "299674",
         "PAC1296",
         "584.24",
         "757.99"
        ],
        [
         "36",
         "299681",
         "SPE0161",
         "35.14",
         "49.9"
        ],
        [
         "37",
         "299681",
         "APP0701",
         "69.34",
         "89.0"
        ],
        [
         "38",
         "299696",
         "KEN0212",
         "18.04",
         "32.99"
        ],
        [
         "39",
         "293308",
         "HGD0007",
         "66.49",
         "69.99"
        ],
        [
         "40",
         "299704",
         "APP0697",
         "12.99",
         "25.0"
        ],
        [
         "41",
         "299710",
         "PHI0072",
         "66.49",
         "79.95"
        ],
        [
         "42",
         "299710",
         "PHI0079",
         "56.04",
         "59.95"
        ],
        [
         "43",
         "299719",
         "OTT0139",
         "21.84",
         "29.99"
        ],
        [
         "44",
         "299719",
         "GRT0361",
         "18.04",
         "19.99"
        ],
        [
         "45",
         "299723",
         "MAC0122",
         "23.74",
         "29.95"
        ],
        [
         "46",
         "299696",
         "SAN0112",
         "18.99",
         "24.99"
        ],
        [
         "47",
         "299736",
         "WAC0191",
         "161.49",
         "199.99"
        ],
        [
         "48",
         "299737",
         "JBL0107",
         "94.99",
         "129.99"
        ],
        [
         "49",
         "299742",
         "NEA0017",
         "21.84",
         "24.99"
        ]
       ],
       "shape": {
        "columns": 4,
        "rows": 55957
       }
      },
      "text/html": [
       "<div>\n",
       "<style scoped>\n",
       "    .dataframe tbody tr th:only-of-type {\n",
       "        vertical-align: middle;\n",
       "    }\n",
       "\n",
       "    .dataframe tbody tr th {\n",
       "        vertical-align: top;\n",
       "    }\n",
       "\n",
       "    .dataframe thead th {\n",
       "        text-align: right;\n",
       "    }\n",
       "</style>\n",
       "<table border=\"1\" class=\"dataframe\">\n",
       "  <thead>\n",
       "    <tr style=\"text-align: right;\">\n",
       "      <th></th>\n",
       "      <th>order_id</th>\n",
       "      <th>sku</th>\n",
       "      <th>unit_price</th>\n",
       "      <th>listed_price</th>\n",
       "    </tr>\n",
       "  </thead>\n",
       "  <tbody>\n",
       "    <tr>\n",
       "      <th>0</th>\n",
       "      <td>299545</td>\n",
       "      <td>OWC0100</td>\n",
       "      <td>47.49</td>\n",
       "      <td>60.99</td>\n",
       "    </tr>\n",
       "    <tr>\n",
       "      <th>1</th>\n",
       "      <td>299546</td>\n",
       "      <td>IOT0014</td>\n",
       "      <td>18.99</td>\n",
       "      <td>22.95</td>\n",
       "    </tr>\n",
       "    <tr>\n",
       "      <th>2</th>\n",
       "      <td>295347</td>\n",
       "      <td>APP0700</td>\n",
       "      <td>72.19</td>\n",
       "      <td>89.00</td>\n",
       "    </tr>\n",
       "    <tr>\n",
       "      <th>3</th>\n",
       "      <td>299556</td>\n",
       "      <td>CRU0039-A</td>\n",
       "      <td>60.90</td>\n",
       "      <td>76.99</td>\n",
       "    </tr>\n",
       "    <tr>\n",
       "      <th>4</th>\n",
       "      <td>299561</td>\n",
       "      <td>PEB0015</td>\n",
       "      <td>142.49</td>\n",
       "      <td>299.99</td>\n",
       "    </tr>\n",
       "    <tr>\n",
       "      <th>...</th>\n",
       "      <td>...</td>\n",
       "      <td>...</td>\n",
       "      <td>...</td>\n",
       "      <td>...</td>\n",
       "    </tr>\n",
       "    <tr>\n",
       "      <th>55952</th>\n",
       "      <td>525664</td>\n",
       "      <td>TUC0207</td>\n",
       "      <td>16.52</td>\n",
       "      <td>24.99</td>\n",
       "    </tr>\n",
       "    <tr>\n",
       "      <th>55953</th>\n",
       "      <td>527070</td>\n",
       "      <td>APP0698</td>\n",
       "      <td>9.99</td>\n",
       "      <td>25.00</td>\n",
       "    </tr>\n",
       "    <tr>\n",
       "      <th>55954</th>\n",
       "      <td>527074</td>\n",
       "      <td>APP0698</td>\n",
       "      <td>9.99</td>\n",
       "      <td>25.00</td>\n",
       "    </tr>\n",
       "    <tr>\n",
       "      <th>55955</th>\n",
       "      <td>527096</td>\n",
       "      <td>APP0698</td>\n",
       "      <td>9.99</td>\n",
       "      <td>25.00</td>\n",
       "    </tr>\n",
       "    <tr>\n",
       "      <th>55956</th>\n",
       "      <td>527112</td>\n",
       "      <td>APP0698</td>\n",
       "      <td>9.99</td>\n",
       "      <td>25.00</td>\n",
       "    </tr>\n",
       "  </tbody>\n",
       "</table>\n",
       "<p>55957 rows × 4 columns</p>\n",
       "</div>"
      ],
      "text/plain": [
       "       order_id        sku  unit_price  listed_price\n",
       "0        299545    OWC0100       47.49         60.99\n",
       "1        299546    IOT0014       18.99         22.95\n",
       "2        295347    APP0700       72.19         89.00\n",
       "3        299556  CRU0039-A       60.90         76.99\n",
       "4        299561    PEB0015      142.49        299.99\n",
       "...         ...        ...         ...           ...\n",
       "55952    525664    TUC0207       16.52         24.99\n",
       "55953    527070    APP0698        9.99         25.00\n",
       "55954    527074    APP0698        9.99         25.00\n",
       "55955    527096    APP0698        9.99         25.00\n",
       "55956    527112    APP0698        9.99         25.00\n",
       "\n",
       "[55957 rows x 4 columns]"
      ]
     },
     "execution_count": 50,
     "metadata": {},
     "output_type": "execute_result"
    }
   ],
   "source": [
    "ol_prod_discount_df"
   ]
  },
  {
   "cell_type": "code",
   "execution_count": 53,
   "metadata": {},
   "outputs": [
    {
     "data": {
      "application/vnd.microsoft.datawrangler.viewer.v0+json": {
       "columns": [
        {
         "name": "index",
         "rawType": "int64",
         "type": "integer"
        },
        {
         "name": "order_id",
         "rawType": "int64",
         "type": "integer"
        },
        {
         "name": "sku",
         "rawType": "object",
         "type": "string"
        },
        {
         "name": "unit_price",
         "rawType": "float64",
         "type": "float"
        },
        {
         "name": "listed_price",
         "rawType": "float64",
         "type": "float"
        },
        {
         "name": "discount_pct",
         "rawType": "float64",
         "type": "float"
        },
        {
         "name": "discount_raw",
         "rawType": "float64",
         "type": "float"
        }
       ],
       "ref": "7c4d9923-1f8a-4bba-a6c4-1d281345f1e7",
       "rows": [
        [
         "0",
         "299545",
         "OWC0100",
         "47.49",
         "60.99",
         "22.13",
         "13.5"
        ],
        [
         "1",
         "299546",
         "IOT0014",
         "18.99",
         "22.95",
         "17.25",
         "3.96"
        ],
        [
         "2",
         "295347",
         "APP0700",
         "72.19",
         "89.0",
         "18.89",
         "16.81"
        ],
        [
         "3",
         "299556",
         "CRU0039-A",
         "60.9",
         "76.99",
         "20.9",
         "16.09"
        ],
        [
         "4",
         "299561",
         "PEB0015",
         "142.49",
         "299.99",
         "52.5",
         "157.5"
        ],
        [
         "5",
         "299563",
         "BEA0065",
         "256.49",
         "299.95",
         "14.49",
         "43.46"
        ],
        [
         "6",
         "299564",
         "SAT0010",
         "18.99",
         "29.99",
         "36.68",
         "11.0"
        ],
        [
         "7",
         "299571",
         "SYN0139",
         "166.24",
         "175.99",
         "5.54",
         "9.75"
        ],
        [
         "8",
         "299578",
         "LOG0191",
         "142.49",
         "209.0",
         "31.82",
         "66.51"
        ],
        [
         "9",
         "299579",
         "LGE0031-A",
         "127.08",
         "159.0",
         "20.08",
         "31.92"
        ],
        [
         "10",
         "299586",
         "GRT0456",
         "42.99",
         "44.99",
         "4.45",
         "2.0"
        ],
        [
         "11",
         "299597",
         "PEB0015",
         "142.49",
         "299.99",
         "52.5",
         "157.5"
        ],
        [
         "12",
         "299600",
         "APP0410",
         "33.25",
         "35.0",
         "5.0",
         "1.75"
        ],
        [
         "13",
         "299600",
         "LAC0205",
         "246.99",
         "259.0",
         "4.64",
         "12.01"
        ],
        [
         "14",
         "299600",
         "DLK0078",
         "28.41",
         "29.9",
         "4.98",
         "1.49"
        ],
        [
         "15",
         "299608",
         "ICA0079",
         "66.49",
         "89.95",
         "26.08",
         "23.46"
        ],
        [
         "16",
         "299609",
         "PAR0071",
         "474.05",
         "699.0",
         "32.18",
         "224.95"
        ],
        [
         "17",
         "299610",
         "APP0023",
         "55.99",
         "59.0",
         "5.1",
         "3.01"
        ],
        [
         "18",
         "299610",
         "APP1214",
         "84.99",
         "89.0",
         "4.51",
         "4.01"
        ],
        [
         "19",
         "299600",
         "BEL0229",
         "18.99",
         "34.99",
         "45.73",
         "16.0"
        ],
        [
         "20",
         "299623",
         "OBL0007",
         "37.05",
         "39.95",
         "7.26",
         "2.9"
        ],
        [
         "21",
         "299189",
         "TUC0276",
         "24.99",
         "29.9",
         "16.42",
         "4.91"
        ],
        [
         "22",
         "298391",
         "APP0662",
         "149.99",
         "179.0",
         "16.21",
         "29.01"
        ],
        [
         "23",
         "299634",
         "SYN0146",
         "369.54",
         "434.99",
         "15.05",
         "65.45"
        ],
        [
         "24",
         "299637",
         "TOS0007",
         "53.19",
         "62.99",
         "15.56",
         "9.8"
        ],
        [
         "25",
         "299571",
         "WDT0183",
         "151.99",
         "169.0",
         "10.07",
         "17.01"
        ],
        [
         "26",
         "299634",
         "WDT0183",
         "151.99",
         "169.0",
         "10.07",
         "17.01"
        ],
        [
         "27",
         "297809",
         "IFX0016",
         "14.24",
         "20.99",
         "32.16",
         "6.75"
        ],
        [
         "28",
         "299648",
         "PAC1381",
         "355.29",
         "398.99",
         "10.95",
         "43.7"
        ],
        [
         "29",
         "299650",
         "NOK0007",
         "65.99",
         "84.99",
         "22.36",
         "19.0"
        ],
        [
         "30",
         "299655",
         "WAC0191",
         "161.49",
         "199.99",
         "19.25",
         "38.5"
        ],
        [
         "31",
         "299655",
         "WAC0040",
         "35.14",
         "39.99",
         "12.13",
         "4.85"
        ],
        [
         "32",
         "299659",
         "THU0013",
         "75.99",
         "99.95",
         "23.97",
         "23.96"
        ],
        [
         "33",
         "299667",
         "WIT0024",
         "94.99",
         "129.95",
         "26.9",
         "34.96"
        ],
        [
         "34",
         "299673",
         "PAC0569",
         "168.14",
         "200.98",
         "16.34",
         "32.84"
        ],
        [
         "35",
         "299674",
         "PAC1296",
         "584.24",
         "757.99",
         "22.92",
         "173.75"
        ],
        [
         "36",
         "299681",
         "SPE0161",
         "35.14",
         "49.9",
         "29.58",
         "14.76"
        ],
        [
         "37",
         "299681",
         "APP0701",
         "69.34",
         "89.0",
         "22.09",
         "19.66"
        ],
        [
         "38",
         "299696",
         "KEN0212",
         "18.04",
         "32.99",
         "45.32",
         "14.95"
        ],
        [
         "39",
         "293308",
         "HGD0007",
         "66.49",
         "69.99",
         "5.0",
         "3.5"
        ],
        [
         "40",
         "299704",
         "APP0697",
         "12.99",
         "25.0",
         "48.04",
         "12.01"
        ],
        [
         "41",
         "299710",
         "PHI0072",
         "66.49",
         "79.95",
         "16.84",
         "13.46"
        ],
        [
         "42",
         "299710",
         "PHI0079",
         "56.04",
         "59.95",
         "6.52",
         "3.91"
        ],
        [
         "43",
         "299719",
         "OTT0139",
         "21.84",
         "29.99",
         "27.18",
         "8.15"
        ],
        [
         "44",
         "299719",
         "GRT0361",
         "18.04",
         "19.99",
         "9.75",
         "1.95"
        ],
        [
         "45",
         "299723",
         "MAC0122",
         "23.74",
         "29.95",
         "20.73",
         "6.21"
        ],
        [
         "46",
         "299696",
         "SAN0112",
         "18.99",
         "24.99",
         "24.01",
         "6.0"
        ],
        [
         "47",
         "299736",
         "WAC0191",
         "161.49",
         "199.99",
         "19.25",
         "38.5"
        ],
        [
         "48",
         "299737",
         "JBL0107",
         "94.99",
         "129.99",
         "26.93",
         "35.0"
        ],
        [
         "49",
         "299742",
         "NEA0017",
         "21.84",
         "24.99",
         "12.61",
         "3.15"
        ]
       ],
       "shape": {
        "columns": 6,
        "rows": 55957
       }
      },
      "text/html": [
       "<div>\n",
       "<style scoped>\n",
       "    .dataframe tbody tr th:only-of-type {\n",
       "        vertical-align: middle;\n",
       "    }\n",
       "\n",
       "    .dataframe tbody tr th {\n",
       "        vertical-align: top;\n",
       "    }\n",
       "\n",
       "    .dataframe thead th {\n",
       "        text-align: right;\n",
       "    }\n",
       "</style>\n",
       "<table border=\"1\" class=\"dataframe\">\n",
       "  <thead>\n",
       "    <tr style=\"text-align: right;\">\n",
       "      <th></th>\n",
       "      <th>order_id</th>\n",
       "      <th>sku</th>\n",
       "      <th>unit_price</th>\n",
       "      <th>listed_price</th>\n",
       "      <th>discount_pct</th>\n",
       "      <th>discount_raw</th>\n",
       "    </tr>\n",
       "  </thead>\n",
       "  <tbody>\n",
       "    <tr>\n",
       "      <th>0</th>\n",
       "      <td>299545</td>\n",
       "      <td>OWC0100</td>\n",
       "      <td>47.49</td>\n",
       "      <td>60.99</td>\n",
       "      <td>22.13</td>\n",
       "      <td>13.50</td>\n",
       "    </tr>\n",
       "    <tr>\n",
       "      <th>1</th>\n",
       "      <td>299546</td>\n",
       "      <td>IOT0014</td>\n",
       "      <td>18.99</td>\n",
       "      <td>22.95</td>\n",
       "      <td>17.25</td>\n",
       "      <td>3.96</td>\n",
       "    </tr>\n",
       "    <tr>\n",
       "      <th>2</th>\n",
       "      <td>295347</td>\n",
       "      <td>APP0700</td>\n",
       "      <td>72.19</td>\n",
       "      <td>89.00</td>\n",
       "      <td>18.89</td>\n",
       "      <td>16.81</td>\n",
       "    </tr>\n",
       "    <tr>\n",
       "      <th>3</th>\n",
       "      <td>299556</td>\n",
       "      <td>CRU0039-A</td>\n",
       "      <td>60.90</td>\n",
       "      <td>76.99</td>\n",
       "      <td>20.90</td>\n",
       "      <td>16.09</td>\n",
       "    </tr>\n",
       "    <tr>\n",
       "      <th>4</th>\n",
       "      <td>299561</td>\n",
       "      <td>PEB0015</td>\n",
       "      <td>142.49</td>\n",
       "      <td>299.99</td>\n",
       "      <td>52.50</td>\n",
       "      <td>157.50</td>\n",
       "    </tr>\n",
       "    <tr>\n",
       "      <th>...</th>\n",
       "      <td>...</td>\n",
       "      <td>...</td>\n",
       "      <td>...</td>\n",
       "      <td>...</td>\n",
       "      <td>...</td>\n",
       "      <td>...</td>\n",
       "    </tr>\n",
       "    <tr>\n",
       "      <th>55952</th>\n",
       "      <td>525664</td>\n",
       "      <td>TUC0207</td>\n",
       "      <td>16.52</td>\n",
       "      <td>24.99</td>\n",
       "      <td>33.89</td>\n",
       "      <td>8.47</td>\n",
       "    </tr>\n",
       "    <tr>\n",
       "      <th>55953</th>\n",
       "      <td>527070</td>\n",
       "      <td>APP0698</td>\n",
       "      <td>9.99</td>\n",
       "      <td>25.00</td>\n",
       "      <td>60.04</td>\n",
       "      <td>15.01</td>\n",
       "    </tr>\n",
       "    <tr>\n",
       "      <th>55954</th>\n",
       "      <td>527074</td>\n",
       "      <td>APP0698</td>\n",
       "      <td>9.99</td>\n",
       "      <td>25.00</td>\n",
       "      <td>60.04</td>\n",
       "      <td>15.01</td>\n",
       "    </tr>\n",
       "    <tr>\n",
       "      <th>55955</th>\n",
       "      <td>527096</td>\n",
       "      <td>APP0698</td>\n",
       "      <td>9.99</td>\n",
       "      <td>25.00</td>\n",
       "      <td>60.04</td>\n",
       "      <td>15.01</td>\n",
       "    </tr>\n",
       "    <tr>\n",
       "      <th>55956</th>\n",
       "      <td>527112</td>\n",
       "      <td>APP0698</td>\n",
       "      <td>9.99</td>\n",
       "      <td>25.00</td>\n",
       "      <td>60.04</td>\n",
       "      <td>15.01</td>\n",
       "    </tr>\n",
       "  </tbody>\n",
       "</table>\n",
       "<p>55957 rows × 6 columns</p>\n",
       "</div>"
      ],
      "text/plain": [
       "       order_id        sku  unit_price  listed_price  discount_pct  \\\n",
       "0        299545    OWC0100       47.49         60.99         22.13   \n",
       "1        299546    IOT0014       18.99         22.95         17.25   \n",
       "2        295347    APP0700       72.19         89.00         18.89   \n",
       "3        299556  CRU0039-A       60.90         76.99         20.90   \n",
       "4        299561    PEB0015      142.49        299.99         52.50   \n",
       "...         ...        ...         ...           ...           ...   \n",
       "55952    525664    TUC0207       16.52         24.99         33.89   \n",
       "55953    527070    APP0698        9.99         25.00         60.04   \n",
       "55954    527074    APP0698        9.99         25.00         60.04   \n",
       "55955    527096    APP0698        9.99         25.00         60.04   \n",
       "55956    527112    APP0698        9.99         25.00         60.04   \n",
       "\n",
       "       discount_raw  \n",
       "0             13.50  \n",
       "1              3.96  \n",
       "2             16.81  \n",
       "3             16.09  \n",
       "4            157.50  \n",
       "...             ...  \n",
       "55952          8.47  \n",
       "55953         15.01  \n",
       "55954         15.01  \n",
       "55955         15.01  \n",
       "55956         15.01  \n",
       "\n",
       "[55957 rows x 6 columns]"
      ]
     },
     "execution_count": 53,
     "metadata": {},
     "output_type": "execute_result"
    }
   ],
   "source": [
    "# calculate discount raw and percentage\n",
    "ol_prod_discount_df[\"discount_pct\"] = round((1 - ol_prod_discount_df[\"unit_price\"] / ol_prod_discount_df[\"listed_price\"]) * 100, 2)\n",
    "ol_prod_discount_df[\"discount_raw\"] = round(ol_prod_discount_df[\"listed_price\"] - ol_prod_discount_df[\"unit_price\"], 2)\n",
    "ol_prod_discount_df"
   ]
  },
  {
   "cell_type": "code",
   "execution_count": null,
   "metadata": {},
   "outputs": [
    {
     "data": {
      "image/png": "[encoded data removed]",
      "text/plain": [
       "<Figure size 800x600 with 1 Axes>"
      ]
     },
     "metadata": {},
     "output_type": "display_data"
    }
   ],
   "source": [
    "# Explore the discount percentages\n",
    "ol_prod_discount_df.discount_pct.hist(bins= 50, figsize=(8,6));"
   ]
  },
  {
   "cell_type": "code",
   "execution_count": 58,
   "metadata": {},
   "outputs": [
    {
     "data": {
      "image/png": "[encoded data removed]",
      "text/plain": [
       "<Figure size 640x480 with 1 Axes>"
      ]
     },
     "metadata": {},
     "output_type": "display_data"
    }
   ],
   "source": [
    "# Boxplot\n",
    "ax2 = ol_prod_discount_df.boxplot(\"discount_pct\");\n",
    "ax2.set_ylim(-30, +100)\n",
    "plt.show()"
   ]
  },
  {
   "cell_type": "code",
   "execution_count": null,
   "metadata": {},
   "outputs": [
    {
     "data": {
      "application/vnd.microsoft.datawrangler.viewer.v0+json": {
       "columns": [
        {
         "name": "index",
         "rawType": "int64",
         "type": "integer"
        },
        {
         "name": "order_id",
         "rawType": "int64",
         "type": "integer"
        },
        {
         "name": "sku",
         "rawType": "object",
         "type": "string"
        },
        {
         "name": "unit_price",
         "rawType": "float64",
         "type": "float"
        },
        {
         "name": "listed_price",
         "rawType": "float64",
         "type": "float"
        },
        {
         "name": "discount_pct",
         "rawType": "float64",
         "type": "float"
        },
        {
         "name": "discount_raw",
         "rawType": "float64",
         "type": "float"
        }
       ],
       "ref": "681a7ffc-fae7-49e0-ba46-a3dacd34d668",
       "rows": [
        [
         "11316",
         "352922",
         "QNA0167",
         "119.0",
         "118.99",
         "-0.01",
         "-0.01"
        ],
        [
         "983",
         "302922",
         "KIN0153-2",
         "149.99",
         "149.98",
         "-0.01",
         "-0.01"
        ],
        [
         "1574",
         "305172",
         "BNQ0044",
         "105.0",
         "104.99",
         "-0.01",
         "-0.01"
        ],
        [
         "638",
         "301544",
         "KIN0153-2",
         "149.99",
         "149.98",
         "-0.01",
         "-0.01"
        ],
        [
         "895",
         "302458",
         "KIN0153-2",
         "149.99",
         "149.98",
         "-0.01",
         "-0.01"
        ],
        [
         "755",
         "301905",
         "KIN0153-2",
         "149.99",
         "149.98",
         "-0.01",
         "-0.01"
        ],
        [
         "11659",
         "354199",
         "QNA0167",
         "119.0",
         "118.99",
         "-0.01",
         "-0.01"
        ],
        [
         "51360",
         "508306",
         "SAN0113",
         "50.0",
         "49.99",
         "-0.02",
         "-0.01"
        ],
        [
         "12574",
         "358342",
         "WIT0035",
         "199.99",
         "199.95",
         "-0.02",
         "-0.04"
        ],
        [
         "27095",
         "415345",
         "WAC0164",
         "429.99",
         "429.9",
         "-0.02",
         "-0.09"
        ],
        [
         "4211",
         "313021",
         "IFX0040",
         "249.99",
         "249.95",
         "-0.02",
         "-0.04"
        ],
        [
         "28564",
         "419966",
         "WAC0164",
         "429.99",
         "429.9",
         "-0.02",
         "-0.09"
        ],
        [
         "13108",
         "360627",
         "WAC0164",
         "429.99",
         "429.9",
         "-0.02",
         "-0.09"
        ],
        [
         "27833",
         "418185",
         "WAC0164",
         "429.99",
         "429.9",
         "-0.02",
         "-0.09"
        ],
        [
         "10013",
         "347996",
         "WIT0035",
         "199.99",
         "199.95",
         "-0.02",
         "-0.04"
        ],
        [
         "14403",
         "368555",
         "WIT0035",
         "199.99",
         "199.95",
         "-0.02",
         "-0.04"
        ],
        [
         "8670",
         "327425",
         "WIT0036",
         "189.99",
         "189.95",
         "-0.02",
         "-0.04"
        ],
        [
         "26234",
         "412397",
         "IFX0055",
         "99.99",
         "99.95",
         "-0.04",
         "-0.04"
        ],
        [
         "49237",
         "498824",
         "SAN0112",
         "25.0",
         "24.99",
         "-0.04",
         "-0.01"
        ],
        [
         "15855",
         "373607",
         "IFX0055",
         "99.99",
         "99.95",
         "-0.04",
         "-0.04"
        ],
        [
         "1622",
         "305368",
         "IFX0055",
         "99.99",
         "99.95",
         "-0.04",
         "-0.04"
        ],
        [
         "38131",
         "455995",
         "SYN0163",
         "229.99",
         "229.9",
         "-0.04",
         "-0.09"
        ],
        [
         "14706",
         "369653",
         "IFX0055",
         "99.99",
         "99.95",
         "-0.04",
         "-0.04"
        ],
        [
         "12785",
         "359324",
         "IFX0055",
         "99.99",
         "99.95",
         "-0.04",
         "-0.04"
        ],
        [
         "26174",
         "412100",
         "IFX0055",
         "99.99",
         "99.95",
         "-0.04",
         "-0.04"
        ],
        [
         "23176",
         "400549",
         "IFX0055",
         "99.99",
         "99.95",
         "-0.04",
         "-0.04"
        ],
        [
         "8322",
         "326043",
         "IFX0055",
         "99.99",
         "99.95",
         "-0.04",
         "-0.04"
        ],
        [
         "21711",
         "393508",
         "IFX0055",
         "99.99",
         "99.95",
         "-0.04",
         "-0.04"
        ],
        [
         "12866",
         "359781",
         "IFX0055",
         "99.99",
         "99.95",
         "-0.04",
         "-0.04"
        ],
        [
         "23387",
         "401392",
         "IFX0055",
         "99.99",
         "99.95",
         "-0.04",
         "-0.04"
        ],
        [
         "21697",
         "393388",
         "IFX0055",
         "99.99",
         "99.95",
         "-0.04",
         "-0.04"
        ],
        [
         "25529",
         "409597",
         "IFX0055",
         "99.99",
         "99.95",
         "-0.04",
         "-0.04"
        ],
        [
         "1122",
         "303394",
         "IFX0136",
         "89.99",
         "89.95",
         "-0.04",
         "-0.04"
        ],
        [
         "16460",
         "375298",
         "IFX0055",
         "99.99",
         "99.95",
         "-0.04",
         "-0.04"
        ],
        [
         "8502",
         "326805",
         "IFX0055",
         "99.99",
         "99.95",
         "-0.04",
         "-0.04"
        ],
        [
         "18918",
         "383730",
         "IFX0055",
         "99.99",
         "99.95",
         "-0.04",
         "-0.04"
        ],
        [
         "6606",
         "320137",
         "IFX0055",
         "99.99",
         "99.95",
         "-0.04",
         "-0.04"
        ],
        [
         "47545",
         "492768",
         "SYN0163",
         "229.99",
         "229.9",
         "-0.04",
         "-0.09"
        ],
        [
         "22360",
         "396001",
         "IFX0055",
         "99.99",
         "99.95",
         "-0.04",
         "-0.04"
        ],
        [
         "12243",
         "356554",
         "ELG0045",
         "99.99",
         "99.95",
         "-0.04",
         "-0.04"
        ],
        [
         "2284",
         "307339",
         "IFX0055",
         "99.99",
         "99.95",
         "-0.04",
         "-0.04"
        ],
        [
         "27847",
         "418251",
         "IFX0136",
         "89.99",
         "89.95",
         "-0.04",
         "-0.04"
        ],
        [
         "19437",
         "384987",
         "IFX0055",
         "99.99",
         "99.95",
         "-0.04",
         "-0.04"
        ],
        [
         "19444",
         "385011",
         "IFX0055",
         "99.99",
         "99.95",
         "-0.04",
         "-0.04"
        ],
        [
         "22719",
         "398320",
         "IFX0055",
         "99.99",
         "99.95",
         "-0.04",
         "-0.04"
        ],
        [
         "11901",
         "355113",
         "IFX0055",
         "99.99",
         "99.95",
         "-0.04",
         "-0.04"
        ],
        [
         "38656",
         "459086",
         "SYN0163",
         "229.99",
         "229.9",
         "-0.04",
         "-0.09"
        ],
        [
         "2677",
         "307074",
         "IFX0055",
         "99.99",
         "99.95",
         "-0.04",
         "-0.04"
        ],
        [
         "38748",
         "459616",
         "IFX0136",
         "89.99",
         "89.95",
         "-0.04",
         "-0.04"
        ],
        [
         "14937",
         "370406",
         "IFX0055",
         "99.99",
         "99.95",
         "-0.04",
         "-0.04"
        ]
       ],
       "shape": {
        "columns": 6,
        "rows": 1606
       }
      },
      "text/html": [
       "<div>\n",
       "<style scoped>\n",
       "    .dataframe tbody tr th:only-of-type {\n",
       "        vertical-align: middle;\n",
       "    }\n",
       "\n",
       "    .dataframe tbody tr th {\n",
       "        vertical-align: top;\n",
       "    }\n",
       "\n",
       "    .dataframe thead th {\n",
       "        text-align: right;\n",
       "    }\n",
       "</style>\n",
       "<table border=\"1\" class=\"dataframe\">\n",
       "  <thead>\n",
       "    <tr style=\"text-align: right;\">\n",
       "      <th></th>\n",
       "      <th>order_id</th>\n",
       "      <th>sku</th>\n",
       "      <th>unit_price</th>\n",
       "      <th>listed_price</th>\n",
       "      <th>discount_pct</th>\n",
       "      <th>discount_raw</th>\n",
       "    </tr>\n",
       "  </thead>\n",
       "  <tbody>\n",
       "    <tr>\n",
       "      <th>11316</th>\n",
       "      <td>352922</td>\n",
       "      <td>QNA0167</td>\n",
       "      <td>119.00</td>\n",
       "      <td>118.99</td>\n",
       "      <td>-0.01</td>\n",
       "      <td>-0.01</td>\n",
       "    </tr>\n",
       "    <tr>\n",
       "      <th>983</th>\n",
       "      <td>302922</td>\n",
       "      <td>KIN0153-2</td>\n",
       "      <td>149.99</td>\n",
       "      <td>149.98</td>\n",
       "      <td>-0.01</td>\n",
       "      <td>-0.01</td>\n",
       "    </tr>\n",
       "    <tr>\n",
       "      <th>1574</th>\n",
       "      <td>305172</td>\n",
       "      <td>BNQ0044</td>\n",
       "      <td>105.00</td>\n",
       "      <td>104.99</td>\n",
       "      <td>-0.01</td>\n",
       "      <td>-0.01</td>\n",
       "    </tr>\n",
       "    <tr>\n",
       "      <th>638</th>\n",
       "      <td>301544</td>\n",
       "      <td>KIN0153-2</td>\n",
       "      <td>149.99</td>\n",
       "      <td>149.98</td>\n",
       "      <td>-0.01</td>\n",
       "      <td>-0.01</td>\n",
       "    </tr>\n",
       "    <tr>\n",
       "      <th>895</th>\n",
       "      <td>302458</td>\n",
       "      <td>KIN0153-2</td>\n",
       "      <td>149.99</td>\n",
       "      <td>149.98</td>\n",
       "      <td>-0.01</td>\n",
       "      <td>-0.01</td>\n",
       "    </tr>\n",
       "    <tr>\n",
       "      <th>...</th>\n",
       "      <td>...</td>\n",
       "      <td>...</td>\n",
       "      <td>...</td>\n",
       "      <td>...</td>\n",
       "      <td>...</td>\n",
       "      <td>...</td>\n",
       "    </tr>\n",
       "    <tr>\n",
       "      <th>7758</th>\n",
       "      <td>324159</td>\n",
       "      <td>KIN0149-2</td>\n",
       "      <td>170.99</td>\n",
       "      <td>105.98</td>\n",
       "      <td>-61.34</td>\n",
       "      <td>-65.01</td>\n",
       "    </tr>\n",
       "    <tr>\n",
       "      <th>18683</th>\n",
       "      <td>382838</td>\n",
       "      <td>PRY0008</td>\n",
       "      <td>135.99</td>\n",
       "      <td>74.99</td>\n",
       "      <td>-81.34</td>\n",
       "      <td>-61.00</td>\n",
       "    </tr>\n",
       "    <tr>\n",
       "      <th>10268</th>\n",
       "      <td>347233</td>\n",
       "      <td>IFX0074</td>\n",
       "      <td>24.95</td>\n",
       "      <td>7.99</td>\n",
       "      <td>-212.27</td>\n",
       "      <td>-16.96</td>\n",
       "    </tr>\n",
       "    <tr>\n",
       "      <th>20333</th>\n",
       "      <td>388586</td>\n",
       "      <td>IFX0074</td>\n",
       "      <td>24.95</td>\n",
       "      <td>7.99</td>\n",
       "      <td>-212.27</td>\n",
       "      <td>-16.96</td>\n",
       "    </tr>\n",
       "    <tr>\n",
       "      <th>17865</th>\n",
       "      <td>379925</td>\n",
       "      <td>IFX0074</td>\n",
       "      <td>24.95</td>\n",
       "      <td>7.99</td>\n",
       "      <td>-212.27</td>\n",
       "      <td>-16.96</td>\n",
       "    </tr>\n",
       "  </tbody>\n",
       "</table>\n",
       "<p>1606 rows × 6 columns</p>\n",
       "</div>"
      ],
      "text/plain": [
       "       order_id        sku  unit_price  listed_price  discount_pct  \\\n",
       "11316    352922    QNA0167      119.00        118.99         -0.01   \n",
       "983      302922  KIN0153-2      149.99        149.98         -0.01   \n",
       "1574     305172    BNQ0044      105.00        104.99         -0.01   \n",
       "638      301544  KIN0153-2      149.99        149.98         -0.01   \n",
       "895      302458  KIN0153-2      149.99        149.98         -0.01   \n",
       "...         ...        ...         ...           ...           ...   \n",
       "7758     324159  KIN0149-2      170.99        105.98        -61.34   \n",
       "18683    382838    PRY0008      135.99         74.99        -81.34   \n",
       "10268    347233    IFX0074       24.95          7.99       -212.27   \n",
       "20333    388586    IFX0074       24.95          7.99       -212.27   \n",
       "17865    379925    IFX0074       24.95          7.99       -212.27   \n",
       "\n",
       "       discount_raw  \n",
       "11316         -0.01  \n",
       "983           -0.01  \n",
       "1574          -0.01  \n",
       "638           -0.01  \n",
       "895           -0.01  \n",
       "...             ...  \n",
       "7758         -65.01  \n",
       "18683        -61.00  \n",
       "10268        -16.96  \n",
       "20333        -16.96  \n",
       "17865        -16.96  \n",
       "\n",
       "[1606 rows x 6 columns]"
      ]
     },
     "execution_count": 61,
     "metadata": {},
     "output_type": "execute_result"
    }
   ],
   "source": [
    "# Negative percentages are suspect and could indicate corrupted data\n",
    "# Filtering out using 1.5 * IQR not possible on the low side since that would remove those only partially.\n",
    "# Check small differences\n",
    "ol_prod_discount_df.loc[ol_prod_discount_df['discount_pct'] < 0, :].sort_values(by='discount_pct', ascending=False)"
   ]
  },
  {
   "cell_type": "code",
   "execution_count": null,
   "metadata": {},
   "outputs": [],
   "source": [
    "# Remove all the negative discount percentages below -1% since small errors can occur via rounding and we want to preserve as much data as possible\n",
    "ol_prod_discount_df = ol_prod_discount_df.loc[ol_prod_discount_df['discount_pct'] > -1, :]"
   ]
  },
  {
   "cell_type": "code",
   "execution_count": 65,
   "metadata": {},
   "outputs": [
    {
     "data": {
      "application/vnd.microsoft.datawrangler.viewer.v0+json": {
       "columns": [
        {
         "name": "index",
         "rawType": "int64",
         "type": "integer"
        },
        {
         "name": "order_id",
         "rawType": "int64",
         "type": "integer"
        },
        {
         "name": "sku",
         "rawType": "object",
         "type": "string"
        },
        {
         "name": "unit_price",
         "rawType": "float64",
         "type": "float"
        },
        {
         "name": "listed_price",
         "rawType": "float64",
         "type": "float"
        },
        {
         "name": "discount_pct",
         "rawType": "float64",
         "type": "float"
        },
        {
         "name": "discount_raw",
         "rawType": "float64",
         "type": "float"
        }
       ],
       "ref": "57b3cff5-209d-4239-8e6e-ec037929de49",
       "rows": [
        [
         "83",
         "299909",
         "LAC0159",
         "176.69",
         "174.99",
         "-0.97",
         "-1.7"
        ],
        [
         "30157",
         "426543",
         "SAN0148",
         "31.28",
         "30.99",
         "-0.94",
         "-0.29"
        ],
        [
         "20037",
         "387492",
         "SAN0148",
         "31.28",
         "30.99",
         "-0.94",
         "-0.29"
        ],
        [
         "4842",
         "314649",
         "SAM0073",
         "109.0",
         "107.99",
         "-0.94",
         "-1.01"
        ],
        [
         "4676",
         "314166",
         "SAM0073",
         "109.0",
         "107.99",
         "-0.94",
         "-1.01"
        ],
        [
         "38606",
         "458897",
         "SAN0148",
         "31.28",
         "30.99",
         "-0.94",
         "-0.29"
        ],
        [
         "39386",
         "462509",
         "SAN0148",
         "31.28",
         "30.99",
         "-0.94",
         "-0.29"
        ],
        [
         "41402",
         "469204",
         "SAN0148",
         "31.28",
         "30.99",
         "-0.94",
         "-0.29"
        ],
        [
         "3778",
         "311653",
         "SAM0073",
         "109.0",
         "107.99",
         "-0.94",
         "-1.01"
        ],
        [
         "40437",
         "466150",
         "SAN0148",
         "31.28",
         "30.99",
         "-0.94",
         "-0.29"
        ],
        [
         "4430",
         "313645",
         "SAM0073",
         "109.0",
         "107.99",
         "-0.94",
         "-1.01"
        ],
        [
         "4452",
         "313685",
         "SAM0073",
         "109.0",
         "107.99",
         "-0.94",
         "-1.01"
        ],
        [
         "12778",
         "323349",
         "SAM0073",
         "109.0",
         "107.99",
         "-0.94",
         "-1.01"
        ],
        [
         "25659",
         "410141",
         "SAN0148",
         "31.28",
         "30.99",
         "-0.94",
         "-0.29"
        ],
        [
         "27226",
         "415565",
         "SAN0148",
         "31.28",
         "30.99",
         "-0.94",
         "-0.29"
        ],
        [
         "39341",
         "462151",
         "SAN0148",
         "31.28",
         "30.99",
         "-0.94",
         "-0.29"
        ],
        [
         "1119",
         "303346",
         "SAM0073",
         "108.99",
         "107.99",
         "-0.93",
         "-1.0"
        ],
        [
         "13256",
         "361205",
         "DLL0050",
         "216.99",
         "214.99",
         "-0.93",
         "-2.0"
        ],
        [
         "18224",
         "381271",
         "DLL0050",
         "216.99",
         "214.99",
         "-0.93",
         "-2.0"
        ],
        [
         "1724",
         "305687",
         "SAM0073",
         "108.99",
         "107.99",
         "-0.93",
         "-1.0"
        ],
        [
         "11898",
         "355105",
         "DLL0050",
         "216.99",
         "214.99",
         "-0.93",
         "-2.0"
        ],
        [
         "830",
         "302171",
         "SAM0073",
         "108.99",
         "107.99",
         "-0.93",
         "-1.0"
        ],
        [
         "12549",
         "358250",
         "LAC0211",
         "997.99",
         "989.0",
         "-0.91",
         "-8.99"
        ],
        [
         "13498",
         "361160",
         "LAC0211",
         "997.99",
         "989.0",
         "-0.91",
         "-8.99"
        ],
        [
         "37823",
         "454417",
         "GTE0060",
         "97.79",
         "96.99",
         "-0.82",
         "-0.8"
        ],
        [
         "50558",
         "505082",
         "HGS0008",
         "71.58",
         "71.0",
         "-0.82",
         "-0.58"
        ],
        [
         "21514",
         "392961",
         "HGS0008",
         "71.58",
         "71.0",
         "-0.82",
         "-0.58"
        ],
        [
         "8912",
         "338022",
         "LAC0182",
         "201.59",
         "199.99",
         "-0.8",
         "-1.6"
        ],
        [
         "5232",
         "315870",
         "OWC0174-2",
         "253.99",
         "251.98",
         "-0.8",
         "-2.01"
        ],
        [
         "40640",
         "427277",
         "BNQ0056",
         "779.0",
         "773.0",
         "-0.78",
         "-6.0"
        ],
        [
         "30030",
         "426067",
         "BNQ0056",
         "779.0",
         "773.0",
         "-0.78",
         "-6.0"
        ],
        [
         "40934",
         "467669",
         "BNQ0056",
         "779.0",
         "773.0",
         "-0.78",
         "-6.0"
        ],
        [
         "47226",
         "491419",
         "BNQ0056",
         "779.0",
         "773.0",
         "-0.78",
         "-6.0"
        ],
        [
         "5334",
         "316137",
         "BNQ0042",
         "699.0",
         "694.0",
         "-0.72",
         "-5.0"
        ],
        [
         "52217",
         "511597",
         "BNQ0042",
         "699.0",
         "694.0",
         "-0.72",
         "-5.0"
        ],
        [
         "24841",
         "406722",
         "BNQ0042",
         "699.0",
         "694.0",
         "-0.72",
         "-5.0"
        ],
        [
         "13847",
         "364338",
         "BNQ0042",
         "699.0",
         "694.0",
         "-0.72",
         "-5.0"
        ],
        [
         "13406",
         "361814",
         "BNQ0042",
         "699.0",
         "694.0",
         "-0.72",
         "-5.0"
        ],
        [
         "13273",
         "361262",
         "BNQ0042",
         "699.0",
         "694.0",
         "-0.72",
         "-5.0"
        ],
        [
         "17455",
         "378436",
         "BNQ0042",
         "699.0",
         "694.0",
         "-0.72",
         "-5.0"
        ],
        [
         "13358",
         "361635",
         "BNQ0042",
         "699.0",
         "694.0",
         "-0.72",
         "-5.0"
        ],
        [
         "53060",
         "514712",
         "BNQ0042",
         "699.0",
         "694.0",
         "-0.72",
         "-5.0"
        ],
        [
         "18662",
         "382300",
         "GTE0056",
         "143.99",
         "142.99",
         "-0.7",
         "-1.0"
        ],
        [
         "14413",
         "368625",
         "LAC0210",
         "572.99",
         "569.0",
         "-0.7",
         "-3.99"
        ],
        [
         "13247",
         "361161",
         "LAC0210",
         "572.99",
         "569.0",
         "-0.7",
         "-3.99"
        ],
        [
         "19127",
         "384334",
         "IFX0079",
         "5.99",
         "5.95",
         "-0.67",
         "-0.04"
        ],
        [
         "91",
         "299959",
         "IFX0079",
         "5.99",
         "5.95",
         "-0.67",
         "-0.04"
        ],
        [
         "15108",
         "371141",
         "IFX0079",
         "5.99",
         "5.95",
         "-0.67",
         "-0.04"
        ],
        [
         "5247",
         "315899",
         "IFX0079",
         "5.99",
         "5.95",
         "-0.67",
         "-0.04"
        ],
        [
         "16979",
         "376743",
         "LAC0227",
         "301.99",
         "299.99",
         "-0.67",
         "-2.0"
        ]
       ],
       "shape": {
        "columns": 6,
        "rows": 55182
       }
      },
      "text/html": [
       "<div>\n",
       "<style scoped>\n",
       "    .dataframe tbody tr th:only-of-type {\n",
       "        vertical-align: middle;\n",
       "    }\n",
       "\n",
       "    .dataframe tbody tr th {\n",
       "        vertical-align: top;\n",
       "    }\n",
       "\n",
       "    .dataframe thead th {\n",
       "        text-align: right;\n",
       "    }\n",
       "</style>\n",
       "<table border=\"1\" class=\"dataframe\">\n",
       "  <thead>\n",
       "    <tr style=\"text-align: right;\">\n",
       "      <th></th>\n",
       "      <th>order_id</th>\n",
       "      <th>sku</th>\n",
       "      <th>unit_price</th>\n",
       "      <th>listed_price</th>\n",
       "      <th>discount_pct</th>\n",
       "      <th>discount_raw</th>\n",
       "    </tr>\n",
       "  </thead>\n",
       "  <tbody>\n",
       "    <tr>\n",
       "      <th>83</th>\n",
       "      <td>299909</td>\n",
       "      <td>LAC0159</td>\n",
       "      <td>176.69</td>\n",
       "      <td>174.99</td>\n",
       "      <td>-0.97</td>\n",
       "      <td>-1.70</td>\n",
       "    </tr>\n",
       "    <tr>\n",
       "      <th>30157</th>\n",
       "      <td>426543</td>\n",
       "      <td>SAN0148</td>\n",
       "      <td>31.28</td>\n",
       "      <td>30.99</td>\n",
       "      <td>-0.94</td>\n",
       "      <td>-0.29</td>\n",
       "    </tr>\n",
       "    <tr>\n",
       "      <th>20037</th>\n",
       "      <td>387492</td>\n",
       "      <td>SAN0148</td>\n",
       "      <td>31.28</td>\n",
       "      <td>30.99</td>\n",
       "      <td>-0.94</td>\n",
       "      <td>-0.29</td>\n",
       "    </tr>\n",
       "    <tr>\n",
       "      <th>4842</th>\n",
       "      <td>314649</td>\n",
       "      <td>SAM0073</td>\n",
       "      <td>109.00</td>\n",
       "      <td>107.99</td>\n",
       "      <td>-0.94</td>\n",
       "      <td>-1.01</td>\n",
       "    </tr>\n",
       "    <tr>\n",
       "      <th>4676</th>\n",
       "      <td>314166</td>\n",
       "      <td>SAM0073</td>\n",
       "      <td>109.00</td>\n",
       "      <td>107.99</td>\n",
       "      <td>-0.94</td>\n",
       "      <td>-1.01</td>\n",
       "    </tr>\n",
       "    <tr>\n",
       "      <th>...</th>\n",
       "      <td>...</td>\n",
       "      <td>...</td>\n",
       "      <td>...</td>\n",
       "      <td>...</td>\n",
       "      <td>...</td>\n",
       "      <td>...</td>\n",
       "    </tr>\n",
       "    <tr>\n",
       "      <th>52631</th>\n",
       "      <td>512862</td>\n",
       "      <td>MOP0109</td>\n",
       "      <td>2.00</td>\n",
       "      <td>69.95</td>\n",
       "      <td>97.14</td>\n",
       "      <td>67.95</td>\n",
       "    </tr>\n",
       "    <tr>\n",
       "      <th>52453</th>\n",
       "      <td>512451</td>\n",
       "      <td>MOP0107</td>\n",
       "      <td>1.60</td>\n",
       "      <td>69.95</td>\n",
       "      <td>97.71</td>\n",
       "      <td>68.35</td>\n",
       "    </tr>\n",
       "    <tr>\n",
       "      <th>52472</th>\n",
       "      <td>512498</td>\n",
       "      <td>MOP0107</td>\n",
       "      <td>1.60</td>\n",
       "      <td>69.95</td>\n",
       "      <td>97.71</td>\n",
       "      <td>68.35</td>\n",
       "    </tr>\n",
       "    <tr>\n",
       "      <th>12600</th>\n",
       "      <td>358440</td>\n",
       "      <td>SEV0018</td>\n",
       "      <td>0.01</td>\n",
       "      <td>19.99</td>\n",
       "      <td>99.95</td>\n",
       "      <td>19.98</td>\n",
       "    </tr>\n",
       "    <tr>\n",
       "      <th>13176</th>\n",
       "      <td>359758</td>\n",
       "      <td>SEV0021</td>\n",
       "      <td>0.01</td>\n",
       "      <td>49.99</td>\n",
       "      <td>99.98</td>\n",
       "      <td>49.98</td>\n",
       "    </tr>\n",
       "  </tbody>\n",
       "</table>\n",
       "<p>55182 rows × 6 columns</p>\n",
       "</div>"
      ],
      "text/plain": [
       "       order_id      sku  unit_price  listed_price  discount_pct  discount_raw\n",
       "83       299909  LAC0159      176.69        174.99         -0.97         -1.70\n",
       "30157    426543  SAN0148       31.28         30.99         -0.94         -0.29\n",
       "20037    387492  SAN0148       31.28         30.99         -0.94         -0.29\n",
       "4842     314649  SAM0073      109.00        107.99         -0.94         -1.01\n",
       "4676     314166  SAM0073      109.00        107.99         -0.94         -1.01\n",
       "...         ...      ...         ...           ...           ...           ...\n",
       "52631    512862  MOP0109        2.00         69.95         97.14         67.95\n",
       "52453    512451  MOP0107        1.60         69.95         97.71         68.35\n",
       "52472    512498  MOP0107        1.60         69.95         97.71         68.35\n",
       "12600    358440  SEV0018        0.01         19.99         99.95         19.98\n",
       "13176    359758  SEV0021        0.01         49.99         99.98         49.98\n",
       "\n",
       "[55182 rows x 6 columns]"
      ]
     },
     "execution_count": 65,
     "metadata": {},
     "output_type": "execute_result"
    }
   ],
   "source": [
    "ol_prod_discount_df.sort_values(by='discount_pct', ascending=True)"
   ]
  },
  {
   "cell_type": "code",
   "execution_count": 66,
   "metadata": {},
   "outputs": [
    {
     "data": {
      "application/vnd.microsoft.datawrangler.viewer.v0+json": {
       "columns": [
        {
         "name": "index",
         "rawType": "int64",
         "type": "integer"
        },
        {
         "name": "id",
         "rawType": "int64",
         "type": "integer"
        },
        {
         "name": "order_id",
         "rawType": "int64",
         "type": "integer"
        },
        {
         "name": "product_quantity",
         "rawType": "int64",
         "type": "integer"
        },
        {
         "name": "sku",
         "rawType": "object",
         "type": "string"
        },
        {
         "name": "unit_price",
         "rawType": "float64",
         "type": "float"
        },
        {
         "name": "date",
         "rawType": "datetime64[ns]",
         "type": "datetime"
        },
        {
         "name": "unit_price_total",
         "rawType": "float64",
         "type": "float"
        }
       ],
       "ref": "fe904ce4-ec65-4ab5-ae51-e688e3fb2d4c",
       "rows": [
        [
         "7",
         "1119116",
         "299545",
         "1",
         "OWC0100",
         "47.49",
         "2017-01-01 01:46:16",
         "47.49"
        ],
        [
         "8",
         "1119119",
         "299546",
         "1",
         "IOT0014",
         "18.99",
         "2017-01-01 01:50:34",
         "18.99"
        ],
        [
         "9",
         "1119120",
         "295347",
         "1",
         "APP0700",
         "72.19",
         "2017-01-01 01:54:11",
         "72.19"
        ],
        [
         "18",
         "1119134",
         "299556",
         "1",
         "CRU0039-A",
         "60.9",
         "2017-01-01 02:20:14",
         "60.9"
        ],
        [
         "24",
         "1119145",
         "299561",
         "1",
         "PEB0015",
         "142.49",
         "2017-01-01 02:38:50",
         "142.49"
        ],
        [
         "26",
         "1119154",
         "299563",
         "1",
         "BEA0065",
         "256.49",
         "2017-01-01 02:42:05",
         "256.49"
        ],
        [
         "27",
         "1119155",
         "299564",
         "1",
         "SAT0010",
         "18.99",
         "2017-01-01 02:43:37",
         "18.99"
        ],
        [
         "33",
         "1119181",
         "299571",
         "1",
         "SYN0139",
         "166.24",
         "2017-01-01 04:00:44",
         "166.24"
        ],
        [
         "40",
         "1119188",
         "299578",
         "1",
         "LOG0191",
         "142.49",
         "2017-01-01 08:21:26",
         "142.49"
        ],
        [
         "41",
         "1119189",
         "299579",
         "1",
         "LGE0031-A",
         "127.08",
         "2017-01-01 08:23:14",
         "127.08"
        ],
        [
         "49",
         "1119202",
         "299586",
         "1",
         "GRT0456",
         "42.99",
         "2017-01-01 09:18:52",
         "42.99"
        ],
        [
         "60",
         "1119215",
         "299597",
         "1",
         "PEB0015",
         "142.49",
         "2017-01-01 09:53:56",
         "142.49"
        ],
        [
         "73",
         "1119244",
         "299600",
         "1",
         "APP0410",
         "33.25",
         "2017-01-01 10:28:59",
         "33.25"
        ],
        [
         "74",
         "1119245",
         "299600",
         "1",
         "LAC0205",
         "246.99",
         "2017-01-01 10:29:36",
         "246.99"
        ],
        [
         "75",
         "1119247",
         "299600",
         "1",
         "DLK0078",
         "28.41",
         "2017-01-01 10:38:35",
         "28.41"
        ],
        [
         "79",
         "1119253",
         "299608",
         "1",
         "ICA0079",
         "66.49",
         "2017-01-01 10:51:36",
         "66.49"
        ],
        [
         "80",
         "1119254",
         "299609",
         "1",
         "PAR0071",
         "474.05",
         "2017-01-01 10:51:38",
         "474.05"
        ],
        [
         "81",
         "1119255",
         "299610",
         "1",
         "APP0023",
         "55.99",
         "2017-01-01 10:52:42",
         "55.99"
        ],
        [
         "83",
         "1119257",
         "299610",
         "1",
         "APP1214",
         "84.99",
         "2017-01-01 10:53:10",
         "84.99"
        ],
        [
         "86",
         "1119262",
         "299600",
         "2",
         "BEL0229",
         "18.99",
         "2017-01-01 10:55:02",
         "37.98"
        ],
        [
         "99",
         "1119287",
         "299623",
         "1",
         "OBL0007",
         "37.05",
         "2017-01-01 11:29:39",
         "37.05"
        ],
        [
         "106",
         "1119295",
         "299189",
         "1",
         "TUC0276",
         "24.99",
         "2017-01-01 11:39:50",
         "24.99"
        ],
        [
         "109",
         "1119299",
         "298391",
         "1",
         "APP0662",
         "149.99",
         "2017-01-01 11:41:58",
         "149.99"
        ],
        [
         "113",
         "1119306",
         "299634",
         "1",
         "SYN0146",
         "369.54",
         "2017-01-01 11:50:06",
         "369.54"
        ],
        [
         "116",
         "1119314",
         "299637",
         "1",
         "TOS0007",
         "53.19",
         "2017-01-01 11:55:51",
         "53.19"
        ],
        [
         "121",
         "1119325",
         "299571",
         "1",
         "WDT0183",
         "151.99",
         "2017-01-01 12:00:57",
         "151.99"
        ],
        [
         "122",
         "1119326",
         "299634",
         "3",
         "WDT0183",
         "151.99",
         "2017-01-01 12:01:01",
         "455.97"
        ],
        [
         "123",
         "1119328",
         "297809",
         "1",
         "IFX0016",
         "14.24",
         "2017-01-01 12:01:12",
         "14.24"
        ],
        [
         "133",
         "1119347",
         "299648",
         "1",
         "PAC1381",
         "355.29",
         "2017-01-01 12:21:21",
         "355.29"
        ],
        [
         "137",
         "1119360",
         "299650",
         "1",
         "NOK0007",
         "65.99",
         "2017-01-01 12:28:27",
         "65.99"
        ],
        [
         "139",
         "1119363",
         "299655",
         "1",
         "WAC0191",
         "161.49",
         "2017-01-01 12:29:49",
         "161.49"
        ],
        [
         "143",
         "1119367",
         "299655",
         "1",
         "WAC0040",
         "35.14",
         "2017-01-01 12:31:41",
         "35.14"
        ],
        [
         "145",
         "1119371",
         "299659",
         "1",
         "THU0013",
         "75.99",
         "2017-01-01 12:32:53",
         "75.99"
        ],
        [
         "153",
         "1119388",
         "299667",
         "1",
         "WIT0024",
         "94.99",
         "2017-01-01 12:42:40",
         "94.99"
        ],
        [
         "158",
         "1119404",
         "299673",
         "1",
         "PAC0569",
         "168.14",
         "2017-01-01 12:56:10",
         "168.14"
        ],
        [
         "160",
         "1119407",
         "299674",
         "1",
         "PAC1296",
         "584.24",
         "2017-01-01 12:58:24",
         "584.24"
        ],
        [
         "166",
         "1119419",
         "299681",
         "1",
         "SPE0161",
         "35.14",
         "2017-01-01 13:07:07",
         "35.14"
        ],
        [
         "169",
         "1119422",
         "299681",
         "1",
         "APP0701",
         "69.34",
         "2017-01-01 13:09:14",
         "69.34"
        ],
        [
         "184",
         "1119448",
         "299696",
         "1",
         "KEN0212",
         "18.04",
         "2017-01-01 13:27:25",
         "18.04"
        ],
        [
         "185",
         "1119451",
         "293308",
         "1",
         "HGD0007",
         "66.49",
         "2017-01-01 13:29:10",
         "66.49"
        ],
        [
         "190",
         "1119470",
         "299704",
         "1",
         "APP0697",
         "12.99",
         "2017-01-01 13:41:17",
         "12.99"
        ],
        [
         "195",
         "1119490",
         "299710",
         "1",
         "PHI0072",
         "66.49",
         "2017-01-01 14:05:28",
         "66.49"
        ],
        [
         "196",
         "1119491",
         "299710",
         "1",
         "PHI0079",
         "56.04",
         "2017-01-01 14:06:17",
         "56.04"
        ],
        [
         "205",
         "1119506",
         "299719",
         "1",
         "OTT0139",
         "21.84",
         "2017-01-01 14:19:14",
         "21.84"
        ],
        [
         "207",
         "1119510",
         "299719",
         "1",
         "GRT0361",
         "18.04",
         "2017-01-01 14:22:21",
         "18.04"
        ],
        [
         "209",
         "1119513",
         "299723",
         "2",
         "MAC0122",
         "23.74",
         "2017-01-01 14:26:43",
         "47.48"
        ],
        [
         "216",
         "1119529",
         "299696",
         "3",
         "SAN0112",
         "18.99",
         "2017-01-01 14:52:01",
         "56.97"
        ],
        [
         "221",
         "1119539",
         "299736",
         "1",
         "WAC0191",
         "161.49",
         "2017-01-01 14:59:29",
         "161.49"
        ],
        [
         "222",
         "1119540",
         "299737",
         "1",
         "JBL0107",
         "94.99",
         "2017-01-01 15:00:18",
         "94.99"
        ],
        [
         "228",
         "1119547",
         "299742",
         "2",
         "NEA0017",
         "21.84",
         "2017-01-01 15:18:19",
         "43.68"
        ]
       ],
       "shape": {
        "columns": 7,
        "rows": 55957
       }
      },
      "text/html": [
       "<div>\n",
       "<style scoped>\n",
       "    .dataframe tbody tr th:only-of-type {\n",
       "        vertical-align: middle;\n",
       "    }\n",
       "\n",
       "    .dataframe tbody tr th {\n",
       "        vertical-align: top;\n",
       "    }\n",
       "\n",
       "    .dataframe thead th {\n",
       "        text-align: right;\n",
       "    }\n",
       "</style>\n",
       "<table border=\"1\" class=\"dataframe\">\n",
       "  <thead>\n",
       "    <tr style=\"text-align: right;\">\n",
       "      <th></th>\n",
       "      <th>id</th>\n",
       "      <th>order_id</th>\n",
       "      <th>product_quantity</th>\n",
       "      <th>sku</th>\n",
       "      <th>unit_price</th>\n",
       "      <th>date</th>\n",
       "      <th>unit_price_total</th>\n",
       "    </tr>\n",
       "  </thead>\n",
       "  <tbody>\n",
       "    <tr>\n",
       "      <th>7</th>\n",
       "      <td>1119116</td>\n",
       "      <td>299545</td>\n",
       "      <td>1</td>\n",
       "      <td>OWC0100</td>\n",
       "      <td>47.49</td>\n",
       "      <td>2017-01-01 01:46:16</td>\n",
       "      <td>47.49</td>\n",
       "    </tr>\n",
       "    <tr>\n",
       "      <th>8</th>\n",
       "      <td>1119119</td>\n",
       "      <td>299546</td>\n",
       "      <td>1</td>\n",
       "      <td>IOT0014</td>\n",
       "      <td>18.99</td>\n",
       "      <td>2017-01-01 01:50:34</td>\n",
       "      <td>18.99</td>\n",
       "    </tr>\n",
       "    <tr>\n",
       "      <th>9</th>\n",
       "      <td>1119120</td>\n",
       "      <td>295347</td>\n",
       "      <td>1</td>\n",
       "      <td>APP0700</td>\n",
       "      <td>72.19</td>\n",
       "      <td>2017-01-01 01:54:11</td>\n",
       "      <td>72.19</td>\n",
       "    </tr>\n",
       "    <tr>\n",
       "      <th>18</th>\n",
       "      <td>1119134</td>\n",
       "      <td>299556</td>\n",
       "      <td>1</td>\n",
       "      <td>CRU0039-A</td>\n",
       "      <td>60.90</td>\n",
       "      <td>2017-01-01 02:20:14</td>\n",
       "      <td>60.90</td>\n",
       "    </tr>\n",
       "    <tr>\n",
       "      <th>24</th>\n",
       "      <td>1119145</td>\n",
       "      <td>299561</td>\n",
       "      <td>1</td>\n",
       "      <td>PEB0015</td>\n",
       "      <td>142.49</td>\n",
       "      <td>2017-01-01 02:38:50</td>\n",
       "      <td>142.49</td>\n",
       "    </tr>\n",
       "    <tr>\n",
       "      <th>...</th>\n",
       "      <td>...</td>\n",
       "      <td>...</td>\n",
       "      <td>...</td>\n",
       "      <td>...</td>\n",
       "      <td>...</td>\n",
       "      <td>...</td>\n",
       "      <td>...</td>\n",
       "    </tr>\n",
       "    <tr>\n",
       "      <th>293599</th>\n",
       "      <td>1649474</td>\n",
       "      <td>525664</td>\n",
       "      <td>1</td>\n",
       "      <td>TUC0207</td>\n",
       "      <td>16.52</td>\n",
       "      <td>2018-03-14 11:45:05</td>\n",
       "      <td>16.52</td>\n",
       "    </tr>\n",
       "    <tr>\n",
       "      <th>293616</th>\n",
       "      <td>1649512</td>\n",
       "      <td>527070</td>\n",
       "      <td>2</td>\n",
       "      <td>APP0698</td>\n",
       "      <td>9.99</td>\n",
       "      <td>2018-03-14 11:49:01</td>\n",
       "      <td>19.98</td>\n",
       "    </tr>\n",
       "    <tr>\n",
       "      <th>293621</th>\n",
       "      <td>1649522</td>\n",
       "      <td>527074</td>\n",
       "      <td>2</td>\n",
       "      <td>APP0698</td>\n",
       "      <td>9.99</td>\n",
       "      <td>2018-03-14 11:49:36</td>\n",
       "      <td>19.98</td>\n",
       "    </tr>\n",
       "    <tr>\n",
       "      <th>293644</th>\n",
       "      <td>1649565</td>\n",
       "      <td>527096</td>\n",
       "      <td>3</td>\n",
       "      <td>APP0698</td>\n",
       "      <td>9.99</td>\n",
       "      <td>2018-03-14 11:54:35</td>\n",
       "      <td>29.97</td>\n",
       "    </tr>\n",
       "    <tr>\n",
       "      <th>293661</th>\n",
       "      <td>1649593</td>\n",
       "      <td>527112</td>\n",
       "      <td>1</td>\n",
       "      <td>APP0698</td>\n",
       "      <td>9.99</td>\n",
       "      <td>2018-03-14 11:58:13</td>\n",
       "      <td>9.99</td>\n",
       "    </tr>\n",
       "  </tbody>\n",
       "</table>\n",
       "<p>55957 rows × 7 columns</p>\n",
       "</div>"
      ],
      "text/plain": [
       "             id  order_id  product_quantity        sku  unit_price  \\\n",
       "7       1119116    299545                 1    OWC0100       47.49   \n",
       "8       1119119    299546                 1    IOT0014       18.99   \n",
       "9       1119120    295347                 1    APP0700       72.19   \n",
       "18      1119134    299556                 1  CRU0039-A       60.90   \n",
       "24      1119145    299561                 1    PEB0015      142.49   \n",
       "...         ...       ...               ...        ...         ...   \n",
       "293599  1649474    525664                 1    TUC0207       16.52   \n",
       "293616  1649512    527070                 2    APP0698        9.99   \n",
       "293621  1649522    527074                 2    APP0698        9.99   \n",
       "293644  1649565    527096                 3    APP0698        9.99   \n",
       "293661  1649593    527112                 1    APP0698        9.99   \n",
       "\n",
       "                      date  unit_price_total  \n",
       "7      2017-01-01 01:46:16             47.49  \n",
       "8      2017-01-01 01:50:34             18.99  \n",
       "9      2017-01-01 01:54:11             72.19  \n",
       "18     2017-01-01 02:20:14             60.90  \n",
       "24     2017-01-01 02:38:50            142.49  \n",
       "...                    ...               ...  \n",
       "293599 2018-03-14 11:45:05             16.52  \n",
       "293616 2018-03-14 11:49:01             19.98  \n",
       "293621 2018-03-14 11:49:36             19.98  \n",
       "293644 2018-03-14 11:54:35             29.97  \n",
       "293661 2018-03-14 11:58:13              9.99  \n",
       "\n",
       "[55957 rows x 7 columns]"
      ]
     },
     "execution_count": 66,
     "metadata": {},
     "output_type": "execute_result"
    }
   ],
   "source": [
    "# Check for inconsistencies in order payments and the nominal prices\n",
    "orderlines_df2 = orderlines_df.copy()\n",
    "orderlines_df2[\"unit_price_total\"] = orderlines_df2[\"product_quantity\"] * orderlines_df2[\"unit_price\"]\n",
    "orderlines_df2"
   ]
  },
  {
   "cell_type": "code",
   "execution_count": 67,
   "metadata": {},
   "outputs": [],
   "source": [
    "# Group by order_id and sum the unit_price_total\n",
    "orderlines_order_ids = orderlines_df2.groupby(\"order_id\", as_index=False)[\"unit_price_total\"].sum()"
   ]
  },
  {
   "cell_type": "code",
   "execution_count": 68,
   "metadata": {},
   "outputs": [
    {
     "data": {
      "application/vnd.microsoft.datawrangler.viewer.v0+json": {
       "columns": [
        {
         "name": "index",
         "rawType": "int64",
         "type": "integer"
        },
        {
         "name": "order_id",
         "rawType": "int64",
         "type": "integer"
        },
        {
         "name": "created_date",
         "rawType": "datetime64[ns]",
         "type": "datetime"
        },
        {
         "name": "total_paid",
         "rawType": "float64",
         "type": "float"
        },
        {
         "name": "state",
         "rawType": "object",
         "type": "string"
        },
        {
         "name": "unit_price_total",
         "rawType": "float64",
         "type": "float"
        }
       ],
       "ref": "b40b8a71-9cd9-4bce-89f4-43e7e0e69405",
       "rows": [
        [
         "0",
         "241423",
         "2017-11-06 13:10:02",
         "136.15",
         "Completed",
         "129.16"
        ],
        [
         "1",
         "242832",
         "2017-12-31 17:40:03",
         "15.76",
         "Completed",
         "10.77"
        ],
        [
         "2",
         "243330",
         "2017-02-16 10:59:38",
         "84.98",
         "Completed",
         "77.99"
        ],
        [
         "3",
         "245275",
         "2017-06-28 11:35:37",
         "149.0",
         "Completed",
         "149.0"
        ],
        [
         "4",
         "245595",
         "2017-01-21 12:52:47",
         "112.97",
         "Completed",
         "105.98"
        ],
        [
         "5",
         "246405",
         "2017-11-24 10:01:27",
         "407.96",
         "Completed",
         "275.75"
        ],
        [
         "6",
         "247524",
         "2018-01-09 14:21:34",
         "167.98",
         "Completed",
         "162.99"
        ],
        [
         "7",
         "247643",
         "2017-05-26 11:50:35",
         "153.54",
         "Completed",
         "153.54"
        ],
        [
         "8",
         "250275",
         "2017-11-19 22:34:54",
         "54.99",
         "Completed",
         "51.0"
        ],
        [
         "9",
         "251302",
         "2017-05-10 12:27:33",
         "140.99",
         "Completed",
         "140.99"
        ],
        [
         "10",
         "251969",
         "2017-11-21 21:04:12",
         "610.07",
         "Completed",
         "590.08"
        ],
        [
         "11",
         "253220",
         "2017-10-04 19:37:10",
         "1610.0",
         "Completed",
         "1609.99"
        ],
        [
         "12",
         "253306",
         "2017-10-04 14:14:45",
         "497.68",
         "Completed",
         "477.68"
        ],
        [
         "13",
         "253307",
         "2017-09-30 06:11:10",
         "292.04",
         "Completed",
         "285.05"
        ],
        [
         "14",
         "254301",
         "2017-01-08 13:10:53",
         "35.91",
         "Completed",
         "28.92"
        ],
        [
         "15",
         "254341",
         "2017-07-31 10:25:35",
         "34.98",
         "Completed",
         "34.98"
        ],
        [
         "16",
         "254441",
         "2017-05-09 14:00:45",
         "56.98",
         "Completed",
         "49.99"
        ],
        [
         "17",
         "254816",
         "2017-01-12 15:57:20",
         "283.83",
         "Completed",
         "276.84"
        ],
        [
         "18",
         "256158",
         "2017-08-05 19:51:20",
         "386.18",
         "Completed",
         "386.18"
        ],
        [
         "19",
         "256679",
         "2017-11-26 10:43:04",
         "20.58",
         "Completed",
         "13.59"
        ],
        [
         "20",
         "256799",
         "2018-02-16 09:44:42",
         "20.97",
         "Completed",
         "7.98"
        ],
        [
         "21",
         "257280",
         "2017-12-20 14:49:52",
         "260.0",
         "Completed",
         "260.0"
        ],
        [
         "22",
         "258155",
         "2018-01-22 18:51:50",
         "40.76",
         "Completed",
         "33.769999999999996"
        ],
        [
         "23",
         "258530",
         "2017-08-30 10:54:18",
         "7.78",
         "Completed",
         "3.79"
        ],
        [
         "24",
         "259192",
         "2017-11-09 11:15:51",
         "195.74",
         "Completed",
         "188.74"
        ],
        [
         "25",
         "259283",
         "2017-12-22 09:19:28",
         "24.98",
         "Completed",
         "19.99"
        ],
        [
         "26",
         "259668",
         "2017-10-06 22:06:58",
         "1132.33",
         "Completed",
         "45.0"
        ],
        [
         "27",
         "260615",
         "2017-01-10 18:59:49",
         "225.16",
         "Completed",
         "218.17"
        ],
        [
         "28",
         "261289",
         "2017-06-21 08:21:20",
         "192.98",
         "Completed",
         "185.99"
        ],
        [
         "29",
         "261656",
         "2017-08-24 19:28:24",
         "44.98",
         "Completed",
         "39.99"
        ],
        [
         "30",
         "261978",
         "2017-01-10 00:19:44",
         "109.98",
         "Completed",
         "109.99"
        ],
        [
         "31",
         "262016",
         "2017-08-18 01:05:38",
         "3109.57",
         "Completed",
         "203.98000000000002"
        ],
        [
         "32",
         "262236",
         "2017-06-05 10:02:29",
         "122.97",
         "Completed",
         "117.97999999999999"
        ],
        [
         "33",
         "263733",
         "2017-02-06 13:06:34",
         "372.98",
         "Completed",
         "365.99"
        ],
        [
         "34",
         "263738",
         "2017-08-16 17:05:25",
         "80.96",
         "Completed",
         "73.97"
        ],
        [
         "35",
         "263996",
         "2017-02-20 09:44:55",
         "156.98",
         "Completed",
         "149.99"
        ],
        [
         "36",
         "264244",
         "2018-01-29 15:33:06",
         "141.97",
         "Completed",
         "69.99"
        ],
        [
         "37",
         "265614",
         "2017-01-16 15:40:05",
         "147.48",
         "Completed",
         "140.49"
        ],
        [
         "38",
         "265951",
         "2017-01-26 12:08:46",
         "121.46",
         "Completed",
         "116.47"
        ],
        [
         "39",
         "265968",
         "2017-09-04 18:32:57",
         "470.33",
         "Completed",
         "470.33"
        ],
        [
         "40",
         "266727",
         "2017-01-30 15:03:51",
         "150.02",
         "Completed",
         "146.03"
        ],
        [
         "41",
         "267014",
         "2017-11-22 12:00:54",
         "302.39",
         "Completed",
         "282.4"
        ],
        [
         "42",
         "267194",
         "2017-12-19 21:22:34",
         "75.98",
         "Completed",
         "72.99"
        ],
        [
         "43",
         "267375",
         "2017-01-10 22:58:11",
         "17.98",
         "Completed",
         "12.99"
        ],
        [
         "44",
         "268174",
         "2017-02-13 22:15:52",
         "723.69",
         "Completed",
         "723.69"
        ],
        [
         "45",
         "268234",
         "2017-11-24 09:33:02",
         "84.17",
         "Completed",
         "79.18"
        ],
        [
         "46",
         "268700",
         "2017-05-10 16:43:17",
         "407.59",
         "Completed",
         "387.6"
        ],
        [
         "47",
         "269083",
         "2017-12-01 23:52:02",
         "139.27",
         "Completed",
         "84.28"
        ],
        [
         "48",
         "269440",
         "2017-01-18 19:15:00",
         "213.98",
         "Completed",
         "213.98000000000002"
        ],
        [
         "49",
         "272512",
         "2018-03-04 11:35:15",
         "114.98",
         "Completed",
         "109.99"
        ]
       ],
       "shape": {
        "columns": 5,
        "rows": 42636
       }
      },
      "text/html": [
       "<div>\n",
       "<style scoped>\n",
       "    .dataframe tbody tr th:only-of-type {\n",
       "        vertical-align: middle;\n",
       "    }\n",
       "\n",
       "    .dataframe tbody tr th {\n",
       "        vertical-align: top;\n",
       "    }\n",
       "\n",
       "    .dataframe thead th {\n",
       "        text-align: right;\n",
       "    }\n",
       "</style>\n",
       "<table border=\"1\" class=\"dataframe\">\n",
       "  <thead>\n",
       "    <tr style=\"text-align: right;\">\n",
       "      <th></th>\n",
       "      <th>order_id</th>\n",
       "      <th>created_date</th>\n",
       "      <th>total_paid</th>\n",
       "      <th>state</th>\n",
       "      <th>unit_price_total</th>\n",
       "    </tr>\n",
       "  </thead>\n",
       "  <tbody>\n",
       "    <tr>\n",
       "      <th>0</th>\n",
       "      <td>241423</td>\n",
       "      <td>2017-11-06 13:10:02</td>\n",
       "      <td>136.15</td>\n",
       "      <td>Completed</td>\n",
       "      <td>129.16</td>\n",
       "    </tr>\n",
       "    <tr>\n",
       "      <th>1</th>\n",
       "      <td>242832</td>\n",
       "      <td>2017-12-31 17:40:03</td>\n",
       "      <td>15.76</td>\n",
       "      <td>Completed</td>\n",
       "      <td>10.77</td>\n",
       "    </tr>\n",
       "    <tr>\n",
       "      <th>2</th>\n",
       "      <td>243330</td>\n",
       "      <td>2017-02-16 10:59:38</td>\n",
       "      <td>84.98</td>\n",
       "      <td>Completed</td>\n",
       "      <td>77.99</td>\n",
       "    </tr>\n",
       "    <tr>\n",
       "      <th>3</th>\n",
       "      <td>245275</td>\n",
       "      <td>2017-06-28 11:35:37</td>\n",
       "      <td>149.00</td>\n",
       "      <td>Completed</td>\n",
       "      <td>149.00</td>\n",
       "    </tr>\n",
       "    <tr>\n",
       "      <th>4</th>\n",
       "      <td>245595</td>\n",
       "      <td>2017-01-21 12:52:47</td>\n",
       "      <td>112.97</td>\n",
       "      <td>Completed</td>\n",
       "      <td>105.98</td>\n",
       "    </tr>\n",
       "    <tr>\n",
       "      <th>...</th>\n",
       "      <td>...</td>\n",
       "      <td>...</td>\n",
       "      <td>...</td>\n",
       "      <td>...</td>\n",
       "      <td>...</td>\n",
       "    </tr>\n",
       "    <tr>\n",
       "      <th>42631</th>\n",
       "      <td>527042</td>\n",
       "      <td>2018-03-14 11:47:50</td>\n",
       "      <td>18.98</td>\n",
       "      <td>Completed</td>\n",
       "      <td>13.99</td>\n",
       "    </tr>\n",
       "    <tr>\n",
       "      <th>42632</th>\n",
       "      <td>527070</td>\n",
       "      <td>2018-03-14 11:50:48</td>\n",
       "      <td>24.97</td>\n",
       "      <td>Completed</td>\n",
       "      <td>19.98</td>\n",
       "    </tr>\n",
       "    <tr>\n",
       "      <th>42633</th>\n",
       "      <td>527074</td>\n",
       "      <td>2018-03-14 11:51:42</td>\n",
       "      <td>24.97</td>\n",
       "      <td>Completed</td>\n",
       "      <td>19.98</td>\n",
       "    </tr>\n",
       "    <tr>\n",
       "      <th>42634</th>\n",
       "      <td>527096</td>\n",
       "      <td>2018-03-14 11:58:40</td>\n",
       "      <td>34.96</td>\n",
       "      <td>Completed</td>\n",
       "      <td>29.97</td>\n",
       "    </tr>\n",
       "    <tr>\n",
       "      <th>42635</th>\n",
       "      <td>527112</td>\n",
       "      <td>2018-03-14 12:03:52</td>\n",
       "      <td>14.98</td>\n",
       "      <td>Completed</td>\n",
       "      <td>9.99</td>\n",
       "    </tr>\n",
       "  </tbody>\n",
       "</table>\n",
       "<p>42636 rows × 5 columns</p>\n",
       "</div>"
      ],
      "text/plain": [
       "       order_id        created_date  total_paid      state  unit_price_total\n",
       "0        241423 2017-11-06 13:10:02      136.15  Completed            129.16\n",
       "1        242832 2017-12-31 17:40:03       15.76  Completed             10.77\n",
       "2        243330 2017-02-16 10:59:38       84.98  Completed             77.99\n",
       "3        245275 2017-06-28 11:35:37      149.00  Completed            149.00\n",
       "4        245595 2017-01-21 12:52:47      112.97  Completed            105.98\n",
       "...         ...                 ...         ...        ...               ...\n",
       "42631    527042 2018-03-14 11:47:50       18.98  Completed             13.99\n",
       "42632    527070 2018-03-14 11:50:48       24.97  Completed             19.98\n",
       "42633    527074 2018-03-14 11:51:42       24.97  Completed             19.98\n",
       "42634    527096 2018-03-14 11:58:40       34.96  Completed             29.97\n",
       "42635    527112 2018-03-14 12:03:52       14.98  Completed              9.99\n",
       "\n",
       "[42636 rows x 5 columns]"
      ]
     },
     "execution_count": 68,
     "metadata": {},
     "output_type": "execute_result"
    }
   ],
   "source": [
    "# Merge orders with the summed orderlines for comparison\n",
    "diff_df = orders_df.merge(orderlines_order_ids, on=\"order_id\")\n",
    "diff_df"
   ]
  },
  {
   "cell_type": "code",
   "execution_count": 69,
   "metadata": {},
   "outputs": [],
   "source": [
    "# Calculate the difference between total_paid and unit_price_total\n",
    "diff_df[\"difference\"] = diff_df[\"total_paid\"] - diff_df[\"unit_price_total\"]"
   ]
  },
  {
   "cell_type": "code",
   "execution_count": 71,
   "metadata": {},
   "outputs": [
    {
     "data": {
      "application/vnd.microsoft.datawrangler.viewer.v0+json": {
       "columns": [
        {
         "name": "index",
         "rawType": "object",
         "type": "string"
        },
        {
         "name": "difference",
         "rawType": "float64",
         "type": "float"
        }
       ],
       "ref": "dee0488f-af22-4144-9904-526702ae1b25",
       "rows": [
        [
         "count",
         "42636.0"
        ],
        [
         "mean",
         "51.915504034149535"
        ],
        [
         "std",
         "351.83842965803575"
        ],
        [
         "min",
         "-165.0"
        ],
        [
         "25%",
         "0.0"
        ],
        [
         "50%",
         "4.989999999999995"
        ],
        [
         "75%",
         "6.989999999999995"
        ],
        [
         "max",
         "9065.960000000001"
        ]
       ],
       "shape": {
        "columns": 1,
        "rows": 8
       }
      },
      "text/plain": [
       "count   42636.00\n",
       "mean       51.92\n",
       "std       351.84\n",
       "min      -165.00\n",
       "25%         0.00\n",
       "50%         4.99\n",
       "75%         6.99\n",
       "max      9065.96\n",
       "Name: difference, dtype: float64"
      ]
     },
     "execution_count": 71,
     "metadata": {},
     "output_type": "execute_result"
    }
   ],
   "source": [
    "# Check for the range of differences. Total paid should be equal or larger than the sum of unit prices to account for shipping and processing fees. Negative values indicate a problem as well as very large positive values.\n",
    "diff_df.difference.describe()"
   ]
  },
  {
   "cell_type": "code",
   "execution_count": 72,
   "metadata": {},
   "outputs": [
    {
     "data": {
      "text/plain": [
       "(0.0, 6.989999999999995)"
      ]
     },
     "execution_count": 72,
     "metadata": {},
     "output_type": "execute_result"
    }
   ],
   "source": [
    "# calculate the quartiles\n",
    "Q1 = diff_df[\"difference\"].quantile(0.25)\n",
    "Q3 = diff_df[\"difference\"].quantile(0.75)\n",
    "\n",
    "Q1, Q3"
   ]
  },
  {
   "cell_type": "code",
   "execution_count": null,
   "metadata": {},
   "outputs": [
    {
     "data": {
      "text/plain": [
       "(-10.484999999999992, 17.474999999999987)"
      ]
     },
     "execution_count": 73,
     "metadata": {},
     "output_type": "execute_result"
    }
   ],
   "source": [
    "# calculate the interquartile range\n",
    "IQR = Q3-Q1\n",
    "\n",
    "# boundaries for outliers\n",
    "(Q1 - 1.5 * IQR), (Q3 + 1.5 * IQR)"
   ]
  },
  {
   "cell_type": "code",
   "execution_count": 74,
   "metadata": {},
   "outputs": [],
   "source": [
    "# filter the DataFrame to include only \"non-outliers\"\n",
    "diff_no_outliers_df = diff_df.loc[\n",
    "    (diff_df[\"difference\"] >= (Q1 - 1.5*IQR))\n",
    "    &\n",
    "    (diff_df[\"difference\"] <= (Q3 + 1.5*IQR))\n",
    "    ,\n",
    "    :]"
   ]
  },
  {
   "cell_type": "code",
   "execution_count": null,
   "metadata": {},
   "outputs": [],
   "source": [
    "# Remove outliers from the original DataFrames\n",
    "orders_df = orders_df.loc[orders_df[\"order_id\"].isin(diff_no_outliers_df['order_id']), :]\n",
    "orderlines_df = orderlines_df.loc[orderlines_df[\"order_id\"].isin(diff_no_outliers_df['order_id']), :]"
   ]
  },
  {
   "cell_type": "code",
   "execution_count": null,
   "metadata": {},
   "outputs": [
    {
     "data": {
      "text/plain": [
       "(40974, 40974)"
      ]
     },
     "execution_count": 76,
     "metadata": {},
     "output_type": "execute_result"
    }
   ],
   "source": [
    "# Check for sample size remaining and fitting size\n",
    "orders_df[\"order_id\"].nunique(), orderlines_df[\"order_id\"].nunique()"
   ]
  },
  {
   "cell_type": "code",
   "execution_count": 77,
   "metadata": {},
   "outputs": [
    {
     "data": {
      "application/vnd.microsoft.datawrangler.viewer.v0+json": {
       "columns": [
        {
         "name": "index",
         "rawType": "int64",
         "type": "integer"
        },
        {
         "name": "id",
         "rawType": "int64",
         "type": "integer"
        },
        {
         "name": "order_id",
         "rawType": "int64",
         "type": "integer"
        },
        {
         "name": "product_quantity",
         "rawType": "int64",
         "type": "integer"
        },
        {
         "name": "sku",
         "rawType": "object",
         "type": "string"
        },
        {
         "name": "unit_price_x",
         "rawType": "float64",
         "type": "float"
        },
        {
         "name": "date",
         "rawType": "datetime64[ns]",
         "type": "datetime"
        },
        {
         "name": "unit_price_y",
         "rawType": "float64",
         "type": "float"
        },
        {
         "name": "listed_price",
         "rawType": "float64",
         "type": "float"
        },
        {
         "name": "discount_pct",
         "rawType": "float64",
         "type": "float"
        },
        {
         "name": "discount_raw",
         "rawType": "float64",
         "type": "float"
        }
       ],
       "ref": "6e286ec7-ebc1-43e2-aac0-5c1370f310ff",
       "rows": [
        [
         "0",
         "1119116",
         "299545",
         "1",
         "OWC0100",
         "47.49",
         "2017-01-01 01:46:16",
         "47.49",
         "60.99",
         "22.13",
         "13.5"
        ],
        [
         "1",
         "1119119",
         "299546",
         "1",
         "IOT0014",
         "18.99",
         "2017-01-01 01:50:34",
         "18.99",
         "22.95",
         "17.25",
         "3.96"
        ],
        [
         "2",
         "1119120",
         "295347",
         "1",
         "APP0700",
         "72.19",
         "2017-01-01 01:54:11",
         "72.19",
         "89.0",
         "18.89",
         "16.81"
        ],
        [
         "3",
         "1119134",
         "299556",
         "1",
         "CRU0039-A",
         "60.9",
         "2017-01-01 02:20:14",
         "60.9",
         "76.99",
         "20.9",
         "16.09"
        ],
        [
         "4",
         "1119145",
         "299561",
         "1",
         "PEB0015",
         "142.49",
         "2017-01-01 02:38:50",
         "142.49",
         "299.99",
         "52.5",
         "157.5"
        ]
       ],
       "shape": {
        "columns": 10,
        "rows": 5
       }
      },
      "text/html": [
       "<div>\n",
       "<style scoped>\n",
       "    .dataframe tbody tr th:only-of-type {\n",
       "        vertical-align: middle;\n",
       "    }\n",
       "\n",
       "    .dataframe tbody tr th {\n",
       "        vertical-align: top;\n",
       "    }\n",
       "\n",
       "    .dataframe thead th {\n",
       "        text-align: right;\n",
       "    }\n",
       "</style>\n",
       "<table border=\"1\" class=\"dataframe\">\n",
       "  <thead>\n",
       "    <tr style=\"text-align: right;\">\n",
       "      <th></th>\n",
       "      <th>id</th>\n",
       "      <th>order_id</th>\n",
       "      <th>product_quantity</th>\n",
       "      <th>sku</th>\n",
       "      <th>unit_price_x</th>\n",
       "      <th>date</th>\n",
       "      <th>unit_price_y</th>\n",
       "      <th>listed_price</th>\n",
       "      <th>discount_pct</th>\n",
       "      <th>discount_raw</th>\n",
       "    </tr>\n",
       "  </thead>\n",
       "  <tbody>\n",
       "    <tr>\n",
       "      <th>0</th>\n",
       "      <td>1119116</td>\n",
       "      <td>299545</td>\n",
       "      <td>1</td>\n",
       "      <td>OWC0100</td>\n",
       "      <td>47.49</td>\n",
       "      <td>2017-01-01 01:46:16</td>\n",
       "      <td>47.49</td>\n",
       "      <td>60.99</td>\n",
       "      <td>22.13</td>\n",
       "      <td>13.50</td>\n",
       "    </tr>\n",
       "    <tr>\n",
       "      <th>1</th>\n",
       "      <td>1119119</td>\n",
       "      <td>299546</td>\n",
       "      <td>1</td>\n",
       "      <td>IOT0014</td>\n",
       "      <td>18.99</td>\n",
       "      <td>2017-01-01 01:50:34</td>\n",
       "      <td>18.99</td>\n",
       "      <td>22.95</td>\n",
       "      <td>17.25</td>\n",
       "      <td>3.96</td>\n",
       "    </tr>\n",
       "    <tr>\n",
       "      <th>2</th>\n",
       "      <td>1119120</td>\n",
       "      <td>295347</td>\n",
       "      <td>1</td>\n",
       "      <td>APP0700</td>\n",
       "      <td>72.19</td>\n",
       "      <td>2017-01-01 01:54:11</td>\n",
       "      <td>72.19</td>\n",
       "      <td>89.00</td>\n",
       "      <td>18.89</td>\n",
       "      <td>16.81</td>\n",
       "    </tr>\n",
       "    <tr>\n",
       "      <th>3</th>\n",
       "      <td>1119134</td>\n",
       "      <td>299556</td>\n",
       "      <td>1</td>\n",
       "      <td>CRU0039-A</td>\n",
       "      <td>60.90</td>\n",
       "      <td>2017-01-01 02:20:14</td>\n",
       "      <td>60.90</td>\n",
       "      <td>76.99</td>\n",
       "      <td>20.90</td>\n",
       "      <td>16.09</td>\n",
       "    </tr>\n",
       "    <tr>\n",
       "      <th>4</th>\n",
       "      <td>1119145</td>\n",
       "      <td>299561</td>\n",
       "      <td>1</td>\n",
       "      <td>PEB0015</td>\n",
       "      <td>142.49</td>\n",
       "      <td>2017-01-01 02:38:50</td>\n",
       "      <td>142.49</td>\n",
       "      <td>299.99</td>\n",
       "      <td>52.50</td>\n",
       "      <td>157.50</td>\n",
       "    </tr>\n",
       "  </tbody>\n",
       "</table>\n",
       "</div>"
      ],
      "text/plain": [
       "        id  order_id  product_quantity        sku  unit_price_x  \\\n",
       "0  1119116    299545                 1    OWC0100         47.49   \n",
       "1  1119119    299546                 1    IOT0014         18.99   \n",
       "2  1119120    295347                 1    APP0700         72.19   \n",
       "3  1119134    299556                 1  CRU0039-A         60.90   \n",
       "4  1119145    299561                 1    PEB0015        142.49   \n",
       "\n",
       "                 date  unit_price_y  listed_price  discount_pct  discount_raw  \n",
       "0 2017-01-01 01:46:16         47.49         60.99         22.13         13.50  \n",
       "1 2017-01-01 01:50:34         18.99         22.95         17.25          3.96  \n",
       "2 2017-01-01 01:54:11         72.19         89.00         18.89         16.81  \n",
       "3 2017-01-01 02:20:14         60.90         76.99         20.90         16.09  \n",
       "4 2017-01-01 02:38:50        142.49        299.99         52.50        157.50  "
      ]
     },
     "execution_count": 77,
     "metadata": {},
     "output_type": "execute_result"
    }
   ],
   "source": [
    "# Join orderlines with the dataframe containing the discounts to include them in the final dataframe. Inner join to keep only those that have survived both filtering steps\n",
    "orderlines_clean = orderlines_df.merge(ol_prod_discount_df, how=\"inner\", on=[\"order_id\", \"sku\"])\n",
    "orderlines_clean.head(5)"
   ]
  },
  {
   "cell_type": "code",
   "execution_count": 78,
   "metadata": {},
   "outputs": [],
   "source": [
    "# Rename product_quantity to qty for usability\n",
    "orderlines_clean.rename(columns={'product_quantity': 'qty'}, inplace=True)"
   ]
  },
  {
   "cell_type": "code",
   "execution_count": 79,
   "metadata": {},
   "outputs": [
    {
     "data": {
      "application/vnd.microsoft.datawrangler.viewer.v0+json": {
       "columns": [
        {
         "name": "index",
         "rawType": "int64",
         "type": "integer"
        },
        {
         "name": "id",
         "rawType": "int64",
         "type": "integer"
        },
        {
         "name": "order_id",
         "rawType": "int64",
         "type": "integer"
        },
        {
         "name": "qty",
         "rawType": "int64",
         "type": "integer"
        },
        {
         "name": "sku",
         "rawType": "object",
         "type": "string"
        },
        {
         "name": "unit_price",
         "rawType": "float64",
         "type": "float"
        },
        {
         "name": "date",
         "rawType": "datetime64[ns]",
         "type": "datetime"
        },
        {
         "name": "listed_price",
         "rawType": "float64",
         "type": "float"
        },
        {
         "name": "discount_pct",
         "rawType": "float64",
         "type": "float"
        },
        {
         "name": "discount_raw",
         "rawType": "float64",
         "type": "float"
        }
       ],
       "ref": "46773a80-c247-4368-9bc6-c2c862ffe2a2",
       "rows": [
        [
         "0",
         "1119116",
         "299545",
         "1",
         "OWC0100",
         "47.49",
         "2017-01-01 01:46:16",
         "60.99",
         "22.13",
         "13.5"
        ],
        [
         "1",
         "1119119",
         "299546",
         "1",
         "IOT0014",
         "18.99",
         "2017-01-01 01:50:34",
         "22.95",
         "17.25",
         "3.96"
        ],
        [
         "2",
         "1119120",
         "295347",
         "1",
         "APP0700",
         "72.19",
         "2017-01-01 01:54:11",
         "89.0",
         "18.89",
         "16.81"
        ],
        [
         "3",
         "1119134",
         "299556",
         "1",
         "CRU0039-A",
         "60.9",
         "2017-01-01 02:20:14",
         "76.99",
         "20.9",
         "16.09"
        ],
        [
         "4",
         "1119145",
         "299561",
         "1",
         "PEB0015",
         "142.49",
         "2017-01-01 02:38:50",
         "299.99",
         "52.5",
         "157.5"
        ]
       ],
       "shape": {
        "columns": 9,
        "rows": 5
       }
      },
      "text/html": [
       "<div>\n",
       "<style scoped>\n",
       "    .dataframe tbody tr th:only-of-type {\n",
       "        vertical-align: middle;\n",
       "    }\n",
       "\n",
       "    .dataframe tbody tr th {\n",
       "        vertical-align: top;\n",
       "    }\n",
       "\n",
       "    .dataframe thead th {\n",
       "        text-align: right;\n",
       "    }\n",
       "</style>\n",
       "<table border=\"1\" class=\"dataframe\">\n",
       "  <thead>\n",
       "    <tr style=\"text-align: right;\">\n",
       "      <th></th>\n",
       "      <th>id</th>\n",
       "      <th>order_id</th>\n",
       "      <th>qty</th>\n",
       "      <th>sku</th>\n",
       "      <th>unit_price</th>\n",
       "      <th>date</th>\n",
       "      <th>listed_price</th>\n",
       "      <th>discount_pct</th>\n",
       "      <th>discount_raw</th>\n",
       "    </tr>\n",
       "  </thead>\n",
       "  <tbody>\n",
       "    <tr>\n",
       "      <th>0</th>\n",
       "      <td>1119116</td>\n",
       "      <td>299545</td>\n",
       "      <td>1</td>\n",
       "      <td>OWC0100</td>\n",
       "      <td>47.49</td>\n",
       "      <td>2017-01-01 01:46:16</td>\n",
       "      <td>60.99</td>\n",
       "      <td>22.13</td>\n",
       "      <td>13.50</td>\n",
       "    </tr>\n",
       "    <tr>\n",
       "      <th>1</th>\n",
       "      <td>1119119</td>\n",
       "      <td>299546</td>\n",
       "      <td>1</td>\n",
       "      <td>IOT0014</td>\n",
       "      <td>18.99</td>\n",
       "      <td>2017-01-01 01:50:34</td>\n",
       "      <td>22.95</td>\n",
       "      <td>17.25</td>\n",
       "      <td>3.96</td>\n",
       "    </tr>\n",
       "    <tr>\n",
       "      <th>2</th>\n",
       "      <td>1119120</td>\n",
       "      <td>295347</td>\n",
       "      <td>1</td>\n",
       "      <td>APP0700</td>\n",
       "      <td>72.19</td>\n",
       "      <td>2017-01-01 01:54:11</td>\n",
       "      <td>89.00</td>\n",
       "      <td>18.89</td>\n",
       "      <td>16.81</td>\n",
       "    </tr>\n",
       "    <tr>\n",
       "      <th>3</th>\n",
       "      <td>1119134</td>\n",
       "      <td>299556</td>\n",
       "      <td>1</td>\n",
       "      <td>CRU0039-A</td>\n",
       "      <td>60.90</td>\n",
       "      <td>2017-01-01 02:20:14</td>\n",
       "      <td>76.99</td>\n",
       "      <td>20.90</td>\n",
       "      <td>16.09</td>\n",
       "    </tr>\n",
       "    <tr>\n",
       "      <th>4</th>\n",
       "      <td>1119145</td>\n",
       "      <td>299561</td>\n",
       "      <td>1</td>\n",
       "      <td>PEB0015</td>\n",
       "      <td>142.49</td>\n",
       "      <td>2017-01-01 02:38:50</td>\n",
       "      <td>299.99</td>\n",
       "      <td>52.50</td>\n",
       "      <td>157.50</td>\n",
       "    </tr>\n",
       "  </tbody>\n",
       "</table>\n",
       "</div>"
      ],
      "text/plain": [
       "        id  order_id  qty        sku  unit_price                date  \\\n",
       "0  1119116    299545    1    OWC0100       47.49 2017-01-01 01:46:16   \n",
       "1  1119119    299546    1    IOT0014       18.99 2017-01-01 01:50:34   \n",
       "2  1119120    295347    1    APP0700       72.19 2017-01-01 01:54:11   \n",
       "3  1119134    299556    1  CRU0039-A       60.90 2017-01-01 02:20:14   \n",
       "4  1119145    299561    1    PEB0015      142.49 2017-01-01 02:38:50   \n",
       "\n",
       "   listed_price  discount_pct  discount_raw  \n",
       "0         60.99         22.13         13.50  \n",
       "1         22.95         17.25          3.96  \n",
       "2         89.00         18.89         16.81  \n",
       "3         76.99         20.90         16.09  \n",
       "4        299.99         52.50        157.50  "
      ]
     },
     "execution_count": 79,
     "metadata": {},
     "output_type": "execute_result"
    }
   ],
   "source": [
    "# unit_price is doubled, so we will keep only one and rename it\n",
    "orderlines_clean.rename(columns={'unit_price_x': 'unit_price'}, inplace=True)\n",
    "orderlines_clean.drop(columns='unit_price_y', inplace=True)\n",
    "orderlines_clean.head(5)"
   ]
  },
  {
   "cell_type": "code",
   "execution_count": 80,
   "metadata": {},
   "outputs": [],
   "source": [
    "# Add manufacturerer handle to the orderlines_clean DataFrame\n",
    "orderlines_clean['man'] = orderlines_clean['sku'].str[:3]"
   ]
  },
  {
   "cell_type": "markdown",
   "metadata": {},
   "source": [
    "## 3.7 Filtering Products"
   ]
  },
  {
   "cell_type": "code",
   "execution_count": 81,
   "metadata": {},
   "outputs": [
    {
     "data": {
      "application/vnd.microsoft.datawrangler.viewer.v0+json": {
       "columns": [
        {
         "name": "index",
         "rawType": "int64",
         "type": "integer"
        },
        {
         "name": "sku",
         "rawType": "object",
         "type": "string"
        },
        {
         "name": "name",
         "rawType": "object",
         "type": "string"
        },
        {
         "name": "desc",
         "rawType": "object",
         "type": "string"
        },
        {
         "name": "listed_price",
         "rawType": "float64",
         "type": "float"
        },
        {
         "name": "in_stock",
         "rawType": "int64",
         "type": "integer"
        },
        {
         "name": "type",
         "rawType": "object",
         "type": "string"
        },
        {
         "name": "man",
         "rawType": "object",
         "type": "string"
        }
       ],
       "ref": "c0f6f363-735d-4291-99f6-0a4c0d489371",
       "rows": [
        [
         "0",
         "RAI0007",
         "Silver Rain Design mStand Support",
         "Aluminum support compatible with all MacBook",
         "59.99",
         "1",
         "8696",
         "RAI"
        ],
        [
         "1",
         "APP0023",
         "Apple Mac Keyboard Keypad Spanish",
         "USB ultrathin keyboard Apple Mac Spanish.",
         "59.0",
         "0",
         "13855401",
         "APP"
        ],
        [
         "2",
         "APP0025",
         "Mighty Mouse Apple Mouse for Mac",
         "mouse Apple USB cable.",
         "59.0",
         "0",
         "1387",
         "APP"
        ],
        [
         "3",
         "APP0072",
         "Apple Dock to USB Cable iPhone and iPod white",
         "IPhone dock and USB Cable Apple iPod.",
         "25.0",
         "0",
         "1230",
         "APP"
        ],
        [
         "4",
         "KIN0007",
         "Mac Memory Kingston 2GB 667MHz DDR2 SO-DIMM",
         "2GB RAM Mac mini and iMac (2006/07) MacBook Pro (2006/07/08).",
         "34.99",
         "1",
         "1364",
         "KIN"
        ]
       ],
       "shape": {
        "columns": 7,
        "rows": 5
       }
      },
      "text/html": [
       "<div>\n",
       "<style scoped>\n",
       "    .dataframe tbody tr th:only-of-type {\n",
       "        vertical-align: middle;\n",
       "    }\n",
       "\n",
       "    .dataframe tbody tr th {\n",
       "        vertical-align: top;\n",
       "    }\n",
       "\n",
       "    .dataframe thead th {\n",
       "        text-align: right;\n",
       "    }\n",
       "</style>\n",
       "<table border=\"1\" class=\"dataframe\">\n",
       "  <thead>\n",
       "    <tr style=\"text-align: right;\">\n",
       "      <th></th>\n",
       "      <th>sku</th>\n",
       "      <th>name</th>\n",
       "      <th>desc</th>\n",
       "      <th>listed_price</th>\n",
       "      <th>in_stock</th>\n",
       "      <th>type</th>\n",
       "      <th>man</th>\n",
       "    </tr>\n",
       "  </thead>\n",
       "  <tbody>\n",
       "    <tr>\n",
       "      <th>0</th>\n",
       "      <td>RAI0007</td>\n",
       "      <td>Silver Rain Design mStand Support</td>\n",
       "      <td>Aluminum support compatible with all MacBook</td>\n",
       "      <td>59.99</td>\n",
       "      <td>1</td>\n",
       "      <td>8696</td>\n",
       "      <td>RAI</td>\n",
       "    </tr>\n",
       "    <tr>\n",
       "      <th>1</th>\n",
       "      <td>APP0023</td>\n",
       "      <td>Apple Mac Keyboard Keypad Spanish</td>\n",
       "      <td>USB ultrathin keyboard Apple Mac Spanish.</td>\n",
       "      <td>59.00</td>\n",
       "      <td>0</td>\n",
       "      <td>13855401</td>\n",
       "      <td>APP</td>\n",
       "    </tr>\n",
       "    <tr>\n",
       "      <th>2</th>\n",
       "      <td>APP0025</td>\n",
       "      <td>Mighty Mouse Apple Mouse for Mac</td>\n",
       "      <td>mouse Apple USB cable.</td>\n",
       "      <td>59.00</td>\n",
       "      <td>0</td>\n",
       "      <td>1387</td>\n",
       "      <td>APP</td>\n",
       "    </tr>\n",
       "    <tr>\n",
       "      <th>3</th>\n",
       "      <td>APP0072</td>\n",
       "      <td>Apple Dock to USB Cable iPhone and iPod white</td>\n",
       "      <td>IPhone dock and USB Cable Apple iPod.</td>\n",
       "      <td>25.00</td>\n",
       "      <td>0</td>\n",
       "      <td>1230</td>\n",
       "      <td>APP</td>\n",
       "    </tr>\n",
       "    <tr>\n",
       "      <th>4</th>\n",
       "      <td>KIN0007</td>\n",
       "      <td>Mac Memory Kingston 2GB 667MHz DDR2 SO-DIMM</td>\n",
       "      <td>2GB RAM Mac mini and iMac (2006/07) MacBook Pr...</td>\n",
       "      <td>34.99</td>\n",
       "      <td>1</td>\n",
       "      <td>1364</td>\n",
       "      <td>KIN</td>\n",
       "    </tr>\n",
       "  </tbody>\n",
       "</table>\n",
       "</div>"
      ],
      "text/plain": [
       "       sku                                           name  \\\n",
       "0  RAI0007              Silver Rain Design mStand Support   \n",
       "1  APP0023              Apple Mac Keyboard Keypad Spanish   \n",
       "2  APP0025               Mighty Mouse Apple Mouse for Mac   \n",
       "3  APP0072  Apple Dock to USB Cable iPhone and iPod white   \n",
       "4  KIN0007    Mac Memory Kingston 2GB 667MHz DDR2 SO-DIMM   \n",
       "\n",
       "                                                desc  listed_price  in_stock  \\\n",
       "0       Aluminum support compatible with all MacBook         59.99         1   \n",
       "1          USB ultrathin keyboard Apple Mac Spanish.         59.00         0   \n",
       "2                             mouse Apple USB cable.         59.00         0   \n",
       "3              IPhone dock and USB Cable Apple iPod.         25.00         0   \n",
       "4  2GB RAM Mac mini and iMac (2006/07) MacBook Pr...         34.99         1   \n",
       "\n",
       "       type  man  \n",
       "0      8696  RAI  \n",
       "1  13855401  APP  \n",
       "2      1387  APP  \n",
       "3      1230  APP  \n",
       "4      1364  KIN  "
      ]
     },
     "execution_count": 81,
     "metadata": {},
     "output_type": "execute_result"
    }
   ],
   "source": [
    "products_df.head(5)"
   ]
  },
  {
   "cell_type": "code",
   "execution_count": 82,
   "metadata": {},
   "outputs": [
    {
     "data": {
      "application/vnd.microsoft.datawrangler.viewer.v0+json": {
       "columns": [
        {
         "name": "index",
         "rawType": "object",
         "type": "string"
        },
        {
         "name": "0",
         "rawType": "int64",
         "type": "integer"
        }
       ],
       "ref": "7897635c-9d32-4be3-b832-42e0e1cebfa7",
       "rows": [
        [
         "sku",
         "9946"
        ],
        [
         "name",
         "9791"
        ],
        [
         "desc",
         "6744"
        ],
        [
         "listed_price",
         "2327"
        ],
        [
         "in_stock",
         "2"
        ],
        [
         "type",
         "125"
        ],
        [
         "man",
         "243"
        ]
       ],
       "shape": {
        "columns": 1,
        "rows": 7
       }
      },
      "text/plain": [
       "sku             9946\n",
       "name            9791\n",
       "desc            6744\n",
       "listed_price    2327\n",
       "in_stock           2\n",
       "type             125\n",
       "man              243\n",
       "dtype: int64"
      ]
     },
     "execution_count": 82,
     "metadata": {},
     "output_type": "execute_result"
    }
   ],
   "source": [
    "products_df.nunique()"
   ]
  },
  {
   "cell_type": "code",
   "execution_count": 83,
   "metadata": {},
   "outputs": [
    {
     "data": {
      "application/vnd.microsoft.datawrangler.viewer.v0+json": {
       "columns": [
        {
         "name": "index",
         "rawType": "object",
         "type": "string"
        },
        {
         "name": "0",
         "rawType": "int64",
         "type": "integer"
        }
       ],
       "ref": "bc71ea30-952f-40b4-a744-c07a7663920d",
       "rows": [
        [
         "id",
         "52474"
        ],
        [
         "order_id",
         "40482"
        ],
        [
         "qty",
         "27"
        ],
        [
         "sku",
         "5061"
        ],
        [
         "unit_price",
         "4264"
        ],
        [
         "date",
         "52097"
        ],
        [
         "listed_price",
         "1020"
        ],
        [
         "discount_pct",
         "4060"
        ],
        [
         "discount_raw",
         "3970"
        ],
        [
         "man",
         "195"
        ]
       ],
       "shape": {
        "columns": 1,
        "rows": 10
       }
      },
      "text/plain": [
       "id              52474\n",
       "order_id        40482\n",
       "qty                27\n",
       "sku              5061\n",
       "unit_price       4264\n",
       "date            52097\n",
       "listed_price     1020\n",
       "discount_pct     4060\n",
       "discount_raw     3970\n",
       "man               195\n",
       "dtype: int64"
      ]
     },
     "execution_count": 83,
     "metadata": {},
     "output_type": "execute_result"
    }
   ],
   "source": [
    "orderlines_clean.nunique()"
   ]
  },
  {
   "cell_type": "code",
   "execution_count": 84,
   "metadata": {},
   "outputs": [
    {
     "data": {
      "application/vnd.microsoft.datawrangler.viewer.v0+json": {
       "columns": [
        {
         "name": "index",
         "rawType": "object",
         "type": "string"
        },
        {
         "name": "0",
         "rawType": "int64",
         "type": "integer"
        }
       ],
       "ref": "31885a94-61e1-46fb-906c-d06168312330",
       "rows": [
        [
         "sku",
         "5061"
        ],
        [
         "name",
         "5021"
        ],
        [
         "desc",
         "3752"
        ],
        [
         "listed_price",
         "1020"
        ],
        [
         "in_stock",
         "2"
        ],
        [
         "type",
         "114"
        ],
        [
         "man",
         "195"
        ]
       ],
       "shape": {
        "columns": 1,
        "rows": 7
       }
      },
      "text/plain": [
       "sku             5061\n",
       "name            5021\n",
       "desc            3752\n",
       "listed_price    1020\n",
       "in_stock           2\n",
       "type             114\n",
       "man              195\n",
       "dtype: int64"
      ]
     },
     "execution_count": 84,
     "metadata": {},
     "output_type": "execute_result"
    }
   ],
   "source": [
    "# There is a disparity between the number of unique products (sku) in the products_df and orderlines_clean DataFrame.\n",
    "# Keep only those products in products_df that are also in orderlines_clean\n",
    "products_df = products_df.loc[products_df['sku'].isin(orderlines_clean['sku']), :]\n",
    "products_df.nunique()"
   ]
  },
  {
   "cell_type": "markdown",
   "metadata": {},
   "source": [
    "## 4 Exports"
   ]
  },
  {
   "cell_type": "code",
   "execution_count": 86,
   "metadata": {},
   "outputs": [],
   "source": [
    "# Save the cleaned DataFrames to csv files\n",
    "# Brands DataFrame didnt get changed\n",
    "orderlines_clean.to_csv(\"data_clean/orderlines_cl.csv\", index=False)\n",
    "products_df.to_csv(\"data_clean/products_cl.csv\", index=False)\n",
    "orders_df.to_csv(\"data_clean/orders_cl.csv\", index=False)"
   ]
  }
 ],
 "metadata": {
  "colab": {
   "provenance": []
  },
  "kernelspec": {
   "display_name": "base",
   "language": "python",
   "name": "python3"
  },
  "language_info": {
   "codemirror_mode": {
    "name": "ipython",
    "version": 3
   },
   "file_extension": ".py",
   "mimetype": "text/x-python",
   "name": "python",
   "nbconvert_exporter": "python",
   "pygments_lexer": "ipython3",
   "version": "3.12.9"
  }
 },
 "nbformat": 4,
 "nbformat_minor": 4
}
