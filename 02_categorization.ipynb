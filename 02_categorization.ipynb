{
 "cells": [
  {
   "cell_type": "markdown",
   "id": "1ca84065",
   "metadata": {},
   "source": [
    "# Categorization\n",
    "Contains word occurence analysis within the product name and description of the products and cleaning + analysis of the type column"
   ]
  },
  {
   "cell_type": "markdown",
   "id": "0178477f",
   "metadata": {},
   "source": [
    "## 1 Imports and Loads"
   ]
  },
  {
   "cell_type": "code",
   "execution_count": 1,
   "id": "7173b390",
   "metadata": {},
   "outputs": [],
   "source": [
    "import pandas as pd"
   ]
  },
  {
   "cell_type": "code",
   "execution_count": 2,
   "id": "517f811d",
   "metadata": {},
   "outputs": [],
   "source": [
    "products = pd.read_csv(\"data_clean/products_cl.csv\")"
   ]
  },
  {
   "cell_type": "code",
   "execution_count": 3,
   "id": "bc967493",
   "metadata": {},
   "outputs": [],
   "source": [
    "# Create a copy\n",
    "products_df = products.copy()"
   ]
  },
  {
   "cell_type": "markdown",
   "id": "68bc28d2",
   "metadata": {},
   "source": [
    "## 2 Type exploration and cleaning"
   ]
  },
  {
   "cell_type": "code",
   "execution_count": 15,
   "id": "4caf8fc7",
   "metadata": {},
   "outputs": [
    {
     "data": {
      "application/vnd.microsoft.datawrangler.viewer.v0+json": {
       "columns": [
        {
         "name": "index",
         "rawType": "int64",
         "type": "integer"
        },
        {
         "name": "sku",
         "rawType": "object",
         "type": "string"
        },
        {
         "name": "name",
         "rawType": "object",
         "type": "string"
        },
        {
         "name": "desc",
         "rawType": "object",
         "type": "string"
        },
        {
         "name": "listed_price",
         "rawType": "float64",
         "type": "float"
        },
        {
         "name": "in_stock",
         "rawType": "int64",
         "type": "integer"
        },
        {
         "name": "type",
         "rawType": "int64",
         "type": "integer"
        },
        {
         "name": "man",
         "rawType": "object",
         "type": "string"
        }
       ],
       "ref": "4aa6619c-52f1-4e2f-865b-a52a74243956",
       "rows": [
        [
         "0",
         "RAI0007",
         "Silver Rain Design mStand Support",
         "Aluminum support compatible with all MacBook",
         "59.99",
         "1",
         "8696",
         "RAI"
        ],
        [
         "1",
         "APP0023",
         "Apple Mac Keyboard Keypad Spanish",
         "USB ultrathin keyboard Apple Mac Spanish.",
         "59.0",
         "0",
         "13855401",
         "APP"
        ],
        [
         "2",
         "APP0025",
         "Mighty Mouse Apple Mouse for Mac",
         "mouse Apple USB cable.",
         "59.0",
         "0",
         "1387",
         "APP"
        ],
        [
         "3",
         "APP0072",
         "Apple Dock to USB Cable iPhone and iPod white",
         "IPhone dock and USB Cable Apple iPod.",
         "25.0",
         "0",
         "1230",
         "APP"
        ],
        [
         "4",
         "KIN0007",
         "Mac Memory Kingston 2GB 667MHz DDR2 SO-DIMM",
         "2GB RAM Mac mini and iMac (2006/07) MacBook Pro (2006/07/08).",
         "34.99",
         "1",
         "1364",
         "KIN"
        ]
       ],
       "shape": {
        "columns": 7,
        "rows": 5
       }
      },
      "text/html": [
       "<div>\n",
       "<style scoped>\n",
       "    .dataframe tbody tr th:only-of-type {\n",
       "        vertical-align: middle;\n",
       "    }\n",
       "\n",
       "    .dataframe tbody tr th {\n",
       "        vertical-align: top;\n",
       "    }\n",
       "\n",
       "    .dataframe thead th {\n",
       "        text-align: right;\n",
       "    }\n",
       "</style>\n",
       "<table border=\"1\" class=\"dataframe\">\n",
       "  <thead>\n",
       "    <tr style=\"text-align: right;\">\n",
       "      <th></th>\n",
       "      <th>sku</th>\n",
       "      <th>name</th>\n",
       "      <th>desc</th>\n",
       "      <th>listed_price</th>\n",
       "      <th>in_stock</th>\n",
       "      <th>type</th>\n",
       "      <th>man</th>\n",
       "    </tr>\n",
       "  </thead>\n",
       "  <tbody>\n",
       "    <tr>\n",
       "      <th>0</th>\n",
       "      <td>RAI0007</td>\n",
       "      <td>Silver Rain Design mStand Support</td>\n",
       "      <td>Aluminum support compatible with all MacBook</td>\n",
       "      <td>59.99</td>\n",
       "      <td>1</td>\n",
       "      <td>8696</td>\n",
       "      <td>RAI</td>\n",
       "    </tr>\n",
       "    <tr>\n",
       "      <th>1</th>\n",
       "      <td>APP0023</td>\n",
       "      <td>Apple Mac Keyboard Keypad Spanish</td>\n",
       "      <td>USB ultrathin keyboard Apple Mac Spanish.</td>\n",
       "      <td>59.00</td>\n",
       "      <td>0</td>\n",
       "      <td>13855401</td>\n",
       "      <td>APP</td>\n",
       "    </tr>\n",
       "    <tr>\n",
       "      <th>2</th>\n",
       "      <td>APP0025</td>\n",
       "      <td>Mighty Mouse Apple Mouse for Mac</td>\n",
       "      <td>mouse Apple USB cable.</td>\n",
       "      <td>59.00</td>\n",
       "      <td>0</td>\n",
       "      <td>1387</td>\n",
       "      <td>APP</td>\n",
       "    </tr>\n",
       "    <tr>\n",
       "      <th>3</th>\n",
       "      <td>APP0072</td>\n",
       "      <td>Apple Dock to USB Cable iPhone and iPod white</td>\n",
       "      <td>IPhone dock and USB Cable Apple iPod.</td>\n",
       "      <td>25.00</td>\n",
       "      <td>0</td>\n",
       "      <td>1230</td>\n",
       "      <td>APP</td>\n",
       "    </tr>\n",
       "    <tr>\n",
       "      <th>4</th>\n",
       "      <td>KIN0007</td>\n",
       "      <td>Mac Memory Kingston 2GB 667MHz DDR2 SO-DIMM</td>\n",
       "      <td>2GB RAM Mac mini and iMac (2006/07) MacBook Pr...</td>\n",
       "      <td>34.99</td>\n",
       "      <td>1</td>\n",
       "      <td>1364</td>\n",
       "      <td>KIN</td>\n",
       "    </tr>\n",
       "  </tbody>\n",
       "</table>\n",
       "</div>"
      ],
      "text/plain": [
       "       sku                                           name  \\\n",
       "0  RAI0007              Silver Rain Design mStand Support   \n",
       "1  APP0023              Apple Mac Keyboard Keypad Spanish   \n",
       "2  APP0025               Mighty Mouse Apple Mouse for Mac   \n",
       "3  APP0072  Apple Dock to USB Cable iPhone and iPod white   \n",
       "4  KIN0007    Mac Memory Kingston 2GB 667MHz DDR2 SO-DIMM   \n",
       "\n",
       "                                                desc  listed_price  in_stock  \\\n",
       "0       Aluminum support compatible with all MacBook         59.99         1   \n",
       "1          USB ultrathin keyboard Apple Mac Spanish.         59.00         0   \n",
       "2                             mouse Apple USB cable.         59.00         0   \n",
       "3              IPhone dock and USB Cable Apple iPod.         25.00         0   \n",
       "4  2GB RAM Mac mini and iMac (2006/07) MacBook Pr...         34.99         1   \n",
       "\n",
       "       type  man  \n",
       "0      8696  RAI  \n",
       "1  13855401  APP  \n",
       "2      1387  APP  \n",
       "3      1230  APP  \n",
       "4      1364  KIN  "
      ]
     },
     "execution_count": 15,
     "metadata": {},
     "output_type": "execute_result"
    }
   ],
   "source": [
    "products_df.head(5)"
   ]
  },
  {
   "cell_type": "code",
   "execution_count": 4,
   "id": "fb7e98b1",
   "metadata": {},
   "outputs": [
    {
     "data": {
      "text/plain": [
       "114"
      ]
     },
     "execution_count": 4,
     "metadata": {},
     "output_type": "execute_result"
    }
   ],
   "source": [
    "products_df.type.nunique()"
   ]
  },
  {
   "cell_type": "code",
   "execution_count": null,
   "id": "5ffb205e",
   "metadata": {},
   "outputs": [
    {
     "data": {
      "application/vnd.microsoft.datawrangler.viewer.v0+json": {
       "columns": [
        {
         "name": "type",
         "rawType": "object",
         "type": "string"
        },
        {
         "name": "count",
         "rawType": "int64",
         "type": "integer"
        }
       ],
       "ref": "761f7640-4006-48c2-9b4c-9cba2bf81b32",
       "rows": [
        [
         "11865403",
         "698"
        ],
        [
         "1298",
         "354"
        ],
        [
         "11935397",
         "318"
        ],
        [
         "11905404",
         "282"
        ],
        [
         "12175397",
         "226"
        ],
        [
         "12635403",
         "203"
        ],
        [
         "1364",
         "174"
        ],
        [
         "13835403",
         "157"
        ],
        [
         "12585395",
         "155"
        ],
        [
         "5384",
         "124"
        ],
        [
         "1296",
         "121"
        ],
        [
         "1325",
         "119"
        ],
        [
         "12215397",
         "113"
        ],
        [
         "1433",
         "99"
        ],
        [
         "5398",
         "96"
        ],
        [
         "57445397",
         "79"
        ],
        [
         "1334",
         "74"
        ],
        [
         "1229",
         "71"
        ],
        [
         "12995397",
         "68"
        ],
        [
         "13615399",
         "67"
        ],
        [
         "12655397",
         "59"
        ],
        [
         "2449",
         "57"
        ],
        [
         "1230",
         "57"
        ],
        [
         "13555403",
         "50"
        ],
        [
         "1515",
         "49"
        ],
        [
         "1405",
         "48"
        ],
        [
         "8696",
         "46"
        ],
        [
         "14305406",
         "35"
        ],
        [
         "51601716",
         "35"
        ],
        [
         "12645406",
         "34"
        ],
        [
         "24895185",
         "33"
        ],
        [
         "42945397",
         "31"
        ],
        [
         "1282",
         "31"
        ],
        [
         "5395",
         "30"
        ],
        [
         "5720",
         "29"
        ],
        [
         "24215399",
         "29"
        ],
        [
         "11821715",
         "29"
        ],
        [
         "85641716",
         "29"
        ],
        [
         "21485407",
         "28"
        ],
        [
         "1392",
         "28"
        ],
        [
         "85651716",
         "28"
        ],
        [
         "10230",
         "27"
        ],
        [
         "12755395",
         "27"
        ],
        [
         "13005399",
         "26"
        ],
        [
         "24885185",
         "25"
        ],
        [
         "13855401",
         "23"
        ],
        [
         "1216",
         "23"
        ],
        [
         "5405",
         "22"
        ],
        [
         "10142",
         "22"
        ],
        [
         "1387",
         "20"
        ]
       ],
       "shape": {
        "columns": 1,
        "rows": 114
       }
      },
      "text/plain": [
       "type\n",
       "11865403     698\n",
       "1298         354\n",
       "11935397     318\n",
       "11905404     282\n",
       "12175397     226\n",
       "            ... \n",
       "5,45E+15       1\n",
       "113851714      1\n",
       "12285400       1\n",
       "113464259      1\n",
       "113271716      1\n",
       "Name: count, Length: 114, dtype: int64"
      ]
     },
     "execution_count": 6,
     "metadata": {},
     "output_type": "execute_result"
    }
   ],
   "source": [
    "# Value counts reveal corrupted type entries (scientific notation , e.g. 5,49E+11 in German notation)\n",
    "products_df.type.value_counts()"
   ]
  },
  {
   "cell_type": "code",
   "execution_count": null,
   "id": "1d6fd4e3",
   "metadata": {},
   "outputs": [],
   "source": [
    "def clean_type_column(type_value):\n",
    "    \n",
    "    # Cleanin the 'type' column\n",
    "    # Converting scientific notation into normal integer.\n",
    "    # Removing commas and make at most 9 digits.\n",
    "    # If the number is longer than 9 digits, it reduces it to the first 9 digits.\n",
    "    # Returns--> A cleaned integer or string if conversion is not possible\n",
    "    try:\n",
    "        num = float(str(type_value).replace(',', '.'))\n",
    "        \n",
    "        num_str = str(int(num))[:9]\n",
    "        \n",
    "        return int(num_str)\n",
    "    \n",
    "    except ValueError:\n",
    "        return type_value  \n",
    "    # If conversion fails return original value (string)"
   ]
  },
  {
   "cell_type": "code",
   "execution_count": 8,
   "id": "9e7a875f",
   "metadata": {},
   "outputs": [
    {
     "data": {
      "application/vnd.microsoft.datawrangler.viewer.v0+json": {
       "columns": [
        {
         "name": "type",
         "rawType": "int64",
         "type": "integer"
        },
        {
         "name": "count",
         "rawType": "int64",
         "type": "integer"
        }
       ],
       "ref": "e5cbe3c3-c1d7-47f3-b1f0-abdb10de4cc2",
       "rows": [
        [
         "11865403",
         "698"
        ],
        [
         "1298",
         "354"
        ],
        [
         "11935397",
         "318"
        ],
        [
         "11905404",
         "282"
        ],
        [
         "12175397",
         "226"
        ],
        [
         "12635403",
         "203"
        ],
        [
         "1364",
         "174"
        ],
        [
         "13835403",
         "157"
        ],
        [
         "12585395",
         "155"
        ],
        [
         "5384",
         "124"
        ],
        [
         "1296",
         "121"
        ],
        [
         "1325",
         "119"
        ],
        [
         "12215397",
         "113"
        ],
        [
         "1433",
         "99"
        ],
        [
         "5398",
         "96"
        ],
        [
         "57445397",
         "79"
        ],
        [
         "1334",
         "74"
        ],
        [
         "1229",
         "71"
        ],
        [
         "12995397",
         "68"
        ],
        [
         "13615399",
         "67"
        ],
        [
         "12655397",
         "59"
        ],
        [
         "2449",
         "57"
        ],
        [
         "1230",
         "57"
        ],
        [
         "13555403",
         "50"
        ],
        [
         "1515",
         "49"
        ],
        [
         "1405",
         "48"
        ],
        [
         "8696",
         "46"
        ],
        [
         "14305406",
         "35"
        ],
        [
         "51601716",
         "35"
        ],
        [
         "12645406",
         "34"
        ],
        [
         "24895185",
         "33"
        ],
        [
         "42945397",
         "31"
        ],
        [
         "1282",
         "31"
        ],
        [
         "5395",
         "30"
        ],
        [
         "5720",
         "29"
        ],
        [
         "24215399",
         "29"
        ],
        [
         "11821715",
         "29"
        ],
        [
         "85641716",
         "29"
        ],
        [
         "21485407",
         "28"
        ],
        [
         "1392",
         "28"
        ],
        [
         "85651716",
         "28"
        ],
        [
         "10230",
         "27"
        ],
        [
         "12755395",
         "27"
        ],
        [
         "13005399",
         "26"
        ],
        [
         "24885185",
         "25"
        ],
        [
         "13855401",
         "23"
        ],
        [
         "1216",
         "23"
        ],
        [
         "5405",
         "22"
        ],
        [
         "10142",
         "22"
        ],
        [
         "1387",
         "20"
        ]
       ],
       "shape": {
        "columns": 1,
        "rows": 114
       }
      },
      "text/plain": [
       "type\n",
       "11865403     698\n",
       "1298         354\n",
       "11935397     318\n",
       "11905404     282\n",
       "12175397     226\n",
       "            ... \n",
       "545000000      1\n",
       "113851714      1\n",
       "12285400       1\n",
       "113464259      1\n",
       "113271716      1\n",
       "Name: count, Length: 114, dtype: int64"
      ]
     },
     "execution_count": 8,
     "metadata": {},
     "output_type": "execute_result"
    }
   ],
   "source": [
    "# Apply the cleaning function to the 'type' column\n",
    "products_df['type'] = products_df['type'].apply(clean_type_column)\n",
    "products_df.type.value_counts()"
   ]
  },
  {
   "cell_type": "code",
   "execution_count": 9,
   "id": "df11dc7b",
   "metadata": {},
   "outputs": [
    {
     "data": {
      "text/plain": [
       "[8696,\n",
       " 13855401,\n",
       " 1387,\n",
       " 1230,\n",
       " 1364,\n",
       " 1325,\n",
       " 1334,\n",
       " 13005399,\n",
       " 13835403,\n",
       " 12995397,\n",
       " 13955395,\n",
       " 1276,\n",
       " 11905404,\n",
       " 12635403,\n",
       " 11865403,\n",
       " 12755395,\n",
       " 12355400,\n",
       " 1229,\n",
       " 11935397,\n",
       " 12655397,\n",
       " 1404,\n",
       " 101781405,\n",
       " 12085400,\n",
       " 1424,\n",
       " 9094,\n",
       " 14305406,\n",
       " 10142,\n",
       " 12645406,\n",
       " 10230,\n",
       " 12215397,\n",
       " 14365395,\n",
       " 5384,\n",
       " 12175397,\n",
       " 57445397,\n",
       " 5395,\n",
       " 13555403,\n",
       " 21485407,\n",
       " 20642062,\n",
       " 1280,\n",
       " 12575403,\n",
       " 1405,\n",
       " 14035403,\n",
       " 1433,\n",
       " 1216,\n",
       " 1515,\n",
       " 12585395,\n",
       " 1392,\n",
       " 1231,\n",
       " 549000000,\n",
       " 5398,\n",
       " 13615399,\n",
       " 1296,\n",
       " 1375,\n",
       " 5405,\n",
       " 1298,\n",
       " 1282,\n",
       " 12285400,\n",
       " 144000000,\n",
       " 5720,\n",
       " 15435404,\n",
       " 11821715,\n",
       " 24215399,\n",
       " 11434,\n",
       " 2425,\n",
       " 2434,\n",
       " 2449,\n",
       " 42945397,\n",
       " 13621714,\n",
       " 24861714,\n",
       " 24821716,\n",
       " 54864259,\n",
       " 4259,\n",
       " 51861714,\n",
       " 1416,\n",
       " 51601716,\n",
       " 51871714,\n",
       " 12141714,\n",
       " 5403,\n",
       " 54085407,\n",
       " 21535407,\n",
       " 5407,\n",
       " 5406,\n",
       " 5404,\n",
       " 544000000,\n",
       " 85641716,\n",
       " 42931714,\n",
       " 24811716,\n",
       " 85651716,\n",
       " 24885185,\n",
       " 24895185,\n",
       " 54025401,\n",
       " 543000000,\n",
       " 5401,\n",
       " 1714,\n",
       " 572000000,\n",
       " 1716,\n",
       " 21622158,\n",
       " 51882158,\n",
       " 217000000,\n",
       " 12031714,\n",
       " 12051714,\n",
       " 21571716,\n",
       " 106431714,\n",
       " 5399,\n",
       " 21561716,\n",
       " 79201715,\n",
       " 216000000,\n",
       " 113291716,\n",
       " 113281716,\n",
       " 545000000,\n",
       " 113851714,\n",
       " 11859,\n",
       " 113464259,\n",
       " 113271716]"
      ]
     },
     "execution_count": 9,
     "metadata": {},
     "output_type": "execute_result"
    }
   ],
   "source": [
    "type_num_list = products_df['type'].unique().tolist()\n",
    "type_num_list"
   ]
  },
  {
   "cell_type": "code",
   "execution_count": 12,
   "id": "e835acce",
   "metadata": {},
   "outputs": [
    {
     "data": {
      "application/vnd.microsoft.datawrangler.viewer.v0+json": {
       "columns": [
        {
         "name": "index",
         "rawType": "int64",
         "type": "integer"
        },
        {
         "name": "name",
         "rawType": "object",
         "type": "string"
        },
        {
         "name": "type",
         "rawType": "int64",
         "type": "integer"
        }
       ],
       "ref": "30c0c765-708b-4134-84ac-97996a267e01",
       "rows": [
        [
         "628",
         "iPhone 5s battery repair",
         "144000000"
        ],
        [
         "649",
         "Full Screen Repair iPhone 6",
         "144000000"
        ],
        [
         "823",
         "battery repair iPhone 6",
         "144000000"
        ],
        [
         "824",
         "Home button repair iPhone 6",
         "144000000"
        ],
        [
         "825",
         "Load Connector Repair iPhone 6",
         "144000000"
        ],
        [
         "826",
         "GSM antenna repair iPhone 6",
         "144000000"
        ],
        [
         "1706",
         "Full screen repair iPhone 5s",
         "144000000"
        ],
        [
         "3288",
         "Load Connector Repair iPhone 5",
         "144000000"
        ],
        [
         "3289",
         "Full screen repair iPhone 6s",
         "144000000"
        ],
        [
         "3290",
         "Full screen repair iPhone 6s Plus",
         "144000000"
        ],
        [
         "3291",
         "Full Screen Repair iPad Air 2",
         "144000000"
        ],
        [
         "3292",
         "Full screen repair iPad 3",
         "144000000"
        ],
        [
         "3294",
         "iPad 2 Touch Screen Repair",
         "144000000"
        ],
        [
         "3984",
         "Full screen repair iPhone 7 Plus",
         "144000000"
        ]
       ],
       "shape": {
        "columns": 2,
        "rows": 14
       }
      },
      "text/html": [
       "<div>\n",
       "<style scoped>\n",
       "    .dataframe tbody tr th:only-of-type {\n",
       "        vertical-align: middle;\n",
       "    }\n",
       "\n",
       "    .dataframe tbody tr th {\n",
       "        vertical-align: top;\n",
       "    }\n",
       "\n",
       "    .dataframe thead th {\n",
       "        text-align: right;\n",
       "    }\n",
       "</style>\n",
       "<table border=\"1\" class=\"dataframe\">\n",
       "  <thead>\n",
       "    <tr style=\"text-align: right;\">\n",
       "      <th></th>\n",
       "      <th>name</th>\n",
       "      <th>type</th>\n",
       "    </tr>\n",
       "  </thead>\n",
       "  <tbody>\n",
       "    <tr>\n",
       "      <th>628</th>\n",
       "      <td>iPhone 5s battery repair</td>\n",
       "      <td>144000000</td>\n",
       "    </tr>\n",
       "    <tr>\n",
       "      <th>649</th>\n",
       "      <td>Full Screen Repair iPhone 6</td>\n",
       "      <td>144000000</td>\n",
       "    </tr>\n",
       "    <tr>\n",
       "      <th>823</th>\n",
       "      <td>battery repair iPhone 6</td>\n",
       "      <td>144000000</td>\n",
       "    </tr>\n",
       "    <tr>\n",
       "      <th>824</th>\n",
       "      <td>Home button repair iPhone 6</td>\n",
       "      <td>144000000</td>\n",
       "    </tr>\n",
       "    <tr>\n",
       "      <th>825</th>\n",
       "      <td>Load Connector Repair iPhone 6</td>\n",
       "      <td>144000000</td>\n",
       "    </tr>\n",
       "    <tr>\n",
       "      <th>826</th>\n",
       "      <td>GSM antenna repair iPhone 6</td>\n",
       "      <td>144000000</td>\n",
       "    </tr>\n",
       "    <tr>\n",
       "      <th>1706</th>\n",
       "      <td>Full screen repair iPhone 5s</td>\n",
       "      <td>144000000</td>\n",
       "    </tr>\n",
       "    <tr>\n",
       "      <th>3288</th>\n",
       "      <td>Load Connector Repair iPhone 5</td>\n",
       "      <td>144000000</td>\n",
       "    </tr>\n",
       "    <tr>\n",
       "      <th>3289</th>\n",
       "      <td>Full screen repair iPhone 6s</td>\n",
       "      <td>144000000</td>\n",
       "    </tr>\n",
       "    <tr>\n",
       "      <th>3290</th>\n",
       "      <td>Full screen repair iPhone 6s Plus</td>\n",
       "      <td>144000000</td>\n",
       "    </tr>\n",
       "    <tr>\n",
       "      <th>3291</th>\n",
       "      <td>Full Screen Repair iPad Air 2</td>\n",
       "      <td>144000000</td>\n",
       "    </tr>\n",
       "    <tr>\n",
       "      <th>3292</th>\n",
       "      <td>Full screen repair iPad 3</td>\n",
       "      <td>144000000</td>\n",
       "    </tr>\n",
       "    <tr>\n",
       "      <th>3294</th>\n",
       "      <td>iPad 2 Touch Screen Repair</td>\n",
       "      <td>144000000</td>\n",
       "    </tr>\n",
       "    <tr>\n",
       "      <th>3984</th>\n",
       "      <td>Full screen repair iPhone 7 Plus</td>\n",
       "      <td>144000000</td>\n",
       "    </tr>\n",
       "  </tbody>\n",
       "</table>\n",
       "</div>"
      ],
      "text/plain": [
       "                                   name       type\n",
       "628            iPhone 5s battery repair  144000000\n",
       "649         Full Screen Repair iPhone 6  144000000\n",
       "823             battery repair iPhone 6  144000000\n",
       "824         Home button repair iPhone 6  144000000\n",
       "825      Load Connector Repair iPhone 6  144000000\n",
       "826         GSM antenna repair iPhone 6  144000000\n",
       "1706       Full screen repair iPhone 5s  144000000\n",
       "3288     Load Connector Repair iPhone 5  144000000\n",
       "3289       Full screen repair iPhone 6s  144000000\n",
       "3290  Full screen repair iPhone 6s Plus  144000000\n",
       "3291      Full Screen Repair iPad Air 2  144000000\n",
       "3292          Full screen repair iPad 3  144000000\n",
       "3294         iPad 2 Touch Screen Repair  144000000\n",
       "3984   Full screen repair iPhone 7 Plus  144000000"
      ]
     },
     "execution_count": 12,
     "metadata": {},
     "output_type": "execute_result"
    }
   ],
   "source": [
    "# Explore for specific types\n",
    "mask = products_df['type'] == 144000000\n",
    "products_df.loc[mask, ['name', 'type']]"
   ]
  },
  {
   "cell_type": "markdown",
   "id": "a0a248c8",
   "metadata": {},
   "source": [
    "## 3 Explore connection between type and product name"
   ]
  },
  {
   "cell_type": "code",
   "execution_count": 16,
   "id": "27339583",
   "metadata": {},
   "outputs": [],
   "source": [
    "def find_type(type_num, df):\n",
    "    # Filter rows where 'type' matches the given type_num \n",
    "    mask_type = df['type'] == type_num\n",
    "    column_texts = df.loc[mask_type, 'name']\n",
    "    \n",
    "    # Convert the column to a single lowercase string \n",
    "    all_text = ' '.join(column_texts.astype(str)).lower()\n",
    "    words = all_text.split() #split into words\n",
    "\n",
    "    # words to skip\n",
    "    # you can change the words to skip\n",
    "    skip_words = {'and', 'for', 'with', 'of', 'to', 'apple', 'pro', 'air', 'silver', 'second', 'hand'}\n",
    "    \n",
    "    # filter the words\n",
    "    #non-alphabetic words and words in skip_words\n",
    "    filtered_words = []\n",
    "    for word in words:\n",
    "        if word.isalpha() and word not in skip_words:\n",
    "            filtered_words.append(word)\n",
    "    \n",
    "    # Count the occurrences\n",
    "    word_counts = {}\n",
    "    for word in filtered_words:\n",
    "        if word in word_counts:\n",
    "            word_counts[word] += 1\n",
    "        else:\n",
    "            word_counts[word] = 1\n",
    "\n",
    "    # top most common words\n",
    "    # you can change the number in range --> how many words you want to display\n",
    "    most_common_words = []\n",
    "    for i in range(1):\n",
    "        max_word = ''\n",
    "        max_count = 0\n",
    "        for word, count in word_counts.items():\n",
    "            if count > max_count:\n",
    "                max_word = word\n",
    "                max_count = count\n",
    "        if max_word:\n",
    "            most_common_words.append(max_word)\n",
    "            # Remove it from the initial dictionary\n",
    "            #to find the next most common one\n",
    "            del word_counts[max_word]  \n",
    "\n",
    "    return most_common_words"
   ]
  },
  {
   "cell_type": "code",
   "execution_count": null,
   "id": "a11ba192",
   "metadata": {},
   "outputs": [
    {
     "data": {
      "text/plain": [
       "[['support'],\n",
       " ['keyboard'],\n",
       " ['mouse'],\n",
       " ['cable'],\n",
       " ['mac'],\n",
       " ['cable'],\n",
       " ['gigabit'],\n",
       " ['macbook'],\n",
       " ['macbook'],\n",
       " ['usb'],\n",
       " ['like'],\n",
       " ['pcie'],\n",
       " ['white'],\n",
       " ['ipad'],\n",
       " ['case'],\n",
       " ['owc'],\n",
       " ['adapter'],\n",
       " ['pointer'],\n",
       " ['usb'],\n",
       " ['drive'],\n",
       " ['synology'],\n",
       " ['wacom'],\n",
       " ['stick'],\n",
       " ['usb'],\n",
       " ['camera'],\n",
       " ['ifixit'],\n",
       " ['battery'],\n",
       " ['ifixit'],\n",
       " ['macbook'],\n",
       " ['ssd'],\n",
       " ['adapter'],\n",
       " ['headphones'],\n",
       " ['nas'],\n",
       " ['card'],\n",
       " ['allocacoc'],\n",
       " ['iphone'],\n",
       " ['iphone'],\n",
       " ['installation'],\n",
       " ['mini'],\n",
       " ['keyboard'],\n",
       " ['wacom'],\n",
       " ['ipad'],\n",
       " ['kit'],\n",
       " ['ipad'],\n",
       " ['battery'],\n",
       " ['usb'],\n",
       " ['backpack'],\n",
       " ['applecare'],\n",
       " ['battery'],\n",
       " ['speaker'],\n",
       " ['charger'],\n",
       " ['monitor'],\n",
       " ['blue'],\n",
       " ['sport'],\n",
       " ['open'],\n",
       " ['ram'],\n",
       " ['whoosh'],\n",
       " ['repair'],\n",
       " ['iphone'],\n",
       " ['leap'],\n",
       " ['ipod'],\n",
       " ['watch'],\n",
       " ['security'],\n",
       " ['screen'],\n",
       " ['watch'],\n",
       " ['strap'],\n",
       " ['lightning'],\n",
       " ['ipad'],\n",
       " ['ipad'],\n",
       " ['iphone'],\n",
       " ['remote'],\n",
       " ['tv'],\n",
       " ['ipad'],\n",
       " ['mac'],\n",
       " ['iphone'],\n",
       " ['ipad'],\n",
       " ['ipad'],\n",
       " ['case'],\n",
       " ['ifixit'],\n",
       " ['ifixit'],\n",
       " ['ifixit'],\n",
       " ['ifixit'],\n",
       " ['elgato'],\n",
       " ['mac'],\n",
       " ['iphone'],\n",
       " ['ipad'],\n",
       " ['iphone'],\n",
       " ['iphone'],\n",
       " ['watch'],\n",
       " ['watch'],\n",
       " ['open'],\n",
       " ['imac'],\n",
       " ['keyboard'],\n",
       " ['ipad'],\n",
       " ['imac'],\n",
       " ['open'],\n",
       " ['mac'],\n",
       " ['imac'],\n",
       " ['macbook'],\n",
       " ['ipad'],\n",
       " ['ipad'],\n",
       " ['like'],\n",
       " ['ipad'],\n",
       " ['wireless'],\n",
       " ['iphone'],\n",
       " ['like'],\n",
       " ['imac'],\n",
       " ['iphone'],\n",
       " ['iphone'],\n",
       " ['mac'],\n",
       " ['like'],\n",
       " ['fibaro'],\n",
       " ['open'],\n",
       " ['like']]"
      ]
     },
     "execution_count": 17,
     "metadata": {},
     "output_type": "execute_result"
    }
   ],
   "source": [
    "# Apply lingual analysis and create a new list with most common words to assist in category forming\n",
    "category_list = [find_type(item, products_df) for item in type_num_list]\n",
    "category_list"
   ]
  },
  {
   "cell_type": "code",
   "execution_count": 23,
   "id": "080be233",
   "metadata": {},
   "outputs": [],
   "source": [
    "# Take another approach to scout specific types and their statistics\n",
    "def cat_search(type, df):\n",
    "  list_1 = df.loc[df[\"type\"] == type, [\"name\", \"desc\"]].sort_values(by=\"name\")\n",
    "  stat_1 = df.loc[df[\"type\"] == type].describe()\n",
    "  return list_1, stat_1"
   ]
  },
  {
   "cell_type": "code",
   "execution_count": 24,
   "id": "392c1c66",
   "metadata": {},
   "outputs": [
    {
     "data": {
      "text/plain": [
       "(                                                   name  \\\n",
       " 3528  (OEM) Apple Wireless Keyboard Mac Keyboard Eng...   \n",
       " 1166    Apple Keyboard Keypad International English Mac   \n",
       " 1                     Apple Mac Keyboard Keypad Spanish   \n",
       " 3734  Apple Magic Spanish Keyboard Keypad Bluetooth Mac   \n",
       " 1948      Belkin Bluetooth Keypad YourType aluminum Mac   \n",
       " 20                      KeyPad LMP Bluetooth Keypad Mac   \n",
       " 2079  LMP Bluetooth Keypad 2 Numeric Keypad for Magi...   \n",
       " 4738       Like new - Apple Mac Keyboard Keypad Spanish   \n",
       " 3639                 Like new - Apple Wireless Keyboard   \n",
       " 3530  Logitech Desktop MK120 Keyboard and USB Mouse ...   \n",
       " 1327  Logitech Keyboard K380 Multi-Device Black for ...   \n",
       " 2343  Logitech Wireless Keyboard K780 Black Multi De...   \n",
       " 1999  Macally Keyboard Magic Keyboard Protector Tran...   \n",
       " 3983  Macally Keyboard Protector TPU MacBook Pro Tou...   \n",
       " 3410  Matias Bluetooth keyboard Aluminum + Spanish n...   \n",
       " 4704   Matias numeric keyboard + Spanish Aluminio Plata   \n",
       " 1097  Multi-Device Logitech K480 Keyboard for iPad /...   \n",
       " 314                  NexGen LMP Bluetooth Keypad KeyPad   \n",
       " 4932            Open - Matias Aluminum Keyboard Spanish   \n",
       " 2912           Satechi Slim Bluetooth Keypad Gray Space   \n",
       " 2789               Satechi Slim Keypad Bluetooth Silver   \n",
       " 1185          Spanish Keyboard Keyboard Magic Apple Mac   \n",
       " 1673    Spanish Keyboard Keyboard Magic Apple Mac (OEM)   \n",
       " \n",
       "                                                    desc  \n",
       " 3528  International English ultrathin keyboard Apple...  \n",
       " 1166          USB ultrathin keyboard Apple Mac English.  \n",
       " 1             USB ultrathin keyboard Apple Mac Spanish.  \n",
       " 3734  Apple Keyboard Magic Keyboard with Bluetooth c...  \n",
       " 1948                                     Keypad for Mac  \n",
       " 20      expansion keypad Mac with bluetooth connection.  \n",
       " 2079  expansion keypad keys 23 Bluetooth connection ...  \n",
       " 4738  Refurbished Mac USB keyboard with Apple in Spa...  \n",
       " 3639  Spanish Keyboard Mac and iPad Ultrathin Blueto...  \n",
       " 3530  Keyboard and mouse with USB connection for Mac...  \n",
       " 1327  Spanish wireless keyboard and multi device iPa...  \n",
       " 2343  Spanish Bluetooth keyboard works with 3 differ...  \n",
       " 1999            Keyboard Cover for Apple Magic Keyboard  \n",
       " 3983  Protective TPU Case for MacBook Pro in Spanish...  \n",
       " 3410  Aluminum Bluetooth keypad manages 4 devices si...  \n",
       " 4704        Keyboard cable compatible with Mac features  \n",
       " 1097     Keying with bluetooth for iPad iPhone and Mac.  \n",
       " 314     expansion keypad Mac with Bluetooth connection.  \n",
       " 4932  Reconditioned keyboard cable compatible with M...  \n",
       " 2912  Bluetooth keypad and rechargeable battery conn...  \n",
       " 2789  Bluetooth keypad and rechargeable battery conn...  \n",
       " 1185  Spanish Keyboard Mac and Apple iPad Ultrathin ...  \n",
       " 1673  Spanish Keyboard Mac and Apple iPad Ultrathin ...  ,\n",
       "        listed_price   in_stock        type\n",
       " count     23.000000  23.000000        23.0\n",
       " mean      68.642609   0.695652  13855401.0\n",
       " std       34.491019   0.470472         0.0\n",
       " min       16.950000   0.000000  13855401.0\n",
       " 25%       49.990000   0.000000  13855401.0\n",
       " 50%       59.000000   1.000000  13855401.0\n",
       " 75%       79.000000   1.000000  13855401.0\n",
       " max      149.000000   1.000000  13855401.0)"
      ]
     },
     "execution_count": 24,
     "metadata": {},
     "output_type": "execute_result"
    }
   ],
   "source": [
    "cat_search(13855401, products_df)"
   ]
  },
  {
   "cell_type": "code",
   "execution_count": 100,
   "id": "5071fb7a",
   "metadata": {},
   "outputs": [
    {
     "data": {
      "text/plain": [
       "(                                                   name  \\\n",
       " 201      Adapter Apple Lightning to Micro USB connector   \n",
       " 125           Adapter Apple Lightning to SD Card Reader   \n",
       " 3541    Allocacoc PowerCube Extended Remote Power strip   \n",
       " 3540  Allocacoc PowerCube Extended USB plug strip Wh...   \n",
       " 3539  Allocacoc PowerCube Extended USB plug strip Wh...   \n",
       " 4159  Allocacoc PowerCube Extended USB plug strip Wh...   \n",
       " 4160  Allocacoc PowerCube Extended USB plug strip Wh...   \n",
       " 3537  Allocacoc PowerCube Extended plug strip White ...   \n",
       " 4174  Allocacoc PowerCube Original Fluorescent lamp ...   \n",
       " 4173  Allocacoc PowerCube Original Regleta White / Blue   \n",
       " 4171  Allocacoc PowerCube Original Regleta White / G...   \n",
       " 4172   Allocacoc PowerCube Original Regleta White / Red   \n",
       " 4157  Allocacoc PowerCube Original USB Fluorescent l...   \n",
       " 4158  Allocacoc PowerCube Original USB Fluorescent l...   \n",
       " 3535  Allocacoc PowerCube Original USB wall Regleta ...   \n",
       " 3538  Allocacoc PowerCube extended plug strip White ...   \n",
       " 4155  Allocacoc PowerCube extended plug strip White ...   \n",
       " 4156  Allocacoc PowerCube extended plug strip White ...   \n",
       " 4162  Allocacoc PowerCube rewirable Regleta White / ...   \n",
       " 126               Apple Digital AV Adapter to Lightning   \n",
       " 1923                 Apple Lightning to USB 3.0 Adapter   \n",
       " 124          Apple Lightning to USB adapter for cameras   \n",
       " 122         Apple adapter 12 W USB iPhone iPod and iPad   \n",
       " 3809  Kanex HDMI to VGA Adapter with Audio Support f...   \n",
       " 3961             Like new - Apple Dock Connector to VGA   \n",
       " 4767          Open - Apple Lightning to USB 3.0 Adapter   \n",
       " 4827  Open - Kanex HDMI to VGA Adapter with Audio Su...   \n",
       " 4938  Open - OWC Data Doubler Optical Bay Adapter Ma...   \n",
       " 3536  PowerCube Original USB Regleta Allocacoc wall ...   \n",
       " 3604  elago Tripshell World Travel Adapter Kit Unive...   \n",
       " \n",
       "                                                    desc  \n",
       " 201   Lightning connector adapter to Micro USB (MD82...  \n",
       " 125   Lightning connector adapter to SD card reader ...  \n",
       " 3541  Cubic plug strip with control and extension 15...  \n",
       " 3540  Outlet power strip extension 15m cube-shaped w...  \n",
       " 3539  Outlet power strip extension 15m cube-shaped w...  \n",
       " 4159  Outlet power strip extension 15m cube-shaped w...  \n",
       " 4160  Outlet power strip extension 15m cube-shaped w...  \n",
       " 3537  Outlet power strip extension 15m cube-shaped 5...  \n",
       " 4174  Wall socket cube-shaped 5 to 250V electrical o...  \n",
       " 4173  Wall socket cube-shaped 5 to 250V electrical o...  \n",
       " 4171  Wall socket cube-shaped 5 to 250V electrical o...  \n",
       " 4172  Wall socket cube-shaped 5 to 250V electrical o...  \n",
       " 4157  Outlet power strip extension 15m cube-shaped w...  \n",
       " 4158  Outlet power strip extension 15m cube-shaped w...  \n",
       " 3535  Wall socket cube-shaped with 4 to 250V electri...  \n",
       " 3538  Outlet power strip extension 15m cube-shaped 5...  \n",
       " 4155  Outlet power strip extension 15m cube-shaped 5...  \n",
       " 4156  Outlet power strip extension 15m cube-shaped 5...  \n",
       " 4162  The smartest solution for travel anywhere in t...  \n",
       " 126   Lightning adapter connector to digital AV (MD8...  \n",
       " 1923          Lightning connector adapter to USB camera  \n",
       " 124   Lightning connector adapter USB camera (MD821Z...  \n",
       " 122    USB Power Adapter 12 W for iPhone iPad and iPod.  \n",
       " 3809                   HDMI to VGA adapter for Apple TV  \n",
       " 3961                          Dock Connector to VGA IOS  \n",
       " 4767          Lightning connector adapter to USB camera  \n",
       " 4827          HDMI to VGA adapter refitted for Apple TV  \n",
       " 4938  Reconditioned tray substitution of superdrive ...  \n",
       " 3536  Wall socket cube-shaped with 4 to 250V electri...  \n",
       " 3604  Charger and adapter with two USB connections a...  ,\n",
       "        listed_price   in_stock    type\n",
       " count     30.000000  30.000000    30.0\n",
       " mean      28.439333   0.633333  5395.0\n",
       " std       15.159747   0.490133     0.0\n",
       " min       12.950000   0.000000  5395.0\n",
       " 25%       15.950000   0.000000  5395.0\n",
       " 50%       24.950000   1.000000  5395.0\n",
       " 75%       35.000000   1.000000  5395.0\n",
       " max       72.990000   1.000000  5395.0)"
      ]
     },
     "execution_count": 100,
     "metadata": {},
     "output_type": "execute_result"
    }
   ],
   "source": [
    "cat_search(5395, products_df)"
   ]
  },
  {
   "cell_type": "markdown",
   "id": "dc88b01b",
   "metadata": {},
   "source": [
    "## 4 Category assignment"
   ]
  },
  {
   "cell_type": "code",
   "execution_count": 25,
   "id": "cc31a314",
   "metadata": {},
   "outputs": [],
   "source": [
    "# add category to the DataFrame\n",
    "products_df[\"category\"] = \"\""
   ]
  },
  {
   "cell_type": "code",
   "execution_count": 26,
   "id": "0fa1fe60",
   "metadata": {},
   "outputs": [
    {
     "name": "stdout",
     "output_type": "stream",
     "text": [
      "With the 50 largest types, we account for 91.05% of all products.\n"
     ]
    }
   ],
   "source": [
    "category_type_df = products_df.copy()\n",
    "n = 50\n",
    "print(f\"With the {n} largest types, we account for {((category_type_df.groupby('type').count().nlargest(n, 'sku')['sku'].sum()) / (category_type_df.shape[0]) * 100).round(2)}% of all products.\")"
   ]
  },
  {
   "cell_type": "markdown",
   "id": "427f5bcd",
   "metadata": {},
   "source": [
    "Algorithm assisted procedure results in determining the following categories:\n",
    "- Cases & Protectors (Cases / Protectors)\n",
    "- Storage Devices (Hard Drives, Data Storage, Memory Card/USB) – Now includes Computer Memory\n",
    "- Laptops & Computers (Laptops, Computers)\n",
    "- Accessories & Peripherals (Accessories, Adaptors/Cables, Stands/Mounts)\n",
    "- Repair & Maintenance (Repair Kits, Open/Second Hand - Misc)\n",
    "- Monitors & Display (Monitor)\n",
    "- Audio & Sound (Headphones, Speakers)\n",
    "- Smartwatches & Accessories (Smart Watch, Smart Watch Straps, Smart Watch Chargers)\n",
    "- Mobile Phones & Accessories (Phones, Chargers)\n",
    "- Tablets & E-Readers (Tablets, Smartpen)\n",
    "- Cameras & Photography (Cameras, iPods)\n",
    "- Power & Batteries (Batteries/PB)\n",
    "- Open & Second Hand - Misc\n",
    "- Networking Devices\n",
    "- Backpacks\n",
    "- Miscellaneous (Any remaining uncategorized items)"
   ]
  },
  {
   "cell_type": "code",
   "execution_count": 114,
   "id": "339deb7d",
   "metadata": {},
   "outputs": [],
   "source": [
    "products_df.loc[products_df[\"type\"] == 11865403, \"category\"] = \"Cases & Protectors\" \n",
    "products_df.loc[products_df[\"type\"] == 12175397, \"category\"] = \"Storage Devices\" \n",
    "products_df.loc[products_df[\"type\"] == 1298, \"category\"] = \"Open & Second Hand - Misc\"\n",
    "products_df.loc[products_df[\"type\"] == 1716, \"category\"] = \"Open & Second Hand - Misc\" \n",
    "products_df.loc[products_df[\"type\"] == 11935397, \"category\"] = \"Storage Devices\"\n",
    "products_df.loc[products_df[\"type\"] == 1276, \"category\"] = \"Storage Devices\"\n",
    "products_df.loc[products_df[\"type\"] == 11905404, \"category\"] = \"Accessories & Peripherals\"\n",
    "products_df.loc[products_df[\"type\"] == 5395, \"category\"] = \"Accessories & Peripherals\" \n",
    "products_df.loc[products_df[\"type\"] == 1282, \"category\"] = \"Laptops & Computers\" \n",
    "products_df.loc[products_df[\"type\"] == 12635403, \"category\"] = \"Cases & Protectors\"\n",
    "products_df.loc[products_df[\"type\"] == 13835403, \"category\"] = \"Cases & Protectors\" \n",
    "products_df.loc[products_df[\"type\"] == 574000000, \"category\"] = \"Laptops & Computers\" \n",
    "products_df.loc[products_df[\"type\"] == 1364, \"category\"] = \"Storage Devices\"\n",
    "products_df.loc[products_df[\"type\"] == 1296, \"category\"] = \"Monitors & Display\"\n",
    "products_df.loc[products_df[\"type\"] == 1325, \"category\"] = \"Accessories & Peripherals\"\n",
    "products_df.loc[products_df[\"type\"] == 1387, \"category\"] = \"Accessories & Peripherals\"\n",
    "products_df.loc[products_df[\"type\"] == 12585395, \"category\"] = \"Accessories & Peripherals\"\n",
    "products_df.loc[products_df[\"type\"] == 5384, \"category\"] = \"Audio & Sound\"\n",
    "products_df.loc[products_df[\"type\"] == 1433, \"category\"] = \"Storage Devices\"\n",
    "products_df.loc[products_df[\"type\"] == 12215397, \"category\"] = \"Storage Devices\"\n",
    "products_df.loc[products_df[\"type\"] == 5398, \"category\"] = \"Audio & Sound\"\n",
    "products_df.loc[products_df[\"type\"] == 102000000, \"category\"] = \"Laptops & Computers\"\n",
    "products_df.loc[products_df[\"type\"] == 144000000, \"category\"] = \"Repair & Maintenance\"\n",
    "products_df.loc[products_df[\"type\"] == 57445397, \"category\"] = \"Storage Devices\"\n",
    "products_df.loc[products_df[\"type\"] == 1334, \"category\"] = \"Networking Devices\"\n",
    "products_df.loc[products_df[\"type\"] == 2158, \"category\"] = \"Laptops & Computers\"\n",
    "products_df.loc[products_df[\"type\"] == 2449, \"category\"] = \"Smartwatches & Accessories\"\n",
    "products_df.loc[products_df[\"type\"] == 12655397, \"category\"] = \"Storage Devices\"\n",
    "products_df.loc[products_df[\"type\"] == 1229, \"category\"] = \"Tablets & E-Readers\"\n",
    "products_df.loc[products_df[\"type\"] == 12995397, \"category\"] = \"Storage Devices\"\n",
    "products_df.loc[products_df[\"type\"] == 1515, \"category\"] = \"Power & Batteries\"\n",
    "products_df.loc[products_df[\"type\"] == 13615399, \"category\"] = \"Mobile Phones & Accessories\"\n",
    "products_df.loc[products_df[\"type\"] == 13555403, \"category\"] = \"Cases & Protectors\"\n",
    "products_df.loc[products_df[\"type\"] == 1405, \"category\"] = \"Tablets & E-Readers\"\n",
    "products_df.loc[products_df[\"type\"] == 1230, \"category\"] = \"Accessories & Peripherals\"\n",
    "products_df.loc[products_df[\"type\"] == 118692158, \"category\"] = \"Laptops & Computers\"\n",
    "products_df.loc[products_df[\"type\"] == 1216, \"category\"] = \"Accessories & Peripherals\"\n",
    "products_df.loc[products_df[\"type\"] == 24885185, \"category\"] = \"Smartwatches & Accessories\"\n",
    "products_df.loc[products_df[\"type\"] == 24895185, \"category\"] = \"Smartwatches & Accessories\"\n",
    "products_df.loc[products_df[\"type\"] == 21485407, \"category\"] = \"Repair & Maintenance\"\n",
    "products_df.loc[products_df[\"type\"] == 1392, \"category\"] = \"Backpacks\"\n",
    "products_df.loc[products_df[\"type\"] == 11821715, \"category\"] = \"Cameras & Photography\"\n",
    "products_df.loc[products_df[\"type\"] == 8696, \"category\"] = \"Accessories & Peripherals\"\n",
    "products_df.loc[products_df[\"type\"] == 9094, \"category\"] = \"Cameras & Photography\"\n",
    "products_df.loc[products_df[\"type\"] == 539000000, \"category\"] = \"Laptops & Computers\"\n",
    "products_df.loc[products_df[\"type\"] == 549000000, \"category\"] = \"Power & Batteries\"\n",
    "products_df.loc[products_df[\"type\"] == 13005399, \"category\"] = \"Power & Batteries\"\n",
    "products_df.loc[products_df[\"type\"] == 42945397, \"category\"] = \"Storage Devices\"\n",
    "products_df.loc[products_df[\"type\"] == 12645406, \"category\"] = \"Repair & Maintenance\"\n",
    "products_df.loc[products_df[\"type\"] == 51601716, \"category\"] = \"Mobile Phones & Accessories\"\n",
    "products_df.loc[products_df[\"type\"] == 216000000, \"category\"] = \"Laptops & Computers\"\n",
    "products_df.loc[products_df[\"type\"] == 85651716, \"category\"] = \"Mobile Phones & Accessories\"\n",
    "products_df.loc[products_df[\"type\"] == 24215399, \"category\"] = \"Smartwatches & Accessories\"\n",
    "products_df.loc[products_df[\"type\"] == 5720, \"category\"] = \"Accessories & Peripherals\"\n",
    "products_df.loc[products_df[\"type\"] == 14305406, \"category\"] = \"Repair & Maintenance\""
   ]
  },
  {
   "cell_type": "code",
   "execution_count": 115,
   "id": "48b57759",
   "metadata": {},
   "outputs": [
    {
     "data": {
      "application/vnd.microsoft.datawrangler.viewer.v0+json": {
       "columns": [
        {
         "name": "category",
         "rawType": "object",
         "type": "string"
        },
        {
         "name": "count",
         "rawType": "int64",
         "type": "integer"
        }
       ],
       "ref": "dcac1b0a-9ec9-49d8-a07e-dd1ad3db63b0",
       "rows": [
        [
         "Storage Devices",
         "1179"
        ],
        [
         "Cases & Protectors",
         "1108"
        ],
        [
         "Accessories & Peripherals",
         "761"
        ],
        [
         "",
         "540"
        ],
        [
         "Open & Second Hand - Misc",
         "357"
        ],
        [
         "Audio & Sound",
         "220"
        ],
        [
         "Smartwatches & Accessories",
         "144"
        ],
        [
         "Mobile Phones & Accessories",
         "130"
        ],
        [
         "Monitors & Display",
         "121"
        ],
        [
         "Tablets & E-Readers",
         "119"
        ],
        [
         "Repair & Maintenance",
         "111"
        ],
        [
         "Power & Batteries",
         "91"
        ],
        [
         "Networking Devices",
         "74"
        ],
        [
         "Cameras & Photography",
         "46"
        ],
        [
         "Laptops & Computers",
         "32"
        ],
        [
         "Backpacks",
         "28"
        ]
       ],
       "shape": {
        "columns": 1,
        "rows": 16
       }
      },
      "text/plain": [
       "category\n",
       "Storage Devices                1179\n",
       "Cases & Protectors             1108\n",
       "Accessories & Peripherals       761\n",
       "                                540\n",
       "Open & Second Hand - Misc       357\n",
       "Audio & Sound                   220\n",
       "Smartwatches & Accessories      144\n",
       "Mobile Phones & Accessories     130\n",
       "Monitors & Display              121\n",
       "Tablets & E-Readers             119\n",
       "Repair & Maintenance            111\n",
       "Power & Batteries                91\n",
       "Networking Devices               74\n",
       "Cameras & Photography            46\n",
       "Laptops & Computers              32\n",
       "Backpacks                        28\n",
       "Name: count, dtype: int64"
      ]
     },
     "execution_count": 115,
     "metadata": {},
     "output_type": "execute_result"
    }
   ],
   "source": [
    "products_df['category'].value_counts()"
   ]
  },
  {
   "cell_type": "code",
   "execution_count": 116,
   "id": "2b1bcdad",
   "metadata": {},
   "outputs": [
    {
     "data": {
      "application/vnd.microsoft.datawrangler.viewer.v0+json": {
       "columns": [
        {
         "name": "index",
         "rawType": "int64",
         "type": "integer"
        },
        {
         "name": "sku",
         "rawType": "object",
         "type": "string"
        },
        {
         "name": "name",
         "rawType": "object",
         "type": "string"
        },
        {
         "name": "desc",
         "rawType": "object",
         "type": "string"
        },
        {
         "name": "listed_price",
         "rawType": "float64",
         "type": "float"
        },
        {
         "name": "in_stock",
         "rawType": "int64",
         "type": "integer"
        },
        {
         "name": "type",
         "rawType": "int64",
         "type": "integer"
        },
        {
         "name": "man",
         "rawType": "object",
         "type": "string"
        },
        {
         "name": "category",
         "rawType": "object",
         "type": "string"
        }
       ],
       "ref": "a224d1e0-5696-4dc4-9c71-9e459a49f7bc",
       "rows": [
        [
         "1",
         "APP0023",
         "Apple Mac Keyboard Keypad Spanish",
         "USB ultrathin keyboard Apple Mac Spanish.",
         "59.0",
         "0",
         "13855401",
         "APP",
         ""
        ],
        [
         "15",
         "APP0234",
         "Apple Dock Connector to VGA",
         "Dock Connector to VGA IOS.",
         "35.0",
         "0",
         "13955395",
         "APP",
         ""
        ],
        [
         "20",
         "LMP0007",
         "KeyPad LMP Bluetooth Keypad Mac",
         "expansion keypad Mac with bluetooth connection.",
         "54.99",
         "1",
         "13855401",
         "LMP",
         ""
        ],
        [
         "25",
         "OWC0007",
         "OWC Data Doubler Optical Bay adapter Macbook / Macbook Pro",
         "Tray SuperDrive replacement hard disk or SSD.",
         "72.99",
         "1",
         "12755395",
         "OWC",
         ""
        ],
        [
         "32",
         "MOS0065",
         "Moshi TeraGlove cleaner screens",
         "Microfibre screen cleaner for Mac iPhone iPad and iPod.",
         "20.0",
         "0",
         "12355400",
         "MOS",
         ""
        ],
        [
         "39",
         "SYN0047",
         "Synology Pack 1 license for IP camera",
         "1 Pack license Mac and PC camera.",
         "52.99",
         "1",
         "1404",
         "SYN",
         ""
        ],
        [
         "40",
         "SYN0048",
         "Synology Pack 4 IP camera licenses",
         "4 Pack licenses Mac and PC camera.",
         "181.99",
         "0",
         "1404",
         "SYN",
         ""
        ],
        [
         "41",
         "WAC0040",
         "Wacom Bamboo Wireless Kit / Intuos graphics tablet accessory kit 5",
         "Wireless Kit Wacom graphics tablets.",
         "39.99",
         "1",
         "101781405",
         "WAC",
         ""
        ],
        [
         "49",
         "PAC0023",
         "OWC Data Doubler Pack MacBook / MacBook Pro",
         "Pack Replacement Superdrive for SSD / HDD + box Super Slim Superdrive + Tools.",
         "107.99",
         "1",
         "12755395",
         "PAC",
         ""
        ],
        [
         "51",
         "OWC0008",
         "OWC Data Doubler Optical Bay Adapter Mac Mini (2009) iMac (2009-11)",
         "Tray substitution of superdrive by hard drive 25 inches.",
         "72.99",
         "1",
         "12755395",
         "OWC",
         ""
        ],
        [
         "53",
         "WAC0055",
         "Wacom Intuos Professional Accessory Kit",
         "Intuos accessory kit.",
         "24.9",
         "0",
         "101781405",
         "WAC",
         ""
        ],
        [
         "54",
         "MAK0015",
         "Stick Maclocks silver metal safely iPad",
         "Security lock plate steel iPad.",
         "49.99",
         "0",
         "12085400",
         "MAK",
         ""
        ],
        [
         "60",
         "APP0407",
         "Apple USB SuperDrive (June 2012 Model)",
         "New CD / DVD retina MacBook Pro MacBook Air iMac Mac Pro and Mac Mini.",
         "89.0",
         "1",
         "1424",
         "APP",
         ""
        ],
        [
         "76",
         "NTE0013",
         "AdaptaDrive NewerTech adapter 2.5 \"to 3.5\" SATA",
         "Adapter HDD / SSD 2.5 SATA 3.5 compatible with Mac Pro.",
         "26.99",
         "1",
         "12755395",
         "NTE",
         ""
        ],
        [
         "78",
         "OWC0024",
         "OWC Mount Adapter 25-35 Pro Mac Pro (2009-2012)",
         "SSD hard drive adapter or 2.5 for Mac Pro.",
         "35.99",
         "1",
         "12755395",
         "OWC",
         ""
        ],
        [
         "80",
         "NTE0017",
         "NewerTech NuPower Battery MacBook 13 \"white",
         "133 inch MacBook battery (White Model).",
         "119.99",
         "1",
         "10142",
         "NTE",
         ""
        ],
        [
         "81",
         "NTE0018",
         "NewerTech NuPower Battery MacBook 13 \"Black",
         "133 inch MacBook battery (Black Model).",
         "119.99",
         "1",
         "10142",
         "NTE",
         ""
        ],
        [
         "82",
         "NTE0020",
         "NewerTech NuPower battery MacBook Pro 15 \"(Late 2008 - Early 2009)",
         "Battery MacBook Pro 15-inch Unibody late 2008 and early 2009",
         "119.99",
         "1",
         "10142",
         "NTE",
         ""
        ],
        [
         "83",
         "NTE0021",
         "NewerTech NuPower Battery MacBook 13 \"Aluminum",
         "battery MacBook 13-inch (Aluminum Model).",
         "119.99",
         "1",
         "10142",
         "NTE",
         ""
        ],
        [
         "91",
         "STM0038",
         "STM Bags Small Alley Backpack MacBook Pro 13 \"black coal",
         "Slingbag MacBook Pro 13-inch.",
         "40.0",
         "1",
         "10230",
         "STM",
         ""
        ],
        [
         "92",
         "NTE0022",
         "NewerTech NuPower battery MacBook Pro 17 \"(2006-2008)",
         "MacBook Pro 17 inch battery.",
         "145.99",
         "0",
         "10142",
         "NTE",
         ""
        ],
        [
         "94",
         "NTE0023",
         "NewerTech eSATA Cable Adapter Mac Pro",
         "Add 2 eSATA ports with the adapter cable for Mac Pro.",
         "30.99",
         "1",
         "12755395",
         "NTE",
         ""
        ],
        [
         "101",
         "APP0434",
         "Apple 5W USB power adapter iPhone and iPod",
         "USB Power Adapter 5W 1A for iPhone iPod and Apple Watch.",
         "25.0",
         "1",
         "14365395",
         "APP",
         ""
        ],
        [
         "102",
         "APP0435",
         "Apple Lightning to 30-pin adapter iPhone 5 / 5S iPad mini and iPod",
         "Lightning connector adapter 30-pin iPhone 5 / 5S and 5G iPod Touch Nano 7G (02m).",
         "45.0",
         "0",
         "14365395",
         "APP",
         ""
        ],
        [
         "103",
         "APP0436",
         "Apple Lightning adapter to 30-pin connector",
         "Lightning adapter connector 30-pin iPhone 5 iPod Touch 5 iPod Nano 7.",
         "35.0",
         "0",
         "14365395",
         "APP",
         ""
        ],
        [
         "135",
         "OWC0054",
         "OWC SSD installation Kit for iMac 27 \"(2010) without tools",
         "SSD installation kit without tools iMac 27-inch (model 2010)",
         "35.99",
         "0",
         "12755395",
         "OWC",
         ""
        ],
        [
         "136",
         "OWC0052",
         "OWC SSD installation Kit for iMac 27 \"(2011) without tools",
         "SSD installation kit without tools iMac 27-inch (model 2011).",
         "35.99",
         "1",
         "12755395",
         "OWC",
         ""
        ],
        [
         "147",
         "OWC0055",
         "Installation Kit OWC SSD / HDD 25 \"Mac mini (2011/2012)",
         "Installation Kit SSD / Hard for Mac mini (2011-2012) Disco.",
         "42.99",
         "0",
         "12755395",
         "OWC",
         ""
        ],
        [
         "152",
         "OWC0053",
         "OWC SSD installation Kit for iMac 215 \"(2011) without tools",
         "Kit installation without tools iMac SSD 215 inches (models 2011).",
         "35.99",
         "1",
         "12755395",
         "OWC",
         ""
        ],
        [
         "159",
         "NTE0019",
         "NewerTech NuPower battery MacBook Pro 15 \"unibody no (2006-2008)",
         "Battery MacBook Pro 15-inch Unibody No 2006-2008",
         "119.99",
         "1",
         "10142",
         "NTE",
         ""
        ],
        [
         "185",
         "TUC0084",
         "Dritta case Tucano MacBook Pro 15 \"Retina Black",
         "comfortable briefcase / shoulder bag compatible with MacBook Pro 15-inch Retina and iPads",
         "29.99",
         "0",
         "10230",
         "TUC",
         ""
        ],
        [
         "187",
         "SEV0007",
         "RAM installation service MacBook / Pro",
         "Installation of RAM in your MacBook / Pro.",
         "19.99",
         "0",
         "20642062",
         "SEV",
         ""
        ],
        [
         "188",
         "SEV0012",
         "HDD or SSD installation service MacBook / Pro",
         "HDD or SSD installation on your MacBook / Pro + Data Transfer.",
         "49.99",
         "0",
         "20642062",
         "SEV",
         ""
        ],
        [
         "189",
         "SEV0019",
         "Installation Service Mac mini RAM",
         "RAM installed in your Mac mini.",
         "19.99",
         "0",
         "20642062",
         "SEV",
         ""
        ],
        [
         "190",
         "SEV0022",
         "MacBook Air SSD installation service",
         "SSD installation on your MacBook Air + Data Transfer.",
         "49.99",
         "0",
         "20642062",
         "SEV",
         ""
        ],
        [
         "191",
         "SEV0023",
         "HDD or SSD installation service Mac Pro",
         "HDD or SSD installation on your Mac Pro + Data Transfer.",
         "49.99",
         "0",
         "20642062",
         "SEV",
         ""
        ],
        [
         "193",
         "SNN0019",
         "Sonnet RackMac support rack mini Mac mini",
         "Rackmount Security for Mac mini.",
         "205.64",
         "0",
         "1280",
         "SNN",
         ""
        ],
        [
         "194",
         "LOG0084",
         "Logitech Ultrathin Keyboard Cover Keyboard Cover iPad Mini / Retina Black",
         "Ultrathin cover and cover with Bluetooth keyboard for iPad mini Spanish 2 and 3",
         "89.99",
         "0",
         "12575403",
         "LOG",
         ""
        ],
        [
         "211",
         "MOS0084",
         "Moshi iVisor XT protector iPad mini / black Retina",
         "IPad Mini Screen Protector bubble free.",
         "22.99",
         "0",
         "14035403",
         "MOS",
         ""
        ],
        [
         "270",
         "TUC0095",
         "Tucano Work Out 2 shoulder MacBook Pro / Air 13 \"Black",
         "Lightweight ergonomic shoulder strap with multibolsillos.",
         "49.99",
         "0",
         "10230",
         "TUC",
         ""
        ],
        [
         "271",
         "TUC0099",
         "Tucano Work Out 2 shoulder MacBook Pro / Retina 15 \"Black",
         "Lightweight ergonomic shoulder strap with multibolsillos.",
         "59.9",
         "1",
         "10230",
         "TUC",
         ""
        ],
        [
         "276",
         "APP0662",
         "IMac AppleCare Protection Plan",
         "Apple Care extended warranty for iMac.",
         "179.0",
         "1",
         "1231",
         "APP",
         ""
        ],
        [
         "277",
         "APP0665",
         "AppleCare Protection Plan Mac mini",
         "Apple Care extended warranty Mac Mini.",
         "89.0",
         "1",
         "1231",
         "APP",
         ""
        ],
        [
         "278",
         "APP0666",
         "AppleCare Protection MacBook Pro 15",
         "Apple Care extended warranty MacBook Pro 15-inch and 15-inch MacBook Pro Retina",
         "349.0",
         "1",
         "1231",
         "APP",
         ""
        ],
        [
         "279",
         "APP0667",
         "AppleCare Protection for Apple TV",
         "Apple Care extended warranty AppleTV.",
         "29.0",
         "0",
         "1231",
         "APP",
         ""
        ],
        [
         "280",
         "APP0663",
         "AppleCare Protection Plan MacBook / Air / Pro 13 \"",
         "Apple Care extended warranty Macbook Air / Macbook / Macbook Pro 13-inch.",
         "249.0",
         "1",
         "1231",
         "APP",
         ""
        ],
        [
         "283",
         "OWC0087",
         "OWC Bluetooth module shielding shielding kit Bluetooth Mac mini 2012",
         "Shielding Kit Bluetooth Module for Mac mini 2012.",
         "55.99",
         "1",
         "12755395",
         "OWC",
         ""
        ],
        [
         "288",
         "WAC0127",
         "Wacom Bamboo Stylus Pack 3 tips Solo and Duo",
         "Replacement tips for Wacom Bamboo Stylus.",
         "4.9",
         "0",
         "101781405",
         "WAC",
         ""
        ],
        [
         "314",
         "LMP0012",
         "NexGen LMP Bluetooth Keypad KeyPad",
         "expansion keypad Mac with Bluetooth connection.",
         "49.99",
         "1",
         "13855401",
         "LMP",
         ""
        ],
        [
         "323",
         "OWC0086",
         "OWC Multi-Mount Kit (2x25 \") Mac Pro 2006/2008 Adapter 2.5\" to 3.5 \"",
         "SSD or HDD Adapter 2.5 to 3.5 for Mac Pro.",
         "62.99",
         "0",
         "12755395",
         "OWC",
         ""
        ]
       ],
       "shape": {
        "columns": 8,
        "rows": 540
       }
      },
      "text/html": [
       "<div>\n",
       "<style scoped>\n",
       "    .dataframe tbody tr th:only-of-type {\n",
       "        vertical-align: middle;\n",
       "    }\n",
       "\n",
       "    .dataframe tbody tr th {\n",
       "        vertical-align: top;\n",
       "    }\n",
       "\n",
       "    .dataframe thead th {\n",
       "        text-align: right;\n",
       "    }\n",
       "</style>\n",
       "<table border=\"1\" class=\"dataframe\">\n",
       "  <thead>\n",
       "    <tr style=\"text-align: right;\">\n",
       "      <th></th>\n",
       "      <th>sku</th>\n",
       "      <th>name</th>\n",
       "      <th>desc</th>\n",
       "      <th>listed_price</th>\n",
       "      <th>in_stock</th>\n",
       "      <th>type</th>\n",
       "      <th>man</th>\n",
       "      <th>category</th>\n",
       "    </tr>\n",
       "  </thead>\n",
       "  <tbody>\n",
       "    <tr>\n",
       "      <th>1</th>\n",
       "      <td>APP0023</td>\n",
       "      <td>Apple Mac Keyboard Keypad Spanish</td>\n",
       "      <td>USB ultrathin keyboard Apple Mac Spanish.</td>\n",
       "      <td>59.00</td>\n",
       "      <td>0</td>\n",
       "      <td>13855401</td>\n",
       "      <td>APP</td>\n",
       "      <td></td>\n",
       "    </tr>\n",
       "    <tr>\n",
       "      <th>15</th>\n",
       "      <td>APP0234</td>\n",
       "      <td>Apple Dock Connector to VGA</td>\n",
       "      <td>Dock Connector to VGA IOS.</td>\n",
       "      <td>35.00</td>\n",
       "      <td>0</td>\n",
       "      <td>13955395</td>\n",
       "      <td>APP</td>\n",
       "      <td></td>\n",
       "    </tr>\n",
       "    <tr>\n",
       "      <th>20</th>\n",
       "      <td>LMP0007</td>\n",
       "      <td>KeyPad LMP Bluetooth Keypad Mac</td>\n",
       "      <td>expansion keypad Mac with bluetooth connection.</td>\n",
       "      <td>54.99</td>\n",
       "      <td>1</td>\n",
       "      <td>13855401</td>\n",
       "      <td>LMP</td>\n",
       "      <td></td>\n",
       "    </tr>\n",
       "    <tr>\n",
       "      <th>25</th>\n",
       "      <td>OWC0007</td>\n",
       "      <td>OWC Data Doubler Optical Bay adapter Macbook /...</td>\n",
       "      <td>Tray SuperDrive replacement hard disk or SSD.</td>\n",
       "      <td>72.99</td>\n",
       "      <td>1</td>\n",
       "      <td>12755395</td>\n",
       "      <td>OWC</td>\n",
       "      <td></td>\n",
       "    </tr>\n",
       "    <tr>\n",
       "      <th>32</th>\n",
       "      <td>MOS0065</td>\n",
       "      <td>Moshi TeraGlove cleaner screens</td>\n",
       "      <td>Microfibre screen cleaner for Mac iPhone iPad ...</td>\n",
       "      <td>20.00</td>\n",
       "      <td>0</td>\n",
       "      <td>12355400</td>\n",
       "      <td>MOS</td>\n",
       "      <td></td>\n",
       "    </tr>\n",
       "    <tr>\n",
       "      <th>...</th>\n",
       "      <td>...</td>\n",
       "      <td>...</td>\n",
       "      <td>...</td>\n",
       "      <td>...</td>\n",
       "      <td>...</td>\n",
       "      <td>...</td>\n",
       "      <td>...</td>\n",
       "      <td>...</td>\n",
       "    </tr>\n",
       "    <tr>\n",
       "      <th>4992</th>\n",
       "      <td>AP20455</td>\n",
       "      <td>Like new - Apple iPhone 8 256GB Gold</td>\n",
       "      <td>Apple iPhone 8 reconditioned 256GB in Gold rea...</td>\n",
       "      <td>979.00</td>\n",
       "      <td>0</td>\n",
       "      <td>113291716</td>\n",
       "      <td>AP2</td>\n",
       "      <td></td>\n",
       "    </tr>\n",
       "    <tr>\n",
       "      <th>4996</th>\n",
       "      <td>ZAG0026-A</td>\n",
       "      <td>Open - Zagg Rugged Keyboard Folio iPad Messeng...</td>\n",
       "      <td>Case reconditioned keyboard and adjustable pos...</td>\n",
       "      <td>99.99</td>\n",
       "      <td>0</td>\n",
       "      <td>12575403</td>\n",
       "      <td>ZAG</td>\n",
       "      <td></td>\n",
       "    </tr>\n",
       "    <tr>\n",
       "      <th>5024</th>\n",
       "      <td>THU0059</td>\n",
       "      <td>Subterra Thule Attache Case MacBook Pro / Reti...</td>\n",
       "      <td>zipper bag and shoulder bag for MacBook Pro / ...</td>\n",
       "      <td>79.99</td>\n",
       "      <td>0</td>\n",
       "      <td>10230</td>\n",
       "      <td>THU</td>\n",
       "      <td></td>\n",
       "    </tr>\n",
       "    <tr>\n",
       "      <th>5027</th>\n",
       "      <td>SDE0007</td>\n",
       "      <td>SDesign iPhone charging dock QI X / 8 / Apple ...</td>\n",
       "      <td>Base load compatible with iPhone and Apple Wat...</td>\n",
       "      <td>69.99</td>\n",
       "      <td>0</td>\n",
       "      <td>5399</td>\n",
       "      <td>SDE</td>\n",
       "      <td></td>\n",
       "    </tr>\n",
       "    <tr>\n",
       "      <th>5040</th>\n",
       "      <td>AP20390</td>\n",
       "      <td>Like new - Apple iPad Wi-Fi + Cellular 128GB S...</td>\n",
       "      <td>iPad Wi-Fi + Cellular Refurbished 128GB in Silver</td>\n",
       "      <td>662.81</td>\n",
       "      <td>0</td>\n",
       "      <td>12141714</td>\n",
       "      <td>AP2</td>\n",
       "      <td></td>\n",
       "    </tr>\n",
       "  </tbody>\n",
       "</table>\n",
       "<p>540 rows × 8 columns</p>\n",
       "</div>"
      ],
      "text/plain": [
       "            sku                                               name  \\\n",
       "1       APP0023                  Apple Mac Keyboard Keypad Spanish   \n",
       "15      APP0234                        Apple Dock Connector to VGA   \n",
       "20      LMP0007                    KeyPad LMP Bluetooth Keypad Mac   \n",
       "25      OWC0007  OWC Data Doubler Optical Bay adapter Macbook /...   \n",
       "32      MOS0065                    Moshi TeraGlove cleaner screens   \n",
       "...         ...                                                ...   \n",
       "4992    AP20455               Like new - Apple iPhone 8 256GB Gold   \n",
       "4996  ZAG0026-A  Open - Zagg Rugged Keyboard Folio iPad Messeng...   \n",
       "5024    THU0059  Subterra Thule Attache Case MacBook Pro / Reti...   \n",
       "5027    SDE0007  SDesign iPhone charging dock QI X / 8 / Apple ...   \n",
       "5040    AP20390  Like new - Apple iPad Wi-Fi + Cellular 128GB S...   \n",
       "\n",
       "                                                   desc  listed_price  \\\n",
       "1             USB ultrathin keyboard Apple Mac Spanish.         59.00   \n",
       "15                           Dock Connector to VGA IOS.         35.00   \n",
       "20      expansion keypad Mac with bluetooth connection.         54.99   \n",
       "25        Tray SuperDrive replacement hard disk or SSD.         72.99   \n",
       "32    Microfibre screen cleaner for Mac iPhone iPad ...         20.00   \n",
       "...                                                 ...           ...   \n",
       "4992  Apple iPhone 8 reconditioned 256GB in Gold rea...        979.00   \n",
       "4996  Case reconditioned keyboard and adjustable pos...         99.99   \n",
       "5024  zipper bag and shoulder bag for MacBook Pro / ...         79.99   \n",
       "5027  Base load compatible with iPhone and Apple Wat...         69.99   \n",
       "5040  iPad Wi-Fi + Cellular Refurbished 128GB in Silver        662.81   \n",
       "\n",
       "      in_stock       type  man category  \n",
       "1            0   13855401  APP           \n",
       "15           0   13955395  APP           \n",
       "20           1   13855401  LMP           \n",
       "25           1   12755395  OWC           \n",
       "32           0   12355400  MOS           \n",
       "...        ...        ...  ...      ...  \n",
       "4992         0  113291716  AP2           \n",
       "4996         0   12575403  ZAG           \n",
       "5024         0      10230  THU           \n",
       "5027         0       5399  SDE           \n",
       "5040         0   12141714  AP2           \n",
       "\n",
       "[540 rows x 8 columns]"
      ]
     },
     "execution_count": 116,
     "metadata": {},
     "output_type": "execute_result"
    }
   ],
   "source": [
    "# Check the NaN values \n",
    "# Create a dataframe having only Nan values in the category column   \n",
    "mask_null = products_df['category'] == ''\n",
    "no_cat_df = products_df.loc[mask_null, :]\n",
    "no_cat_df\n",
    "# mask_null.value_counts()"
   ]
  },
  {
   "cell_type": "code",
   "execution_count": null,
   "id": "eb6a8239",
   "metadata": {},
   "outputs": [],
   "source": [
    "# Assigning categories based on keywords in the 'desc' or 'name' column\n",
    "no_cat_df.loc[no_cat_df[\"desc\"].str.lower().str.contains(\"battery|charger\", case=False), \"category\"] = \"Power & Batteries\"\n",
    "no_cat_df.loc[no_cat_df[\"desc\"].str.lower().str.contains(\"adapter|cable|support|connector|stand|keyboard|mouse|accessory\", case=False), \"category\"] = \"Accessories & Peripherals\"\n",
    "no_cat_df.loc[no_cat_df[\"desc\"].str.lower().str.contains(\"protector|case\", case=False), \"category\"] = \"Cases & Protectors\"\n",
    "no_cat_df.loc[no_cat_df[\"desc\"].str.lower().str.contains(\"microphone\", case=False), \"category\"] = \"Audio & Sound\"\n",
    "no_cat_df.loc[no_cat_df[\"desc\"].str.lower().str.contains(\"watch|strap\", case=False), \"category\"] = \"Smartwatches & Accessories\"\n",
    "no_cat_df.loc[no_cat_df[\"desc\"].str.lower().str.contains(\"ipad\", case=False), \"category\"] = \"Tablets & E-Readers\"\n",
    "no_cat_df.loc[no_cat_df[\"desc\"].str.lower().str.contains(\"gopro\", case=False), \"category\"] = \"Cameras & Photography\"\n",
    "no_cat_df.loc[no_cat_df[\"desc\"].str.lower().str.contains(\"like new|second hand\", case=False), \"category\"] = \"Open & Second Hand - Misc\""
   ]
  },
  {
   "cell_type": "code",
   "execution_count": null,
   "id": "b3d7ad15",
   "metadata": {},
   "outputs": [],
   "source": [
    "no_cat_df.loc[no_cat_df[\"name\"].str.lower().str.contains(\"battery|charger\", case=False), \"category\"] = \"Power & Batteries\"\n",
    "no_cat_df.loc[no_cat_df[\"name\"].str.lower().str.contains(\"adapter|cable|support|connector|stand|keyboard|mouse|accessory\", case=False), \"category\"] = \"Accessories & Peripherals\"\n",
    "no_cat_df.loc[no_cat_df[\"name\"].str.lower().str.contains(\"protector|case\", case=False), \"category\"] = \"Cases & Protectors\"\n",
    "no_cat_df.loc[no_cat_df[\"name\"].str.lower().str.contains(\"microphone\", case=False), \"category\"] = \"Audio & Sound\"\n",
    "no_cat_df.loc[no_cat_df[\"name\"].str.lower().str.contains(\"watch|strap\", case=False), \"category\"] = \"Smartwatches & Accessories\"\n",
    "no_cat_df.loc[no_cat_df[\"name\"].str.lower().str.contains(\"ipad\", case=False), \"category\"] = \"Tablets & E-Readers\"\n",
    "no_cat_df.loc[no_cat_df[\"name\"].str.lower().str.contains(\"gopro\", case=False), \"category\"] = \"Cameras & Photography\"\n",
    "no_cat_df.loc[no_cat_df[\"name\"].str.lower().str.contains(\"like new|second hand\", case=False), \"category\"] = \"Open & Second Hand - Misc\""
   ]
  },
  {
   "cell_type": "code",
   "execution_count": 119,
   "id": "9eeaf9ec",
   "metadata": {},
   "outputs": [
    {
     "data": {
      "application/vnd.microsoft.datawrangler.viewer.v0+json": {
       "columns": [
        {
         "name": "index",
         "rawType": "int64",
         "type": "integer"
        },
        {
         "name": "sku",
         "rawType": "object",
         "type": "string"
        },
        {
         "name": "name",
         "rawType": "object",
         "type": "string"
        },
        {
         "name": "desc",
         "rawType": "object",
         "type": "string"
        },
        {
         "name": "listed_price",
         "rawType": "float64",
         "type": "float"
        },
        {
         "name": "in_stock",
         "rawType": "int64",
         "type": "integer"
        },
        {
         "name": "type",
         "rawType": "int64",
         "type": "integer"
        },
        {
         "name": "man",
         "rawType": "object",
         "type": "string"
        },
        {
         "name": "category",
         "rawType": "object",
         "type": "string"
        }
       ],
       "ref": "e9d765be-f490-47f7-a67a-896b0d48a1ab",
       "rows": [
        [
         "655",
         "SYN0107",
         "Synology RackStation RX415 expansion module",
         "Expansion Unit 4-bay Synology NAS server.",
         "544.99",
         "0",
         "1280",
         "SYN",
         ""
        ],
        [
         "3523",
         "DRO0030",
         "5N2 Drobo NAS server Mac and PC",
         "5-bay NAS server with two Gigabit Ethernet ports designed for homes and small businesses Mac and PC",
         "689.0",
         "0",
         "1280",
         "DRO",
         ""
        ],
        [
         "3818",
         "QNA0228",
         "QNAP QM2-2P PCIe expansion card dual M.2 SSD",
         "PCIe expansion card to connect two M.2 SSD",
         "136.23",
         "0",
         "1404",
         "QNA",
         ""
        ],
        [
         "408",
         "SYN0093",
         "Synology Pack 8 IP camera license",
         "8 pack license Mac and PC camera.",
         "329.99",
         "0",
         "1404",
         "SYN",
         ""
        ],
        [
         "3959",
         "SYN0172",
         "Synology DX517 expansion unit NAS",
         "expansion module for Nas eSATA and 5 bays",
         "517.99",
         "0",
         "1404",
         "SYN",
         ""
        ],
        [
         "3820",
         "QNA0230",
         "QNAP QM2-2P10G1T PCIe expansion card dual 10GbE M.2 SSD",
         "PCIe expansion card to connect two M.2 SSD 10Gb Ethernet port",
         "258.69",
         "0",
         "1404",
         "QNA",
         ""
        ],
        [
         "2337",
         "SYN0160",
         "Synology Rail Kit RKS1317",
         "Sliding rail kit to install Synology RackStation on a rack",
         "83.99",
         "0",
         "1404",
         "SYN",
         ""
        ],
        [
         "929",
         "SYN0115",
         "Synology Rail Kit mounted RKM114",
         "Anchor rails Synology Rack.",
         "36.99",
         "0",
         "1404",
         "SYN",
         ""
        ],
        [
         "1314",
         "QNA0146",
         "QNAP UX-800P NAS Expansion Chassis",
         "Expansion Chassis 8-bay NAS for Mac and PC.",
         "756.25",
         "0",
         "1404",
         "QNA",
         ""
        ],
        [
         "1860",
         "QNA0158",
         "QNAP Security bay Hot-swap 35 \"Black",
         "Bay data security for hot swapping of hard drives in NAS",
         "19.99",
         "0",
         "1404",
         "QNA",
         ""
        ],
        [
         "1715",
         "QNA0166",
         "QNAP RM-IR002 IR remote control",
         "IR remote server NAS",
         "14.99",
         "0",
         "1404",
         "QNA",
         ""
        ],
        [
         "1578",
         "SYN0086",
         "Synology Rail Kit sliding RKS1314",
         "Sliding Rail Kit Synology Rack anchor.",
         "72.99",
         "0",
         "1404",
         "SYN",
         ""
        ],
        [
         "40",
         "SYN0048",
         "Synology Pack 4 IP camera licenses",
         "4 Pack licenses Mac and PC camera.",
         "181.99",
         "0",
         "1404",
         "SYN",
         ""
        ],
        [
         "39",
         "SYN0047",
         "Synology Pack 1 license for IP camera",
         "1 Pack license Mac and PC camera.",
         "52.99",
         "1",
         "1404",
         "SYN",
         ""
        ],
        [
         "4330",
         "SYN0184",
         "Synology RAM 4GB 1866MHz DDR3",
         "4GB DDR3 memory for Synology.",
         "75.99",
         "1",
         "1404",
         "SYN",
         ""
        ],
        [
         "4243",
         "SOF0131",
         "Mac Parallels Desktop 13",
         "The easiest and fastest way to run Windows on your Mac",
         "79.99",
         "0",
         "1416",
         "SOF",
         ""
        ],
        [
         "2319",
         "SOF0130",
         "Mac Parallels Desktop 12",
         "20 Windows tools and utilities for Mac (compatible with Mac OS Sierra)",
         "79.99",
         "0",
         "1416",
         "SOF",
         ""
        ],
        [
         "2330",
         "SYN0161",
         "Synology MailPlus License for 5 users",
         "Mail service license valid for 5 counts AI ± or Synology NAS",
         "278.3",
         "0",
         "1416",
         "SYN",
         ""
        ],
        [
         "1559",
         "MIC0036",
         "Office 365 Personal 1 license 1 M ± or",
         "Personal license with subscription of 365 days of Office for Mac users and PC home and students",
         "69.9",
         "1",
         "1416",
         "MIC",
         ""
        ],
        [
         "2335",
         "MIC0037",
         "Office Home and Student 2016 Software for Mac",
         "Microsoft Software license to users for Mac Home and Student",
         "149.99",
         "1",
         "1416",
         "MIC",
         ""
        ],
        [
         "1496",
         "MIC0035",
         "Office Home and Business 2016 Software for Mac",
         "Microsoft software licenses for home and business users for Mac",
         "265.99",
         "0",
         "1416",
         "MIC",
         ""
        ],
        [
         "981",
         "TRA0034",
         "Transcend External DVD Recorder White",
         "superfine external recorder and portable DVD.",
         "29.9",
         "0",
         "1424",
         "TRA",
         ""
        ],
        [
         "60",
         "APP0407",
         "Apple USB SuperDrive (June 2012 Model)",
         "New CD / DVD retina MacBook Pro MacBook Air iMac Mac Pro and Mac Mini.",
         "89.0",
         "1",
         "1424",
         "APP",
         ""
        ],
        [
         "1258",
         "APP1211",
         "Apple TV 64GB media player",
         "Apple multimedia player.",
         "229.0",
         "0",
         "4259",
         "APP",
         ""
        ],
        [
         "3605",
         "APP1210",
         "Apple TV 32GB media player",
         "Apple multimedia player.",
         "179.0",
         "0",
         "4259",
         "APP",
         ""
        ],
        [
         "4913",
         "RYV0009",
         "Ryval Base Magnetic Qi Wireless Charging Office",
         "Wireless charging base Ryval magnetic and Qi technology ideal for iPhone X / 8Plus / 8 at home and in the office",
         "49.99",
         "0",
         "5399",
         "RYV",
         ""
        ],
        [
         "4673",
         "BEL0374",
         "Belkin Base Qi Wireless charging up Boost iPhone 75W X / 8/8 Plus",
         "Base induction charging with Qi technology for iPhone 8/8 Plus / X",
         "64.99",
         "1",
         "5399",
         "BEL",
         ""
        ],
        [
         "3914",
         "CYB0010",
         "PFC Sinewave CyberPower 1500VA 900W UPS System",
         "UPS system with 900W maximum power and 1500VA compatible with Mac",
         "305.0",
         "1",
         "5399",
         "CYB",
         ""
        ],
        [
         "4605",
         "BOS0060",
         "Bose SoundLink charging dock Revolve / Revolve +",
         "Charging Dock Speaker Bose SoundLink",
         "30.0",
         "1",
         "5399",
         "BOS",
         ""
        ],
        [
         "3150",
         "LMP0006-A",
         "Open - LMP Bluetooth Keypad NexGen KeyPad",
         "Reconditioned expansion keypad Mac with Bluetooth connection.",
         "49.99",
         "0",
         "5401",
         "LMP",
         ""
        ],
        [
         "1913",
         "STM0098",
         "STM Dux housing Retina Macbook Pro 15 \"Black / Transparent",
         "Transparent protective cover for MacBook 15",
         "59.95",
         "0",
         "5403",
         "STM",
         ""
        ],
        [
         "3996",
         "NIE0008",
         "Robot miniPRO Ninebot by Segway personal transport two wheels Black",
         "Robot two-wheeled personal transport up to 25Km with autonomous",
         "699.0",
         "0",
         "5404",
         "NIE",
         ""
        ],
        [
         "4009",
         "WIK0007",
         "Wikango 600 Spanish warning radars",
         "Notices of fixed radar radar radar traffic light sections and dangerous areas",
         "89.9",
         "0",
         "5404",
         "WIK",
         ""
        ],
        [
         "2207",
         "NEA0016",
         "Tags camera Netatmo Welcome Pack 3",
         "Sensors for motion detection Netatmo Welcome",
         "99.99",
         "0",
         "5404",
         "NEA",
         ""
        ],
        [
         "2759",
         "ELG0047",
         "Elgato Game Capture video recorder HD60S game",
         "Recorder analog video game instant on TV monitor (1080p60) USB-C interface and HDMI output for Mac and PC",
         "189.95",
         "0",
         "5404",
         "ELG",
         ""
        ],
        [
         "3990",
         "NIE0007",
         "Ninebot by Segway Personal Transportation Robot miniPRO White",
         "Robot two-wheeled personal transport up to 25Km with autonomous",
         "699.0",
         "0",
         "5404",
         "NIE",
         ""
        ],
        [
         "4670",
         "BEL0336",
         "Belkin Sport Armband Plus-Fit iPhone 8 Plus / 7 Plus Black",
         "Fitness and running armband for iPhone 6s Plus 8 Plus 7 Plus and 6 Plus",
         "29.99",
         "1",
         "5405",
         "BEL",
         ""
        ],
        [
         "2592",
         "BEL0284",
         "Belkin Sport Armband Plus-Fit Armband iPhone 8 Plus / 7 Plus Black",
         "lightweight neoprene armband with reflective bands and card slot for iPhone 8 Plus / 7 Plus",
         "34.99",
         "0",
         "5405",
         "BEL",
         ""
        ],
        [
         "2586",
         "BEL0282",
         "Belkin Sport Armband Plus-Fit Bracelet Black iPhone 8/7",
         "Light neoprene armband with reflective bands and iPhone card slot 8 or 7",
         "29.99",
         "1",
         "5405",
         "BEL",
         ""
        ],
        [
         "4672",
         "BEL0337",
         "Belkin Sport Armband Pro-Fit iPhone 8/7 / 6s / 6",
         "Advanced fitness armband for iPhone 8/7 / 6s / 6",
         "29.99",
         "1",
         "5405",
         "BEL",
         ""
        ],
        [
         "745",
         "GRT0364",
         "Adidas armband Griffin iPhone 7 Plus / 6s Plus / 6 Plus Black / Red",
         "Bracelet sport and activity screensaver for iPhone 7 Plus / 6s Plus / 6 Plus.",
         "29.99",
         "0",
         "5405",
         "GRT",
         ""
        ],
        [
         "586",
         "BEL0173",
         "Belkin Sport Armband-Fit iPhone 6 / 6S Gray / Pink",
         "Bracelet perfect fit for iPhone 6 / 6S.",
         "19.99",
         "0",
         "5405",
         "BEL",
         ""
        ],
        [
         "2590",
         "BEL0283",
         "Belkin Sport Armband Pro-Fit Bracelet Black iPhone 7",
         "lightweight neoprene armband with reflective tape and large belt loop for iPhone 7",
         "34.99",
         "0",
         "5405",
         "BEL",
         ""
        ],
        [
         "1074",
         "MUV0161",
         "Muvit Bracelet Universal Fino 4-47 \"Black + Sport bag",
         "sporty and comfortable armband for iPhone 5 / 5S / 6 / 6S.",
         "19.95",
         "0",
         "5405",
         "MUV",
         ""
        ],
        [
         "514",
         "BEL0171",
         "Belkin Slim-Fit Armband Plus iPhone 6 / 6S Black",
         "Bracelet perfect fit for iPhone 6 / 6S.",
         "24.99",
         "0",
         "5405",
         "BEL",
         ""
        ],
        [
         "743",
         "GRT0363",
         "Adidas armband Griffin iPhone 7 Plus / 6s Plus / 6 Plus Black / Blue",
         "Bracelet sport and activity screensaver for iPhone 7 Plus / 6s Plus / 6 Plus.",
         "29.99",
         "0",
         "5405",
         "GRT",
         ""
        ],
        [
         "1075",
         "MUV0162",
         "Muvit Bracelet Universal Fino 4-47 \"Fuchsia + Sport bag",
         "sporty and comfortable armband for iPhone 5 / 5S / 6.",
         "19.95",
         "0",
         "5405",
         "MUV",
         ""
        ],
        [
         "436",
         "PUR0116",
         "Pure Sport sport Belt Yellow Belt",
         "belt special training sport for iPhone and iPod",
         "19.99",
         "0",
         "5405",
         "PUR",
         ""
        ],
        [
         "405",
         "PUR0114",
         "Pure Sport Armband iPhone Rosa",
         "Sweat resistant sports bracelet iPhone.",
         "19.99",
         "0",
         "5405",
         "PUR",
         ""
        ],
        [
         "4674",
         "BEL0338",
         "Belkin Sport Armband Pro-Fit iPhone 8 Plus / 7 Plus",
         "Advanced fitness armband for iPhone 8 Plus / 7 Plus",
         "34.99",
         "1",
         "5405",
         "BEL",
         ""
        ]
       ],
       "shape": {
        "columns": 8,
        "rows": 121
       }
      },
      "text/html": [
       "<div>\n",
       "<style scoped>\n",
       "    .dataframe tbody tr th:only-of-type {\n",
       "        vertical-align: middle;\n",
       "    }\n",
       "\n",
       "    .dataframe tbody tr th {\n",
       "        vertical-align: top;\n",
       "    }\n",
       "\n",
       "    .dataframe thead th {\n",
       "        text-align: right;\n",
       "    }\n",
       "</style>\n",
       "<table border=\"1\" class=\"dataframe\">\n",
       "  <thead>\n",
       "    <tr style=\"text-align: right;\">\n",
       "      <th></th>\n",
       "      <th>sku</th>\n",
       "      <th>name</th>\n",
       "      <th>desc</th>\n",
       "      <th>listed_price</th>\n",
       "      <th>in_stock</th>\n",
       "      <th>type</th>\n",
       "      <th>man</th>\n",
       "      <th>category</th>\n",
       "    </tr>\n",
       "  </thead>\n",
       "  <tbody>\n",
       "    <tr>\n",
       "      <th>655</th>\n",
       "      <td>SYN0107</td>\n",
       "      <td>Synology RackStation RX415 expansion module</td>\n",
       "      <td>Expansion Unit 4-bay Synology NAS server.</td>\n",
       "      <td>544.99</td>\n",
       "      <td>0</td>\n",
       "      <td>1280</td>\n",
       "      <td>SYN</td>\n",
       "      <td></td>\n",
       "    </tr>\n",
       "    <tr>\n",
       "      <th>3523</th>\n",
       "      <td>DRO0030</td>\n",
       "      <td>5N2 Drobo NAS server Mac and PC</td>\n",
       "      <td>5-bay NAS server with two Gigabit Ethernet por...</td>\n",
       "      <td>689.00</td>\n",
       "      <td>0</td>\n",
       "      <td>1280</td>\n",
       "      <td>DRO</td>\n",
       "      <td></td>\n",
       "    </tr>\n",
       "    <tr>\n",
       "      <th>3818</th>\n",
       "      <td>QNA0228</td>\n",
       "      <td>QNAP QM2-2P PCIe expansion card dual M.2 SSD</td>\n",
       "      <td>PCIe expansion card to connect two M.2 SSD</td>\n",
       "      <td>136.23</td>\n",
       "      <td>0</td>\n",
       "      <td>1404</td>\n",
       "      <td>QNA</td>\n",
       "      <td></td>\n",
       "    </tr>\n",
       "    <tr>\n",
       "      <th>408</th>\n",
       "      <td>SYN0093</td>\n",
       "      <td>Synology Pack 8 IP camera license</td>\n",
       "      <td>8 pack license Mac and PC camera.</td>\n",
       "      <td>329.99</td>\n",
       "      <td>0</td>\n",
       "      <td>1404</td>\n",
       "      <td>SYN</td>\n",
       "      <td></td>\n",
       "    </tr>\n",
       "    <tr>\n",
       "      <th>3959</th>\n",
       "      <td>SYN0172</td>\n",
       "      <td>Synology DX517 expansion unit NAS</td>\n",
       "      <td>expansion module for Nas eSATA and 5 bays</td>\n",
       "      <td>517.99</td>\n",
       "      <td>0</td>\n",
       "      <td>1404</td>\n",
       "      <td>SYN</td>\n",
       "      <td></td>\n",
       "    </tr>\n",
       "    <tr>\n",
       "      <th>...</th>\n",
       "      <td>...</td>\n",
       "      <td>...</td>\n",
       "      <td>...</td>\n",
       "      <td>...</td>\n",
       "      <td>...</td>\n",
       "      <td>...</td>\n",
       "      <td>...</td>\n",
       "      <td>...</td>\n",
       "    </tr>\n",
       "    <tr>\n",
       "      <th>4145</th>\n",
       "      <td>APP2477</td>\n",
       "      <td>Apple iPhone 64GB Space Gray 8</td>\n",
       "      <td>Apple iPhone 64GB 8 Color Space Gray</td>\n",
       "      <td>809.00</td>\n",
       "      <td>1</td>\n",
       "      <td>113291716</td>\n",
       "      <td>APP</td>\n",
       "      <td></td>\n",
       "    </tr>\n",
       "    <tr>\n",
       "      <th>4149</th>\n",
       "      <td>APP2481</td>\n",
       "      <td>Apple iPhone 8 256GB Silver</td>\n",
       "      <td>256GB Apple iPhone 8 in Silver</td>\n",
       "      <td>979.00</td>\n",
       "      <td>0</td>\n",
       "      <td>113291716</td>\n",
       "      <td>APP</td>\n",
       "      <td></td>\n",
       "    </tr>\n",
       "    <tr>\n",
       "      <th>4925</th>\n",
       "      <td>APP2487-A</td>\n",
       "      <td>Open - 32GB Apple TV 4K</td>\n",
       "      <td>Apple multimedia player with open box</td>\n",
       "      <td>199.00</td>\n",
       "      <td>0</td>\n",
       "      <td>113464259</td>\n",
       "      <td>APP</td>\n",
       "      <td></td>\n",
       "    </tr>\n",
       "    <tr>\n",
       "      <th>3991</th>\n",
       "      <td>AP20296</td>\n",
       "      <td>Apple MacBook Air 13 \"Core i5 16GHz | 4GB RAM ...</td>\n",
       "      <td>Computer Refurbished MacBook Air 13-inch i5 16...</td>\n",
       "      <td>1099.00</td>\n",
       "      <td>0</td>\n",
       "      <td>217000000</td>\n",
       "      <td>AP2</td>\n",
       "      <td></td>\n",
       "    </tr>\n",
       "    <tr>\n",
       "      <th>3729</th>\n",
       "      <td>APP2072</td>\n",
       "      <td>Apple MacBook Air 13 \"Core i5 18GHz | 8GB RAM ...</td>\n",
       "      <td>laptop MacBook Air 13 inch i5 18GHz 8GB RAM an...</td>\n",
       "      <td>1105.59</td>\n",
       "      <td>1</td>\n",
       "      <td>217000000</td>\n",
       "      <td>APP</td>\n",
       "      <td></td>\n",
       "    </tr>\n",
       "  </tbody>\n",
       "</table>\n",
       "<p>121 rows × 8 columns</p>\n",
       "</div>"
      ],
      "text/plain": [
       "            sku                                               name  \\\n",
       "655     SYN0107        Synology RackStation RX415 expansion module   \n",
       "3523    DRO0030                    5N2 Drobo NAS server Mac and PC   \n",
       "3818    QNA0228       QNAP QM2-2P PCIe expansion card dual M.2 SSD   \n",
       "408     SYN0093                  Synology Pack 8 IP camera license   \n",
       "3959    SYN0172                  Synology DX517 expansion unit NAS   \n",
       "...         ...                                                ...   \n",
       "4145    APP2477                     Apple iPhone 64GB Space Gray 8   \n",
       "4149    APP2481                        Apple iPhone 8 256GB Silver   \n",
       "4925  APP2487-A                            Open - 32GB Apple TV 4K   \n",
       "3991    AP20296  Apple MacBook Air 13 \"Core i5 16GHz | 4GB RAM ...   \n",
       "3729    APP2072  Apple MacBook Air 13 \"Core i5 18GHz | 8GB RAM ...   \n",
       "\n",
       "                                                   desc  listed_price  \\\n",
       "655           Expansion Unit 4-bay Synology NAS server.        544.99   \n",
       "3523  5-bay NAS server with two Gigabit Ethernet por...        689.00   \n",
       "3818         PCIe expansion card to connect two M.2 SSD        136.23   \n",
       "408                   8 pack license Mac and PC camera.        329.99   \n",
       "3959          expansion module for Nas eSATA and 5 bays        517.99   \n",
       "...                                                 ...           ...   \n",
       "4145               Apple iPhone 64GB 8 Color Space Gray        809.00   \n",
       "4149                     256GB Apple iPhone 8 in Silver        979.00   \n",
       "4925              Apple multimedia player with open box        199.00   \n",
       "3991  Computer Refurbished MacBook Air 13-inch i5 16...       1099.00   \n",
       "3729  laptop MacBook Air 13 inch i5 18GHz 8GB RAM an...       1105.59   \n",
       "\n",
       "      in_stock       type  man category  \n",
       "655          0       1280  SYN           \n",
       "3523         0       1280  DRO           \n",
       "3818         0       1404  QNA           \n",
       "408          0       1404  SYN           \n",
       "3959         0       1404  SYN           \n",
       "...        ...        ...  ...      ...  \n",
       "4145         1  113291716  APP           \n",
       "4149         0  113291716  APP           \n",
       "4925         0  113464259  APP           \n",
       "3991         0  217000000  AP2           \n",
       "3729         1  217000000  APP           \n",
       "\n",
       "[121 rows x 8 columns]"
      ]
     },
     "execution_count": 119,
     "metadata": {},
     "output_type": "execute_result"
    }
   ],
   "source": [
    "#Check how many Nan values left\n",
    "no_cat_df.loc[no_cat_df['category'] == '', :].sort_values(by='type')"
   ]
  },
  {
   "cell_type": "code",
   "execution_count": null,
   "id": "cc41fe09",
   "metadata": {},
   "outputs": [
    {
     "data": {
      "application/vnd.microsoft.datawrangler.viewer.v0+json": {
       "columns": [
        {
         "name": "index",
         "rawType": "int64",
         "type": "integer"
        },
        {
         "name": "sku",
         "rawType": "object",
         "type": "string"
        },
        {
         "name": "name",
         "rawType": "object",
         "type": "string"
        },
        {
         "name": "desc",
         "rawType": "object",
         "type": "string"
        },
        {
         "name": "listed_price",
         "rawType": "float64",
         "type": "float"
        },
        {
         "name": "in_stock",
         "rawType": "int64",
         "type": "integer"
        },
        {
         "name": "type",
         "rawType": "int64",
         "type": "integer"
        },
        {
         "name": "man",
         "rawType": "object",
         "type": "string"
        },
        {
         "name": "category",
         "rawType": "object",
         "type": "string"
        }
       ],
       "ref": "f4c81133-1782-49f5-aca8-d639db9cc887",
       "rows": [
        [
         "53",
         "WAC0055",
         "Wacom Intuos Professional Accessory Kit",
         "Intuos accessory kit.",
         "24.9",
         "0",
         "101781405",
         "WAC",
         ""
        ]
       ],
       "shape": {
        "columns": 8,
        "rows": 1
       }
      },
      "text/html": [
       "<div>\n",
       "<style scoped>\n",
       "    .dataframe tbody tr th:only-of-type {\n",
       "        vertical-align: middle;\n",
       "    }\n",
       "\n",
       "    .dataframe tbody tr th {\n",
       "        vertical-align: top;\n",
       "    }\n",
       "\n",
       "    .dataframe thead th {\n",
       "        text-align: right;\n",
       "    }\n",
       "</style>\n",
       "<table border=\"1\" class=\"dataframe\">\n",
       "  <thead>\n",
       "    <tr style=\"text-align: right;\">\n",
       "      <th></th>\n",
       "      <th>sku</th>\n",
       "      <th>name</th>\n",
       "      <th>desc</th>\n",
       "      <th>listed_price</th>\n",
       "      <th>in_stock</th>\n",
       "      <th>type</th>\n",
       "      <th>man</th>\n",
       "      <th>category</th>\n",
       "    </tr>\n",
       "  </thead>\n",
       "  <tbody>\n",
       "    <tr>\n",
       "      <th>53</th>\n",
       "      <td>WAC0055</td>\n",
       "      <td>Wacom Intuos Professional Accessory Kit</td>\n",
       "      <td>Intuos accessory kit.</td>\n",
       "      <td>24.9</td>\n",
       "      <td>0</td>\n",
       "      <td>101781405</td>\n",
       "      <td>WAC</td>\n",
       "      <td></td>\n",
       "    </tr>\n",
       "  </tbody>\n",
       "</table>\n",
       "</div>"
      ],
      "text/plain": [
       "        sku                                     name                   desc  \\\n",
       "53  WAC0055  Wacom Intuos Professional Accessory Kit  Intuos accessory kit.   \n",
       "\n",
       "    listed_price  in_stock       type  man category  \n",
       "53          24.9         0  101781405  WAC           "
      ]
     },
     "execution_count": 68,
     "metadata": {},
     "output_type": "execute_result"
    }
   ],
   "source": [
    "# The following cells help assign the remaining products\n",
    "no_cat_df.loc[no_cat_df[\"desc\"].str.lower().str.contains(\"accessory\", case=False), :]"
   ]
  },
  {
   "cell_type": "code",
   "execution_count": 69,
   "id": "829a4440",
   "metadata": {},
   "outputs": [
    {
     "data": {
      "application/vnd.microsoft.datawrangler.viewer.v0+json": {
       "columns": [
        {
         "name": "index",
         "rawType": "int64",
         "type": "integer"
        },
        {
         "name": "sku",
         "rawType": "object",
         "type": "string"
        },
        {
         "name": "name",
         "rawType": "object",
         "type": "string"
        },
        {
         "name": "desc",
         "rawType": "object",
         "type": "string"
        },
        {
         "name": "listed_price",
         "rawType": "float64",
         "type": "float"
        },
        {
         "name": "in_stock",
         "rawType": "int64",
         "type": "integer"
        },
        {
         "name": "type",
         "rawType": "int64",
         "type": "integer"
        },
        {
         "name": "man",
         "rawType": "object",
         "type": "string"
        },
        {
         "name": "category",
         "rawType": "object",
         "type": "string"
        }
       ],
       "ref": "bbf924f3-4aef-4d58-9b29-ed58ef86bfb8",
       "rows": [
        [
         "41",
         "WAC0040",
         "Wacom Bamboo Wireless Kit / Intuos graphics tablet accessory kit 5",
         "Wireless Kit Wacom graphics tablets.",
         "39.99",
         "1",
         "101781405",
         "WAC",
         ""
        ],
        [
         "53",
         "WAC0055",
         "Wacom Intuos Professional Accessory Kit",
         "Intuos accessory kit.",
         "24.9",
         "0",
         "101781405",
         "WAC",
         ""
        ]
       ],
       "shape": {
        "columns": 8,
        "rows": 2
       }
      },
      "text/html": [
       "<div>\n",
       "<style scoped>\n",
       "    .dataframe tbody tr th:only-of-type {\n",
       "        vertical-align: middle;\n",
       "    }\n",
       "\n",
       "    .dataframe tbody tr th {\n",
       "        vertical-align: top;\n",
       "    }\n",
       "\n",
       "    .dataframe thead th {\n",
       "        text-align: right;\n",
       "    }\n",
       "</style>\n",
       "<table border=\"1\" class=\"dataframe\">\n",
       "  <thead>\n",
       "    <tr style=\"text-align: right;\">\n",
       "      <th></th>\n",
       "      <th>sku</th>\n",
       "      <th>name</th>\n",
       "      <th>desc</th>\n",
       "      <th>listed_price</th>\n",
       "      <th>in_stock</th>\n",
       "      <th>type</th>\n",
       "      <th>man</th>\n",
       "      <th>category</th>\n",
       "    </tr>\n",
       "  </thead>\n",
       "  <tbody>\n",
       "    <tr>\n",
       "      <th>41</th>\n",
       "      <td>WAC0040</td>\n",
       "      <td>Wacom Bamboo Wireless Kit / Intuos graphics ta...</td>\n",
       "      <td>Wireless Kit Wacom graphics tablets.</td>\n",
       "      <td>39.99</td>\n",
       "      <td>1</td>\n",
       "      <td>101781405</td>\n",
       "      <td>WAC</td>\n",
       "      <td></td>\n",
       "    </tr>\n",
       "    <tr>\n",
       "      <th>53</th>\n",
       "      <td>WAC0055</td>\n",
       "      <td>Wacom Intuos Professional Accessory Kit</td>\n",
       "      <td>Intuos accessory kit.</td>\n",
       "      <td>24.90</td>\n",
       "      <td>0</td>\n",
       "      <td>101781405</td>\n",
       "      <td>WAC</td>\n",
       "      <td></td>\n",
       "    </tr>\n",
       "  </tbody>\n",
       "</table>\n",
       "</div>"
      ],
      "text/plain": [
       "        sku                                               name  \\\n",
       "41  WAC0040  Wacom Bamboo Wireless Kit / Intuos graphics ta...   \n",
       "53  WAC0055            Wacom Intuos Professional Accessory Kit   \n",
       "\n",
       "                                    desc  listed_price  in_stock       type  \\\n",
       "41  Wireless Kit Wacom graphics tablets.         39.99         1  101781405   \n",
       "53                 Intuos accessory kit.         24.90         0  101781405   \n",
       "\n",
       "    man category  \n",
       "41  WAC           \n",
       "53  WAC           "
      ]
     },
     "execution_count": 69,
     "metadata": {},
     "output_type": "execute_result"
    }
   ],
   "source": [
    "no_cat_df.loc[no_cat_df[\"name\"].str.lower().str.contains(\"accessory\", case=False), :]"
   ]
  },
  {
   "cell_type": "code",
   "execution_count": null,
   "id": "6a4e4ab1",
   "metadata": {},
   "outputs": [
    {
     "data": {
      "application/vnd.microsoft.datawrangler.viewer.v0+json": {
       "columns": [
        {
         "name": "index",
         "rawType": "int64",
         "type": "integer"
        },
        {
         "name": "sku",
         "rawType": "object",
         "type": "string"
        },
        {
         "name": "name",
         "rawType": "object",
         "type": "string"
        },
        {
         "name": "desc",
         "rawType": "object",
         "type": "string"
        },
        {
         "name": "listed_price",
         "rawType": "float64",
         "type": "float"
        },
        {
         "name": "in_stock",
         "rawType": "int64",
         "type": "integer"
        },
        {
         "name": "type",
         "rawType": "int64",
         "type": "integer"
        },
        {
         "name": "man",
         "rawType": "object",
         "type": "string"
        },
        {
         "name": "category",
         "rawType": "object",
         "type": "string"
        }
       ],
       "ref": "670cba4c-5d9c-44a5-ad8f-e7d6d3e69185",
       "rows": [
        [
         "9",
         "APP0111",
         "Apple USB Ethernet Adapter Mac",
         "USB to Ethernet adapter Mac.",
         "35.0",
         "0",
         "1334",
         "APP",
         "Networking Devices"
        ],
        [
         "2233",
         "TPL0010",
         "TP-Link Wireless USB Adapter T2U Archer Mac Wi-Fi Dual-Band AC 600",
         "Pendrive USB 2.0 WiFi adapter AC600 double bandwidth for Mac and PC",
         "27.71",
         "0",
         "1334",
         "TPL",
         "Networking Devices"
        ],
        [
         "2232",
         "TPL0024",
         "TP-Link TL-MR6400 Router 4G Wi-Fi N 300Mbps",
         "N wifi router (24GHz) 300Mbps wireless speed",
         "156.09",
         "0",
         "1334",
         "TPL",
         "Networking Devices"
        ],
        [
         "2231",
         "TPL0015",
         "TP-Link Gigabit Router Archer C7 Wi-Fi ac 1750 Dual Band",
         "Wireless Gigabit Router AC1750 Dual Band iPhone and iPad for Mac",
         "131.89",
         "0",
         "1334",
         "TPL",
         "Networking Devices"
        ],
        [
         "2230",
         "TPL0012",
         "TP-Link Gigabit Router C3200 Archer Wi-Fi ac 3200 Tri-band",
         "Router Gigabit Wireless Router for Mac Tri-Band iPhone and iPad",
         "337.59",
         "0",
         "1334",
         "TPL",
         "Networking Devices"
        ],
        [
         "2226",
         "TPL0018",
         "TP-Link Extender coverage RE210 - AC750 Wi-Fi repeater",
         "Access Point with two antennas 2.4GHz / 5GHz (11ac) and Ethernet connection",
         "60.38",
         "0",
         "1334",
         "TPL",
         "Networking Devices"
        ],
        [
         "2225",
         "TPL0017",
         "TP-Link RE450 coverage Extender - repeater Wi-Fi AC1750",
         "WiFi point ac scope of 900m2 access Gigabit Ethernet connector (incluódo cable)",
         "79.9",
         "1",
         "1334",
         "TPL",
         "Networking Devices"
        ],
        [
         "2234",
         "TPL0014",
         "TP-Link Gigabit Router P5 Touch Wi-Fi ac 1900 touch screen",
         "Wi-Fi Gigabit Router with touchscreen AC 1900 for Mac iPhone and iPad",
         "216.59",
         "1",
         "1334",
         "TPL",
         "Networking Devices"
        ],
        [
         "1993",
         "MAC0131",
         "Macally half Wi-Fi Hub WIFISD2",
         "Hub with 2600mAh battery SD card reader and USB / Ethernet ports for iPhone iPad and Mac",
         "59.95",
         "0",
         "1334",
         "MAC",
         "Networking Devices"
        ],
        [
         "1733",
         "TPL0007",
         "TP-Link Archer V1 T4UH USB Wi-Fi adapter AC1200 Dual-Band",
         "AC1200 Dual USB wireless adapter bandwidth for Mac and PC.",
         "42.23",
         "0",
         "1334",
         "TPL",
         "Networking Devices"
        ],
        [
         "1574",
         "SYN0138",
         "Synology RT1900AC Wifi Router AC 1900",
         "ac Wifi Wireless Router with Synology SRM interface.",
         "136.99",
         "1",
         "1334",
         "SYN",
         "Networking Devices"
        ],
        [
         "1526",
         "DLK0131",
         "D-Link DAP-1360 Access Point / Wireless Repeater N",
         "Wireless Access Point and Wireless Repeater N open source.",
         "34.99",
         "0",
         "1334",
         "DLK",
         "Networking Devices"
        ],
        [
         "1525",
         "DLK0124",
         "D-Link GO-SW-16G Gigabit Ethernet Switch",
         "compact switch with 16 Gigabit Ethernet ports.",
         "89.99",
         "0",
         "1334",
         "DLK",
         "Networking Devices"
        ],
        [
         "1505",
         "DLK0111",
         "D-Link DIR-890L Wi-Fi Router AC3200 Tri Band Gigabit Cloud",
         "Tri-band wireless router and dual core processor 1GHz.",
         "313.9",
         "0",
         "1334",
         "DLK",
         "Networking Devices"
        ],
        [
         "1503",
         "DLK0116",
         "D-Link DWA-171 USB Adapter AC600 Wi-Fi Dual-band",
         "Nano USB Adapter Dual-Band Wireless AC for Mac and PC.",
         "28.99",
         "1",
         "1334",
         "DLK",
         "Networking Devices"
        ],
        [
         "1846",
         "TPL0008",
         "TP-Link Wireless USB Adapter T4U Archer Mac Wi-Fi Dual-Band AC 1200",
         "Pen Drive Adapter USB 3.0 WiFi AC1200 double bandwidth for Mac and PC",
         "42.23",
         "0",
         "1334",
         "TPL",
         "Networking Devices"
        ],
        [
         "2235",
         "TPL0025",
         "TP-Link TL-SG1005D Desktop Switch 5 Gigabit Ethernet ports",
         "Switch desktop and Gigabit 5-port system automatic power saving",
         "24.08",
         "1",
         "1334",
         "TPL",
         "Networking Devices"
        ],
        [
         "2236",
         "TPL0027",
         "TP-Link TL-SG1016D Switch gigabit ethernet ports desktop 16",
         "Desktop Switch with 16 ports Gigabit RJ-45 10/100/1000 Mbps",
         "96.68",
         "0",
         "1334",
         "TPL",
         "Networking Devices"
        ],
        [
         "2237",
         "TPL0028",
         "TP-Link TL-SG1024D Desktop Switch 24 Gigabit Ethernet ports",
         "Desktop Switch with 24 ports Gigabit RJ-45 10/100/1000 Mbps",
         "120.88",
         "0",
         "1334",
         "TPL",
         "Networking Devices"
        ],
        [
         "4845",
         "DEV0008-A",
         "Open - Devolo dLAN 1200+ WiFi ac PLC (9447)",
         "Powerline adapter refitted with integrated socket.",
         "129.99",
         "0",
         "1334",
         "DEV",
         "Networking Devices"
        ],
        [
         "4305",
         "TPL0026-A",
         "Open - TP-LINK TL-PA9020P Passthrough Powerline Kit 2 Port Gigabit AV2000",
         "speed internet amplifier kit with ultra-fast integrated plug and 2 Gigabit ports",
         "139.9",
         "0",
         "1334",
         "TPL",
         "Networking Devices"
        ],
        [
         "3807",
         "TPL0041",
         "TP-Link RE305 coverage Extender - repeater Wi-Fi AC1200",
         "Network Extender AC Wi-Fi dual-band Ethernet port",
         "49.99",
         "0",
         "1334",
         "TPL",
         "Networking Devices"
        ],
        [
         "3634",
         "AP20150",
         "Like new - Apple Airport Extreme",
         "Apple Airport Extreme Base Station 802.11ac reconditioned",
         "219.0",
         "0",
         "1334",
         "AP2",
         "Networking Devices"
        ],
        [
         "3632",
         "AP20149",
         "Like new - Apple AirPort Express Base Station",
         "Apple Airport Express Base Station Reconditioned",
         "109.0",
         "1",
         "1334",
         "AP2",
         "Networking Devices"
        ],
        [
         "3269",
         "DLK0138",
         "D-Link DAP-1365 N300 Amplifier Repeater WiFi",
         "Wi-Fi amplifier with Ethernet port supports wifi n",
         "61.99",
         "0",
         "1334",
         "DLK",
         "Networking Devices"
        ],
        [
         "3137",
         "SYN0163",
         "Synology RT2600AC Wifi Router AC2600",
         "Wifi Wireless Router AC2600 17GHz dual-core and operating system (SRM) for Mac and PC",
         "229.9",
         "1",
         "1334",
         "SYN",
         "Networking Devices"
        ],
        [
         "3011",
         "TPL0040",
         "TP-Link Extender coverage RE200 - AC750 Wi-Fi repeater",
         "Coverage Extender Ethernet port speed dual band and button to extend the Mac and PC range",
         "44.9",
         "0",
         "1334",
         "TPL",
         "Networking Devices"
        ],
        [
         "3008",
         "TPL0039",
         "TP-Link Gigabit Router C1200 Archer Wi-Fi ac 1200 Dual Band",
         "Router with double bandwidth (2.4GHz and 5GHz) 3 antennas 1 USB 2.0 port and 4 LAN ports for iPhone and iPod Mac",
         "89.9",
         "0",
         "1334",
         "TPL",
         "Networking Devices"
        ],
        [
         "2317",
         "TPL0035",
         "TP-Link TL-PA7020P Passthrough Powerline Kit 2 Port Gigabit AV1000",
         "amplifier with high speed internet up to 1000Mb / s Ethernet plug kit and integrated two-port",
         "74.9",
         "0",
         "1334",
         "TPL",
         "Networking Devices"
        ],
        [
         "2310",
         "TPL0034",
         "TP-Link TL-PA8010P Kit 1 Port Gigabit Powerline Passthrough AV1200",
         "amplifier with fast speed internet plug kit integrated Gigabit Ethernet port 1",
         "119.79",
         "0",
         "1334",
         "TPL",
         "Networking Devices"
        ],
        [
         "2309",
         "TPL0033",
         "TP-Link TL-PA8030P Kit 3 Port Gigabit Powerline Passthrough AV1200",
         "amplifier with fast speed internet plug kit integrated 3-port Gigabit Ethernet",
         "109.0",
         "0",
         "1334",
         "TPL",
         "Networking Devices"
        ],
        [
         "2308",
         "TPL0032",
         "TP-LINK TL-PA9020P Passthrough Powerline Kit 2 Port Gigabit AV2000",
         "speed internet amplifier kit with ultra-fast integrated plug and 2 Gigabit ports",
         "139.9",
         "1",
         "1334",
         "TPL",
         "Networking Devices"
        ],
        [
         "2240",
         "TPL0023",
         "TP-Link M7350 Mobile Hotspot 4G Dual Band",
         "4G point portable mobile access SD card reader and rechargeable battery (2500mAh)",
         "119.79",
         "0",
         "1334",
         "TPL",
         "Networking Devices"
        ],
        [
         "2239",
         "TPL0019",
         "TP-Link TL-WA860RE Wi-Fi Repeater - 300Mbps Access Point",
         "Wifi repeater 300Mbps with additional plug and Ethernet port (RJ45)",
         "44.65",
         "0",
         "1334",
         "TPL",
         "Networking Devices"
        ],
        [
         "1502",
         "DLK0118",
         "D-Link DWA-182 USB Adapter Wi-Fi AC1200 Dual-Band",
         "Wi-Fi USB adapter AC 5G dual-band for Mac and PC.",
         "59.99",
         "0",
         "1334",
         "DLK",
         "Networking Devices"
        ],
        [
         "1494",
         "DLK0110",
         "D-Link DIR-880L Router AC1900 Wi-Fi Dual-Band Gigabit Cloud",
         "Router double 5GHz bandwidth and speeds of 1900 Mbps.",
         "184.9",
         "0",
         "1334",
         "DLK",
         "Networking Devices"
        ],
        [
         "1443",
         "DLK0109",
         "D-Link DIR-842 Wi-Fi Router AC1200 Dual Band Gigabit",
         "Dual-Band WiFi router with Gigabit Ethernet ports.",
         "59.99",
         "0",
         "1334",
         "DLK",
         "Networking Devices"
        ],
        [
         "1442",
         "DLK0106",
         "D-Link DHP-601AV PowerLine Gigabit AV2 1000 HD Starter Kit",
         "Amplifier internet with speeds of 1000Mbps.",
         "90.99",
         "1",
         "1334",
         "DLK",
         "Networking Devices"
        ],
        [
         "349",
         "DLK0063",
         "D-Link DIR-810L Wireless Router AC750 Dual-Band Cloud",
         "Wireless router Cloud AC my Dlink with 433 Mbps speed.",
         "79.99",
         "0",
         "1334",
         "DLK",
         "Networking Devices"
        ],
        [
         "348",
         "DEV0009",
         "Devolo dLAN 500 Wi-Fi adapter PLC",
         "Powerline adapter for better reception of Wi-Fi.",
         "69.99",
         "1",
         "1334",
         "DEV",
         "Networking Devices"
        ],
        [
         "347",
         "DEV0008",
         "Devolo dLAN 500 AV + Starter Kit Wireless PLC adapter",
         "Kit 2 PLC adapters and Ehternet WiFi network ports.",
         "159.99",
         "0",
         "1334",
         "DEV",
         "Networking Devices"
        ],
        [
         "334",
         "DLK0061",
         "D-Link DGS 1016D Gigabit Switch 16 Ports",
         "Switch 16 10/100 / 1000Mbps.",
         "92.99",
         "0",
         "1334",
         "DLK",
         "Networking Devices"
        ],
        [
         "333",
         "DLK0060",
         "D-Link DGS-1024D Gigabit Switch 24 Ports",
         "Switch 24 10/100 / 1000Mbps.",
         "144.99",
         "0",
         "1334",
         "DLK",
         "Networking Devices"
        ],
        [
         "253",
         "DLK0052",
         "D-Link DAP-1320 Wireless N300 Range Extender Repeater Wi-Fi",
         "DLink repeater signal Wi-Fi.",
         "39.99",
         "1",
         "1334",
         "DLK",
         "Networking Devices"
        ],
        [
         "252",
         "DLK0051",
         "D-Link DWR-921 Router 4G LTE / HSPA",
         "Domestic Dlink Wireless Router 4G LTE.",
         "149.99",
         "0",
         "1334",
         "DLK",
         "Networking Devices"
        ],
        [
         "249",
         "DLK0042",
         "D-Link PowerLine AV 500 Wireless N Mini Starter Kit",
         "DHP-W311AV Dlink wireless adapter PLC network.",
         "64.9",
         "0",
         "1334",
         "DLK",
         "Networking Devices"
        ],
        [
         "248",
         "DLK0044",
         "D-Link DIR-860L Wireless AC1200 Dual-Band Cloud Router",
         "Wireless Router DLink Cloud with AC SmartBeam and 867 Mbps transfer rate.",
         "129.99",
         "0",
         "1334",
         "DLK",
         "Networking Devices"
        ],
        [
         "235",
         "APP0529",
         "Apple Airport Extreme Base Station",
         "Base station with Wi-Fi 802.11ac technology.",
         "219.0",
         "0",
         "1334",
         "APP",
         "Networking Devices"
        ],
        [
         "210",
         "DLK0033",
         "D-Link GO-SW-8G 8-Port Gigabit Ethernet Switch",
         "Dlink Switch 8 Mac and PC ports.",
         "28.99",
         "0",
         "1334",
         "DLK",
         "Networking Devices"
        ],
        [
         "209",
         "DLK0032",
         "D-Link GO-SW-5G Gigabit Switch 5",
         "Dlink Switch 5 port Gigabyte for Mac and PC.",
         "19.99",
         "0",
         "1334",
         "DLK",
         "Networking Devices"
        ]
       ],
       "shape": {
        "columns": 8,
        "rows": 74
       }
      },
      "text/html": [
       "<div>\n",
       "<style scoped>\n",
       "    .dataframe tbody tr th:only-of-type {\n",
       "        vertical-align: middle;\n",
       "    }\n",
       "\n",
       "    .dataframe tbody tr th {\n",
       "        vertical-align: top;\n",
       "    }\n",
       "\n",
       "    .dataframe thead th {\n",
       "        text-align: right;\n",
       "    }\n",
       "</style>\n",
       "<table border=\"1\" class=\"dataframe\">\n",
       "  <thead>\n",
       "    <tr style=\"text-align: right;\">\n",
       "      <th></th>\n",
       "      <th>sku</th>\n",
       "      <th>name</th>\n",
       "      <th>desc</th>\n",
       "      <th>listed_price</th>\n",
       "      <th>in_stock</th>\n",
       "      <th>type</th>\n",
       "      <th>man</th>\n",
       "      <th>category</th>\n",
       "    </tr>\n",
       "  </thead>\n",
       "  <tbody>\n",
       "    <tr>\n",
       "      <th>9</th>\n",
       "      <td>APP0111</td>\n",
       "      <td>Apple USB Ethernet Adapter Mac</td>\n",
       "      <td>USB to Ethernet adapter Mac.</td>\n",
       "      <td>35.00</td>\n",
       "      <td>0</td>\n",
       "      <td>1334</td>\n",
       "      <td>APP</td>\n",
       "      <td>Networking Devices</td>\n",
       "    </tr>\n",
       "    <tr>\n",
       "      <th>2233</th>\n",
       "      <td>TPL0010</td>\n",
       "      <td>TP-Link Wireless USB Adapter T2U Archer Mac Wi...</td>\n",
       "      <td>Pendrive USB 2.0 WiFi adapter AC600 double ban...</td>\n",
       "      <td>27.71</td>\n",
       "      <td>0</td>\n",
       "      <td>1334</td>\n",
       "      <td>TPL</td>\n",
       "      <td>Networking Devices</td>\n",
       "    </tr>\n",
       "    <tr>\n",
       "      <th>2232</th>\n",
       "      <td>TPL0024</td>\n",
       "      <td>TP-Link TL-MR6400 Router 4G Wi-Fi N 300Mbps</td>\n",
       "      <td>N wifi router (24GHz) 300Mbps wireless speed</td>\n",
       "      <td>156.09</td>\n",
       "      <td>0</td>\n",
       "      <td>1334</td>\n",
       "      <td>TPL</td>\n",
       "      <td>Networking Devices</td>\n",
       "    </tr>\n",
       "    <tr>\n",
       "      <th>2231</th>\n",
       "      <td>TPL0015</td>\n",
       "      <td>TP-Link Gigabit Router Archer C7 Wi-Fi ac 1750...</td>\n",
       "      <td>Wireless Gigabit Router AC1750 Dual Band iPhon...</td>\n",
       "      <td>131.89</td>\n",
       "      <td>0</td>\n",
       "      <td>1334</td>\n",
       "      <td>TPL</td>\n",
       "      <td>Networking Devices</td>\n",
       "    </tr>\n",
       "    <tr>\n",
       "      <th>2230</th>\n",
       "      <td>TPL0012</td>\n",
       "      <td>TP-Link Gigabit Router C3200 Archer Wi-Fi ac 3...</td>\n",
       "      <td>Router Gigabit Wireless Router for Mac Tri-Ban...</td>\n",
       "      <td>337.59</td>\n",
       "      <td>0</td>\n",
       "      <td>1334</td>\n",
       "      <td>TPL</td>\n",
       "      <td>Networking Devices</td>\n",
       "    </tr>\n",
       "    <tr>\n",
       "      <th>...</th>\n",
       "      <td>...</td>\n",
       "      <td>...</td>\n",
       "      <td>...</td>\n",
       "      <td>...</td>\n",
       "      <td>...</td>\n",
       "      <td>...</td>\n",
       "      <td>...</td>\n",
       "      <td>...</td>\n",
       "    </tr>\n",
       "    <tr>\n",
       "      <th>456</th>\n",
       "      <td>DLK0078</td>\n",
       "      <td>D-Link DGS-1008D Gigabit Switch 8 ports</td>\n",
       "      <td>D-Link Switch with 8 Gigabit ports for high pe...</td>\n",
       "      <td>29.90</td>\n",
       "      <td>0</td>\n",
       "      <td>1334</td>\n",
       "      <td>DLK</td>\n",
       "      <td>Networking Devices</td>\n",
       "    </tr>\n",
       "    <tr>\n",
       "      <th>455</th>\n",
       "      <td>DLK0076</td>\n",
       "      <td>D-Link DES-1016D Switch 16 10 / 100Mbps unmanaged</td>\n",
       "      <td>D-Link DES-1016D with 16 ports for group work.</td>\n",
       "      <td>59.99</td>\n",
       "      <td>0</td>\n",
       "      <td>1334</td>\n",
       "      <td>DLK</td>\n",
       "      <td>Networking Devices</td>\n",
       "    </tr>\n",
       "    <tr>\n",
       "      <th>454</th>\n",
       "      <td>DLK0075</td>\n",
       "      <td>D-Link GO-SW-8E Switch 8 Ethernet ports</td>\n",
       "      <td>D-Link Switch 8 Ethernet ports maximum speed.</td>\n",
       "      <td>18.99</td>\n",
       "      <td>0</td>\n",
       "      <td>1334</td>\n",
       "      <td>DLK</td>\n",
       "      <td>Networking Devices</td>\n",
       "    </tr>\n",
       "    <tr>\n",
       "      <th>452</th>\n",
       "      <td>DLK0085</td>\n",
       "      <td>D-Link DWA-140 WiFi-N USB mini plug</td>\n",
       "      <td>DLink Wireless 802.11N USB mini plug with spee...</td>\n",
       "      <td>17.99</td>\n",
       "      <td>0</td>\n",
       "      <td>1334</td>\n",
       "      <td>DLK</td>\n",
       "      <td>Networking Devices</td>\n",
       "    </tr>\n",
       "    <tr>\n",
       "      <th>4963</th>\n",
       "      <td>NET0028</td>\n",
       "      <td>Netgear Wifi Orbi System kit and satellite net...</td>\n",
       "      <td>System RBK50 Mesh WiFi network kit compact and...</td>\n",
       "      <td>429.99</td>\n",
       "      <td>0</td>\n",
       "      <td>1334</td>\n",
       "      <td>NET</td>\n",
       "      <td>Networking Devices</td>\n",
       "    </tr>\n",
       "  </tbody>\n",
       "</table>\n",
       "<p>74 rows × 8 columns</p>\n",
       "</div>"
      ],
      "text/plain": [
       "          sku                                               name  \\\n",
       "9     APP0111                     Apple USB Ethernet Adapter Mac   \n",
       "2233  TPL0010  TP-Link Wireless USB Adapter T2U Archer Mac Wi...   \n",
       "2232  TPL0024        TP-Link TL-MR6400 Router 4G Wi-Fi N 300Mbps   \n",
       "2231  TPL0015  TP-Link Gigabit Router Archer C7 Wi-Fi ac 1750...   \n",
       "2230  TPL0012  TP-Link Gigabit Router C3200 Archer Wi-Fi ac 3...   \n",
       "...       ...                                                ...   \n",
       "456   DLK0078            D-Link DGS-1008D Gigabit Switch 8 ports   \n",
       "455   DLK0076  D-Link DES-1016D Switch 16 10 / 100Mbps unmanaged   \n",
       "454   DLK0075            D-Link GO-SW-8E Switch 8 Ethernet ports   \n",
       "452   DLK0085                D-Link DWA-140 WiFi-N USB mini plug   \n",
       "4963  NET0028  Netgear Wifi Orbi System kit and satellite net...   \n",
       "\n",
       "                                                   desc  listed_price  \\\n",
       "9                          USB to Ethernet adapter Mac.         35.00   \n",
       "2233  Pendrive USB 2.0 WiFi adapter AC600 double ban...         27.71   \n",
       "2232       N wifi router (24GHz) 300Mbps wireless speed        156.09   \n",
       "2231  Wireless Gigabit Router AC1750 Dual Band iPhon...        131.89   \n",
       "2230  Router Gigabit Wireless Router for Mac Tri-Ban...        337.59   \n",
       "...                                                 ...           ...   \n",
       "456   D-Link Switch with 8 Gigabit ports for high pe...         29.90   \n",
       "455      D-Link DES-1016D with 16 ports for group work.         59.99   \n",
       "454       D-Link Switch 8 Ethernet ports maximum speed.         18.99   \n",
       "452   DLink Wireless 802.11N USB mini plug with spee...         17.99   \n",
       "4963  System RBK50 Mesh WiFi network kit compact and...        429.99   \n",
       "\n",
       "      in_stock  type  man            category  \n",
       "9            0  1334  APP  Networking Devices  \n",
       "2233         0  1334  TPL  Networking Devices  \n",
       "2232         0  1334  TPL  Networking Devices  \n",
       "2231         0  1334  TPL  Networking Devices  \n",
       "2230         0  1334  TPL  Networking Devices  \n",
       "...        ...   ...  ...                 ...  \n",
       "456          0  1334  DLK  Networking Devices  \n",
       "455          0  1334  DLK  Networking Devices  \n",
       "454          0  1334  DLK  Networking Devices  \n",
       "452          0  1334  DLK  Networking Devices  \n",
       "4963         0  1334  NET  Networking Devices  \n",
       "\n",
       "[74 rows x 8 columns]"
      ]
     },
     "execution_count": 85,
     "metadata": {},
     "output_type": "execute_result"
    }
   ],
   "source": [
    "# Locating certain categories for consistency checks\n",
    "products_df.loc[products_df[\"category\"] == \"Networking Devices\", :].sort_values(by='type')"
   ]
  },
  {
   "cell_type": "code",
   "execution_count": null,
   "id": "c01633fc",
   "metadata": {},
   "outputs": [
    {
     "data": {
      "application/vnd.microsoft.datawrangler.viewer.v0+json": {
       "columns": [
        {
         "name": "index",
         "rawType": "int64",
         "type": "integer"
        },
        {
         "name": "sku",
         "rawType": "object",
         "type": "string"
        },
        {
         "name": "name",
         "rawType": "object",
         "type": "string"
        },
        {
         "name": "desc",
         "rawType": "object",
         "type": "string"
        },
        {
         "name": "listed_price",
         "rawType": "float64",
         "type": "float"
        },
        {
         "name": "in_stock",
         "rawType": "int64",
         "type": "integer"
        },
        {
         "name": "type",
         "rawType": "int64",
         "type": "integer"
        },
        {
         "name": "man",
         "rawType": "object",
         "type": "string"
        },
        {
         "name": "category",
         "rawType": "object",
         "type": "string"
        }
       ],
       "ref": "e9fa7497-0e2b-4ac5-983b-d7e8516f84f3",
       "rows": [
        [
         "3565",
         "AP20085",
         "Like new - Apple Macbook Air 13 \"i5 16GHz | 8GB RAM | 256GB Flash",
         "Computer Refurbished MacBook Air 13-inch i5 16GHz | 8GB RAM | 256GB Flash",
         "1349.0",
         "0",
         "217000000",
         "AP2",
         "Open & Second Hand - Misc"
        ],
        [
         "3568",
         "AP20084",
         "Like new - Apple Macbook Air 13 \"i5 16GHz | 8GB RAM | 128GB Flash",
         "Computer Refurbished MacBook Air 13-inch i5 16GHz | 8GB RAM | 128GB Flash",
         "1099.0",
         "0",
         "217000000",
         "AP2",
         "Open & Second Hand - Misc"
        ],
        [
         "3729",
         "APP2072",
         "Apple MacBook Air 13 \"Core i5 18GHz | 8GB RAM | 128GB SSD",
         "laptop MacBook Air 13 inch i5 18GHz 8GB RAM and 128GB SSD",
         "1105.59",
         "1",
         "217000000",
         "APP",
         ""
        ],
        [
         "3923",
         "AP20236",
         "Like new - Apple MacBook Air 13 \"Core i5 16GHz | 4GB RAM | 128GB Flash",
         "Computer Refurbished MacBook Air 13-inch i5 16GHz | 4GB RAM | 128GB Flash",
         "1099.0",
         "0",
         "217000000",
         "AP2",
         "Open & Second Hand - Misc"
        ],
        [
         "3991",
         "AP20296",
         "Apple MacBook Air 13 \"Core i5 16GHz | 4GB RAM | 128GB Flash",
         "Computer Refurbished MacBook Air 13-inch i5 16GHz | 4GB RAM | 128GB Flash",
         "1099.0",
         "0",
         "217000000",
         "AP2",
         ""
        ],
        [
         "4595",
         "AP20391",
         "Like new - Apple MacBook Air 13 \"1.8GHz Core i5 | 128GB",
         "13-inch MacBook Air Refurbished 1.8GHz dual-core Intel Core i5 | 128GB",
         "1105.59",
         "0",
         "217000000",
         "AP2",
         "Open & Second Hand - Misc"
        ]
       ],
       "shape": {
        "columns": 8,
        "rows": 6
       }
      },
      "text/html": [
       "<div>\n",
       "<style scoped>\n",
       "    .dataframe tbody tr th:only-of-type {\n",
       "        vertical-align: middle;\n",
       "    }\n",
       "\n",
       "    .dataframe tbody tr th {\n",
       "        vertical-align: top;\n",
       "    }\n",
       "\n",
       "    .dataframe thead th {\n",
       "        text-align: right;\n",
       "    }\n",
       "</style>\n",
       "<table border=\"1\" class=\"dataframe\">\n",
       "  <thead>\n",
       "    <tr style=\"text-align: right;\">\n",
       "      <th></th>\n",
       "      <th>sku</th>\n",
       "      <th>name</th>\n",
       "      <th>desc</th>\n",
       "      <th>listed_price</th>\n",
       "      <th>in_stock</th>\n",
       "      <th>type</th>\n",
       "      <th>man</th>\n",
       "      <th>category</th>\n",
       "    </tr>\n",
       "  </thead>\n",
       "  <tbody>\n",
       "    <tr>\n",
       "      <th>3565</th>\n",
       "      <td>AP20085</td>\n",
       "      <td>Like new - Apple Macbook Air 13 \"i5 16GHz | 8G...</td>\n",
       "      <td>Computer Refurbished MacBook Air 13-inch i5 16...</td>\n",
       "      <td>1349.00</td>\n",
       "      <td>0</td>\n",
       "      <td>217000000</td>\n",
       "      <td>AP2</td>\n",
       "      <td>Open &amp; Second Hand - Misc</td>\n",
       "    </tr>\n",
       "    <tr>\n",
       "      <th>3568</th>\n",
       "      <td>AP20084</td>\n",
       "      <td>Like new - Apple Macbook Air 13 \"i5 16GHz | 8G...</td>\n",
       "      <td>Computer Refurbished MacBook Air 13-inch i5 16...</td>\n",
       "      <td>1099.00</td>\n",
       "      <td>0</td>\n",
       "      <td>217000000</td>\n",
       "      <td>AP2</td>\n",
       "      <td>Open &amp; Second Hand - Misc</td>\n",
       "    </tr>\n",
       "    <tr>\n",
       "      <th>3729</th>\n",
       "      <td>APP2072</td>\n",
       "      <td>Apple MacBook Air 13 \"Core i5 18GHz | 8GB RAM ...</td>\n",
       "      <td>laptop MacBook Air 13 inch i5 18GHz 8GB RAM an...</td>\n",
       "      <td>1105.59</td>\n",
       "      <td>1</td>\n",
       "      <td>217000000</td>\n",
       "      <td>APP</td>\n",
       "      <td></td>\n",
       "    </tr>\n",
       "    <tr>\n",
       "      <th>3923</th>\n",
       "      <td>AP20236</td>\n",
       "      <td>Like new - Apple MacBook Air 13 \"Core i5 16GHz...</td>\n",
       "      <td>Computer Refurbished MacBook Air 13-inch i5 16...</td>\n",
       "      <td>1099.00</td>\n",
       "      <td>0</td>\n",
       "      <td>217000000</td>\n",
       "      <td>AP2</td>\n",
       "      <td>Open &amp; Second Hand - Misc</td>\n",
       "    </tr>\n",
       "    <tr>\n",
       "      <th>3991</th>\n",
       "      <td>AP20296</td>\n",
       "      <td>Apple MacBook Air 13 \"Core i5 16GHz | 4GB RAM ...</td>\n",
       "      <td>Computer Refurbished MacBook Air 13-inch i5 16...</td>\n",
       "      <td>1099.00</td>\n",
       "      <td>0</td>\n",
       "      <td>217000000</td>\n",
       "      <td>AP2</td>\n",
       "      <td></td>\n",
       "    </tr>\n",
       "    <tr>\n",
       "      <th>4595</th>\n",
       "      <td>AP20391</td>\n",
       "      <td>Like new - Apple MacBook Air 13 \"1.8GHz Core i...</td>\n",
       "      <td>13-inch MacBook Air Refurbished 1.8GHz dual-co...</td>\n",
       "      <td>1105.59</td>\n",
       "      <td>0</td>\n",
       "      <td>217000000</td>\n",
       "      <td>AP2</td>\n",
       "      <td>Open &amp; Second Hand - Misc</td>\n",
       "    </tr>\n",
       "  </tbody>\n",
       "</table>\n",
       "</div>"
      ],
      "text/plain": [
       "          sku                                               name  \\\n",
       "3565  AP20085  Like new - Apple Macbook Air 13 \"i5 16GHz | 8G...   \n",
       "3568  AP20084  Like new - Apple Macbook Air 13 \"i5 16GHz | 8G...   \n",
       "3729  APP2072  Apple MacBook Air 13 \"Core i5 18GHz | 8GB RAM ...   \n",
       "3923  AP20236  Like new - Apple MacBook Air 13 \"Core i5 16GHz...   \n",
       "3991  AP20296  Apple MacBook Air 13 \"Core i5 16GHz | 4GB RAM ...   \n",
       "4595  AP20391  Like new - Apple MacBook Air 13 \"1.8GHz Core i...   \n",
       "\n",
       "                                                   desc  listed_price  \\\n",
       "3565  Computer Refurbished MacBook Air 13-inch i5 16...       1349.00   \n",
       "3568  Computer Refurbished MacBook Air 13-inch i5 16...       1099.00   \n",
       "3729  laptop MacBook Air 13 inch i5 18GHz 8GB RAM an...       1105.59   \n",
       "3923  Computer Refurbished MacBook Air 13-inch i5 16...       1099.00   \n",
       "3991  Computer Refurbished MacBook Air 13-inch i5 16...       1099.00   \n",
       "4595  13-inch MacBook Air Refurbished 1.8GHz dual-co...       1105.59   \n",
       "\n",
       "      in_stock       type  man                   category  \n",
       "3565         0  217000000  AP2  Open & Second Hand - Misc  \n",
       "3568         0  217000000  AP2  Open & Second Hand - Misc  \n",
       "3729         1  217000000  APP                             \n",
       "3923         0  217000000  AP2  Open & Second Hand - Misc  \n",
       "3991         0  217000000  AP2                             \n",
       "4595         0  217000000  AP2  Open & Second Hand - Misc  "
      ]
     },
     "execution_count": 108,
     "metadata": {},
     "output_type": "execute_result"
    }
   ],
   "source": [
    "# Locating certain types for consistency checks\n",
    "no_cat_df.loc[no_cat_df[\"type\"] == 217000000, :].sort_values(by='type')"
   ]
  },
  {
   "cell_type": "code",
   "execution_count": 120,
   "id": "a50a54c9",
   "metadata": {},
   "outputs": [],
   "source": [
    "no_cat_df.loc[no_cat_df['category'] == '', 'category'] = 'Miscellaneous'"
   ]
  },
  {
   "cell_type": "code",
   "execution_count": 122,
   "id": "f07e3a3e",
   "metadata": {},
   "outputs": [],
   "source": [
    "# update the original dataframe with new category values\n",
    "products_df.update(no_cat_df)"
   ]
  },
  {
   "cell_type": "code",
   "execution_count": 127,
   "id": "36abe801",
   "metadata": {},
   "outputs": [
    {
     "data": {
      "application/vnd.microsoft.datawrangler.viewer.v0+json": {
       "columns": [
        {
         "name": "category",
         "rawType": "object",
         "type": "string"
        },
        {
         "name": "count",
         "rawType": "int64",
         "type": "integer"
        }
       ],
       "ref": "4eb22e89-7e0c-437d-891c-80d271f1965e",
       "rows": [
        [
         "Storage Devices",
         "1179"
        ],
        [
         "Cases & Protectors",
         "1143"
        ],
        [
         "Accessories & Peripherals",
         "820"
        ],
        [
         "Open & Second Hand - Misc",
         "479"
        ],
        [
         "Tablets & E-Readers",
         "227"
        ],
        [
         "Audio & Sound",
         "225"
        ],
        [
         "Smartwatches & Accessories",
         "176"
        ],
        [
         "Miscellaneous",
         "143"
        ],
        [
         "Mobile Phones & Accessories",
         "130"
        ],
        [
         "Power & Batteries",
         "125"
        ],
        [
         "Monitors & Display",
         "121"
        ],
        [
         "Repair & Maintenance",
         "111"
        ],
        [
         "Networking Devices",
         "74"
        ],
        [
         "Cameras & Photography",
         "48"
        ],
        [
         "Laptops & Computers",
         "32"
        ],
        [
         "Backpacks",
         "28"
        ]
       ],
       "shape": {
        "columns": 1,
        "rows": 16
       }
      },
      "text/plain": [
       "category\n",
       "Storage Devices                1179\n",
       "Cases & Protectors             1143\n",
       "Accessories & Peripherals       820\n",
       "Open & Second Hand - Misc       479\n",
       "Tablets & E-Readers             227\n",
       "Audio & Sound                   225\n",
       "Smartwatches & Accessories      176\n",
       "Miscellaneous                   143\n",
       "Mobile Phones & Accessories     130\n",
       "Power & Batteries               125\n",
       "Monitors & Display              121\n",
       "Repair & Maintenance            111\n",
       "Networking Devices               74\n",
       "Cameras & Photography            48\n",
       "Laptops & Computers              32\n",
       "Backpacks                        28\n",
       "Name: count, dtype: int64"
      ]
     },
     "execution_count": 127,
     "metadata": {},
     "output_type": "execute_result"
    }
   ],
   "source": [
    "products_df['category'].value_counts()"
   ]
  },
  {
   "cell_type": "markdown",
   "id": "803d5dac",
   "metadata": {},
   "source": [
    "## 5 Export"
   ]
  },
  {
   "cell_type": "code",
   "execution_count": 129,
   "id": "6c1202fe",
   "metadata": {},
   "outputs": [],
   "source": [
    "products_df.to_csv(\"data_clean/products_cl.csv\", index=False)"
   ]
  }
 ],
 "metadata": {
  "kernelspec": {
   "display_name": "base",
   "language": "python",
   "name": "python3"
  },
  "language_info": {
   "codemirror_mode": {
    "name": "ipython",
    "version": 3
   },
   "file_extension": ".py",
   "mimetype": "text/x-python",
   "name": "python",
   "nbconvert_exporter": "python",
   "pygments_lexer": "ipython3",
   "version": "3.12.9"
  }
 },
 "nbformat": 4,
 "nbformat_minor": 5
}
